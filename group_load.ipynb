{
 "cells": [
  {
   "cell_type": "markdown",
   "metadata": {},
   "source": [
    "# Laden der Daten\n",
    "In diesem Notebook werden die Standorte der schweizer Handyantennen aus der Datenquelle data.geo.admin.ch eingelesen. Überflüssige spalten werden entfernt, koordinaten werden ins WSG84 format umgewandelt. Und die Adressdaten werden per Nominatim abgerufen, verarbeitet und im Dataframe erweitert"
   ]
  },
  {
   "cell_type": "markdown",
   "metadata": {},
   "source": [
    "## Verwendete Links/Quellen"
   ]
  },
  {
   "cell_type": "markdown",
   "metadata": {},
   "source": [
    "Letzter Zugriff: 01.12.2021"
   ]
  },
  {
   "cell_type": "code",
   "execution_count": 1,
   "metadata": {
    "tags": [],
    "ExecuteTime": {
     "start_time": "2023-04-12T19:52:04.166000Z",
     "end_time": "2023-04-12T19:52:07.622767Z"
    }
   },
   "outputs": [],
   "source": [
    "url_5g=\"http://data.geo.admin.ch/ch.bakom.mobil-antennenstandorte-5g/data/ch.bakom.mobil-antennenstandorte-5g_de.json\"\n",
    "url_lte='http://data.geo.admin.ch/ch.bakom.mobil-antennenstandorte-lte/data/ch.bakom.mobil-antennenstandorte-lte_de.json'\n",
    "url_umts='http://data.geo.admin.ch/ch.bakom.mobil-antennenstandorte-umts/data/ch.bakom.mobil-antennenstandorte-umts_de.json'\n",
    "url_gsm='http://data.geo.admin.ch/ch.bakom.mobil-antennenstandorte-gsm/data/ch.bakom.mobil-antennenstandorte-gsm_de.json'\n",
    "url_plz = 'https://swisspost.opendatasoft.com/explore/dataset/plz_verzeichnis_v2/table/?disjunctive.postleitzahl&geofilter.distance='\n"
   ]
  },
  {
   "cell_type": "markdown",
   "metadata": {},
   "source": [
    "***"
   ]
  },
  {
   "cell_type": "markdown",
   "metadata": {},
   "source": [
    "# Installation notwendiger Bibliotheken"
   ]
  },
  {
   "cell_type": "code",
   "execution_count": 1,
   "metadata": {
    "tags": [],
    "ExecuteTime": {
     "start_time": "2023-04-17T15:01:19.572002Z",
     "end_time": "2023-04-17T15:02:05.663365Z"
    }
   },
   "outputs": [
    {
     "name": "stdout",
     "output_type": "stream",
     "text": [
      "Defaulting to user installation because normal site-packages is not writeable\n",
      "Requirement already satisfied: pip in c:\\users\\nikki\\appdata\\roaming\\python\\python39\\site-packages (23.0.1)\n",
      "Collecting pip\n",
      "  Downloading pip-23.1-py3-none-any.whl (2.1 MB)\n",
      "     ---------------------------------------- 2.1/2.1 MB 6.9 MB/s eta 0:00:00\n"
     ]
    },
    {
     "name": "stderr",
     "output_type": "stream",
     "text": [
      "ERROR: To modify pip, please run the following command:\n",
      "C:\\ProgramData\\Anaconda3\\python.exe -m pip install --upgrade pip\n",
      "\n",
      "[notice] A new release of pip is available: 23.0.1 -> 23.1\n",
      "[notice] To update, run: python.exe -m pip install --upgrade pip\n"
     ]
    },
    {
     "name": "stdout",
     "output_type": "stream",
     "text": [
      "Defaulting to user installation because normal site-packages is not writeable\n",
      "Requirement already satisfied: folium in c:\\users\\nikki\\appdata\\roaming\\python\\python39\\site-packages (0.14.0)\n",
      "Requirement already satisfied: requests in c:\\programdata\\anaconda3\\lib\\site-packages (from folium) (2.27.1)\n",
      "Requirement already satisfied: branca>=0.6.0 in c:\\users\\nikki\\appdata\\roaming\\python\\python39\\site-packages (from folium) (0.6.0)\n",
      "Requirement already satisfied: jinja2>=2.9 in c:\\programdata\\anaconda3\\lib\\site-packages (from folium) (2.11.3)\n",
      "Requirement already satisfied: numpy in c:\\programdata\\anaconda3\\lib\\site-packages (from folium) (1.21.5)\n",
      "Requirement already satisfied: MarkupSafe>=0.23 in c:\\programdata\\anaconda3\\lib\\site-packages (from jinja2>=2.9->folium) (2.0.1)\n",
      "Requirement already satisfied: idna<4,>=2.5 in c:\\programdata\\anaconda3\\lib\\site-packages (from requests->folium) (3.3)\n",
      "Requirement already satisfied: certifi>=2017.4.17 in c:\\programdata\\anaconda3\\lib\\site-packages (from requests->folium) (2021.10.8)\n"
     ]
    },
    {
     "name": "stderr",
     "output_type": "stream",
     "text": [
      "\n",
      "[notice] A new release of pip is available: 23.0.1 -> 23.1\n",
      "[notice] To update, run: python.exe -m pip install --upgrade pip\n"
     ]
    },
    {
     "name": "stdout",
     "output_type": "stream",
     "text": [
      "Requirement already satisfied: charset-normalizer~=2.0.0 in c:\\programdata\\anaconda3\\lib\\site-packages (from requests->folium) (2.0.4)\n",
      "Requirement already satisfied: urllib3<1.27,>=1.21.1 in c:\\programdata\\anaconda3\\lib\\site-packages (from requests->folium) (1.26.9)\n",
      "Defaulting to user installation because normal site-packages is not writeable\n",
      "Requirement already satisfied: matplotlib in c:\\programdata\\anaconda3\\lib\\site-packages (3.5.1)\n",
      "Requirement already satisfied: numpy>=1.17 in c:\\programdata\\anaconda3\\lib\\site-packages (from matplotlib) (1.21.5)\n",
      "Requirement already satisfied: packaging>=20.0 in c:\\programdata\\anaconda3\\lib\\site-packages (from matplotlib) (21.3)\n",
      "Requirement already satisfied: cycler>=0.10 in c:\\programdata\\anaconda3\\lib\\site-packages (from matplotlib) (0.11.0)\n",
      "Requirement already satisfied: python-dateutil>=2.7 in c:\\programdata\\anaconda3\\lib\\site-packages (from matplotlib) (2.8.2)\n",
      "Requirement already satisfied: fonttools>=4.22.0 in c:\\programdata\\anaconda3\\lib\\site-packages (from matplotlib) (4.25.0)\n",
      "Requirement already satisfied: pyparsing>=2.2.1 in c:\\programdata\\anaconda3\\lib\\site-packages (from matplotlib) (3.0.4)\n",
      "Requirement already satisfied: kiwisolver>=1.0.1 in c:\\programdata\\anaconda3\\lib\\site-packages (from matplotlib) (1.3.2)\n",
      "Requirement already satisfied: pillow>=6.2.0 in c:\\programdata\\anaconda3\\lib\\site-packages (from matplotlib) (9.0.1)\n",
      "Requirement already satisfied: six>=1.5 in c:\\users\\nikki\\appdata\\roaming\\python\\python39\\site-packages (from python-dateutil>=2.7->matplotlib) (1.16.0)\n"
     ]
    },
    {
     "name": "stderr",
     "output_type": "stream",
     "text": [
      "\n",
      "[notice] A new release of pip is available: 23.0.1 -> 23.1\n",
      "[notice] To update, run: python.exe -m pip install --upgrade pip\n"
     ]
    },
    {
     "name": "stdout",
     "output_type": "stream",
     "text": [
      "Defaulting to user installation because normal site-packages is not writeable\n",
      "Requirement already satisfied: geopandas in c:\\users\\nikki\\appdata\\roaming\\python\\python39\\site-packages (0.12.2)\n",
      "Requirement already satisfied: pandas>=1.0.0 in c:\\programdata\\anaconda3\\lib\\site-packages (from geopandas) (1.4.2)\n",
      "Requirement already satisfied: fiona>=1.8 in c:\\users\\nikki\\appdata\\roaming\\python\\python39\\site-packages (from geopandas) (1.9.2)\n",
      "Requirement already satisfied: pyproj>=2.6.1.post1 in c:\\users\\nikki\\appdata\\roaming\\python\\python39\\site-packages (from geopandas) (3.5.0)\n",
      "Requirement already satisfied: shapely>=1.7 in c:\\users\\nikki\\appdata\\roaming\\python\\python39\\site-packages (from geopandas) (2.0.1)\n",
      "Requirement already satisfied: packaging in c:\\programdata\\anaconda3\\lib\\site-packages (from geopandas) (21.3)\n",
      "Requirement already satisfied: click-plugins>=1.0 in c:\\users\\nikki\\appdata\\roaming\\python\\python39\\site-packages (from fiona>=1.8->geopandas) (1.1.1)\n",
      "Requirement already satisfied: click~=8.0 in c:\\programdata\\anaconda3\\lib\\site-packages (from fiona>=1.8->geopandas) (8.0.4)\n",
      "Requirement already satisfied: munch>=2.3.2 in c:\\users\\nikki\\appdata\\roaming\\python\\python39\\site-packages (from fiona>=1.8->geopandas) (2.5.0)\n",
      "Requirement already satisfied: importlib-metadata in c:\\programdata\\anaconda3\\lib\\site-packages (from fiona>=1.8->geopandas) (4.11.3)\n",
      "Requirement already satisfied: cligj>=0.5 in c:\\users\\nikki\\appdata\\roaming\\python\\python39\\site-packages (from fiona>=1.8->geopandas) (0.7.2)\n",
      "Requirement already satisfied: attrs>=19.2.0 in c:\\programdata\\anaconda3\\lib\\site-packages (from fiona>=1.8->geopandas) (21.4.0)\n",
      "Requirement already satisfied: certifi in c:\\programdata\\anaconda3\\lib\\site-packages (from fiona>=1.8->geopandas) (2021.10.8)\n",
      "Requirement already satisfied: pytz>=2020.1 in c:\\programdata\\anaconda3\\lib\\site-packages (from pandas>=1.0.0->geopandas) (2021.3)\n",
      "Requirement already satisfied: numpy>=1.18.5 in c:\\programdata\\anaconda3\\lib\\site-packages (from pandas>=1.0.0->geopandas) (1.21.5)\n",
      "Requirement already satisfied: python-dateutil>=2.8.1 in c:\\programdata\\anaconda3\\lib\\site-packages (from pandas>=1.0.0->geopandas) (2.8.2)\n",
      "Requirement already satisfied: pyparsing!=3.0.5,>=2.0.2 in c:\\programdata\\anaconda3\\lib\\site-packages (from packaging->geopandas) (3.0.4)\n",
      "Requirement already satisfied: colorama in c:\\programdata\\anaconda3\\lib\\site-packages (from click~=8.0->fiona>=1.8->geopandas) (0.4.4)\n",
      "Requirement already satisfied: six in c:\\users\\nikki\\appdata\\roaming\\python\\python39\\site-packages (from munch>=2.3.2->fiona>=1.8->geopandas) (1.16.0)\n",
      "Requirement already satisfied: zipp>=0.5 in c:\\programdata\\anaconda3\\lib\\site-packages (from importlib-metadata->fiona>=1.8->geopandas) (3.7.0)\n"
     ]
    },
    {
     "name": "stderr",
     "output_type": "stream",
     "text": [
      "\n",
      "[notice] A new release of pip is available: 23.0.1 -> 23.1\n",
      "[notice] To update, run: python.exe -m pip install --upgrade pip\n"
     ]
    },
    {
     "name": "stdout",
     "output_type": "stream",
     "text": [
      "Defaulting to user installation because normal site-packages is not writeable\n",
      "Requirement already satisfied: geopy in c:\\users\\nikki\\appdata\\roaming\\python\\python39\\site-packages (2.3.0)\n",
      "Requirement already satisfied: geographiclib<3,>=1.52 in c:\\users\\nikki\\appdata\\roaming\\python\\python39\\site-packages (from geopy) (2.0)\n"
     ]
    },
    {
     "name": "stderr",
     "output_type": "stream",
     "text": [
      "\n",
      "[notice] A new release of pip is available: 23.0.1 -> 23.1\n",
      "[notice] To update, run: python.exe -m pip install --upgrade pip\n"
     ]
    },
    {
     "name": "stdout",
     "output_type": "stream",
     "text": [
      "Defaulting to user installation because normal site-packages is not writeable\n",
      "Requirement already satisfied: pyproj in c:\\users\\nikki\\appdata\\roaming\\python\\python39\\site-packages (3.5.0)\n",
      "Requirement already satisfied: certifi in c:\\programdata\\anaconda3\\lib\\site-packages (from pyproj) (2021.10.8)\n"
     ]
    },
    {
     "name": "stderr",
     "output_type": "stream",
     "text": [
      "\n",
      "[notice] A new release of pip is available: 23.0.1 -> 23.1\n",
      "[notice] To update, run: python.exe -m pip install --upgrade pip\n"
     ]
    },
    {
     "name": "stdout",
     "output_type": "stream",
     "text": [
      "Defaulting to user installation because normal site-packages is not writeable\n",
      "Requirement already satisfied: certifi in c:\\programdata\\anaconda3\\lib\\site-packages (2021.10.8)\n"
     ]
    },
    {
     "name": "stderr",
     "output_type": "stream",
     "text": [
      "\n",
      "[notice] A new release of pip is available: 23.0.1 -> 23.1\n",
      "[notice] To update, run: python.exe -m pip install --upgrade pip\n"
     ]
    },
    {
     "name": "stdout",
     "output_type": "stream",
     "text": [
      "Defaulting to user installation because normal site-packages is not writeable\n",
      "Collecting ssl\n",
      "  Using cached ssl-1.16.tar.gz (33 kB)\n",
      "  Preparing metadata (setup.py): started\n",
      "  Preparing metadata (setup.py): finished with status 'error'\n"
     ]
    },
    {
     "name": "stderr",
     "output_type": "stream",
     "text": [
      "  error: subprocess-exited-with-error\n",
      "  \n",
      "  python setup.py egg_info did not run successfully.\n",
      "  exit code: 1\n",
      "  \n",
      "  [25 lines of output]\n",
      "  Traceback (most recent call last):\n",
      "    File \"<string>\", line 2, in <module>\n",
      "    File \"<pip-setuptools-caller>\", line 14, in <module>\n",
      "    File \"C:\\ProgramData\\Anaconda3\\lib\\site-packages\\setuptools\\__init__.py\", line 189, in <module>\n",
      "      monkey.patch_all()\n",
      "    File \"C:\\ProgramData\\Anaconda3\\lib\\site-packages\\setuptools\\monkey.py\", line 99, in patch_all\n",
      "      patch_for_msvc_specialized_compiler()\n",
      "    File \"C:\\ProgramData\\Anaconda3\\lib\\site-packages\\setuptools\\monkey.py\", line 169, in patch_for_msvc_specialized_compiler\n",
      "      patch_func(*msvc14('_get_vc_env'))\n",
      "    File \"C:\\ProgramData\\Anaconda3\\lib\\site-packages\\setuptools\\monkey.py\", line 149, in patch_params\n",
      "      mod = import_module(mod_name)\n",
      "    File \"C:\\ProgramData\\Anaconda3\\lib\\importlib\\__init__.py\", line 127, in import_module\n",
      "      return _bootstrap._gcd_import(name[level:], package, level)\n",
      "    File \"C:\\ProgramData\\Anaconda3\\lib\\site-packages\\setuptools\\_distutils\\_msvccompiler.py\", line 20, in <module>\n",
      "      import unittest.mock\n",
      "    File \"C:\\ProgramData\\Anaconda3\\lib\\unittest\\mock.py\", line 26, in <module>\n",
      "      import asyncio\n",
      "    File \"C:\\ProgramData\\Anaconda3\\lib\\asyncio\\__init__.py\", line 8, in <module>\n",
      "      from .base_events import *\n",
      "    File \"C:\\ProgramData\\Anaconda3\\lib\\asyncio\\base_events.py\", line 34, in <module>\n",
      "      import ssl\n",
      "    File \"C:\\Users\\nikki\\AppData\\Local\\Temp\\pip-install-e4bt9hky\\ssl_d531561dfa1540c0a505449ba76a14fd\\ssl\\__init__.py\", line 140\n",
      "      except SSLError, x:\n",
      "                     ^\n",
      "  SyntaxError: invalid syntax\n",
      "  [end of output]\n",
      "  \n",
      "  note: This error originates from a subprocess, and is likely not a problem with pip.\n",
      "error: metadata-generation-failed\n",
      "\n",
      "Encountered error while generating package metadata.\n",
      "\n",
      "See above for output.\n",
      "\n",
      "note: This is an issue with the package mentioned above, not pip.\n",
      "hint: See above for details.\n",
      "\n",
      "[notice] A new release of pip is available: 23.0.1 -> 23.1\n",
      "[notice] To update, run: python.exe -m pip install --upgrade pip\n"
     ]
    }
   ],
   "source": [
    "!pip install --upgrade pip\n",
    "!pip install folium\n",
    "!pip install matplotlib\n",
    "!pip install geopandas\n",
    "!pip install geopy\n",
    "!pip install pyproj\n",
    "!pip install certifi\n",
    "!pip install ssl\n"
   ]
  },
  {
   "cell_type": "markdown",
   "metadata": {},
   "source": [
    "***"
   ]
  },
  {
   "cell_type": "markdown",
   "metadata": {},
   "source": [
    "# Module importieren"
   ]
  },
  {
   "cell_type": "code",
   "execution_count": 2,
   "metadata": {
    "tags": [],
    "ExecuteTime": {
     "start_time": "2023-04-17T15:02:05.627809Z",
     "end_time": "2023-04-17T15:02:09.676859Z"
    }
   },
   "outputs": [
    {
     "name": "stdout",
     "output_type": "stream",
     "text": [
      "Libraries imported.\n"
     ]
    }
   ],
   "source": [
    "import csv\n",
    "\n",
    "# library to handle data in a vectorized manner \n",
    "import numpy as np \n",
    "\n",
    "# library for data analsysis\n",
    "import pandas as pd\n",
    "\n",
    "import geopandas as gpd\n",
    "\n",
    "# library to handle JSON files\n",
    "import json\n",
    "\n",
    "# tranform JSON file into a pandas dataframe\n",
    "from pandas.io.json import json_normalize\n",
    "\n",
    "import folium\n",
    "from folium import plugins\n",
    "\n",
    "# library to handle requests\n",
    "import requests\n",
    "\n",
    "import zipfile\n",
    "\n",
    "# convert an address into latitude and longitude values\n",
    "from geopy.geocoders import Nominatim\n",
    "\n",
    "# necessary for loading url data\n",
    "import io\n",
    "\n",
    "from geopy.geocoders import Nominatim\n",
    "\n",
    "import ssl\n",
    "import certifi\n",
    "\n",
    "import geopy.geocoders\n",
    "\n",
    "import time\n",
    "\n",
    "\n",
    "from pyproj import Proj, transform\n",
    "\n",
    "print('Libraries imported.')\n",
    "\n",
    "\n",
    "\n",
    "from geopy.exc import GeocoderTimedOut\n",
    "\n",
    "from shapely.geometry import Point, LineString"
   ]
  },
  {
   "cell_type": "markdown",
   "metadata": {},
   "source": [
    "***"
   ]
  },
  {
   "cell_type": "markdown",
   "metadata": {},
   "source": [
    "# Functions"
   ]
  },
  {
   "cell_type": "code",
   "execution_count": 3,
   "metadata": {
    "tags": [],
    "ExecuteTime": {
     "start_time": "2023-04-17T15:02:09.681865Z",
     "end_time": "2023-04-17T15:02:09.691862Z"
    }
   },
   "outputs": [],
   "source": [
    "# https://www.swisstopo.admin.ch/content/swisstopo-internet/de/online/calculation-services/_jcr_content/contentPar/tabs/items/dokumente_und_publik/tabPar/downloadlist/downloadItems/8_1467103085694.download/refsys_d.pdf)\n",
    "# Zugriff: 08.04.2023\n",
    "def convert_lv95_wgs84(e,n): #Funktion Umrechnung lv95 zu wgs84\n",
    "    \n",
    "    y = (e - 2600000)/1000000\n",
    "    x = (n - 1200000)/1000000\n",
    "    \n",
    "    l = 2.6779094 + 4.728982 * y + 0.791484 * y * x + 0.1306 * y * x**2 - 0.0436 * y**3\n",
    "    b = 16.9023892 + 3.238272 * x - 0.270978 * y**2 - 0.002528 * x**2 - 0.0447 * y**2 * x - 0.0140 * x**3\n",
    "    \n",
    "    laenge_wgs84 = l * 100 / 36\n",
    "    breite_wgs84 = b * 100 / 36\n",
    "    \n",
    "    return breite_wgs84, laenge_wgs84"
   ]
  },
  {
   "cell_type": "markdown",
   "metadata": {},
   "source": [
    "Die Klasse load_data wurde implementiert, um alle Daten mit einem Befehl einlesen zu können. <br>\n"
   ]
  },
  {
   "cell_type": "code",
   "execution_count": 4,
   "metadata": {
    "tags": [],
    "ExecuteTime": {
     "start_time": "2023-04-17T15:02:09.699861Z",
     "end_time": "2023-04-17T15:02:09.892978Z"
    }
   },
   "outputs": [],
   "source": [
    "class load_data:\n",
    "    def __init__(self,path):\n",
    "        self.path=path\n",
    "\n",
    "    @staticmethod\n",
    "    def load_from_url(url):\n",
    "        s=requests.get(url).content\n",
    "        df=pd.read_csv(io.StringIO(s.decode('utf-8')))\n",
    "        return df\n",
    "\n",
    "        \n",
    "    @staticmethod\n",
    "    def load_pkl(path_to_pkl):\n",
    "        with open(path_to_pkl,'rb') as f:\n",
    "            data=pickle.load(f)\n",
    "        return data\n",
    "        \n",
    "    @staticmethod\n",
    "    def load_csv(path_to_csv):\n",
    "        df=pd.read_csv(path_to_csv,sep=',')\n",
    "        return df"
   ]
  },
  {
   "cell_type": "markdown",
   "metadata": {},
   "source": [
    "***"
   ]
  },
  {
   "cell_type": "markdown",
   "source": [
    "# convert coordinates of a dataframe from LV95 to WGS84\n"
   ],
   "metadata": {
    "collapsed": false
   }
  },
  {
   "cell_type": "code",
   "execution_count": 38,
   "outputs": [],
   "source": [
    "# LV95 zu WGS84\n",
    "def convert_panda_lv95_wgs84(dataFrame ): #Funktion Umrechnung lv95 zu wgs84\n",
    "    inProj = Proj('epsg:2056')\n",
    "    outProj = Proj('epsg:4326')\n",
    "    t = dataFrame['cordinates'].x\n",
    "    x1,y1 = dataFrame['cordinates'].x, dataFrame['cordinates'].y\n",
    "    x2,y2 = transform(inProj, outProj, x1,y1)\n",
    "    dataFrame['antenna_Location_WGS84_E'] = x2\n",
    "    dataFrame['antenna_Location_WGS84_N'] = y2\n",
    "    return dataFrame"
   ],
   "metadata": {
    "collapsed": false,
    "ExecuteTime": {
     "start_time": "2023-04-17T15:09:08.268763Z",
     "end_time": "2023-04-17T15:09:08.288152Z"
    }
   }
  },
  {
   "cell_type": "code",
   "execution_count": 24,
   "outputs": [],
   "source": [
    "def get_adress(coordinates, attempt=1, max_attempts=7):\n",
    "    try:\n",
    "        locator = Nominatim(user_agent=\"add_location_adress\")\n",
    "        location = locator.reverse(coordinates)\n",
    "        address = location.address.split(\",\")\n",
    "        countries = address[len(address)-1].split(\"/\")\n",
    "        address[len(address)-1] = countries[0]\n",
    "        return address\n",
    "    except GeocoderTimedOut:\n",
    "        if attempt <= max_attempts:\n",
    "            return get_kreis(coordinates, attempt=attempt+1)\n",
    "        raise"
   ],
   "metadata": {
    "collapsed": false,
    "ExecuteTime": {
     "start_time": "2023-04-17T15:07:15.515911Z",
     "end_time": "2023-04-17T15:07:15.562135Z"
    }
   }
  },
  {
   "cell_type": "code",
   "execution_count": 61,
   "outputs": [],
   "source": [
    "def add_address(data_frame ):\n",
    "\n",
    "    data_frame['building'] = None\n",
    "    data_frame['streetNumber'] = None\n",
    "    data_frame['street'] = None\n",
    "    data_frame['town'] = None\n",
    "    data_frame['district'] = None\n",
    "    data_frame['state'] = None\n",
    "\n",
    "\n",
    "    street_number = []\n",
    "    street = []\n",
    "    town = []\n",
    "    postal = []\n",
    "    district = []\n",
    "    state = []\n",
    "    country = []\n",
    "\n",
    "    counter = 0\n",
    "    for index, row in data_frame.iterrows():\n",
    "        coordinates = [row['antenna_Location_WGS84_E'],row[\"antenna_Location_WGS84_N\"]]\n",
    "        forward = 0\n",
    "\n",
    "        adresse = get_adress(coordinates)\n",
    "\n",
    "        print(adresse)\n",
    "        if adresse[forward][0].isdigit() or len(adresse[forward]) >1 and adresse[forward][1].isdigit():\n",
    "            data_frame.loc[index , \"streetNumber\"] = adresse[0]\n",
    "            street_number.append(adresse[0])\n",
    "            forward += 1\n",
    "        elif adresse[forward+1][0].isdigit() or len(adresse[forward+1]) >1 and adresse[forward+1][1].isdigit():\n",
    "            data_frame.loc[index , \"streetNumber\"] = adresse[forward+1]\n",
    "            data_frame.loc[index , \"building\"] = adresse[forward]\n",
    "            forward += 2\n",
    "\n",
    "        else:\n",
    "            street_number.append(None)\n",
    "\n",
    "\n",
    "        street.append(adresse[forward])\n",
    "        data_frame.loc[index , \"street\"] = adresse[forward]\n",
    "\n",
    "\n",
    "        backward = len(adresse)-1\n",
    "\n",
    "        country.append(adresse[backward])\n",
    "        data_frame.loc[index , \"country\"] = adresse[backward]\n",
    "\n",
    "        backward -= 1\n",
    "\n",
    "\n",
    "\n",
    "\n",
    "\n",
    "        if len(adresse[backward]) == 5 and adresse[backward][1].isdigit():\n",
    "            data_frame.loc[index , \"postal\"] = adresse[backward]\n",
    "            data_frame.loc[index , \"town\"] = plz.get(int(adresse[backward]))\n",
    "        elif len(adresse[backward+1]) == 5 and adresse[backward+1][1].isdigit():\n",
    "            data_frame.loc[index , \"postal\"] = adresse[backward+1]\n",
    "            data_frame.loc[index , \"town\"] = plz.get(int(adresse[backward+1]))\n",
    "            backward = backward + 1\n",
    "        elif len(adresse[backward-1]) == 5 and adresse[backward-1][1].isdigit():\n",
    "            data_frame.loc[index , \"postal\"] = adresse[backward-1]\n",
    "            data_frame.loc[index , \"town\"] = plz.get(int(adresse[backward-1]))\n",
    "            backward = backward - 1\n",
    "\n",
    "\n",
    "        backward += 1\n",
    "\n",
    "\n",
    "        postal.append(adresse[backward])\n",
    "\n",
    "\n",
    "\n",
    "\n",
    "\n",
    "\n",
    "\n",
    "        backward -= 1\n",
    "\n",
    "\n",
    "        state.append(adresse[backward])\n",
    "        data_frame.loc[index , \"state\"] = adresse[backward]\n",
    "        backward -= 1\n",
    "\n",
    "\n",
    "        if adresse[backward].__contains__(\"ezirk\") or adresse[backward].__contains__(\"istrict\") or adresse[backward].__contains__(\"istretto\") or adresse[backward].__contains__(\"erwaltungsregion\") or adresse[backward].__contains__(\"égion administrative\") or adresse[backward].__contains__(\"ahlkreis\") or adresse[backward].__contains__(\"Region\"):\n",
    "            district.append(adresse[backward])\n",
    "            data_frame.loc[index , \"district\"] = adresse[backward]\n",
    "            backward -= 1\n",
    "        else:\n",
    "            district.append(None)\n",
    "\n",
    "        town.append(adresse[backward])\n",
    "\n",
    "        backward -= 1\n",
    "\n",
    "\n",
    "\n",
    "\n",
    "\n",
    "\n",
    "        counter += 1\n",
    "        if counter % 150 == 0:\n",
    "            time.sleep(30)\n",
    "\n",
    "        if counter % 9000 == 0:\n",
    "            time.sleep(1800)\n",
    "\n",
    "\n",
    "    return data_frame\n",
    "\n",
    "\n",
    "\n",
    "\n"
   ],
   "metadata": {
    "collapsed": false,
    "ExecuteTime": {
     "start_time": "2023-04-17T19:00:40.520345Z",
     "end_time": "2023-04-17T19:00:40.564925Z"
    }
   }
  },
  {
   "cell_type": "markdown",
   "source": [
    "# 1) Import mapping dictionary for postal codes\n",
    "<br>Dieser Datensatz liefert dieschweizer Postleitzahlen mit den dazugehöhrigen Ortsnamen dazaus wird ein dictionary erstellt, um später alle Ortsnamen nachzuschlagen <br/>"
   ],
   "metadata": {
    "collapsed": false
   }
  },
  {
   "cell_type": "code",
   "execution_count": 26,
   "outputs": [],
   "source": [
    "plz=pd.read_csv('./Daten/plz_verzeichnis_v2.csv',sep=';')\n",
    "plz = plz[['POSTLEITZAHL', 'ORTBEZ18']]\n",
    "plz = plz.rename({'POSTLEITZAHL': 'PLZ', 'ORTBEZ18': 'ORT'}, axis=1)  # new method\n",
    "plz = plz.set_index('PLZ').to_dict()['ORT']\n"
   ],
   "metadata": {
    "collapsed": false,
    "ExecuteTime": {
     "start_time": "2023-04-17T15:07:28.478264Z",
     "end_time": "2023-04-17T15:07:30.256301Z"
    }
   }
  },
  {
   "cell_type": "code",
   "execution_count": 27,
   "outputs": [
    {
     "data": {
      "text/plain": "  lang                                        description  id powercode_de  \\\n0   de  <table>\\n<tr><td class=\\\"cell-left\\\">\\nSendele...   1       Mittel   \n1   de  <table>\\n<tr><td class=\\\"cell-left\\\">\\nSendele...   2   Sehr Klein   \n2   de  <table>\\n<tr><td class=\\\"cell-left\\\">\\nSendele...   3       Mittel   \n3   de  <table>\\n<tr><td class=\\\"cell-left\\\">\\nSendele...   4       Mittel   \n4   de  <table>\\n<tr><td class=\\\"cell-left\\\">\\nSendele...   5        Klein   \n\n                          geometry  \n0  POINT (2688674.000 1211488.000)  \n1  POINT (2666065.000 1214355.000)  \n2  POINT (2722651.000 1271244.000)  \n3  POINT (2570323.000 1164067.000)  \n4  POINT (2613427.000 1262637.000)  ",
      "text/html": "<div>\n<style scoped>\n    .dataframe tbody tr th:only-of-type {\n        vertical-align: middle;\n    }\n\n    .dataframe tbody tr th {\n        vertical-align: top;\n    }\n\n    .dataframe thead th {\n        text-align: right;\n    }\n</style>\n<table border=\"1\" class=\"dataframe\">\n  <thead>\n    <tr style=\"text-align: right;\">\n      <th></th>\n      <th>lang</th>\n      <th>description</th>\n      <th>id</th>\n      <th>powercode_de</th>\n      <th>geometry</th>\n    </tr>\n  </thead>\n  <tbody>\n    <tr>\n      <th>0</th>\n      <td>de</td>\n      <td>&lt;table&gt;\\n&lt;tr&gt;&lt;td class=\\\"cell-left\\\"&gt;\\nSendele...</td>\n      <td>1</td>\n      <td>Mittel</td>\n      <td>POINT (2688674.000 1211488.000)</td>\n    </tr>\n    <tr>\n      <th>1</th>\n      <td>de</td>\n      <td>&lt;table&gt;\\n&lt;tr&gt;&lt;td class=\\\"cell-left\\\"&gt;\\nSendele...</td>\n      <td>2</td>\n      <td>Sehr Klein</td>\n      <td>POINT (2666065.000 1214355.000)</td>\n    </tr>\n    <tr>\n      <th>2</th>\n      <td>de</td>\n      <td>&lt;table&gt;\\n&lt;tr&gt;&lt;td class=\\\"cell-left\\\"&gt;\\nSendele...</td>\n      <td>3</td>\n      <td>Mittel</td>\n      <td>POINT (2722651.000 1271244.000)</td>\n    </tr>\n    <tr>\n      <th>3</th>\n      <td>de</td>\n      <td>&lt;table&gt;\\n&lt;tr&gt;&lt;td class=\\\"cell-left\\\"&gt;\\nSendele...</td>\n      <td>4</td>\n      <td>Mittel</td>\n      <td>POINT (2570323.000 1164067.000)</td>\n    </tr>\n    <tr>\n      <th>4</th>\n      <td>de</td>\n      <td>&lt;table&gt;\\n&lt;tr&gt;&lt;td class=\\\"cell-left\\\"&gt;\\nSendele...</td>\n      <td>5</td>\n      <td>Klein</td>\n      <td>POINT (2613427.000 1262637.000)</td>\n    </tr>\n  </tbody>\n</table>\n</div>"
     },
     "execution_count": 27,
     "metadata": {},
     "output_type": "execute_result"
    }
   ],
   "source": [
    "data_path='./Daten/ch.bakom.mobil-antennenstandorte-6g_de.json'\n",
    "antennen_6g = gpd.read_file(data_path)\n",
    "antennen_6g.head()"
   ],
   "metadata": {
    "collapsed": false,
    "ExecuteTime": {
     "start_time": "2023-04-17T15:07:30.251301Z",
     "end_time": "2023-04-17T15:07:30.343495Z"
    }
   }
  },
  {
   "cell_type": "markdown",
   "source": [
    "# Import locations of antena\n",
    "<br> JSON from antenna to Pandas <br>"
   ],
   "metadata": {
    "collapsed": false
   }
  },
  {
   "cell_type": "code",
   "execution_count": 28,
   "outputs": [
    {
     "data": {
      "text/plain": "  lang                                        description  id powercode_de  \\\n0   de  <table>\\n<tr><td class=\\\"cell-left\\\">\\nSendele...   1       Mittel   \n1   de  <table>\\n<tr><td class=\\\"cell-left\\\">\\nSendele...   2   Sehr Klein   \n2   de  <table>\\n<tr><td class=\\\"cell-left\\\">\\nSendele...   3       Mittel   \n3   de  <table>\\n<tr><td class=\\\"cell-left\\\">\\nSendele...   4       Mittel   \n4   de  <table>\\n<tr><td class=\\\"cell-left\\\">\\nSendele...   5        Klein   \n\n                          geometry  \n0  POINT (2688674.000 1211488.000)  \n1  POINT (2666065.000 1214355.000)  \n2  POINT (2722651.000 1271244.000)  \n3  POINT (2570323.000 1164067.000)  \n4  POINT (2613427.000 1262637.000)  ",
      "text/html": "<div>\n<style scoped>\n    .dataframe tbody tr th:only-of-type {\n        vertical-align: middle;\n    }\n\n    .dataframe tbody tr th {\n        vertical-align: top;\n    }\n\n    .dataframe thead th {\n        text-align: right;\n    }\n</style>\n<table border=\"1\" class=\"dataframe\">\n  <thead>\n    <tr style=\"text-align: right;\">\n      <th></th>\n      <th>lang</th>\n      <th>description</th>\n      <th>id</th>\n      <th>powercode_de</th>\n      <th>geometry</th>\n    </tr>\n  </thead>\n  <tbody>\n    <tr>\n      <th>0</th>\n      <td>de</td>\n      <td>&lt;table&gt;\\n&lt;tr&gt;&lt;td class=\\\"cell-left\\\"&gt;\\nSendele...</td>\n      <td>1</td>\n      <td>Mittel</td>\n      <td>POINT (2688674.000 1211488.000)</td>\n    </tr>\n    <tr>\n      <th>1</th>\n      <td>de</td>\n      <td>&lt;table&gt;\\n&lt;tr&gt;&lt;td class=\\\"cell-left\\\"&gt;\\nSendele...</td>\n      <td>2</td>\n      <td>Sehr Klein</td>\n      <td>POINT (2666065.000 1214355.000)</td>\n    </tr>\n    <tr>\n      <th>2</th>\n      <td>de</td>\n      <td>&lt;table&gt;\\n&lt;tr&gt;&lt;td class=\\\"cell-left\\\"&gt;\\nSendele...</td>\n      <td>3</td>\n      <td>Mittel</td>\n      <td>POINT (2722651.000 1271244.000)</td>\n    </tr>\n    <tr>\n      <th>3</th>\n      <td>de</td>\n      <td>&lt;table&gt;\\n&lt;tr&gt;&lt;td class=\\\"cell-left\\\"&gt;\\nSendele...</td>\n      <td>4</td>\n      <td>Mittel</td>\n      <td>POINT (2570323.000 1164067.000)</td>\n    </tr>\n    <tr>\n      <th>4</th>\n      <td>de</td>\n      <td>&lt;table&gt;\\n&lt;tr&gt;&lt;td class=\\\"cell-left\\\"&gt;\\nSendele...</td>\n      <td>5</td>\n      <td>Klein</td>\n      <td>POINT (2613427.000 1262637.000)</td>\n    </tr>\n  </tbody>\n</table>\n</div>"
     },
     "execution_count": 28,
     "metadata": {},
     "output_type": "execute_result"
    }
   ],
   "source": [
    "data_path='./Daten/ch.bakom.mobil-antennenstandorte-5g_de.json'\n",
    "antennen_5g = gpd.read_file(data_path)\n",
    "antennen_5g.head()"
   ],
   "metadata": {
    "collapsed": false,
    "ExecuteTime": {
     "start_time": "2023-04-17T15:07:30.403027Z",
     "end_time": "2023-04-17T15:07:32.737528Z"
    }
   }
  },
  {
   "cell_type": "code",
   "execution_count": 29,
   "outputs": [
    {
     "data": {
      "text/plain": "  lang                                        description  id powercode_de  \\\n0   de  <table>\\n<tr><td class=\\\"cell-left\\\">\\nSendele...   1        Gross   \n1   de  <table>\\n<tr><td class=\\\"cell-left\\\">\\nSendele...   2        Gross   \n2   de  <table>\\n<tr><td class=\\\"cell-left\\\">\\nSendele...   3        Gross   \n3   de  <table>\\n<tr><td class=\\\"cell-left\\\">\\nSendele...   4       Mittel   \n4   de  <table>\\n<tr><td class=\\\"cell-left\\\">\\nSendele...   5        Gross   \n\n                          geometry  \n0  POINT (2558525.000 1167925.000)  \n1  POINT (2648322.000 1246675.000)  \n2  POINT (2503428.000 1117642.000)  \n3  POINT (2601088.000 1200806.000)  \n4  POINT (2567350.000 1228990.000)  ",
      "text/html": "<div>\n<style scoped>\n    .dataframe tbody tr th:only-of-type {\n        vertical-align: middle;\n    }\n\n    .dataframe tbody tr th {\n        vertical-align: top;\n    }\n\n    .dataframe thead th {\n        text-align: right;\n    }\n</style>\n<table border=\"1\" class=\"dataframe\">\n  <thead>\n    <tr style=\"text-align: right;\">\n      <th></th>\n      <th>lang</th>\n      <th>description</th>\n      <th>id</th>\n      <th>powercode_de</th>\n      <th>geometry</th>\n    </tr>\n  </thead>\n  <tbody>\n    <tr>\n      <th>0</th>\n      <td>de</td>\n      <td>&lt;table&gt;\\n&lt;tr&gt;&lt;td class=\\\"cell-left\\\"&gt;\\nSendele...</td>\n      <td>1</td>\n      <td>Gross</td>\n      <td>POINT (2558525.000 1167925.000)</td>\n    </tr>\n    <tr>\n      <th>1</th>\n      <td>de</td>\n      <td>&lt;table&gt;\\n&lt;tr&gt;&lt;td class=\\\"cell-left\\\"&gt;\\nSendele...</td>\n      <td>2</td>\n      <td>Gross</td>\n      <td>POINT (2648322.000 1246675.000)</td>\n    </tr>\n    <tr>\n      <th>2</th>\n      <td>de</td>\n      <td>&lt;table&gt;\\n&lt;tr&gt;&lt;td class=\\\"cell-left\\\"&gt;\\nSendele...</td>\n      <td>3</td>\n      <td>Gross</td>\n      <td>POINT (2503428.000 1117642.000)</td>\n    </tr>\n    <tr>\n      <th>3</th>\n      <td>de</td>\n      <td>&lt;table&gt;\\n&lt;tr&gt;&lt;td class=\\\"cell-left\\\"&gt;\\nSendele...</td>\n      <td>4</td>\n      <td>Mittel</td>\n      <td>POINT (2601088.000 1200806.000)</td>\n    </tr>\n    <tr>\n      <th>4</th>\n      <td>de</td>\n      <td>&lt;table&gt;\\n&lt;tr&gt;&lt;td class=\\\"cell-left\\\"&gt;\\nSendele...</td>\n      <td>5</td>\n      <td>Gross</td>\n      <td>POINT (2567350.000 1228990.000)</td>\n    </tr>\n  </tbody>\n</table>\n</div>"
     },
     "execution_count": 29,
     "metadata": {},
     "output_type": "execute_result"
    }
   ],
   "source": [
    "data_path='./Daten/ch.bakom.mobil-antennenstandorte-lte_de.json'\n",
    "antennen_4g = gpd.read_file(data_path)\n",
    "antennen_4g.head()"
   ],
   "metadata": {
    "collapsed": false,
    "ExecuteTime": {
     "start_time": "2023-04-17T15:07:32.733990Z",
     "end_time": "2023-04-17T15:07:36.674487Z"
    }
   }
  },
  {
   "cell_type": "code",
   "execution_count": 30,
   "outputs": [
    {
     "data": {
      "text/plain": "  lang                                        description  id powercode_de  \\\n0   de  <table>\\n<tr><td class=\\\"cell-left\\\">\\nSendele...   1       Mittel   \n1   de  <table>\\n<tr><td class=\\\"cell-left\\\">\\nSendele...   2        Gross   \n2   de  <table>\\n<tr><td class=\\\"cell-left\\\">\\nSendele...   3       Mittel   \n3   de  <table>\\n<tr><td class=\\\"cell-left\\\">\\nSendele...   4       Mittel   \n4   de  <table>\\n<tr><td class=\\\"cell-left\\\">\\nSendele...   5        Klein   \n\n                          geometry  \n0  POINT (2601088.000 1200806.000)  \n1  POINT (2639748.000 1232218.000)  \n2  POINT (2613427.000 1262637.000)  \n3  POINT (2503428.000 1117642.000)  \n4  POINT (2570323.000 1164067.000)  ",
      "text/html": "<div>\n<style scoped>\n    .dataframe tbody tr th:only-of-type {\n        vertical-align: middle;\n    }\n\n    .dataframe tbody tr th {\n        vertical-align: top;\n    }\n\n    .dataframe thead th {\n        text-align: right;\n    }\n</style>\n<table border=\"1\" class=\"dataframe\">\n  <thead>\n    <tr style=\"text-align: right;\">\n      <th></th>\n      <th>lang</th>\n      <th>description</th>\n      <th>id</th>\n      <th>powercode_de</th>\n      <th>geometry</th>\n    </tr>\n  </thead>\n  <tbody>\n    <tr>\n      <th>0</th>\n      <td>de</td>\n      <td>&lt;table&gt;\\n&lt;tr&gt;&lt;td class=\\\"cell-left\\\"&gt;\\nSendele...</td>\n      <td>1</td>\n      <td>Mittel</td>\n      <td>POINT (2601088.000 1200806.000)</td>\n    </tr>\n    <tr>\n      <th>1</th>\n      <td>de</td>\n      <td>&lt;table&gt;\\n&lt;tr&gt;&lt;td class=\\\"cell-left\\\"&gt;\\nSendele...</td>\n      <td>2</td>\n      <td>Gross</td>\n      <td>POINT (2639748.000 1232218.000)</td>\n    </tr>\n    <tr>\n      <th>2</th>\n      <td>de</td>\n      <td>&lt;table&gt;\\n&lt;tr&gt;&lt;td class=\\\"cell-left\\\"&gt;\\nSendele...</td>\n      <td>3</td>\n      <td>Mittel</td>\n      <td>POINT (2613427.000 1262637.000)</td>\n    </tr>\n    <tr>\n      <th>3</th>\n      <td>de</td>\n      <td>&lt;table&gt;\\n&lt;tr&gt;&lt;td class=\\\"cell-left\\\"&gt;\\nSendele...</td>\n      <td>4</td>\n      <td>Mittel</td>\n      <td>POINT (2503428.000 1117642.000)</td>\n    </tr>\n    <tr>\n      <th>4</th>\n      <td>de</td>\n      <td>&lt;table&gt;\\n&lt;tr&gt;&lt;td class=\\\"cell-left\\\"&gt;\\nSendele...</td>\n      <td>5</td>\n      <td>Klein</td>\n      <td>POINT (2570323.000 1164067.000)</td>\n    </tr>\n  </tbody>\n</table>\n</div>"
     },
     "execution_count": 30,
     "metadata": {},
     "output_type": "execute_result"
    }
   ],
   "source": [
    "data_path='./Daten/ch.bakom.mobil-antennenstandorte-umts_de.json'\n",
    "antennen_3g = gpd.read_file(data_path)\n",
    "antennen_3g.head()"
   ],
   "metadata": {
    "collapsed": false,
    "ExecuteTime": {
     "start_time": "2023-04-17T15:07:36.679490Z",
     "end_time": "2023-04-17T15:07:40.655669Z"
    }
   }
  },
  {
   "cell_type": "code",
   "execution_count": 31,
   "outputs": [
    {
     "data": {
      "text/plain": "  lang                                        description  id powercode_de  \\\n0   de  <table>\\n<tr><td class=\\\"cell-left\\\">\\nSendele...   1       Mittel   \n1   de  <table>\\n<tr><td class=\\\"cell-left\\\">\\nSendele...   2       Mittel   \n2   de  <table>\\n<tr><td class=\\\"cell-left\\\">\\nSendele...   3       Mittel   \n3   de  <table>\\n<tr><td class=\\\"cell-left\\\">\\nSendele...   4       Mittel   \n4   de  <table>\\n<tr><td class=\\\"cell-left\\\">\\nSendele...   5   Sehr Klein   \n\n                          geometry  \n0  POINT (2701702.000 1265811.000)  \n1  POINT (2618398.000 1227312.000)  \n2  POINT (2609644.000 1213344.000)  \n3  POINT (2560331.000 1182192.000)  \n4  POINT (2557146.000 1210825.000)  ",
      "text/html": "<div>\n<style scoped>\n    .dataframe tbody tr th:only-of-type {\n        vertical-align: middle;\n    }\n\n    .dataframe tbody tr th {\n        vertical-align: top;\n    }\n\n    .dataframe thead th {\n        text-align: right;\n    }\n</style>\n<table border=\"1\" class=\"dataframe\">\n  <thead>\n    <tr style=\"text-align: right;\">\n      <th></th>\n      <th>lang</th>\n      <th>description</th>\n      <th>id</th>\n      <th>powercode_de</th>\n      <th>geometry</th>\n    </tr>\n  </thead>\n  <tbody>\n    <tr>\n      <th>0</th>\n      <td>de</td>\n      <td>&lt;table&gt;\\n&lt;tr&gt;&lt;td class=\\\"cell-left\\\"&gt;\\nSendele...</td>\n      <td>1</td>\n      <td>Mittel</td>\n      <td>POINT (2701702.000 1265811.000)</td>\n    </tr>\n    <tr>\n      <th>1</th>\n      <td>de</td>\n      <td>&lt;table&gt;\\n&lt;tr&gt;&lt;td class=\\\"cell-left\\\"&gt;\\nSendele...</td>\n      <td>2</td>\n      <td>Mittel</td>\n      <td>POINT (2618398.000 1227312.000)</td>\n    </tr>\n    <tr>\n      <th>2</th>\n      <td>de</td>\n      <td>&lt;table&gt;\\n&lt;tr&gt;&lt;td class=\\\"cell-left\\\"&gt;\\nSendele...</td>\n      <td>3</td>\n      <td>Mittel</td>\n      <td>POINT (2609644.000 1213344.000)</td>\n    </tr>\n    <tr>\n      <th>3</th>\n      <td>de</td>\n      <td>&lt;table&gt;\\n&lt;tr&gt;&lt;td class=\\\"cell-left\\\"&gt;\\nSendele...</td>\n      <td>4</td>\n      <td>Mittel</td>\n      <td>POINT (2560331.000 1182192.000)</td>\n    </tr>\n    <tr>\n      <th>4</th>\n      <td>de</td>\n      <td>&lt;table&gt;\\n&lt;tr&gt;&lt;td class=\\\"cell-left\\\"&gt;\\nSendele...</td>\n      <td>5</td>\n      <td>Sehr Klein</td>\n      <td>POINT (2557146.000 1210825.000)</td>\n    </tr>\n  </tbody>\n</table>\n</div>"
     },
     "execution_count": 31,
     "metadata": {},
     "output_type": "execute_result"
    }
   ],
   "source": [
    "data_path='./Daten/ch.bakom.mobil-antennenstandorte-gsm_de.json'\n",
    "antennen_2g = gpd.read_file(data_path)\n",
    "antennen_2g.head()"
   ],
   "metadata": {
    "collapsed": false,
    "ExecuteTime": {
     "start_time": "2023-04-17T15:07:40.648889Z",
     "end_time": "2023-04-17T15:07:41.092971Z"
    }
   }
  },
  {
   "cell_type": "markdown",
   "source": [
    "# Prepare Datasets\n",
    "<br> Set column names and drop usless Columns <br>"
   ],
   "metadata": {
    "collapsed": false
   }
  },
  {
   "cell_type": "code",
   "execution_count": 39,
   "outputs": [
    {
     "ename": "ValueError",
     "evalue": "Length mismatch: Expected axis has 9 elements, new values have 5 elements",
     "output_type": "error",
     "traceback": [
      "\u001B[1;31m---------------------------------------------------------------------------\u001B[0m",
      "\u001B[1;31mValueError\u001B[0m                                Traceback (most recent call last)",
      "Input \u001B[1;32mIn [39]\u001B[0m, in \u001B[0;36m<cell line: 2>\u001B[1;34m()\u001B[0m\n\u001B[0;32m      1\u001B[0m columns\u001B[38;5;241m=\u001B[39m[\u001B[38;5;124m'\u001B[39m\u001B[38;5;124mlanguage\u001B[39m\u001B[38;5;124m'\u001B[39m, \u001B[38;5;124m'\u001B[39m\u001B[38;5;124mdescription\u001B[39m\u001B[38;5;124m'\u001B[39m, \u001B[38;5;124m'\u001B[39m\u001B[38;5;124mid\u001B[39m\u001B[38;5;124m'\u001B[39m, \u001B[38;5;124m'\u001B[39m\u001B[38;5;124mpower\u001B[39m\u001B[38;5;124m'\u001B[39m, \u001B[38;5;124m'\u001B[39m\u001B[38;5;124mcordinates\u001B[39m\u001B[38;5;124m'\u001B[39m]\n\u001B[1;32m----> 2\u001B[0m antennen_6g\u001B[38;5;241m.\u001B[39mcolumns\u001B[38;5;241m=\u001B[39mcolumns\n\u001B[0;32m      3\u001B[0m antennen_5g\u001B[38;5;241m.\u001B[39mcolumns\u001B[38;5;241m=\u001B[39mcolumns\n\u001B[0;32m      4\u001B[0m antennen_4g\u001B[38;5;241m.\u001B[39mcolumns\u001B[38;5;241m=\u001B[39mcolumns\n",
      "File \u001B[1;32m~\\AppData\\Roaming\\Python\\Python39\\site-packages\\geopandas\\geodataframe.py:202\u001B[0m, in \u001B[0;36mGeoDataFrame.__setattr__\u001B[1;34m(self, attr, val)\u001B[0m\n\u001B[0;32m    200\u001B[0m     \u001B[38;5;28mobject\u001B[39m\u001B[38;5;241m.\u001B[39m\u001B[38;5;21m__setattr__\u001B[39m(\u001B[38;5;28mself\u001B[39m, attr, val)\n\u001B[0;32m    201\u001B[0m \u001B[38;5;28;01melse\u001B[39;00m:\n\u001B[1;32m--> 202\u001B[0m     \u001B[38;5;28;43msuper\u001B[39;49m\u001B[43m(\u001B[49m\u001B[43m)\u001B[49m\u001B[38;5;241;43m.\u001B[39;49m\u001B[38;5;21;43m__setattr__\u001B[39;49m\u001B[43m(\u001B[49m\u001B[43mattr\u001B[49m\u001B[43m,\u001B[49m\u001B[43m \u001B[49m\u001B[43mval\u001B[49m\u001B[43m)\u001B[49m\n",
      "File \u001B[1;32mC:\\ProgramData\\Anaconda3\\lib\\site-packages\\pandas\\core\\generic.py:5588\u001B[0m, in \u001B[0;36mNDFrame.__setattr__\u001B[1;34m(self, name, value)\u001B[0m\n\u001B[0;32m   5586\u001B[0m \u001B[38;5;28;01mtry\u001B[39;00m:\n\u001B[0;32m   5587\u001B[0m     \u001B[38;5;28mobject\u001B[39m\u001B[38;5;241m.\u001B[39m\u001B[38;5;21m__getattribute__\u001B[39m(\u001B[38;5;28mself\u001B[39m, name)\n\u001B[1;32m-> 5588\u001B[0m     \u001B[38;5;28;01mreturn\u001B[39;00m \u001B[38;5;28;43mobject\u001B[39;49m\u001B[38;5;241;43m.\u001B[39;49m\u001B[38;5;21;43m__setattr__\u001B[39;49m\u001B[43m(\u001B[49m\u001B[38;5;28;43mself\u001B[39;49m\u001B[43m,\u001B[49m\u001B[43m \u001B[49m\u001B[43mname\u001B[49m\u001B[43m,\u001B[49m\u001B[43m \u001B[49m\u001B[43mvalue\u001B[49m\u001B[43m)\u001B[49m\n\u001B[0;32m   5589\u001B[0m \u001B[38;5;28;01mexcept\u001B[39;00m \u001B[38;5;167;01mAttributeError\u001B[39;00m:\n\u001B[0;32m   5590\u001B[0m     \u001B[38;5;28;01mpass\u001B[39;00m\n",
      "File \u001B[1;32mC:\\ProgramData\\Anaconda3\\lib\\site-packages\\pandas\\_libs\\properties.pyx:70\u001B[0m, in \u001B[0;36mpandas._libs.properties.AxisProperty.__set__\u001B[1;34m()\u001B[0m\n",
      "File \u001B[1;32mC:\\ProgramData\\Anaconda3\\lib\\site-packages\\pandas\\core\\generic.py:769\u001B[0m, in \u001B[0;36mNDFrame._set_axis\u001B[1;34m(self, axis, labels)\u001B[0m\n\u001B[0;32m    767\u001B[0m \u001B[38;5;28;01mdef\u001B[39;00m \u001B[38;5;21m_set_axis\u001B[39m(\u001B[38;5;28mself\u001B[39m, axis: \u001B[38;5;28mint\u001B[39m, labels: Index) \u001B[38;5;241m-\u001B[39m\u001B[38;5;241m>\u001B[39m \u001B[38;5;28;01mNone\u001B[39;00m:\n\u001B[0;32m    768\u001B[0m     labels \u001B[38;5;241m=\u001B[39m ensure_index(labels)\n\u001B[1;32m--> 769\u001B[0m     \u001B[38;5;28;43mself\u001B[39;49m\u001B[38;5;241;43m.\u001B[39;49m\u001B[43m_mgr\u001B[49m\u001B[38;5;241;43m.\u001B[39;49m\u001B[43mset_axis\u001B[49m\u001B[43m(\u001B[49m\u001B[43maxis\u001B[49m\u001B[43m,\u001B[49m\u001B[43m \u001B[49m\u001B[43mlabels\u001B[49m\u001B[43m)\u001B[49m\n\u001B[0;32m    770\u001B[0m     \u001B[38;5;28mself\u001B[39m\u001B[38;5;241m.\u001B[39m_clear_item_cache()\n",
      "File \u001B[1;32mC:\\ProgramData\\Anaconda3\\lib\\site-packages\\pandas\\core\\internals\\managers.py:214\u001B[0m, in \u001B[0;36mBaseBlockManager.set_axis\u001B[1;34m(self, axis, new_labels)\u001B[0m\n\u001B[0;32m    212\u001B[0m \u001B[38;5;28;01mdef\u001B[39;00m \u001B[38;5;21mset_axis\u001B[39m(\u001B[38;5;28mself\u001B[39m, axis: \u001B[38;5;28mint\u001B[39m, new_labels: Index) \u001B[38;5;241m-\u001B[39m\u001B[38;5;241m>\u001B[39m \u001B[38;5;28;01mNone\u001B[39;00m:\n\u001B[0;32m    213\u001B[0m     \u001B[38;5;66;03m# Caller is responsible for ensuring we have an Index object.\u001B[39;00m\n\u001B[1;32m--> 214\u001B[0m     \u001B[38;5;28;43mself\u001B[39;49m\u001B[38;5;241;43m.\u001B[39;49m\u001B[43m_validate_set_axis\u001B[49m\u001B[43m(\u001B[49m\u001B[43maxis\u001B[49m\u001B[43m,\u001B[49m\u001B[43m \u001B[49m\u001B[43mnew_labels\u001B[49m\u001B[43m)\u001B[49m\n\u001B[0;32m    215\u001B[0m     \u001B[38;5;28mself\u001B[39m\u001B[38;5;241m.\u001B[39maxes[axis] \u001B[38;5;241m=\u001B[39m new_labels\n",
      "File \u001B[1;32mC:\\ProgramData\\Anaconda3\\lib\\site-packages\\pandas\\core\\internals\\base.py:69\u001B[0m, in \u001B[0;36mDataManager._validate_set_axis\u001B[1;34m(self, axis, new_labels)\u001B[0m\n\u001B[0;32m     66\u001B[0m     \u001B[38;5;28;01mpass\u001B[39;00m\n\u001B[0;32m     68\u001B[0m \u001B[38;5;28;01melif\u001B[39;00m new_len \u001B[38;5;241m!=\u001B[39m old_len:\n\u001B[1;32m---> 69\u001B[0m     \u001B[38;5;28;01mraise\u001B[39;00m \u001B[38;5;167;01mValueError\u001B[39;00m(\n\u001B[0;32m     70\u001B[0m         \u001B[38;5;124mf\u001B[39m\u001B[38;5;124m\"\u001B[39m\u001B[38;5;124mLength mismatch: Expected axis has \u001B[39m\u001B[38;5;132;01m{\u001B[39;00mold_len\u001B[38;5;132;01m}\u001B[39;00m\u001B[38;5;124m elements, new \u001B[39m\u001B[38;5;124m\"\u001B[39m\n\u001B[0;32m     71\u001B[0m         \u001B[38;5;124mf\u001B[39m\u001B[38;5;124m\"\u001B[39m\u001B[38;5;124mvalues have \u001B[39m\u001B[38;5;132;01m{\u001B[39;00mnew_len\u001B[38;5;132;01m}\u001B[39;00m\u001B[38;5;124m elements\u001B[39m\u001B[38;5;124m\"\u001B[39m\n\u001B[0;32m     72\u001B[0m     )\n",
      "\u001B[1;31mValueError\u001B[0m: Length mismatch: Expected axis has 9 elements, new values have 5 elements"
     ]
    }
   ],
   "source": [
    "\n",
    "columns=['language', 'description', 'id', 'power', 'cordinates']\n",
    "antennen_6g.columns=columns\n",
    "antennen_5g.columns=columns\n",
    "antennen_4g.columns=columns\n",
    "antennen_3g.columns=columns\n",
    "antennen_2g.columns=columns"
   ],
   "metadata": {
    "collapsed": false,
    "ExecuteTime": {
     "start_time": "2023-04-17T15:07:40.996428Z",
     "end_time": "2023-04-17T15:07:41.098478Z"
    }
   }
  },
  {
   "cell_type": "code",
   "execution_count": 33,
   "outputs": [
    {
     "data": {
      "text/plain": "   id   power                       cordinates\n0   1   Gross  POINT (2558525.000 1167925.000)\n1   2   Gross  POINT (2648322.000 1246675.000)\n2   3   Gross  POINT (2503428.000 1117642.000)\n3   4  Mittel  POINT (2601088.000 1200806.000)",
      "text/html": "<div>\n<style scoped>\n    .dataframe tbody tr th:only-of-type {\n        vertical-align: middle;\n    }\n\n    .dataframe tbody tr th {\n        vertical-align: top;\n    }\n\n    .dataframe thead th {\n        text-align: right;\n    }\n</style>\n<table border=\"1\" class=\"dataframe\">\n  <thead>\n    <tr style=\"text-align: right;\">\n      <th></th>\n      <th>id</th>\n      <th>power</th>\n      <th>cordinates</th>\n    </tr>\n  </thead>\n  <tbody>\n    <tr>\n      <th>0</th>\n      <td>1</td>\n      <td>Gross</td>\n      <td>POINT (2558525.000 1167925.000)</td>\n    </tr>\n    <tr>\n      <th>1</th>\n      <td>2</td>\n      <td>Gross</td>\n      <td>POINT (2648322.000 1246675.000)</td>\n    </tr>\n    <tr>\n      <th>2</th>\n      <td>3</td>\n      <td>Gross</td>\n      <td>POINT (2503428.000 1117642.000)</td>\n    </tr>\n    <tr>\n      <th>3</th>\n      <td>4</td>\n      <td>Mittel</td>\n      <td>POINT (2601088.000 1200806.000)</td>\n    </tr>\n  </tbody>\n</table>\n</div>"
     },
     "execution_count": 33,
     "metadata": {},
     "output_type": "execute_result"
    }
   ],
   "source": [
    "antennen_6g.drop(['language' , 'description'], axis=1, inplace=True)\n",
    "antennen_5g.drop(['language' , 'description'], axis=1, inplace=True)\n",
    "antennen_4g.drop(['language' , 'description'], axis=1, inplace=True)\n",
    "antennen_3g.drop(['language' , 'description'], axis=1, inplace=True)\n",
    "antennen_2g.drop(['language' , 'description'], axis=1, inplace=True)\n",
    "antennen_4g.head(4)"
   ],
   "metadata": {
    "collapsed": false,
    "ExecuteTime": {
     "start_time": "2023-04-17T15:07:41.028954Z",
     "end_time": "2023-04-17T15:07:41.136620Z"
    }
   }
  },
  {
   "cell_type": "markdown",
   "source": [
    "# get address data from openstreet map"
   ],
   "metadata": {
    "collapsed": false
   }
  },
  {
   "cell_type": "code",
   "execution_count": 36,
   "outputs": [
    {
     "name": "stdout",
     "output_type": "stream",
     "text": [
      "C:\\ProgramData\\Anaconda3\\lib\\site-packages\\certifi\\cacert.pem\n"
     ]
    }
   ],
   "source": [
    "import ssl\n",
    "import certifi\n",
    "import geopy.geocoders\n",
    "ctx = ssl.create_default_context(cafile=certifi.where())\n",
    "geopy.geocoders.options.default_ssl_context = ctx\n",
    "print(certifi.where())"
   ],
   "metadata": {
    "collapsed": false,
    "ExecuteTime": {
     "start_time": "2023-04-17T15:08:16.223976Z",
     "end_time": "2023-04-17T15:08:16.276501Z"
    }
   }
  },
  {
   "cell_type": "code",
   "execution_count": 40,
   "outputs": [
    {
     "name": "stderr",
     "output_type": "stream",
     "text": [
      "C:\\Users\\nikki\\AppData\\Local\\Temp\\ipykernel_23640\\4242243979.py:7: FutureWarning: This function is deprecated. See: https://pyproj4.github.io/pyproj/stable/gotchas.html#upgrading-to-pyproj-2-from-pyproj-1\n",
      "  x2,y2 = transform(inProj, outProj, x1,y1)\n",
      "C:\\Users\\nikki\\AppData\\Local\\Temp\\ipykernel_23640\\4242243979.py:7: FutureWarning: This function is deprecated. See: https://pyproj4.github.io/pyproj/stable/gotchas.html#upgrading-to-pyproj-2-from-pyproj-1\n",
      "  x2,y2 = transform(inProj, outProj, x1,y1)\n",
      "C:\\Users\\nikki\\AppData\\Local\\Temp\\ipykernel_23640\\4242243979.py:7: FutureWarning: This function is deprecated. See: https://pyproj4.github.io/pyproj/stable/gotchas.html#upgrading-to-pyproj-2-from-pyproj-1\n",
      "  x2,y2 = transform(inProj, outProj, x1,y1)\n",
      "C:\\Users\\nikki\\AppData\\Local\\Temp\\ipykernel_23640\\4242243979.py:7: FutureWarning: This function is deprecated. See: https://pyproj4.github.io/pyproj/stable/gotchas.html#upgrading-to-pyproj-2-from-pyproj-1\n",
      "  x2,y2 = transform(inProj, outProj, x1,y1)\n",
      "C:\\Users\\nikki\\AppData\\Local\\Temp\\ipykernel_23640\\4242243979.py:7: FutureWarning: This function is deprecated. See: https://pyproj4.github.io/pyproj/stable/gotchas.html#upgrading-to-pyproj-2-from-pyproj-1\n",
      "  x2,y2 = transform(inProj, outProj, x1,y1)\n"
     ]
    }
   ],
   "source": [
    "antennen_6g = convert_panda_lv95_wgs84(antennen_6g)\n",
    "antennen_5g = convert_panda_lv95_wgs84(antennen_5g)\n",
    "antennen_4g = convert_panda_lv95_wgs84(antennen_4g)\n",
    "antennen_3g = convert_panda_lv95_wgs84(antennen_3g)\n",
    "antennen_2g = convert_panda_lv95_wgs84(antennen_2g)\n",
    "\n",
    "\n"
   ],
   "metadata": {
    "collapsed": false,
    "ExecuteTime": {
     "start_time": "2023-04-17T15:09:43.411242Z",
     "end_time": "2023-04-17T15:09:43.584348Z"
    }
   }
  },
  {
   "cell_type": "code",
   "execution_count": 17,
   "outputs": [],
   "source": [],
   "metadata": {
    "collapsed": false,
    "ExecuteTime": {
     "start_time": "2023-04-12T19:53:34.670702Z",
     "end_time": "2023-04-12T19:53:35.025185Z"
    }
   }
  },
  {
   "cell_type": "markdown",
   "source": [],
   "metadata": {
    "collapsed": false
   }
  },
  {
   "cell_type": "code",
   "execution_count": 62,
   "outputs": [
    {
     "name": "stdout",
     "output_type": "stream",
     "text": [
      "['Frauholzstrasse', ' Oberes Halti', ' Steinen', ' Schwyz', ' 6422', ' Schweiz']\n",
      "6422\n",
      "Steinen Zustellung\n",
      "['A14', ' Milchhof', ' Ebikon', ' Luzern', ' 6030', ' Schweiz']\n",
      "6030\n",
      "Ebikon Mall Switz.\n",
      "['Muggenwinggel', ' Weinfelderstrasse', ' Feldhof', ' Märstetten', ' Bezirk Weinfelden', ' Thurgau', ' 8560', ' Schweiz']\n",
      "8560\n",
      "Märstetten\n",
      "['71', ' Rue de la Léchère', ' la Léchère', ' Bulle', ' District de la Gruyère', ' Fribourg/Freiburg', ' 1630', ' Schweiz']\n",
      "1630\n",
      "Bulle Jardins P.L.\n",
      "['27', ' Weidenstrasse', ' Münchenstein', ' Bezirk Arlesheim', ' Basel-Landschaft', ' 4142', ' Schweiz']\n",
      "4142\n",
      "Münchenstein Stöck\n",
      "['Outletpark Murgenthal', ' 79', ' Hauptstrasse', ' Moosmattdorf', ' Riken', ' Murgenthal', ' Bezirk Zofingen', ' Aargau', ' 4853', ' Schweiz']\n",
      "4853\n",
      "Riken AG\n",
      "['Krummackerweg', ' Leibstadt', ' Bezirk Zurzach', ' Aargau', ' 5325', ' Schweiz']\n",
      "5325\n",
      "Leibstadt\n",
      "['3', ' Chemin des Coquelicots', ' Châtelaine', ' Vernier', ' Genève', ' 6643', ' Schweiz']\n",
      "6643\n",
      "None\n",
      "['12', ' Bruggmatte', ' Reiden', ' Luzern', ' 6260', ' Schweiz']\n",
      "6260\n",
      "Mehlsecken\n",
      "['10c', ' Chemin de Rovéréaz', ' Chailly', ' Lausanne', ' District de Lausanne', ' Vaud', ' 1012', ' Schweiz']\n",
      "1012\n",
      "Lausanne\n",
      "['ARA Wartau', ' 1', ' Araweg', ' Weite-Wartau', ' Wartau', ' Wahlkreis Werdenberg', ' Sankt Gallen', ' 9476', ' Schweiz']\n",
      "9476\n",
      "Weite\n",
      "['Route de Roua', ' Grimentz', ' Anniviers', ' Sierre', ' Valais/Wallis', ' 3961', ' Schweiz']\n",
      "3961\n",
      "Mission\n",
      "['Caravan Bucher', ' Hauptstrasse', ' Rotfarb', ' Schlatt', ' Hauptwil', ' Hauptwil-Gottshaus', ' Bezirk Weinfelden', ' Thurgau', ' 9213', ' Schweiz']\n",
      "9213\n",
      "Hauptwil\n",
      "['AEW Energie AG', ' 40', ' Obere Vorstadt', ' Gönhard', ' Aarau', ' Bezirk Aarau', ' Aargau', ' 5000', ' Schweiz']\n",
      "5000\n",
      "Aarau Postauto AG\n",
      "['Landverband', ' Auenweg', ' Rebstein', ' Wahlkreis Rheintal', ' Sankt Gallen', ' 9445', ' Schweiz']\n",
      "9445\n",
      "Rebstein\n",
      "['276', ' Schaffhauserstrasse', ' Oerlikon', ' Kreis 11', ' Zürich', ' Bezirk Zürich', ' Zürich', ' 8057', ' Schweiz']\n",
      "8057\n",
      "Zürich\n",
      "[\"Restaurant du Barrage d'Émosson\", \" Place d'Emosson\", ' Émosson', ' Finhaut', ' Saint-Maurice', ' Valais/Wallis', ' 1925', ' Schweiz']\n",
      "1925\n",
      "Finhaut\n",
      "['2108', ' Weekendweg', ' Spiez', ' Verwaltungskreis Frutigen-Niedersimmental', ' Verwaltungsregion Oberland', ' Bern/Berne', ' 3646', ' Schweiz']\n",
      "3646\n",
      "Einigen\n",
      "['25', ' Industriestrasse', ' Alpnach', ' Obwalden', ' 6055', ' Schweiz']\n",
      "6055\n",
      "Alpnach Brünigstr\n",
      "['Route du Vully', ' Ressudens', ' Grandcour', ' District de la Broye-Vully', ' Vaud', ' 1543', ' Schweiz']\n",
      "1543\n",
      "Grandcour\n",
      "['6a', ' Route de la Sarraz', ' Cossonay', ' District de Morges', ' Vaud', ' 1304', ' Schweiz']\n",
      "1304\n",
      "Allens\n",
      "['ETH WES', ' 41', ' Weinbergstrasse', ' Unterstrass', ' Kreis 6', ' Zürich', ' Bezirk Zürich', ' Zürich', ' 8006', ' Schweiz']\n",
      "8006\n",
      "Zürich\n",
      "['Oro Sport Thalmatt', ' Mettlenwaldweg', ' Thalmatt', ' Herrenschwanden', ' Kirchlindach', ' Verwaltungskreis Bern-Mittelland', ' Verwaltungsregion Bern-Mittelland', ' Bern/Berne', ' 3037', ' Schweiz']\n",
      "3037\n",
      "Herrenschwanden\n",
      "['Route du Village', ' Puidoux', ' District de Lavaux-Oron', ' Vaud', ' 1070', ' Schweiz']\n",
      "1070\n",
      "Puidoux\n"
     ]
    }
   ],
   "source": [
    "antennen_6g = add_address(antennen_6g)\n",
    "# antennen_5g = add_address(antennen_5g)\n",
    "# antennen_4g = add_address(antennen_4g)\n",
    "# antennen_3g = add_address(antennen_3g)\n",
    "# antennen_2g = add_address(antennen_2g)"
   ],
   "metadata": {
    "collapsed": false,
    "ExecuteTime": {
     "start_time": "2023-04-17T19:01:48.689975Z",
     "end_time": "2023-04-17T19:02:00.942063Z"
    }
   }
  },
  {
   "cell_type": "code",
   "execution_count": 64,
   "outputs": [],
   "source": [
    "\n",
    "\n",
    "\n",
    "# Rename special chars\n",
    "def rename_Special(data_frame):\n",
    "    data_frame = data_frame.replace({'dictionary':{'ä':'ae','Ä':'Ae','Ü':'Ue','ü':'ue','Ö':'Oe','ö':'oe'}},regex=True)\n",
    "    return data_frame"
   ],
   "metadata": {
    "collapsed": false,
    "ExecuteTime": {
     "start_time": "2023-04-17T19:31:30.367740Z",
     "end_time": "2023-04-17T19:31:30.395324Z"
    }
   }
  },
  {
   "cell_type": "code",
   "execution_count": 65,
   "outputs": [],
   "source": [
    "antennen_6g = rename_Special(antennen_6g)\n",
    "antennen_5g = rename_Special(antennen_5g)\n",
    "antennen_4g = rename_Special(antennen_4g)\n",
    "antennen_3g = rename_Special(antennen_3g)\n",
    "antennen_2g = rename_Special(antennen_2g)"
   ],
   "metadata": {
    "collapsed": false,
    "ExecuteTime": {
     "start_time": "2023-04-17T19:31:34.205512Z",
     "end_time": "2023-04-17T19:31:34.266113Z"
    }
   }
  },
  {
   "cell_type": "code",
   "execution_count": 32,
   "outputs": [],
   "source": [
    "# antennen_5g.to_csv('./Daten/5gAntennen.csv',sep=';', index=False)\n",
    "antennen_4g.to_csv('./Daten/4gAntennen.csv',sep=';', index=False)\n",
    "antennen_3g.to_csv('./Daten/3gAntennen.csv',sep=';', index=False)\n",
    "antennen_2g.to_csv('./Daten/2gAntennen.csv',sep=';', index=False)"
   ],
   "metadata": {
    "collapsed": false,
    "ExecuteTime": {
     "start_time": "2023-04-15T21:36:33.055463Z",
     "end_time": "2023-04-15T21:36:33.898282Z"
    }
   }
  },
  {
   "cell_type": "code",
   "execution_count": 74,
   "outputs": [
    {
     "name": "stdout",
     "output_type": "stream",
     "text": [
      "C:\\ProgramData\\Anaconda3\\lib\\site-packages\\certifi\\cacert.pem\n"
     ]
    }
   ],
   "source": [
    "print(certifi.where())\n",
    "#Breiten- und Längengrad von Zürich\n",
    "address = 'Schweiz'\n",
    "\n",
    "geolocator = Nominatim(user_agent=\"antenna\")\n",
    "location = geolocator.geocode(address)\n",
    "\n",
    "latitude = location.latitude\n",
    "longitude = location.longitude"
   ],
   "metadata": {
    "collapsed": false,
    "ExecuteTime": {
     "start_time": "2023-04-17T19:58:35.229950Z",
     "end_time": "2023-04-17T19:58:36.150721Z"
    }
   }
  },
  {
   "cell_type": "markdown",
   "metadata": {},
   "source": [
    "Erster Plot zum anschauen des Netzes:"
   ]
  },
  {
   "cell_type": "code",
   "execution_count": 75,
   "metadata": {
    "tags": [],
    "ExecuteTime": {
     "start_time": "2023-04-17T19:58:46.213403Z",
     "end_time": "2023-04-17T19:58:46.269097Z"
    }
   },
   "outputs": [
    {
     "name": "stdout",
     "output_type": "stream",
     "text": [
      "C:\\ProgramData\\Anaconda3\\lib\\site-packages\\certifi\\cacert.pem\n"
     ]
    }
   ],
   "source": [
    "# workaround for SSL Error:\n",
    "import ssl\n",
    "import certifi\n",
    "import geopy.geocoders\n",
    "ctx = ssl.create_default_context(cafile=certifi.where())\n",
    "geopy.geocoders.options.default_ssl_context = ctx\n",
    "print(certifi.where())"
   ]
  },
  {
   "cell_type": "code",
   "execution_count": 76,
   "metadata": {
    "tags": [],
    "ExecuteTime": {
     "start_time": "2023-04-17T19:58:48.236969Z",
     "end_time": "2023-04-17T19:58:48.289173Z"
    }
   },
   "outputs": [],
   "source": [
    "m=folium.Map(location=[latitude,longitude],zoom_start=9)"
   ]
  },
  {
   "cell_type": "code",
   "execution_count": 77,
   "outputs": [
    {
     "name": "stderr",
     "output_type": "stream",
     "text": [
      "C:\\Users\\nikki\\AppData\\Local\\Temp\\ipykernel_23640\\978412919.py:6: UserWarning: color argument of Icon should be one of: {'darkblue', 'darkgreen', 'cadetblue', 'lightgray', 'orange', 'beige', 'white', 'darkred', 'lightgreen', 'black', 'pink', 'lightred', 'gray', 'lightblue', 'blue', 'green', 'darkpurple', 'red', 'purple'}.\n",
      "  icon=folium.map.Icon(color='yellow')\n"
     ]
    },
    {
     "data": {
      "text/plain": "<folium.folium.Map at 0x262a9bbb340>",
      "text/html": "<div style=\"width:100%;\"><div style=\"position:relative;width:100%;height:0;padding-bottom:60%;\"><span style=\"color:#565656\">Make this Notebook Trusted to load map: File -> Trust Notebook</span><iframe srcdoc=\"&lt;!DOCTYPE html&gt;\n&lt;html&gt;\n&lt;head&gt;\n    \n    &lt;meta http-equiv=&quot;content-type&quot; content=&quot;text/html; charset=UTF-8&quot; /&gt;\n    \n        &lt;script&gt;\n            L_NO_TOUCH = false;\n            L_DISABLE_3D = false;\n        &lt;/script&gt;\n    \n    &lt;style&gt;html, body {width: 100%;height: 100%;margin: 0;padding: 0;}&lt;/style&gt;\n    &lt;style&gt;#map {position:absolute;top:0;bottom:0;right:0;left:0;}&lt;/style&gt;\n    &lt;script src=&quot;https://cdn.jsdelivr.net/npm/leaflet@1.9.3/dist/leaflet.js&quot;&gt;&lt;/script&gt;\n    &lt;script src=&quot;https://code.jquery.com/jquery-1.12.4.min.js&quot;&gt;&lt;/script&gt;\n    &lt;script src=&quot;https://cdn.jsdelivr.net/npm/bootstrap@5.2.2/dist/js/bootstrap.bundle.min.js&quot;&gt;&lt;/script&gt;\n    &lt;script src=&quot;https://cdnjs.cloudflare.com/ajax/libs/Leaflet.awesome-markers/2.0.2/leaflet.awesome-markers.js&quot;&gt;&lt;/script&gt;\n    &lt;link rel=&quot;stylesheet&quot; href=&quot;https://cdn.jsdelivr.net/npm/leaflet@1.9.3/dist/leaflet.css&quot;/&gt;\n    &lt;link rel=&quot;stylesheet&quot; href=&quot;https://cdn.jsdelivr.net/npm/bootstrap@5.2.2/dist/css/bootstrap.min.css&quot;/&gt;\n    &lt;link rel=&quot;stylesheet&quot; href=&quot;https://netdna.bootstrapcdn.com/bootstrap/3.0.0/css/bootstrap.min.css&quot;/&gt;\n    &lt;link rel=&quot;stylesheet&quot; href=&quot;https://cdn.jsdelivr.net/npm/@fortawesome/fontawesome-free@6.2.0/css/all.min.css&quot;/&gt;\n    &lt;link rel=&quot;stylesheet&quot; href=&quot;https://cdnjs.cloudflare.com/ajax/libs/Leaflet.awesome-markers/2.0.2/leaflet.awesome-markers.css&quot;/&gt;\n    &lt;link rel=&quot;stylesheet&quot; href=&quot;https://cdn.jsdelivr.net/gh/python-visualization/folium/folium/templates/leaflet.awesome.rotate.min.css&quot;/&gt;\n    \n            &lt;meta name=&quot;viewport&quot; content=&quot;width=device-width,\n                initial-scale=1.0, maximum-scale=1.0, user-scalable=no&quot; /&gt;\n            &lt;style&gt;\n                #map_a1f075a80a3fc37e0da58f1508579c13 {\n                    position: relative;\n                    width: 100.0%;\n                    height: 100.0%;\n                    left: 0.0%;\n                    top: 0.0%;\n                }\n                .leaflet-container { font-size: 1rem; }\n            &lt;/style&gt;\n        \n&lt;/head&gt;\n&lt;body&gt;\n    \n    \n            &lt;div class=&quot;folium-map&quot; id=&quot;map_a1f075a80a3fc37e0da58f1508579c13&quot; &gt;&lt;/div&gt;\n        \n&lt;/body&gt;\n&lt;script&gt;\n    \n    \n            var map_a1f075a80a3fc37e0da58f1508579c13 = L.map(\n                &quot;map_a1f075a80a3fc37e0da58f1508579c13&quot;,\n                {\n                    center: [46.7985624, 8.2319736],\n                    crs: L.CRS.EPSG3857,\n                    zoom: 9,\n                    zoomControl: true,\n                    preferCanvas: false,\n                }\n            );\n\n            \n\n        \n    \n            var tile_layer_6064e34e6f6950540d24214e8eecd128 = L.tileLayer(\n                &quot;https://{s}.tile.openstreetmap.org/{z}/{x}/{y}.png&quot;,\n                {&quot;attribution&quot;: &quot;Data by \\u0026copy; \\u003ca target=\\&quot;_blank\\&quot; href=\\&quot;http://openstreetmap.org\\&quot;\\u003eOpenStreetMap\\u003c/a\\u003e, under \\u003ca target=\\&quot;_blank\\&quot; href=\\&quot;http://www.openstreetmap.org/copyright\\&quot;\\u003eODbL\\u003c/a\\u003e.&quot;, &quot;detectRetina&quot;: false, &quot;maxNativeZoom&quot;: 18, &quot;maxZoom&quot;: 18, &quot;minZoom&quot;: 0, &quot;noWrap&quot;: false, &quot;opacity&quot;: 1, &quot;subdomains&quot;: &quot;abc&quot;, &quot;tms&quot;: false}\n            ).addTo(map_a1f075a80a3fc37e0da58f1508579c13);\n        \n    \n            var marker_47e38f7f9f3937b86a0c43896888461d = L.marker(\n                [47.04849186405694, 8.605623335590286],\n                {}\n            ).addTo(map_a1f075a80a3fc37e0da58f1508579c13);\n        \n    \n            var icon_4a2feca16960b6f64964cc70a113a834 = L.AwesomeMarkers.icon(\n                {&quot;extraClasses&quot;: &quot;fa-rotate-0&quot;, &quot;icon&quot;: &quot;info-sign&quot;, &quot;iconColor&quot;: &quot;white&quot;, &quot;markerColor&quot;: &quot;yellow&quot;, &quot;prefix&quot;: &quot;glyphicon&quot;}\n            );\n            marker_47e38f7f9f3937b86a0c43896888461d.setIcon(icon_4a2feca16960b6f64964cc70a113a834);\n        \n    \n        var popup_007ad1fc6b4d78918cd827067c48fbe9 = L.popup({&quot;maxWidth&quot;: &quot;100%&quot;});\n\n        \n            \n                var html_9121a2ca6b4bec9c0b2d432073064587 = $(`&lt;div id=&quot;html_9121a2ca6b4bec9c0b2d432073064587&quot; style=&quot;width: 100.0%; height: 100.0%;&quot;&gt;Steinen Zustellung&lt;/div&gt;`)[0];\n                popup_007ad1fc6b4d78918cd827067c48fbe9.setContent(html_9121a2ca6b4bec9c0b2d432073064587);\n            \n        \n\n        marker_47e38f7f9f3937b86a0c43896888461d.bindPopup(popup_007ad1fc6b4d78918cd827067c48fbe9)\n        ;\n\n        \n    \n    \n            var marker_29f5f603ba45a6852e9c33c38d74740d = L.marker(\n                [47.07691745412742, 8.308524650440566],\n                {}\n            ).addTo(map_a1f075a80a3fc37e0da58f1508579c13);\n        \n    \n            var icon_f69fd41c64fe9d4e704aa9b1bffc752b = L.AwesomeMarkers.icon(\n                {&quot;extraClasses&quot;: &quot;fa-rotate-0&quot;, &quot;icon&quot;: &quot;info-sign&quot;, &quot;iconColor&quot;: &quot;white&quot;, &quot;markerColor&quot;: &quot;yellow&quot;, &quot;prefix&quot;: &quot;glyphicon&quot;}\n            );\n            marker_29f5f603ba45a6852e9c33c38d74740d.setIcon(icon_f69fd41c64fe9d4e704aa9b1bffc752b);\n        \n    \n        var popup_4dfb3986cc1dd62825508c5fa2a8613d = L.popup({&quot;maxWidth&quot;: &quot;100%&quot;});\n\n        \n            \n                var html_1308689d96729d3ac4524ff0e26dc8de = $(`&lt;div id=&quot;html_1308689d96729d3ac4524ff0e26dc8de&quot; style=&quot;width: 100.0%; height: 100.0%;&quot;&gt;Ebikon Mall Switz.&lt;/div&gt;`)[0];\n                popup_4dfb3986cc1dd62825508c5fa2a8613d.setContent(html_1308689d96729d3ac4524ff0e26dc8de);\n            \n        \n\n        marker_29f5f603ba45a6852e9c33c38d74740d.bindPopup(popup_4dfb3986cc1dd62825508c5fa2a8613d)\n        ;\n\n        \n    \n    \n            var marker_cd06a329a164fbf39543ca15a4395e84 = L.marker(\n                [47.580429226152305, 9.06900812430776],\n                {}\n            ).addTo(map_a1f075a80a3fc37e0da58f1508579c13);\n        \n    \n            var icon_773084f721bf4b34c022bdbfe271f8a5 = L.AwesomeMarkers.icon(\n                {&quot;extraClasses&quot;: &quot;fa-rotate-0&quot;, &quot;icon&quot;: &quot;info-sign&quot;, &quot;iconColor&quot;: &quot;white&quot;, &quot;markerColor&quot;: &quot;yellow&quot;, &quot;prefix&quot;: &quot;glyphicon&quot;}\n            );\n            marker_cd06a329a164fbf39543ca15a4395e84.setIcon(icon_773084f721bf4b34c022bdbfe271f8a5);\n        \n    \n        var popup_cefdf76904fbfe4de3a345814f2c547b = L.popup({&quot;maxWidth&quot;: &quot;100%&quot;});\n\n        \n            \n                var html_8dfc4831a6a29f1f3ad2cf79277acfc1 = $(`&lt;div id=&quot;html_8dfc4831a6a29f1f3ad2cf79277acfc1&quot; style=&quot;width: 100.0%; height: 100.0%;&quot;&gt;Märstetten&lt;/div&gt;`)[0];\n                popup_cefdf76904fbfe4de3a345814f2c547b.setContent(html_8dfc4831a6a29f1f3ad2cf79277acfc1);\n            \n        \n\n        marker_cd06a329a164fbf39543ca15a4395e84.bindPopup(popup_cefdf76904fbfe4de3a345814f2c547b)\n        ;\n\n        \n    \n    \n            var marker_406ff01fceb4938c6f8df2abf51e599f = L.marker(\n                [46.6271888972478, 7.051133615085495],\n                {}\n            ).addTo(map_a1f075a80a3fc37e0da58f1508579c13);\n        \n    \n            var icon_eb8cd8130ba81bab6d01db724eca269a = L.AwesomeMarkers.icon(\n                {&quot;extraClasses&quot;: &quot;fa-rotate-0&quot;, &quot;icon&quot;: &quot;info-sign&quot;, &quot;iconColor&quot;: &quot;white&quot;, &quot;markerColor&quot;: &quot;yellow&quot;, &quot;prefix&quot;: &quot;glyphicon&quot;}\n            );\n            marker_406ff01fceb4938c6f8df2abf51e599f.setIcon(icon_eb8cd8130ba81bab6d01db724eca269a);\n        \n    \n        var popup_2f8e7cb06effb320a49fe9e1f20ff511 = L.popup({&quot;maxWidth&quot;: &quot;100%&quot;});\n\n        \n            \n                var html_f1535bf4a1e8fa0caa1f9b769e752dac = $(`&lt;div id=&quot;html_f1535bf4a1e8fa0caa1f9b769e752dac&quot; style=&quot;width: 100.0%; height: 100.0%;&quot;&gt;Bulle Jardins P.L.&lt;/div&gt;`)[0];\n                popup_2f8e7cb06effb320a49fe9e1f20ff511.setContent(html_f1535bf4a1e8fa0caa1f9b769e752dac);\n            \n        \n\n        marker_406ff01fceb4938c6f8df2abf51e599f.bindPopup(popup_2f8e7cb06effb320a49fe9e1f20ff511)\n        ;\n\n        \n    \n    \n            var marker_41dfe612dda31108fba43715b382fe28 = L.marker(\n                [47.514340719360185, 7.616871361846929],\n                {}\n            ).addTo(map_a1f075a80a3fc37e0da58f1508579c13);\n        \n    \n            var icon_22243c8f667c1e9afb3c92d1a9513dc5 = L.AwesomeMarkers.icon(\n                {&quot;extraClasses&quot;: &quot;fa-rotate-0&quot;, &quot;icon&quot;: &quot;info-sign&quot;, &quot;iconColor&quot;: &quot;white&quot;, &quot;markerColor&quot;: &quot;yellow&quot;, &quot;prefix&quot;: &quot;glyphicon&quot;}\n            );\n            marker_41dfe612dda31108fba43715b382fe28.setIcon(icon_22243c8f667c1e9afb3c92d1a9513dc5);\n        \n    \n        var popup_c7d608a663f61620bbd176cc3ca9acd6 = L.popup({&quot;maxWidth&quot;: &quot;100%&quot;});\n\n        \n            \n                var html_a6f6a084483312981c36413239ed2f56 = $(`&lt;div id=&quot;html_a6f6a084483312981c36413239ed2f56&quot; style=&quot;width: 100.0%; height: 100.0%;&quot;&gt;Münchenstein Stöck&lt;/div&gt;`)[0];\n                popup_c7d608a663f61620bbd176cc3ca9acd6.setContent(html_a6f6a084483312981c36413239ed2f56);\n            \n        \n\n        marker_41dfe612dda31108fba43715b382fe28.bindPopup(popup_c7d608a663f61620bbd176cc3ca9acd6)\n        ;\n\n        \n    \n    \n            var marker_70a8e1d82bc6a6c2b80a8e5cab8563c2 = L.marker(\n                [47.2713022762742, 7.841036710196624],\n                {}\n            ).addTo(map_a1f075a80a3fc37e0da58f1508579c13);\n        \n    \n            var icon_fa162759d390da23c9e338324aab2130 = L.AwesomeMarkers.icon(\n                {&quot;extraClasses&quot;: &quot;fa-rotate-0&quot;, &quot;icon&quot;: &quot;info-sign&quot;, &quot;iconColor&quot;: &quot;white&quot;, &quot;markerColor&quot;: &quot;yellow&quot;, &quot;prefix&quot;: &quot;glyphicon&quot;}\n            );\n            marker_70a8e1d82bc6a6c2b80a8e5cab8563c2.setIcon(icon_fa162759d390da23c9e338324aab2130);\n        \n    \n        var popup_f159ad45161e3eab6edd3a70ad9459db = L.popup({&quot;maxWidth&quot;: &quot;100%&quot;});\n\n        \n            \n                var html_4779101c1a0d47d100517124ad578976 = $(`&lt;div id=&quot;html_4779101c1a0d47d100517124ad578976&quot; style=&quot;width: 100.0%; height: 100.0%;&quot;&gt;Riken AG&lt;/div&gt;`)[0];\n                popup_f159ad45161e3eab6edd3a70ad9459db.setContent(html_4779101c1a0d47d100517124ad578976);\n            \n        \n\n        marker_70a8e1d82bc6a6c2b80a8e5cab8563c2.bindPopup(popup_f159ad45161e3eab6edd3a70ad9459db)\n        ;\n\n        \n    \n    \n            var marker_81d984a4326126a808a47b3d5ecc14af = L.marker(\n                [47.59191660026886, 8.179392965347487],\n                {}\n            ).addTo(map_a1f075a80a3fc37e0da58f1508579c13);\n        \n    \n            var icon_32a107724f5dfcb32c7d87f83c70c54d = L.AwesomeMarkers.icon(\n                {&quot;extraClasses&quot;: &quot;fa-rotate-0&quot;, &quot;icon&quot;: &quot;info-sign&quot;, &quot;iconColor&quot;: &quot;white&quot;, &quot;markerColor&quot;: &quot;yellow&quot;, &quot;prefix&quot;: &quot;glyphicon&quot;}\n            );\n            marker_81d984a4326126a808a47b3d5ecc14af.setIcon(icon_32a107724f5dfcb32c7d87f83c70c54d);\n        \n    \n        var popup_fbeacb69ce02a62318b9a9a65b7282fc = L.popup({&quot;maxWidth&quot;: &quot;100%&quot;});\n\n        \n            \n                var html_305cc36b58b9ab0ffa7f3472327b5b8b = $(`&lt;div id=&quot;html_305cc36b58b9ab0ffa7f3472327b5b8b&quot; style=&quot;width: 100.0%; height: 100.0%;&quot;&gt;Leibstadt&lt;/div&gt;`)[0];\n                popup_fbeacb69ce02a62318b9a9a65b7282fc.setContent(html_305cc36b58b9ab0ffa7f3472327b5b8b);\n            \n        \n\n        marker_81d984a4326126a808a47b3d5ecc14af.bindPopup(popup_fbeacb69ce02a62318b9a9a65b7282fc)\n        ;\n\n        \n    \n    \n            var marker_3d50529a2b90f1f2799f8c3abc718fdb = L.marker(\n                [46.22072263214226, 6.0957341093531605],\n                {}\n            ).addTo(map_a1f075a80a3fc37e0da58f1508579c13);\n        \n    \n            var icon_51e013b48bac7dbac5aa89fdada500b8 = L.AwesomeMarkers.icon(\n                {&quot;extraClasses&quot;: &quot;fa-rotate-0&quot;, &quot;icon&quot;: &quot;info-sign&quot;, &quot;iconColor&quot;: &quot;white&quot;, &quot;markerColor&quot;: &quot;yellow&quot;, &quot;prefix&quot;: &quot;glyphicon&quot;}\n            );\n            marker_3d50529a2b90f1f2799f8c3abc718fdb.setIcon(icon_51e013b48bac7dbac5aa89fdada500b8);\n        \n    \n            var marker_60ad436e9ff7554d0f9c1f9309d757a7 = L.marker(\n                [47.23968808113957, 7.963587754623894],\n                {}\n            ).addTo(map_a1f075a80a3fc37e0da58f1508579c13);\n        \n    \n            var icon_86847d03daa515da219bcc78409e34f3 = L.AwesomeMarkers.icon(\n                {&quot;extraClasses&quot;: &quot;fa-rotate-0&quot;, &quot;icon&quot;: &quot;info-sign&quot;, &quot;iconColor&quot;: &quot;white&quot;, &quot;markerColor&quot;: &quot;yellow&quot;, &quot;prefix&quot;: &quot;glyphicon&quot;}\n            );\n            marker_60ad436e9ff7554d0f9c1f9309d757a7.setIcon(icon_86847d03daa515da219bcc78409e34f3);\n        \n    \n        var popup_0f39a5d7bb70c164669c994c08b96890 = L.popup({&quot;maxWidth&quot;: &quot;100%&quot;});\n\n        \n            \n                var html_d4f13bf0fa5c6823a9e99a5bc5e2bf28 = $(`&lt;div id=&quot;html_d4f13bf0fa5c6823a9e99a5bc5e2bf28&quot; style=&quot;width: 100.0%; height: 100.0%;&quot;&gt;Mehlsecken&lt;/div&gt;`)[0];\n                popup_0f39a5d7bb70c164669c994c08b96890.setContent(html_d4f13bf0fa5c6823a9e99a5bc5e2bf28);\n            \n        \n\n        marker_60ad436e9ff7554d0f9c1f9309d757a7.bindPopup(popup_0f39a5d7bb70c164669c994c08b96890)\n        ;\n\n        \n    \n    \n            var marker_8691fe64b38882de42df6452c39202b4 = L.marker(\n                [46.52715091030971, 6.653310632078919],\n                {}\n            ).addTo(map_a1f075a80a3fc37e0da58f1508579c13);\n        \n    \n            var icon_9fef2b39029b38bbf6cd385c5dd4b287 = L.AwesomeMarkers.icon(\n                {&quot;extraClasses&quot;: &quot;fa-rotate-0&quot;, &quot;icon&quot;: &quot;info-sign&quot;, &quot;iconColor&quot;: &quot;white&quot;, &quot;markerColor&quot;: &quot;yellow&quot;, &quot;prefix&quot;: &quot;glyphicon&quot;}\n            );\n            marker_8691fe64b38882de42df6452c39202b4.setIcon(icon_9fef2b39029b38bbf6cd385c5dd4b287);\n        \n    \n        var popup_85d04890b039546c13fc9c294c01a31c = L.popup({&quot;maxWidth&quot;: &quot;100%&quot;});\n\n        \n            \n                var html_aa36e2fb3424c803d6050f765a3c558e = $(`&lt;div id=&quot;html_aa36e2fb3424c803d6050f765a3c558e&quot; style=&quot;width: 100.0%; height: 100.0%;&quot;&gt;Lausanne&lt;/div&gt;`)[0];\n                popup_85d04890b039546c13fc9c294c01a31c.setContent(html_aa36e2fb3424c803d6050f765a3c558e);\n            \n        \n\n        marker_8691fe64b38882de42df6452c39202b4.bindPopup(popup_85d04890b039546c13fc9c294c01a31c)\n        ;\n\n        \n    \n    \n            var marker_bfabb937737a0f10d7b86a10502bd773 = L.marker(\n                [47.096464682126985, 9.505680429810832],\n                {}\n            ).addTo(map_a1f075a80a3fc37e0da58f1508579c13);\n        \n    \n            var icon_576fb8769c7fa61bdd131bf5e30bf611 = L.AwesomeMarkers.icon(\n                {&quot;extraClasses&quot;: &quot;fa-rotate-0&quot;, &quot;icon&quot;: &quot;info-sign&quot;, &quot;iconColor&quot;: &quot;white&quot;, &quot;markerColor&quot;: &quot;yellow&quot;, &quot;prefix&quot;: &quot;glyphicon&quot;}\n            );\n            marker_bfabb937737a0f10d7b86a10502bd773.setIcon(icon_576fb8769c7fa61bdd131bf5e30bf611);\n        \n    \n        var popup_61e51926ce456c700b104d63b43ad9d2 = L.popup({&quot;maxWidth&quot;: &quot;100%&quot;});\n\n        \n            \n                var html_e290e7fa0c27b9dbe6da768d310e4f9a = $(`&lt;div id=&quot;html_e290e7fa0c27b9dbe6da768d310e4f9a&quot; style=&quot;width: 100.0%; height: 100.0%;&quot;&gt;Weite&lt;/div&gt;`)[0];\n                popup_61e51926ce456c700b104d63b43ad9d2.setContent(html_e290e7fa0c27b9dbe6da768d310e4f9a);\n            \n        \n\n        marker_bfabb937737a0f10d7b86a10502bd773.bindPopup(popup_61e51926ce456c700b104d63b43ad9d2)\n        ;\n\n        \n    \n    \n            var marker_e9726154e9c809ffa5b7489c3101acb0 = L.marker(\n                [46.18721217870401, 7.581336201424769],\n                {}\n            ).addTo(map_a1f075a80a3fc37e0da58f1508579c13);\n        \n    \n            var icon_d44ad1894d33b57d0cd143df42c1bac9 = L.AwesomeMarkers.icon(\n                {&quot;extraClasses&quot;: &quot;fa-rotate-0&quot;, &quot;icon&quot;: &quot;info-sign&quot;, &quot;iconColor&quot;: &quot;white&quot;, &quot;markerColor&quot;: &quot;yellow&quot;, &quot;prefix&quot;: &quot;glyphicon&quot;}\n            );\n            marker_e9726154e9c809ffa5b7489c3101acb0.setIcon(icon_d44ad1894d33b57d0cd143df42c1bac9);\n        \n    \n        var popup_02230a8efdf2aeea8e6cc219fcf08c04 = L.popup({&quot;maxWidth&quot;: &quot;100%&quot;});\n\n        \n            \n                var html_3ace93a87f9e679af8263953b3e329e1 = $(`&lt;div id=&quot;html_3ace93a87f9e679af8263953b3e329e1&quot; style=&quot;width: 100.0%; height: 100.0%;&quot;&gt;Mission&lt;/div&gt;`)[0];\n                popup_02230a8efdf2aeea8e6cc219fcf08c04.setContent(html_3ace93a87f9e679af8263953b3e329e1);\n            \n        \n\n        marker_e9726154e9c809ffa5b7489c3101acb0.bindPopup(popup_02230a8efdf2aeea8e6cc219fcf08c04)\n        ;\n\n        \n    \n    \n            var marker_af20598c4842dedf6156ffea683b7b79 = L.marker(\n                [47.48235402873181, 9.25585008850364],\n                {}\n            ).addTo(map_a1f075a80a3fc37e0da58f1508579c13);\n        \n    \n            var icon_9419e1a23058b31f8ff55c44783aee84 = L.AwesomeMarkers.icon(\n                {&quot;extraClasses&quot;: &quot;fa-rotate-0&quot;, &quot;icon&quot;: &quot;info-sign&quot;, &quot;iconColor&quot;: &quot;white&quot;, &quot;markerColor&quot;: &quot;yellow&quot;, &quot;prefix&quot;: &quot;glyphicon&quot;}\n            );\n            marker_af20598c4842dedf6156ffea683b7b79.setIcon(icon_9419e1a23058b31f8ff55c44783aee84);\n        \n    \n        var popup_e3a8f4e1bb2e03bf3c0e0d8edb93a7a5 = L.popup({&quot;maxWidth&quot;: &quot;100%&quot;});\n\n        \n            \n                var html_9eabcf2ffb3b2c391c3d84bb60501eae = $(`&lt;div id=&quot;html_9eabcf2ffb3b2c391c3d84bb60501eae&quot; style=&quot;width: 100.0%; height: 100.0%;&quot;&gt;Hauptwil&lt;/div&gt;`)[0];\n                popup_e3a8f4e1bb2e03bf3c0e0d8edb93a7a5.setContent(html_9eabcf2ffb3b2c391c3d84bb60501eae);\n            \n        \n\n        marker_af20598c4842dedf6156ffea683b7b79.bindPopup(popup_e3a8f4e1bb2e03bf3c0e0d8edb93a7a5)\n        ;\n\n        \n    \n    \n            var marker_6ce8801c5a5593510a895fad8608fa4e = L.marker(\n                [47.389118842273945, 8.047346651338406],\n                {}\n            ).addTo(map_a1f075a80a3fc37e0da58f1508579c13);\n        \n    \n            var icon_8fb78744cbd93f46ee72def04b4ad90b = L.AwesomeMarkers.icon(\n                {&quot;extraClasses&quot;: &quot;fa-rotate-0&quot;, &quot;icon&quot;: &quot;info-sign&quot;, &quot;iconColor&quot;: &quot;white&quot;, &quot;markerColor&quot;: &quot;yellow&quot;, &quot;prefix&quot;: &quot;glyphicon&quot;}\n            );\n            marker_6ce8801c5a5593510a895fad8608fa4e.setIcon(icon_8fb78744cbd93f46ee72def04b4ad90b);\n        \n    \n        var popup_28985d96ce81e57fc62be65a46275a7c = L.popup({&quot;maxWidth&quot;: &quot;100%&quot;});\n\n        \n            \n                var html_095d378746058a9a4bbc9d19fa8dd960 = $(`&lt;div id=&quot;html_095d378746058a9a4bbc9d19fa8dd960&quot; style=&quot;width: 100.0%; height: 100.0%;&quot;&gt;Aarau Postauto AG&lt;/div&gt;`)[0];\n                popup_28985d96ce81e57fc62be65a46275a7c.setContent(html_095d378746058a9a4bbc9d19fa8dd960);\n            \n        \n\n        marker_6ce8801c5a5593510a895fad8608fa4e.bindPopup(popup_28985d96ce81e57fc62be65a46275a7c)\n        ;\n\n        \n    \n    \n            var marker_c02e1bd3c41271123229012835b5cba6 = L.marker(\n                [47.39425448564568, 9.589809901335213],\n                {}\n            ).addTo(map_a1f075a80a3fc37e0da58f1508579c13);\n        \n    \n            var icon_c5cbb9d69e20733542ae00a4f516d8bb = L.AwesomeMarkers.icon(\n                {&quot;extraClasses&quot;: &quot;fa-rotate-0&quot;, &quot;icon&quot;: &quot;info-sign&quot;, &quot;iconColor&quot;: &quot;white&quot;, &quot;markerColor&quot;: &quot;yellow&quot;, &quot;prefix&quot;: &quot;glyphicon&quot;}\n            );\n            marker_c02e1bd3c41271123229012835b5cba6.setIcon(icon_c5cbb9d69e20733542ae00a4f516d8bb);\n        \n    \n        var popup_5bd1d96c26691fee688dba17e0bcc534 = L.popup({&quot;maxWidth&quot;: &quot;100%&quot;});\n\n        \n            \n                var html_6ac7f5b373c92af803fb56145d55c729 = $(`&lt;div id=&quot;html_6ac7f5b373c92af803fb56145d55c729&quot; style=&quot;width: 100.0%; height: 100.0%;&quot;&gt;Rebstein&lt;/div&gt;`)[0];\n                popup_5bd1d96c26691fee688dba17e0bcc534.setContent(html_6ac7f5b373c92af803fb56145d55c729);\n            \n        \n\n        marker_c02e1bd3c41271123229012835b5cba6.bindPopup(popup_5bd1d96c26691fee688dba17e0bcc534)\n        ;\n\n        \n    \n    \n            var marker_01b6c8c524e54c0199665eea685bf0ab = L.marker(\n                [47.40466956825127, 8.548450635835016],\n                {}\n            ).addTo(map_a1f075a80a3fc37e0da58f1508579c13);\n        \n    \n            var icon_39669d13798f50ea58989c184c91f1b9 = L.AwesomeMarkers.icon(\n                {&quot;extraClasses&quot;: &quot;fa-rotate-0&quot;, &quot;icon&quot;: &quot;info-sign&quot;, &quot;iconColor&quot;: &quot;white&quot;, &quot;markerColor&quot;: &quot;yellow&quot;, &quot;prefix&quot;: &quot;glyphicon&quot;}\n            );\n            marker_01b6c8c524e54c0199665eea685bf0ab.setIcon(icon_39669d13798f50ea58989c184c91f1b9);\n        \n    \n        var popup_57863166f271dac5d19da5f413e90bd3 = L.popup({&quot;maxWidth&quot;: &quot;100%&quot;});\n\n        \n            \n                var html_79ee444bf7f946e0fbdaa76e9739a2dd = $(`&lt;div id=&quot;html_79ee444bf7f946e0fbdaa76e9739a2dd&quot; style=&quot;width: 100.0%; height: 100.0%;&quot;&gt;Zürich&lt;/div&gt;`)[0];\n                popup_57863166f271dac5d19da5f413e90bd3.setContent(html_79ee444bf7f946e0fbdaa76e9739a2dd);\n            \n        \n\n        marker_01b6c8c524e54c0199665eea685bf0ab.bindPopup(popup_57863166f271dac5d19da5f413e90bd3)\n        ;\n\n        \n    \n    \n            var marker_88d047f57080ab32f1e7ee1d122dc054 = L.marker(\n                [46.06772160244409, 6.935882043412124],\n                {}\n            ).addTo(map_a1f075a80a3fc37e0da58f1508579c13);\n        \n    \n            var icon_409d1ccdc3f8e74fa90e6c9f76df1fde = L.AwesomeMarkers.icon(\n                {&quot;extraClasses&quot;: &quot;fa-rotate-0&quot;, &quot;icon&quot;: &quot;info-sign&quot;, &quot;iconColor&quot;: &quot;white&quot;, &quot;markerColor&quot;: &quot;yellow&quot;, &quot;prefix&quot;: &quot;glyphicon&quot;}\n            );\n            marker_88d047f57080ab32f1e7ee1d122dc054.setIcon(icon_409d1ccdc3f8e74fa90e6c9f76df1fde);\n        \n    \n        var popup_83ebf64a402b977ef64de0d2cbefc3ac = L.popup({&quot;maxWidth&quot;: &quot;100%&quot;});\n\n        \n            \n                var html_27f67a4e8f0eee03d268fcbc321b1be2 = $(`&lt;div id=&quot;html_27f67a4e8f0eee03d268fcbc321b1be2&quot; style=&quot;width: 100.0%; height: 100.0%;&quot;&gt;Finhaut&lt;/div&gt;`)[0];\n                popup_83ebf64a402b977ef64de0d2cbefc3ac.setContent(html_27f67a4e8f0eee03d268fcbc321b1be2);\n            \n        \n\n        marker_88d047f57080ab32f1e7ee1d122dc054.bindPopup(popup_83ebf64a402b977ef64de0d2cbefc3ac)\n        ;\n\n        \n    \n    \n            var marker_bf0f713ec43dadd248d255e1c077b926 = L.marker(\n                [46.71637744880908, 7.641621993113148],\n                {}\n            ).addTo(map_a1f075a80a3fc37e0da58f1508579c13);\n        \n    \n            var icon_02456e95e16de90a11d10fc0780ee11a = L.AwesomeMarkers.icon(\n                {&quot;extraClasses&quot;: &quot;fa-rotate-0&quot;, &quot;icon&quot;: &quot;info-sign&quot;, &quot;iconColor&quot;: &quot;white&quot;, &quot;markerColor&quot;: &quot;yellow&quot;, &quot;prefix&quot;: &quot;glyphicon&quot;}\n            );\n            marker_bf0f713ec43dadd248d255e1c077b926.setIcon(icon_02456e95e16de90a11d10fc0780ee11a);\n        \n    \n        var popup_0a5cf13201353a98b5da9dd32fa315e0 = L.popup({&quot;maxWidth&quot;: &quot;100%&quot;});\n\n        \n            \n                var html_5c0bfafaa9f5eb6e7263fe6188e4419e = $(`&lt;div id=&quot;html_5c0bfafaa9f5eb6e7263fe6188e4419e&quot; style=&quot;width: 100.0%; height: 100.0%;&quot;&gt;Einigen&lt;/div&gt;`)[0];\n                popup_0a5cf13201353a98b5da9dd32fa315e0.setContent(html_5c0bfafaa9f5eb6e7263fe6188e4419e);\n            \n        \n\n        marker_bf0f713ec43dadd248d255e1c077b926.bindPopup(popup_0a5cf13201353a98b5da9dd32fa315e0)\n        ;\n\n        \n    \n    \n            var marker_6890636572e23b9f5a6ab1421fcbbe03 = L.marker(\n                [46.936643130301306, 8.276665355452852],\n                {}\n            ).addTo(map_a1f075a80a3fc37e0da58f1508579c13);\n        \n    \n            var icon_f7d241903833071b8b84aba26ead6cb7 = L.AwesomeMarkers.icon(\n                {&quot;extraClasses&quot;: &quot;fa-rotate-0&quot;, &quot;icon&quot;: &quot;info-sign&quot;, &quot;iconColor&quot;: &quot;white&quot;, &quot;markerColor&quot;: &quot;yellow&quot;, &quot;prefix&quot;: &quot;glyphicon&quot;}\n            );\n            marker_6890636572e23b9f5a6ab1421fcbbe03.setIcon(icon_f7d241903833071b8b84aba26ead6cb7);\n        \n    \n        var popup_263f73939c5cb8682438dcffafca8ea1 = L.popup({&quot;maxWidth&quot;: &quot;100%&quot;});\n\n        \n            \n                var html_e99511885f6b137e30184d8863b4c74d = $(`&lt;div id=&quot;html_e99511885f6b137e30184d8863b4c74d&quot; style=&quot;width: 100.0%; height: 100.0%;&quot;&gt;Alpnach Brünigstr&lt;/div&gt;`)[0];\n                popup_263f73939c5cb8682438dcffafca8ea1.setContent(html_e99511885f6b137e30184d8863b4c74d);\n            \n        \n\n        marker_6890636572e23b9f5a6ab1421fcbbe03.bindPopup(popup_263f73939c5cb8682438dcffafca8ea1)\n        ;\n\n        \n    \n    \n            var marker_db2e39307d91bc49a093413b05541726 = L.marker(\n                [46.86615740298081, 6.938370807295143],\n                {}\n            ).addTo(map_a1f075a80a3fc37e0da58f1508579c13);\n        \n    \n            var icon_34ae2ee5f1f1b23b34e68e9152693a22 = L.AwesomeMarkers.icon(\n                {&quot;extraClasses&quot;: &quot;fa-rotate-0&quot;, &quot;icon&quot;: &quot;info-sign&quot;, &quot;iconColor&quot;: &quot;white&quot;, &quot;markerColor&quot;: &quot;yellow&quot;, &quot;prefix&quot;: &quot;glyphicon&quot;}\n            );\n            marker_db2e39307d91bc49a093413b05541726.setIcon(icon_34ae2ee5f1f1b23b34e68e9152693a22);\n        \n    \n        var popup_3d275635208ba420d40c00f67c5a8c28 = L.popup({&quot;maxWidth&quot;: &quot;100%&quot;});\n\n        \n            \n                var html_76077b69f5bad09c27ed2c73f56adc0d = $(`&lt;div id=&quot;html_76077b69f5bad09c27ed2c73f56adc0d&quot; style=&quot;width: 100.0%; height: 100.0%;&quot;&gt;Grandcour&lt;/div&gt;`)[0];\n                popup_3d275635208ba420d40c00f67c5a8c28.setContent(html_76077b69f5bad09c27ed2c73f56adc0d);\n            \n        \n\n        marker_db2e39307d91bc49a093413b05541726.bindPopup(popup_3d275635208ba420d40c00f67c5a8c28)\n        ;\n\n        \n    \n    \n            var marker_9cf2a357a4bdb64481bfd9b57282defa = L.marker(\n                [46.617884713185575, 6.50901499549102],\n                {}\n            ).addTo(map_a1f075a80a3fc37e0da58f1508579c13);\n        \n    \n            var icon_5b02904a59bc19cefce810a6585a6460 = L.AwesomeMarkers.icon(\n                {&quot;extraClasses&quot;: &quot;fa-rotate-0&quot;, &quot;icon&quot;: &quot;info-sign&quot;, &quot;iconColor&quot;: &quot;white&quot;, &quot;markerColor&quot;: &quot;yellow&quot;, &quot;prefix&quot;: &quot;glyphicon&quot;}\n            );\n            marker_9cf2a357a4bdb64481bfd9b57282defa.setIcon(icon_5b02904a59bc19cefce810a6585a6460);\n        \n    \n        var popup_1b890b8a9ad029596e3fa5222ee11e6f = L.popup({&quot;maxWidth&quot;: &quot;100%&quot;});\n\n        \n            \n                var html_43cba62f86dc287efb198f43827e1cbd = $(`&lt;div id=&quot;html_43cba62f86dc287efb198f43827e1cbd&quot; style=&quot;width: 100.0%; height: 100.0%;&quot;&gt;Allens&lt;/div&gt;`)[0];\n                popup_1b890b8a9ad029596e3fa5222ee11e6f.setContent(html_43cba62f86dc287efb198f43827e1cbd);\n            \n        \n\n        marker_9cf2a357a4bdb64481bfd9b57282defa.bindPopup(popup_1b890b8a9ad029596e3fa5222ee11e6f)\n        ;\n\n        \n    \n    \n            var marker_0125244c3be064db2269d2ba526e5a08 = L.marker(\n                [47.380210762287, 8.543875619055614],\n                {}\n            ).addTo(map_a1f075a80a3fc37e0da58f1508579c13);\n        \n    \n            var icon_fa1ce27bde72f04c223389877770bdb7 = L.AwesomeMarkers.icon(\n                {&quot;extraClasses&quot;: &quot;fa-rotate-0&quot;, &quot;icon&quot;: &quot;info-sign&quot;, &quot;iconColor&quot;: &quot;white&quot;, &quot;markerColor&quot;: &quot;yellow&quot;, &quot;prefix&quot;: &quot;glyphicon&quot;}\n            );\n            marker_0125244c3be064db2269d2ba526e5a08.setIcon(icon_fa1ce27bde72f04c223389877770bdb7);\n        \n    \n        var popup_2d7460e547f01fafc8d4c8cd816ca40a = L.popup({&quot;maxWidth&quot;: &quot;100%&quot;});\n\n        \n            \n                var html_aa21b02015126cf0d84a57fa70af2707 = $(`&lt;div id=&quot;html_aa21b02015126cf0d84a57fa70af2707&quot; style=&quot;width: 100.0%; height: 100.0%;&quot;&gt;Zürich&lt;/div&gt;`)[0];\n                popup_2d7460e547f01fafc8d4c8cd816ca40a.setContent(html_aa21b02015126cf0d84a57fa70af2707);\n            \n        \n\n        marker_0125244c3be064db2269d2ba526e5a08.bindPopup(popup_2d7460e547f01fafc8d4c8cd816ca40a)\n        ;\n\n        \n    \n    \n            var marker_5f28cb53dd64e04d6c70000f735c9b64 = L.marker(\n                [46.974817216364045, 7.410206004530642],\n                {}\n            ).addTo(map_a1f075a80a3fc37e0da58f1508579c13);\n        \n    \n            var icon_d9f7238bfbde8cc68b6b15c10f88949c = L.AwesomeMarkers.icon(\n                {&quot;extraClasses&quot;: &quot;fa-rotate-0&quot;, &quot;icon&quot;: &quot;info-sign&quot;, &quot;iconColor&quot;: &quot;white&quot;, &quot;markerColor&quot;: &quot;yellow&quot;, &quot;prefix&quot;: &quot;glyphicon&quot;}\n            );\n            marker_5f28cb53dd64e04d6c70000f735c9b64.setIcon(icon_d9f7238bfbde8cc68b6b15c10f88949c);\n        \n    \n        var popup_3124014341443648989495d1ec54b3c7 = L.popup({&quot;maxWidth&quot;: &quot;100%&quot;});\n\n        \n            \n                var html_974a6c9dc561ab4f07d48f0c681378cf = $(`&lt;div id=&quot;html_974a6c9dc561ab4f07d48f0c681378cf&quot; style=&quot;width: 100.0%; height: 100.0%;&quot;&gt;Herrenschwanden&lt;/div&gt;`)[0];\n                popup_3124014341443648989495d1ec54b3c7.setContent(html_974a6c9dc561ab4f07d48f0c681378cf);\n            \n        \n\n        marker_5f28cb53dd64e04d6c70000f735c9b64.bindPopup(popup_3124014341443648989495d1ec54b3c7)\n        ;\n\n        \n    \n    \n            var marker_bb785be0323d002aae337d47c9bfc17c = L.marker(\n                [46.50062402327223, 6.779384062123342],\n                {}\n            ).addTo(map_a1f075a80a3fc37e0da58f1508579c13);\n        \n    \n            var icon_5f8e95f55619e8345453a391b5f54d4b = L.AwesomeMarkers.icon(\n                {&quot;extraClasses&quot;: &quot;fa-rotate-0&quot;, &quot;icon&quot;: &quot;info-sign&quot;, &quot;iconColor&quot;: &quot;white&quot;, &quot;markerColor&quot;: &quot;yellow&quot;, &quot;prefix&quot;: &quot;glyphicon&quot;}\n            );\n            marker_bb785be0323d002aae337d47c9bfc17c.setIcon(icon_5f8e95f55619e8345453a391b5f54d4b);\n        \n    \n        var popup_a13e27fae3cba8845b9615c82866da9f = L.popup({&quot;maxWidth&quot;: &quot;100%&quot;});\n\n        \n            \n                var html_67a088560d65493331a1ca22e23e16e2 = $(`&lt;div id=&quot;html_67a088560d65493331a1ca22e23e16e2&quot; style=&quot;width: 100.0%; height: 100.0%;&quot;&gt;Puidoux&lt;/div&gt;`)[0];\n                popup_a13e27fae3cba8845b9615c82866da9f.setContent(html_67a088560d65493331a1ca22e23e16e2);\n            \n        \n\n        marker_bb785be0323d002aae337d47c9bfc17c.bindPopup(popup_a13e27fae3cba8845b9615c82866da9f)\n        ;\n\n        \n    \n&lt;/script&gt;\n&lt;/html&gt;\" style=\"position:absolute;width:100%;height:100%;left:0;top:0;border:none !important;\" allowfullscreen webkitallowfullscreen mozallowfullscreen></iframe></div></div>"
     },
     "execution_count": 77,
     "metadata": {},
     "output_type": "execute_result"
    }
   ],
   "source": [
    "#You Markler the point in Map\n",
    "for indice, row in antennen_6g.iterrows():\n",
    "    folium.Marker(\n",
    "        location=[row['antenna_Location_WGS84_E'], row['antenna_Location_WGS84_N']],\n",
    "        popup=row['town'],\n",
    "        icon=folium.map.Icon(color='yellow')\n",
    "    ).add_to(m)\n",
    "m"
   ],
   "metadata": {
    "collapsed": false,
    "ExecuteTime": {
     "start_time": "2023-04-17T19:58:50.165317Z",
     "end_time": "2023-04-17T19:58:50.241953Z"
    }
   }
  },
  {
   "cell_type": "code",
   "execution_count": 69,
   "metadata": {
    "tags": []
   },
   "outputs": [
    {
     "ename": "ValueError",
     "evalue": "Location should consist of two numerical values, but 0     47.048492\n1     47.076917\n2     47.580429\n3     46.627189\n4     47.514341\n5     47.271302\n6     47.591917\n7     46.220723\n8     47.239688\n9     46.527151\n10    47.096465\n11    46.187212\n12    47.482354\n13    47.389119\n14    47.394254\n15    47.404670\n16    46.067722\n17    46.716377\n18    46.936643\n19    46.866157\n20    46.617885\n21    47.380211\n22    46.974817\n23    46.500624\nName: antenna_Location_WGS84_E, dtype: float64 of type <class 'pandas.core.series.Series'> is not convertible to float.",
     "output_type": "error",
     "traceback": [
      "\u001B[1;31m---------------------------------------------------------------------------\u001B[0m",
      "\u001B[1;31mTypeError\u001B[0m                                 Traceback (most recent call last)",
      "File \u001B[1;32m~\\AppData\\Roaming\\Python\\Python39\\site-packages\\folium\\utilities.py:69\u001B[0m, in \u001B[0;36mvalidate_location\u001B[1;34m(location)\u001B[0m\n\u001B[0;32m     68\u001B[0m \u001B[38;5;28;01mtry\u001B[39;00m:\n\u001B[1;32m---> 69\u001B[0m     \u001B[38;5;28;43mfloat\u001B[39;49m\u001B[43m(\u001B[49m\u001B[43mcoord\u001B[49m\u001B[43m)\u001B[49m\n\u001B[0;32m     70\u001B[0m \u001B[38;5;28;01mexcept\u001B[39;00m (\u001B[38;5;167;01mTypeError\u001B[39;00m, \u001B[38;5;167;01mValueError\u001B[39;00m):\n",
      "File \u001B[1;32mC:\\ProgramData\\Anaconda3\\lib\\site-packages\\pandas\\core\\series.py:191\u001B[0m, in \u001B[0;36m_coerce_method.<locals>.wrapper\u001B[1;34m(self)\u001B[0m\n\u001B[0;32m    190\u001B[0m     \u001B[38;5;28;01mreturn\u001B[39;00m converter(\u001B[38;5;28mself\u001B[39m\u001B[38;5;241m.\u001B[39miloc[\u001B[38;5;241m0\u001B[39m])\n\u001B[1;32m--> 191\u001B[0m \u001B[38;5;28;01mraise\u001B[39;00m \u001B[38;5;167;01mTypeError\u001B[39;00m(\u001B[38;5;124mf\u001B[39m\u001B[38;5;124m\"\u001B[39m\u001B[38;5;124mcannot convert the series to \u001B[39m\u001B[38;5;132;01m{\u001B[39;00mconverter\u001B[38;5;132;01m}\u001B[39;00m\u001B[38;5;124m\"\u001B[39m)\n",
      "\u001B[1;31mTypeError\u001B[0m: cannot convert the series to <class 'float'>",
      "\nDuring handling of the above exception, another exception occurred:\n",
      "\u001B[1;31mValueError\u001B[0m                                Traceback (most recent call last)",
      "Input \u001B[1;32mIn [69]\u001B[0m, in \u001B[0;36m<cell line: 1>\u001B[1;34m()\u001B[0m\n\u001B[1;32m----> 1\u001B[0m \u001B[43mfolium\u001B[49m\u001B[38;5;241;43m.\u001B[39;49m\u001B[43mMap\u001B[49m\u001B[43m(\u001B[49m\u001B[43mlocation\u001B[49m\u001B[38;5;241;43m=\u001B[39;49m\u001B[43m \u001B[49m\u001B[43m[\u001B[49m\u001B[43m \u001B[49m\u001B[43mantennen_6g\u001B[49m\u001B[43m[\u001B[49m\u001B[38;5;124;43m'\u001B[39;49m\u001B[38;5;124;43mantenna_Location_WGS84_E\u001B[39;49m\u001B[38;5;124;43m'\u001B[39;49m\u001B[43m]\u001B[49m\u001B[43m \u001B[49m\u001B[43m,\u001B[49m\u001B[43m \u001B[49m\u001B[43mantennen_6g\u001B[49m\u001B[43m[\u001B[49m\u001B[38;5;124;43m'\u001B[39;49m\u001B[38;5;124;43mantenna_Location_WGS84_N\u001B[39;49m\u001B[38;5;124;43m'\u001B[39;49m\u001B[43m]\u001B[49m\u001B[43m]\u001B[49m\u001B[43m)\u001B[49m\n",
      "File \u001B[1;32m~\\AppData\\Roaming\\Python\\Python39\\site-packages\\folium\\folium.py:274\u001B[0m, in \u001B[0;36mMap.__init__\u001B[1;34m(self, location, width, height, left, top, position, tiles, attr, min_zoom, max_zoom, zoom_start, min_lat, max_lat, min_lon, max_lon, max_bounds, crs, control_scale, prefer_canvas, no_touch, disable_3d, png_enabled, zoom_control, **kwargs)\u001B[0m\n\u001B[0;32m    272\u001B[0m     zoom_start \u001B[38;5;241m=\u001B[39m \u001B[38;5;241m1\u001B[39m\n\u001B[0;32m    273\u001B[0m \u001B[38;5;28;01melse\u001B[39;00m:\n\u001B[1;32m--> 274\u001B[0m     \u001B[38;5;28mself\u001B[39m\u001B[38;5;241m.\u001B[39mlocation \u001B[38;5;241m=\u001B[39m \u001B[43mvalidate_location\u001B[49m\u001B[43m(\u001B[49m\u001B[43mlocation\u001B[49m\u001B[43m)\u001B[49m\n\u001B[0;32m    276\u001B[0m Figure()\u001B[38;5;241m.\u001B[39madd_child(\u001B[38;5;28mself\u001B[39m)\n\u001B[0;32m    278\u001B[0m \u001B[38;5;66;03m# Map Size Parameters.\u001B[39;00m\n",
      "File \u001B[1;32m~\\AppData\\Roaming\\Python\\Python39\\site-packages\\folium\\utilities.py:71\u001B[0m, in \u001B[0;36mvalidate_location\u001B[1;34m(location)\u001B[0m\n\u001B[0;32m     69\u001B[0m     \u001B[38;5;28mfloat\u001B[39m(coord)\n\u001B[0;32m     70\u001B[0m \u001B[38;5;28;01mexcept\u001B[39;00m (\u001B[38;5;167;01mTypeError\u001B[39;00m, \u001B[38;5;167;01mValueError\u001B[39;00m):\n\u001B[1;32m---> 71\u001B[0m     \u001B[38;5;28;01mraise\u001B[39;00m \u001B[38;5;167;01mValueError\u001B[39;00m(\n\u001B[0;32m     72\u001B[0m         \u001B[38;5;124m\"\u001B[39m\u001B[38;5;124mLocation should consist of two numerical values, \u001B[39m\u001B[38;5;124m\"\u001B[39m\n\u001B[0;32m     73\u001B[0m         \u001B[38;5;124m\"\u001B[39m\u001B[38;5;124mbut \u001B[39m\u001B[38;5;132;01m{!r}\u001B[39;00m\u001B[38;5;124m of type \u001B[39m\u001B[38;5;132;01m{}\u001B[39;00m\u001B[38;5;124m is not convertible to float.\u001B[39m\u001B[38;5;124m\"\u001B[39m\u001B[38;5;241m.\u001B[39mformat(\n\u001B[0;32m     74\u001B[0m             coord, \u001B[38;5;28mtype\u001B[39m(coord)\n\u001B[0;32m     75\u001B[0m         )\n\u001B[0;32m     76\u001B[0m     )\n\u001B[0;32m     77\u001B[0m \u001B[38;5;28;01mif\u001B[39;00m math\u001B[38;5;241m.\u001B[39misnan(\u001B[38;5;28mfloat\u001B[39m(coord)):\n\u001B[0;32m     78\u001B[0m     \u001B[38;5;28;01mraise\u001B[39;00m \u001B[38;5;167;01mValueError\u001B[39;00m(\u001B[38;5;124m\"\u001B[39m\u001B[38;5;124mLocation values cannot contain NaNs.\u001B[39m\u001B[38;5;124m\"\u001B[39m)\n",
      "\u001B[1;31mValueError\u001B[0m: Location should consist of two numerical values, but 0     47.048492\n1     47.076917\n2     47.580429\n3     46.627189\n4     47.514341\n5     47.271302\n6     47.591917\n7     46.220723\n8     47.239688\n9     46.527151\n10    47.096465\n11    46.187212\n12    47.482354\n13    47.389119\n14    47.394254\n15    47.404670\n16    46.067722\n17    46.716377\n18    46.936643\n19    46.866157\n20    46.617885\n21    47.380211\n22    46.974817\n23    46.500624\nName: antenna_Location_WGS84_E, dtype: float64 of type <class 'pandas.core.series.Series'> is not convertible to float."
     ]
    }
   ],
   "source": [
    "folium.Map(location= [ antennen_6g['antenna_Location_WGS84_E'] , antennen_6g['antenna_Location_WGS84_N']])\n",
    "# folium.Choropleth(gdf_routennetz[gdf_routennetz.velostreifen!='0'],line_color='blue',line_weight=5,line_opacity=0.3,columns=['name'],legend_name='hehe').add_to(m)\n",
    "# folium.Choropleth(gdf_routennetz[gdf_routennetz.veloweg!=0].geometry,line_color='red',line_weight=5,line_opacity=0.3).add_to(m)"
   ]
  },
  {
   "cell_type": "code",
   "execution_count": 2,
   "metadata": {
    "tags": [],
    "ExecuteTime": {
     "start_time": "2023-04-16T17:18:45.700676Z",
     "end_time": "2023-04-16T17:18:45.747538Z"
    }
   },
   "outputs": [
    {
     "ename": "NameError",
     "evalue": "name 'm' is not defined",
     "output_type": "error",
     "traceback": [
      "\u001B[1;31m---------------------------------------------------------------------------\u001B[0m",
      "\u001B[1;31mNameError\u001B[0m                                 Traceback (most recent call last)",
      "Input \u001B[1;32mIn [2]\u001B[0m, in \u001B[0;36m<cell line: 1>\u001B[1;34m()\u001B[0m\n\u001B[1;32m----> 1\u001B[0m display(\u001B[43mm\u001B[49m)\n",
      "\u001B[1;31mNameError\u001B[0m: name 'm' is not defined"
     ]
    }
   ],
   "source": [
    "\n",
    "display(m)"
   ]
  },
  {
   "cell_type": "markdown",
   "metadata": {},
   "source": [
    "***"
   ]
  },
  {
   "cell_type": "markdown",
   "metadata": {},
   "source": [
    "# 4) Abbiegeverbote Stadt Zürich\n",
    "<br>Die Abbiegeverbote geben an, wo man als Velofahrerin nicht abbiegen darf.<br/>\n",
    "<br>Zugriff: 01:11:2021/20:05 https://data.stadt-zuerich.ch/dataset/geo_fuss__und_velowegnetz<br/>"
   ]
  },
  {
   "cell_type": "code",
   "execution_count": 75,
   "metadata": {
    "tags": []
   },
   "outputs": [
    {
     "data": {
      "text/html": [
       "<div>\n",
       "<style scoped>\n",
       "    .dataframe tbody tr th:only-of-type {\n",
       "        vertical-align: middle;\n",
       "    }\n",
       "\n",
       "    .dataframe tbody tr th {\n",
       "        vertical-align: top;\n",
       "    }\n",
       "\n",
       "    .dataframe thead th {\n",
       "        text-align: right;\n",
       "    }\n",
       "</style>\n",
       "<table border=\"1\" class=\"dataframe\">\n",
       "  <thead>\n",
       "    <tr style=\"text-align: right;\">\n",
       "      <th></th>\n",
       "      <th>id1</th>\n",
       "      <th>se_anno_cad_data</th>\n",
       "      <th>objectid</th>\n",
       "      <th>geometry</th>\n",
       "    </tr>\n",
       "  </thead>\n",
       "  <tbody>\n",
       "    <tr>\n",
       "      <th>0</th>\n",
       "      <td>108</td>\n",
       "      <td>NaN</td>\n",
       "      <td>1</td>\n",
       "      <td>LINESTRING (8.54526 47.36752, 8.54522 47.36750...</td>\n",
       "    </tr>\n",
       "    <tr>\n",
       "      <th>1</th>\n",
       "      <td>109</td>\n",
       "      <td>NaN</td>\n",
       "      <td>2</td>\n",
       "      <td>LINESTRING (8.54259 47.37874, 8.54255 47.37867)</td>\n",
       "    </tr>\n",
       "    <tr>\n",
       "      <th>2</th>\n",
       "      <td>110</td>\n",
       "      <td>NaN</td>\n",
       "      <td>3</td>\n",
       "      <td>LINESTRING (8.55336 47.40247, 8.55345 47.40251...</td>\n",
       "    </tr>\n",
       "    <tr>\n",
       "      <th>3</th>\n",
       "      <td>111</td>\n",
       "      <td>NaN</td>\n",
       "      <td>4</td>\n",
       "      <td>LINESTRING (8.50459 47.40565, 8.50460 47.40563...</td>\n",
       "    </tr>\n",
       "    <tr>\n",
       "      <th>4</th>\n",
       "      <td>112</td>\n",
       "      <td>NaN</td>\n",
       "      <td>5</td>\n",
       "      <td>LINESTRING (8.53681 47.38516, 8.53679 47.38521...</td>\n",
       "    </tr>\n",
       "  </tbody>\n",
       "</table>\n",
       "</div>"
      ],
      "text/plain": [
       "   id1  se_anno_cad_data objectid  \\\n",
       "0  108               NaN        1   \n",
       "1  109               NaN        2   \n",
       "2  110               NaN        3   \n",
       "3  111               NaN        4   \n",
       "4  112               NaN        5   \n",
       "\n",
       "                                            geometry  \n",
       "0  LINESTRING (8.54526 47.36752, 8.54522 47.36750...  \n",
       "1    LINESTRING (8.54259 47.37874, 8.54255 47.37867)  \n",
       "2  LINESTRING (8.55336 47.40247, 8.55345 47.40251...  \n",
       "3  LINESTRING (8.50459 47.40565, 8.50460 47.40563...  \n",
       "4  LINESTRING (8.53681 47.38516, 8.53679 47.38521...  "
      ]
     },
     "execution_count": 75,
     "metadata": {},
     "output_type": "execute_result"
    }
   ],
   "source": [
    "gdf_abbiegeverbot = gpd.read_file('./Daten/Fuss_Velo_Wegnetz/data/taz_mm.tbl_routennetz_abbiegeverbote.json')\n",
    "gdf_abbiegeverbot.head()"
   ]
  },
  {
   "cell_type": "code",
   "execution_count": 76,
   "metadata": {
    "tags": []
   },
   "outputs": [],
   "source": [
    "gdf_abbiegeverbot.drop(['se_anno_cad_data','id1','objectid'], axis=1, inplace=True)"
   ]
  },
  {
   "cell_type": "code",
   "execution_count": 77,
   "metadata": {
    "tags": []
   },
   "outputs": [
    {
     "data": {
      "text/html": [
       "<div>\n",
       "<style scoped>\n",
       "    .dataframe tbody tr th:only-of-type {\n",
       "        vertical-align: middle;\n",
       "    }\n",
       "\n",
       "    .dataframe tbody tr th {\n",
       "        vertical-align: top;\n",
       "    }\n",
       "\n",
       "    .dataframe thead th {\n",
       "        text-align: right;\n",
       "    }\n",
       "</style>\n",
       "<table border=\"1\" class=\"dataframe\">\n",
       "  <thead>\n",
       "    <tr style=\"text-align: right;\">\n",
       "      <th></th>\n",
       "      <th>geometry</th>\n",
       "    </tr>\n",
       "  </thead>\n",
       "  <tbody>\n",
       "    <tr>\n",
       "      <th>0</th>\n",
       "      <td>LINESTRING (8.54526 47.36752, 8.54522 47.36750...</td>\n",
       "    </tr>\n",
       "    <tr>\n",
       "      <th>1</th>\n",
       "      <td>LINESTRING (8.54259 47.37874, 8.54255 47.37867)</td>\n",
       "    </tr>\n",
       "    <tr>\n",
       "      <th>2</th>\n",
       "      <td>LINESTRING (8.55336 47.40247, 8.55345 47.40251...</td>\n",
       "    </tr>\n",
       "    <tr>\n",
       "      <th>3</th>\n",
       "      <td>LINESTRING (8.50459 47.40565, 8.50460 47.40563...</td>\n",
       "    </tr>\n",
       "    <tr>\n",
       "      <th>4</th>\n",
       "      <td>LINESTRING (8.53681 47.38516, 8.53679 47.38521...</td>\n",
       "    </tr>\n",
       "  </tbody>\n",
       "</table>\n",
       "</div>"
      ],
      "text/plain": [
       "                                            geometry\n",
       "0  LINESTRING (8.54526 47.36752, 8.54522 47.36750...\n",
       "1    LINESTRING (8.54259 47.37874, 8.54255 47.37867)\n",
       "2  LINESTRING (8.55336 47.40247, 8.55345 47.40251...\n",
       "3  LINESTRING (8.50459 47.40565, 8.50460 47.40563...\n",
       "4  LINESTRING (8.53681 47.38516, 8.53679 47.38521..."
      ]
     },
     "execution_count": 77,
     "metadata": {},
     "output_type": "execute_result"
    }
   ],
   "source": [
    "gdf_abbiegeverbot.head()"
   ]
  },
  {
   "cell_type": "code",
   "execution_count": 78,
   "metadata": {
    "tags": []
   },
   "outputs": [],
   "source": [
    "gdf_abbiegeverbot.to_csv('./Daten/abbiegeverbote_ZH.csv', index=False)"
   ]
  },
  {
   "cell_type": "code",
   "execution_count": null,
   "metadata": {},
   "outputs": [],
   "source": []
  },
  {
   "cell_type": "code",
   "execution_count": null,
   "metadata": {},
   "outputs": [],
   "source": []
  },
  {
   "cell_type": "code",
   "execution_count": null,
   "metadata": {},
   "outputs": [],
   "source": []
  },
  {
   "cell_type": "code",
   "execution_count": null,
   "metadata": {},
   "outputs": [],
   "source": []
  }
 ],
 "metadata": {
  "interpreter": {
   "hash": "aee8b7b246df8f9039afb4144a1f6fd8d2ca17a180786b69acc140d282b71a49"
  },
  "kernelspec": {
   "display_name": "Python 3 (ipykernel)",
   "language": "python",
   "name": "python3"
  },
  "language_info": {
   "codemirror_mode": {
    "name": "ipython",
    "version": 3
   },
   "file_extension": ".py",
   "mimetype": "text/x-python",
   "name": "python",
   "nbconvert_exporter": "python",
   "pygments_lexer": "ipython3",
   "version": "3.9.13"
  }
 },
 "nbformat": 4,
 "nbformat_minor": 4
}
