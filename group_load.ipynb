{
 "cells": [
  {
   "cell_type": "markdown",
   "metadata": {},
   "source": [
    "# Laden der Daten\n",
    "In diesem Notebook werden die Standorte der schweizer Handyantennen aus der Datenquelle data.geo.admin.ch eingelesen. Überflüssige spalten werden entfernt, koordinaten werden ins WSG84 format umgewandelt. Und die Adressdaten werden per Nominatim abgerufen, verarbeitet und im Dataframe erweitert"
   ]
  },
  {
   "cell_type": "markdown",
   "metadata": {},
   "source": [
    "## Verwendete Links/Quellen"
   ]
  },
  {
   "cell_type": "markdown",
   "metadata": {},
   "source": [
    "Letzter Zugriff: 01.12.2021"
   ]
  },
  {
   "cell_type": "code",
   "execution_count": 1,
   "metadata": {
    "tags": [],
    "ExecuteTime": {
     "start_time": "2023-04-12T19:52:04.166000Z",
     "end_time": "2023-04-12T19:52:07.622767Z"
    }
   },
   "outputs": [],
   "source": [
    "url_5g=\"http://data.geo.admin.ch/ch.bakom.mobil-antennenstandorte-5g/data/ch.bakom.mobil-antennenstandorte-5g_de.json\"\n",
    "url_lte='http://data.geo.admin.ch/ch.bakom.mobil-antennenstandorte-lte/data/ch.bakom.mobil-antennenstandorte-lte_de.json'\n",
    "url_umts='http://data.geo.admin.ch/ch.bakom.mobil-antennenstandorte-umts/data/ch.bakom.mobil-antennenstandorte-umts_de.json'\n",
    "url_gsm='http://data.geo.admin.ch/ch.bakom.mobil-antennenstandorte-gsm/data/ch.bakom.mobil-antennenstandorte-gsm_de.json'\n",
    "url_plz = 'https://swisspost.opendatasoft.com/explore/dataset/plz_verzeichnis_v2/table/?disjunctive.postleitzahl&geofilter.distance='\n"
   ]
  },
  {
   "cell_type": "markdown",
   "metadata": {},
   "source": [
    "***"
   ]
  },
  {
   "cell_type": "markdown",
   "metadata": {},
   "source": [
    "# Installation notwendiger Bibliotheken"
   ]
  },
  {
   "cell_type": "code",
   "execution_count": 1,
   "metadata": {
    "tags": [],
    "ExecuteTime": {
     "start_time": "2023-04-17T15:01:19.572002Z",
     "end_time": "2023-04-17T15:02:05.663365Z"
    }
   },
   "outputs": [
    {
     "name": "stdout",
     "output_type": "stream",
     "text": [
      "Defaulting to user installation because normal site-packages is not writeable\n",
      "Requirement already satisfied: pip in c:\\users\\nikki\\appdata\\roaming\\python\\python39\\site-packages (23.0.1)\n",
      "Collecting pip\n",
      "  Downloading pip-23.1-py3-none-any.whl (2.1 MB)\n",
      "     ---------------------------------------- 2.1/2.1 MB 6.9 MB/s eta 0:00:00\n"
     ]
    },
    {
     "name": "stderr",
     "output_type": "stream",
     "text": [
      "ERROR: To modify pip, please run the following command:\n",
      "C:\\ProgramData\\Anaconda3\\python.exe -m pip install --upgrade pip\n",
      "\n",
      "[notice] A new release of pip is available: 23.0.1 -> 23.1\n",
      "[notice] To update, run: python.exe -m pip install --upgrade pip\n"
     ]
    },
    {
     "name": "stdout",
     "output_type": "stream",
     "text": [
      "Defaulting to user installation because normal site-packages is not writeable\n",
      "Requirement already satisfied: folium in c:\\users\\nikki\\appdata\\roaming\\python\\python39\\site-packages (0.14.0)\n",
      "Requirement already satisfied: requests in c:\\programdata\\anaconda3\\lib\\site-packages (from folium) (2.27.1)\n",
      "Requirement already satisfied: branca>=0.6.0 in c:\\users\\nikki\\appdata\\roaming\\python\\python39\\site-packages (from folium) (0.6.0)\n",
      "Requirement already satisfied: jinja2>=2.9 in c:\\programdata\\anaconda3\\lib\\site-packages (from folium) (2.11.3)\n",
      "Requirement already satisfied: numpy in c:\\programdata\\anaconda3\\lib\\site-packages (from folium) (1.21.5)\n",
      "Requirement already satisfied: MarkupSafe>=0.23 in c:\\programdata\\anaconda3\\lib\\site-packages (from jinja2>=2.9->folium) (2.0.1)\n",
      "Requirement already satisfied: idna<4,>=2.5 in c:\\programdata\\anaconda3\\lib\\site-packages (from requests->folium) (3.3)\n",
      "Requirement already satisfied: certifi>=2017.4.17 in c:\\programdata\\anaconda3\\lib\\site-packages (from requests->folium) (2021.10.8)\n"
     ]
    },
    {
     "name": "stderr",
     "output_type": "stream",
     "text": [
      "\n",
      "[notice] A new release of pip is available: 23.0.1 -> 23.1\n",
      "[notice] To update, run: python.exe -m pip install --upgrade pip\n"
     ]
    },
    {
     "name": "stdout",
     "output_type": "stream",
     "text": [
      "Requirement already satisfied: charset-normalizer~=2.0.0 in c:\\programdata\\anaconda3\\lib\\site-packages (from requests->folium) (2.0.4)\n",
      "Requirement already satisfied: urllib3<1.27,>=1.21.1 in c:\\programdata\\anaconda3\\lib\\site-packages (from requests->folium) (1.26.9)\n",
      "Defaulting to user installation because normal site-packages is not writeable\n",
      "Requirement already satisfied: matplotlib in c:\\programdata\\anaconda3\\lib\\site-packages (3.5.1)\n",
      "Requirement already satisfied: numpy>=1.17 in c:\\programdata\\anaconda3\\lib\\site-packages (from matplotlib) (1.21.5)\n",
      "Requirement already satisfied: packaging>=20.0 in c:\\programdata\\anaconda3\\lib\\site-packages (from matplotlib) (21.3)\n",
      "Requirement already satisfied: cycler>=0.10 in c:\\programdata\\anaconda3\\lib\\site-packages (from matplotlib) (0.11.0)\n",
      "Requirement already satisfied: python-dateutil>=2.7 in c:\\programdata\\anaconda3\\lib\\site-packages (from matplotlib) (2.8.2)\n",
      "Requirement already satisfied: fonttools>=4.22.0 in c:\\programdata\\anaconda3\\lib\\site-packages (from matplotlib) (4.25.0)\n",
      "Requirement already satisfied: pyparsing>=2.2.1 in c:\\programdata\\anaconda3\\lib\\site-packages (from matplotlib) (3.0.4)\n",
      "Requirement already satisfied: kiwisolver>=1.0.1 in c:\\programdata\\anaconda3\\lib\\site-packages (from matplotlib) (1.3.2)\n",
      "Requirement already satisfied: pillow>=6.2.0 in c:\\programdata\\anaconda3\\lib\\site-packages (from matplotlib) (9.0.1)\n",
      "Requirement already satisfied: six>=1.5 in c:\\users\\nikki\\appdata\\roaming\\python\\python39\\site-packages (from python-dateutil>=2.7->matplotlib) (1.16.0)\n"
     ]
    },
    {
     "name": "stderr",
     "output_type": "stream",
     "text": [
      "\n",
      "[notice] A new release of pip is available: 23.0.1 -> 23.1\n",
      "[notice] To update, run: python.exe -m pip install --upgrade pip\n"
     ]
    },
    {
     "name": "stdout",
     "output_type": "stream",
     "text": [
      "Defaulting to user installation because normal site-packages is not writeable\n",
      "Requirement already satisfied: geopandas in c:\\users\\nikki\\appdata\\roaming\\python\\python39\\site-packages (0.12.2)\n",
      "Requirement already satisfied: pandas>=1.0.0 in c:\\programdata\\anaconda3\\lib\\site-packages (from geopandas) (1.4.2)\n",
      "Requirement already satisfied: fiona>=1.8 in c:\\users\\nikki\\appdata\\roaming\\python\\python39\\site-packages (from geopandas) (1.9.2)\n",
      "Requirement already satisfied: pyproj>=2.6.1.post1 in c:\\users\\nikki\\appdata\\roaming\\python\\python39\\site-packages (from geopandas) (3.5.0)\n",
      "Requirement already satisfied: shapely>=1.7 in c:\\users\\nikki\\appdata\\roaming\\python\\python39\\site-packages (from geopandas) (2.0.1)\n",
      "Requirement already satisfied: packaging in c:\\programdata\\anaconda3\\lib\\site-packages (from geopandas) (21.3)\n",
      "Requirement already satisfied: click-plugins>=1.0 in c:\\users\\nikki\\appdata\\roaming\\python\\python39\\site-packages (from fiona>=1.8->geopandas) (1.1.1)\n",
      "Requirement already satisfied: click~=8.0 in c:\\programdata\\anaconda3\\lib\\site-packages (from fiona>=1.8->geopandas) (8.0.4)\n",
      "Requirement already satisfied: munch>=2.3.2 in c:\\users\\nikki\\appdata\\roaming\\python\\python39\\site-packages (from fiona>=1.8->geopandas) (2.5.0)\n",
      "Requirement already satisfied: importlib-metadata in c:\\programdata\\anaconda3\\lib\\site-packages (from fiona>=1.8->geopandas) (4.11.3)\n",
      "Requirement already satisfied: cligj>=0.5 in c:\\users\\nikki\\appdata\\roaming\\python\\python39\\site-packages (from fiona>=1.8->geopandas) (0.7.2)\n",
      "Requirement already satisfied: attrs>=19.2.0 in c:\\programdata\\anaconda3\\lib\\site-packages (from fiona>=1.8->geopandas) (21.4.0)\n",
      "Requirement already satisfied: certifi in c:\\programdata\\anaconda3\\lib\\site-packages (from fiona>=1.8->geopandas) (2021.10.8)\n",
      "Requirement already satisfied: pytz>=2020.1 in c:\\programdata\\anaconda3\\lib\\site-packages (from pandas>=1.0.0->geopandas) (2021.3)\n",
      "Requirement already satisfied: numpy>=1.18.5 in c:\\programdata\\anaconda3\\lib\\site-packages (from pandas>=1.0.0->geopandas) (1.21.5)\n",
      "Requirement already satisfied: python-dateutil>=2.8.1 in c:\\programdata\\anaconda3\\lib\\site-packages (from pandas>=1.0.0->geopandas) (2.8.2)\n",
      "Requirement already satisfied: pyparsing!=3.0.5,>=2.0.2 in c:\\programdata\\anaconda3\\lib\\site-packages (from packaging->geopandas) (3.0.4)\n",
      "Requirement already satisfied: colorama in c:\\programdata\\anaconda3\\lib\\site-packages (from click~=8.0->fiona>=1.8->geopandas) (0.4.4)\n",
      "Requirement already satisfied: six in c:\\users\\nikki\\appdata\\roaming\\python\\python39\\site-packages (from munch>=2.3.2->fiona>=1.8->geopandas) (1.16.0)\n",
      "Requirement already satisfied: zipp>=0.5 in c:\\programdata\\anaconda3\\lib\\site-packages (from importlib-metadata->fiona>=1.8->geopandas) (3.7.0)\n"
     ]
    },
    {
     "name": "stderr",
     "output_type": "stream",
     "text": [
      "\n",
      "[notice] A new release of pip is available: 23.0.1 -> 23.1\n",
      "[notice] To update, run: python.exe -m pip install --upgrade pip\n"
     ]
    },
    {
     "name": "stdout",
     "output_type": "stream",
     "text": [
      "Defaulting to user installation because normal site-packages is not writeable\n",
      "Requirement already satisfied: geopy in c:\\users\\nikki\\appdata\\roaming\\python\\python39\\site-packages (2.3.0)\n",
      "Requirement already satisfied: geographiclib<3,>=1.52 in c:\\users\\nikki\\appdata\\roaming\\python\\python39\\site-packages (from geopy) (2.0)\n"
     ]
    },
    {
     "name": "stderr",
     "output_type": "stream",
     "text": [
      "\n",
      "[notice] A new release of pip is available: 23.0.1 -> 23.1\n",
      "[notice] To update, run: python.exe -m pip install --upgrade pip\n"
     ]
    },
    {
     "name": "stdout",
     "output_type": "stream",
     "text": [
      "Defaulting to user installation because normal site-packages is not writeable\n",
      "Requirement already satisfied: pyproj in c:\\users\\nikki\\appdata\\roaming\\python\\python39\\site-packages (3.5.0)\n",
      "Requirement already satisfied: certifi in c:\\programdata\\anaconda3\\lib\\site-packages (from pyproj) (2021.10.8)\n"
     ]
    },
    {
     "name": "stderr",
     "output_type": "stream",
     "text": [
      "\n",
      "[notice] A new release of pip is available: 23.0.1 -> 23.1\n",
      "[notice] To update, run: python.exe -m pip install --upgrade pip\n"
     ]
    },
    {
     "name": "stdout",
     "output_type": "stream",
     "text": [
      "Defaulting to user installation because normal site-packages is not writeable\n",
      "Requirement already satisfied: certifi in c:\\programdata\\anaconda3\\lib\\site-packages (2021.10.8)\n"
     ]
    },
    {
     "name": "stderr",
     "output_type": "stream",
     "text": [
      "\n",
      "[notice] A new release of pip is available: 23.0.1 -> 23.1\n",
      "[notice] To update, run: python.exe -m pip install --upgrade pip\n"
     ]
    },
    {
     "name": "stdout",
     "output_type": "stream",
     "text": [
      "Defaulting to user installation because normal site-packages is not writeable\n",
      "Collecting ssl\n",
      "  Using cached ssl-1.16.tar.gz (33 kB)\n",
      "  Preparing metadata (setup.py): started\n",
      "  Preparing metadata (setup.py): finished with status 'error'\n"
     ]
    },
    {
     "name": "stderr",
     "output_type": "stream",
     "text": [
      "  error: subprocess-exited-with-error\n",
      "  \n",
      "  python setup.py egg_info did not run successfully.\n",
      "  exit code: 1\n",
      "  \n",
      "  [25 lines of output]\n",
      "  Traceback (most recent call last):\n",
      "    File \"<string>\", line 2, in <module>\n",
      "    File \"<pip-setuptools-caller>\", line 14, in <module>\n",
      "    File \"C:\\ProgramData\\Anaconda3\\lib\\site-packages\\setuptools\\__init__.py\", line 189, in <module>\n",
      "      monkey.patch_all()\n",
      "    File \"C:\\ProgramData\\Anaconda3\\lib\\site-packages\\setuptools\\monkey.py\", line 99, in patch_all\n",
      "      patch_for_msvc_specialized_compiler()\n",
      "    File \"C:\\ProgramData\\Anaconda3\\lib\\site-packages\\setuptools\\monkey.py\", line 169, in patch_for_msvc_specialized_compiler\n",
      "      patch_func(*msvc14('_get_vc_env'))\n",
      "    File \"C:\\ProgramData\\Anaconda3\\lib\\site-packages\\setuptools\\monkey.py\", line 149, in patch_params\n",
      "      mod = import_module(mod_name)\n",
      "    File \"C:\\ProgramData\\Anaconda3\\lib\\importlib\\__init__.py\", line 127, in import_module\n",
      "      return _bootstrap._gcd_import(name[level:], package, level)\n",
      "    File \"C:\\ProgramData\\Anaconda3\\lib\\site-packages\\setuptools\\_distutils\\_msvccompiler.py\", line 20, in <module>\n",
      "      import unittest.mock\n",
      "    File \"C:\\ProgramData\\Anaconda3\\lib\\unittest\\mock.py\", line 26, in <module>\n",
      "      import asyncio\n",
      "    File \"C:\\ProgramData\\Anaconda3\\lib\\asyncio\\__init__.py\", line 8, in <module>\n",
      "      from .base_events import *\n",
      "    File \"C:\\ProgramData\\Anaconda3\\lib\\asyncio\\base_events.py\", line 34, in <module>\n",
      "      import ssl\n",
      "    File \"C:\\Users\\nikki\\AppData\\Local\\Temp\\pip-install-e4bt9hky\\ssl_d531561dfa1540c0a505449ba76a14fd\\ssl\\__init__.py\", line 140\n",
      "      except SSLError, x:\n",
      "                     ^\n",
      "  SyntaxError: invalid syntax\n",
      "  [end of output]\n",
      "  \n",
      "  note: This error originates from a subprocess, and is likely not a problem with pip.\n",
      "error: metadata-generation-failed\n",
      "\n",
      "Encountered error while generating package metadata.\n",
      "\n",
      "See above for output.\n",
      "\n",
      "note: This is an issue with the package mentioned above, not pip.\n",
      "hint: See above for details.\n",
      "\n",
      "[notice] A new release of pip is available: 23.0.1 -> 23.1\n",
      "[notice] To update, run: python.exe -m pip install --upgrade pip\n"
     ]
    }
   ],
   "source": [
    "!pip install --upgrade pip\n",
    "!pip install folium\n",
    "!pip install matplotlib\n",
    "!pip install geopandas\n",
    "!pip install geopy\n",
    "!pip install pyproj\n",
    "!pip install certifi\n",
    "!pip install ssl\n"
   ]
  },
  {
   "cell_type": "markdown",
   "metadata": {},
   "source": [
    "***"
   ]
  },
  {
   "cell_type": "markdown",
   "metadata": {},
   "source": [
    "# Module importieren"
   ]
  },
  {
   "cell_type": "code",
   "execution_count": 2,
   "metadata": {
    "tags": [],
    "ExecuteTime": {
     "start_time": "2023-04-17T15:02:05.627809Z",
     "end_time": "2023-04-17T15:02:09.676859Z"
    }
   },
   "outputs": [
    {
     "name": "stdout",
     "output_type": "stream",
     "text": [
      "Libraries imported.\n"
     ]
    }
   ],
   "source": [
    "import csv\n",
    "\n",
    "# library to handle data in a vectorized manner \n",
    "import numpy as np \n",
    "\n",
    "# library for data analsysis\n",
    "import pandas as pd\n",
    "\n",
    "import geopandas as gpd\n",
    "\n",
    "# library to handle JSON files\n",
    "import json\n",
    "\n",
    "# tranform JSON file into a pandas dataframe\n",
    "from pandas.io.json import json_normalize\n",
    "\n",
    "import folium\n",
    "from folium import plugins\n",
    "\n",
    "# library to handle requests\n",
    "import requests\n",
    "\n",
    "import zipfile\n",
    "\n",
    "# convert an address into latitude and longitude values\n",
    "from geopy.geocoders import Nominatim\n",
    "\n",
    "# necessary for loading url data\n",
    "import io\n",
    "\n",
    "from geopy.geocoders import Nominatim\n",
    "\n",
    "import ssl\n",
    "import certifi\n",
    "\n",
    "import geopy.geocoders\n",
    "\n",
    "import time\n",
    "\n",
    "\n",
    "from pyproj import Proj, transform\n",
    "\n",
    "print('Libraries imported.')\n",
    "\n",
    "\n",
    "\n",
    "from geopy.exc import GeocoderTimedOut\n",
    "\n",
    "from shapely.geometry import Point, LineString"
   ]
  },
  {
   "cell_type": "markdown",
   "metadata": {},
   "source": [
    "***"
   ]
  },
  {
   "cell_type": "markdown",
   "metadata": {},
   "source": [
    "# Functions"
   ]
  },
  {
   "cell_type": "code",
   "execution_count": 3,
   "metadata": {
    "tags": [],
    "ExecuteTime": {
     "start_time": "2023-04-17T15:02:09.681865Z",
     "end_time": "2023-04-17T15:02:09.691862Z"
    }
   },
   "outputs": [],
   "source": [
    "# https://www.swisstopo.admin.ch/content/swisstopo-internet/de/online/calculation-services/_jcr_content/contentPar/tabs/items/dokumente_und_publik/tabPar/downloadlist/downloadItems/8_1467103085694.download/refsys_d.pdf)\n",
    "# Zugriff: 08.04.2023\n",
    "def convert_lv95_wgs84(e,n): #Funktion Umrechnung lv95 zu wgs84\n",
    "    \n",
    "    y = (e - 2600000)/1000000\n",
    "    x = (n - 1200000)/1000000\n",
    "    \n",
    "    l = 2.6779094 + 4.728982 * y + 0.791484 * y * x + 0.1306 * y * x**2 - 0.0436 * y**3\n",
    "    b = 16.9023892 + 3.238272 * x - 0.270978 * y**2 - 0.002528 * x**2 - 0.0447 * y**2 * x - 0.0140 * x**3\n",
    "    \n",
    "    laenge_wgs84 = l * 100 / 36\n",
    "    breite_wgs84 = b * 100 / 36\n",
    "    \n",
    "    return breite_wgs84, laenge_wgs84"
   ]
  },
  {
   "cell_type": "markdown",
   "metadata": {},
   "source": [
    "Die Klasse load_data wurde implementiert, um alle Daten mit einem Befehl einlesen zu können. <br>\n"
   ]
  },
  {
   "cell_type": "code",
   "execution_count": 4,
   "metadata": {
    "tags": [],
    "ExecuteTime": {
     "start_time": "2023-04-17T15:02:09.699861Z",
     "end_time": "2023-04-17T15:02:09.892978Z"
    }
   },
   "outputs": [],
   "source": [
    "class load_data:\n",
    "    def __init__(self,path):\n",
    "        self.path=path\n",
    "\n",
    "    @staticmethod\n",
    "    def load_from_url(url):\n",
    "        s=requests.get(url).content\n",
    "        df=pd.read_csv(io.StringIO(s.decode('utf-8')))\n",
    "        return df\n",
    "\n",
    "        \n",
    "    @staticmethod\n",
    "    def load_pkl(path_to_pkl):\n",
    "        with open(path_to_pkl,'rb') as f:\n",
    "            data=pickle.load(f)\n",
    "        return data\n",
    "        \n",
    "    @staticmethod\n",
    "    def load_csv(path_to_csv):\n",
    "        df=pd.read_csv(path_to_csv,sep=',')\n",
    "        return df"
   ]
  },
  {
   "cell_type": "markdown",
   "metadata": {},
   "source": [
    "***"
   ]
  },
  {
   "cell_type": "markdown",
   "source": [
    "# convert coordinates of a dataframe from LV95 to WGS84\n"
   ],
   "metadata": {
    "collapsed": false
   }
  },
  {
   "cell_type": "code",
   "execution_count": 38,
   "outputs": [],
   "source": [
    "# LV95 zu WGS84\n",
    "def convert_panda_lv95_wgs84(dataFrame ): #Funktion Umrechnung lv95 zu wgs84\n",
    "    inProj = Proj('epsg:2056')\n",
    "    outProj = Proj('epsg:4326')\n",
    "    t = dataFrame['cordinates'].x\n",
    "    x1,y1 = dataFrame['cordinates'].x, dataFrame['cordinates'].y\n",
    "    x2,y2 = transform(inProj, outProj, x1,y1)\n",
    "    dataFrame['antenna_Location_WGS84_E'] = x2\n",
    "    dataFrame['antenna_Location_WGS84_N'] = y2\n",
    "    return dataFrame"
   ],
   "metadata": {
    "collapsed": false,
    "ExecuteTime": {
     "start_time": "2023-04-17T15:09:08.268763Z",
     "end_time": "2023-04-17T15:09:08.288152Z"
    }
   }
  },
  {
   "cell_type": "code",
   "execution_count": 24,
   "outputs": [],
   "source": [
    "def get_adress(coordinates, attempt=1, max_attempts=7):\n",
    "    try:\n",
    "        locator = Nominatim(user_agent=\"add_location_adress\")\n",
    "        location = locator.reverse(coordinates)\n",
    "        address = location.address.split(\",\")\n",
    "        countries = address[len(address)-1].split(\"/\")\n",
    "        address[len(address)-1] = countries[0]\n",
    "        return address\n",
    "    except GeocoderTimedOut:\n",
    "        if attempt <= max_attempts:\n",
    "            return get_kreis(coordinates, attempt=attempt+1)\n",
    "        raise"
   ],
   "metadata": {
    "collapsed": false,
    "ExecuteTime": {
     "start_time": "2023-04-17T15:07:15.515911Z",
     "end_time": "2023-04-17T15:07:15.562135Z"
    }
   }
  },
  {
   "cell_type": "code",
   "execution_count": 61,
   "outputs": [],
   "source": [
    "def add_address(data_frame ):\n",
    "\n",
    "    data_frame['building'] = None\n",
    "    data_frame['streetNumber'] = None\n",
    "    data_frame['street'] = None\n",
    "    data_frame['town'] = None\n",
    "    data_frame['district'] = None\n",
    "    data_frame['state'] = None\n",
    "\n",
    "\n",
    "    street_number = []\n",
    "    street = []\n",
    "    town = []\n",
    "    postal = []\n",
    "    district = []\n",
    "    state = []\n",
    "    country = []\n",
    "\n",
    "    counter = 0\n",
    "    for index, row in data_frame.iterrows():\n",
    "        coordinates = [row['antenna_Location_WGS84_E'],row[\"antenna_Location_WGS84_N\"]]\n",
    "        forward = 0\n",
    "\n",
    "        adresse = get_adress(coordinates)\n",
    "\n",
    "        print(adresse)\n",
    "        if adresse[forward][0].isdigit() or len(adresse[forward]) >1 and adresse[forward][1].isdigit():\n",
    "            data_frame.loc[index , \"streetNumber\"] = adresse[0]\n",
    "            street_number.append(adresse[0])\n",
    "            forward += 1\n",
    "        elif adresse[forward+1][0].isdigit() or len(adresse[forward+1]) >1 and adresse[forward+1][1].isdigit():\n",
    "            data_frame.loc[index , \"streetNumber\"] = adresse[forward+1]\n",
    "            data_frame.loc[index , \"building\"] = adresse[forward]\n",
    "            forward += 2\n",
    "\n",
    "        else:\n",
    "            street_number.append(None)\n",
    "\n",
    "\n",
    "        street.append(adresse[forward])\n",
    "        data_frame.loc[index , \"street\"] = adresse[forward]\n",
    "\n",
    "\n",
    "        backward = len(adresse)-1\n",
    "\n",
    "        country.append(adresse[backward])\n",
    "        data_frame.loc[index , \"country\"] = adresse[backward]\n",
    "\n",
    "        backward -= 1\n",
    "\n",
    "\n",
    "\n",
    "\n",
    "\n",
    "        if len(adresse[backward]) == 5 and adresse[backward][1].isdigit():\n",
    "            data_frame.loc[index , \"postal\"] = adresse[backward]\n",
    "            data_frame.loc[index , \"town\"] = plz.get(int(adresse[backward]))\n",
    "        elif len(adresse[backward+1]) == 5 and adresse[backward+1][1].isdigit():\n",
    "            data_frame.loc[index , \"postal\"] = adresse[backward+1]\n",
    "            data_frame.loc[index , \"town\"] = plz.get(int(adresse[backward+1]))\n",
    "            backward = backward + 1\n",
    "        elif len(adresse[backward-1]) == 5 and adresse[backward-1][1].isdigit():\n",
    "            data_frame.loc[index , \"postal\"] = adresse[backward-1]\n",
    "            data_frame.loc[index , \"town\"] = plz.get(int(adresse[backward-1]))\n",
    "            backward = backward - 1\n",
    "\n",
    "\n",
    "        backward += 1\n",
    "\n",
    "\n",
    "        postal.append(adresse[backward])\n",
    "\n",
    "\n",
    "\n",
    "\n",
    "\n",
    "\n",
    "\n",
    "        backward -= 1\n",
    "\n",
    "\n",
    "        state.append(adresse[backward])\n",
    "        data_frame.loc[index , \"state\"] = adresse[backward]\n",
    "        backward -= 1\n",
    "\n",
    "\n",
    "        if adresse[backward].__contains__(\"ezirk\") or adresse[backward].__contains__(\"istrict\") or adresse[backward].__contains__(\"istretto\") or adresse[backward].__contains__(\"erwaltungsregion\") or adresse[backward].__contains__(\"égion administrative\") or adresse[backward].__contains__(\"ahlkreis\") or adresse[backward].__contains__(\"Region\"):\n",
    "            district.append(adresse[backward])\n",
    "            data_frame.loc[index , \"district\"] = adresse[backward]\n",
    "            backward -= 1\n",
    "        else:\n",
    "            district.append(None)\n",
    "\n",
    "        town.append(adresse[backward])\n",
    "\n",
    "        backward -= 1\n",
    "\n",
    "\n",
    "\n",
    "\n",
    "\n",
    "\n",
    "        counter += 1\n",
    "        if counter % 150 == 0:\n",
    "            time.sleep(30)\n",
    "\n",
    "        if counter % 9000 == 0:\n",
    "            time.sleep(1800)\n",
    "\n",
    "\n",
    "    return data_frame\n",
    "\n",
    "\n",
    "\n",
    "\n"
   ],
   "metadata": {
    "collapsed": false,
    "ExecuteTime": {
     "start_time": "2023-04-17T19:00:40.520345Z",
     "end_time": "2023-04-17T19:00:40.564925Z"
    }
   }
  },
  {
   "cell_type": "markdown",
   "source": [
    "# 1) Import mapping dictionary for postal codes\n",
    "<br>Dieser Datensatz liefert dieschweizer Postleitzahlen mit den dazugehöhrigen Ortsnamen dazaus wird ein dictionary erstellt, um später alle Ortsnamen nachzuschlagen <br/>"
   ],
   "metadata": {
    "collapsed": false
   }
  },
  {
   "cell_type": "code",
   "execution_count": 26,
   "outputs": [],
   "source": [
    "plz=pd.read_csv('./Daten/plz_verzeichnis_v2.csv',sep=';')\n",
    "plz = plz[['POSTLEITZAHL', 'ORTBEZ18']]\n",
    "plz = plz.rename({'POSTLEITZAHL': 'PLZ', 'ORTBEZ18': 'ORT'}, axis=1)  # new method\n",
    "plz = plz.set_index('PLZ').to_dict()['ORT']\n"
   ],
   "metadata": {
    "collapsed": false,
    "ExecuteTime": {
     "start_time": "2023-04-17T15:07:28.478264Z",
     "end_time": "2023-04-17T15:07:30.256301Z"
    }
   }
  },
  {
   "cell_type": "code",
   "execution_count": 27,
   "outputs": [
    {
     "data": {
      "text/plain": "  lang                                        description  id powercode_de  \\\n0   de  <table>\\n<tr><td class=\\\"cell-left\\\">\\nSendele...   1       Mittel   \n1   de  <table>\\n<tr><td class=\\\"cell-left\\\">\\nSendele...   2   Sehr Klein   \n2   de  <table>\\n<tr><td class=\\\"cell-left\\\">\\nSendele...   3       Mittel   \n3   de  <table>\\n<tr><td class=\\\"cell-left\\\">\\nSendele...   4       Mittel   \n4   de  <table>\\n<tr><td class=\\\"cell-left\\\">\\nSendele...   5        Klein   \n\n                          geometry  \n0  POINT (2688674.000 1211488.000)  \n1  POINT (2666065.000 1214355.000)  \n2  POINT (2722651.000 1271244.000)  \n3  POINT (2570323.000 1164067.000)  \n4  POINT (2613427.000 1262637.000)  ",
      "text/html": "<div>\n<style scoped>\n    .dataframe tbody tr th:only-of-type {\n        vertical-align: middle;\n    }\n\n    .dataframe tbody tr th {\n        vertical-align: top;\n    }\n\n    .dataframe thead th {\n        text-align: right;\n    }\n</style>\n<table border=\"1\" class=\"dataframe\">\n  <thead>\n    <tr style=\"text-align: right;\">\n      <th></th>\n      <th>lang</th>\n      <th>description</th>\n      <th>id</th>\n      <th>powercode_de</th>\n      <th>geometry</th>\n    </tr>\n  </thead>\n  <tbody>\n    <tr>\n      <th>0</th>\n      <td>de</td>\n      <td>&lt;table&gt;\\n&lt;tr&gt;&lt;td class=\\\"cell-left\\\"&gt;\\nSendele...</td>\n      <td>1</td>\n      <td>Mittel</td>\n      <td>POINT (2688674.000 1211488.000)</td>\n    </tr>\n    <tr>\n      <th>1</th>\n      <td>de</td>\n      <td>&lt;table&gt;\\n&lt;tr&gt;&lt;td class=\\\"cell-left\\\"&gt;\\nSendele...</td>\n      <td>2</td>\n      <td>Sehr Klein</td>\n      <td>POINT (2666065.000 1214355.000)</td>\n    </tr>\n    <tr>\n      <th>2</th>\n      <td>de</td>\n      <td>&lt;table&gt;\\n&lt;tr&gt;&lt;td class=\\\"cell-left\\\"&gt;\\nSendele...</td>\n      <td>3</td>\n      <td>Mittel</td>\n      <td>POINT (2722651.000 1271244.000)</td>\n    </tr>\n    <tr>\n      <th>3</th>\n      <td>de</td>\n      <td>&lt;table&gt;\\n&lt;tr&gt;&lt;td class=\\\"cell-left\\\"&gt;\\nSendele...</td>\n      <td>4</td>\n      <td>Mittel</td>\n      <td>POINT (2570323.000 1164067.000)</td>\n    </tr>\n    <tr>\n      <th>4</th>\n      <td>de</td>\n      <td>&lt;table&gt;\\n&lt;tr&gt;&lt;td class=\\\"cell-left\\\"&gt;\\nSendele...</td>\n      <td>5</td>\n      <td>Klein</td>\n      <td>POINT (2613427.000 1262637.000)</td>\n    </tr>\n  </tbody>\n</table>\n</div>"
     },
     "execution_count": 27,
     "metadata": {},
     "output_type": "execute_result"
    }
   ],
   "source": [
    "data_path='./Daten/ch.bakom.mobil-antennenstandorte-6g_de.json'\n",
    "antennen_6g = gpd.read_file(data_path)\n",
    "antennen_6g.head()"
   ],
   "metadata": {
    "collapsed": false,
    "ExecuteTime": {
     "start_time": "2023-04-17T15:07:30.251301Z",
     "end_time": "2023-04-17T15:07:30.343495Z"
    }
   }
  },
  {
   "cell_type": "markdown",
   "source": [
    "# Import locations of antena\n",
    "<br> JSON from antenna to Pandas <br>"
   ],
   "metadata": {
    "collapsed": false
   }
  },
  {
   "cell_type": "code",
   "execution_count": 28,
   "outputs": [
    {
     "data": {
      "text/plain": "  lang                                        description  id powercode_de  \\\n0   de  <table>\\n<tr><td class=\\\"cell-left\\\">\\nSendele...   1       Mittel   \n1   de  <table>\\n<tr><td class=\\\"cell-left\\\">\\nSendele...   2   Sehr Klein   \n2   de  <table>\\n<tr><td class=\\\"cell-left\\\">\\nSendele...   3       Mittel   \n3   de  <table>\\n<tr><td class=\\\"cell-left\\\">\\nSendele...   4       Mittel   \n4   de  <table>\\n<tr><td class=\\\"cell-left\\\">\\nSendele...   5        Klein   \n\n                          geometry  \n0  POINT (2688674.000 1211488.000)  \n1  POINT (2666065.000 1214355.000)  \n2  POINT (2722651.000 1271244.000)  \n3  POINT (2570323.000 1164067.000)  \n4  POINT (2613427.000 1262637.000)  ",
      "text/html": "<div>\n<style scoped>\n    .dataframe tbody tr th:only-of-type {\n        vertical-align: middle;\n    }\n\n    .dataframe tbody tr th {\n        vertical-align: top;\n    }\n\n    .dataframe thead th {\n        text-align: right;\n    }\n</style>\n<table border=\"1\" class=\"dataframe\">\n  <thead>\n    <tr style=\"text-align: right;\">\n      <th></th>\n      <th>lang</th>\n      <th>description</th>\n      <th>id</th>\n      <th>powercode_de</th>\n      <th>geometry</th>\n    </tr>\n  </thead>\n  <tbody>\n    <tr>\n      <th>0</th>\n      <td>de</td>\n      <td>&lt;table&gt;\\n&lt;tr&gt;&lt;td class=\\\"cell-left\\\"&gt;\\nSendele...</td>\n      <td>1</td>\n      <td>Mittel</td>\n      <td>POINT (2688674.000 1211488.000)</td>\n    </tr>\n    <tr>\n      <th>1</th>\n      <td>de</td>\n      <td>&lt;table&gt;\\n&lt;tr&gt;&lt;td class=\\\"cell-left\\\"&gt;\\nSendele...</td>\n      <td>2</td>\n      <td>Sehr Klein</td>\n      <td>POINT (2666065.000 1214355.000)</td>\n    </tr>\n    <tr>\n      <th>2</th>\n      <td>de</td>\n      <td>&lt;table&gt;\\n&lt;tr&gt;&lt;td class=\\\"cell-left\\\"&gt;\\nSendele...</td>\n      <td>3</td>\n      <td>Mittel</td>\n      <td>POINT (2722651.000 1271244.000)</td>\n    </tr>\n    <tr>\n      <th>3</th>\n      <td>de</td>\n      <td>&lt;table&gt;\\n&lt;tr&gt;&lt;td class=\\\"cell-left\\\"&gt;\\nSendele...</td>\n      <td>4</td>\n      <td>Mittel</td>\n      <td>POINT (2570323.000 1164067.000)</td>\n    </tr>\n    <tr>\n      <th>4</th>\n      <td>de</td>\n      <td>&lt;table&gt;\\n&lt;tr&gt;&lt;td class=\\\"cell-left\\\"&gt;\\nSendele...</td>\n      <td>5</td>\n      <td>Klein</td>\n      <td>POINT (2613427.000 1262637.000)</td>\n    </tr>\n  </tbody>\n</table>\n</div>"
     },
     "execution_count": 28,
     "metadata": {},
     "output_type": "execute_result"
    }
   ],
   "source": [
    "data_path='./Daten/ch.bakom.mobil-antennenstandorte-5g_de.json'\n",
    "antennen_5g = gpd.read_file(data_path)\n",
    "antennen_5g.head()"
   ],
   "metadata": {
    "collapsed": false,
    "ExecuteTime": {
     "start_time": "2023-04-17T15:07:30.403027Z",
     "end_time": "2023-04-17T15:07:32.737528Z"
    }
   }
  },
  {
   "cell_type": "code",
   "execution_count": 29,
   "outputs": [
    {
     "data": {
      "text/plain": "  lang                                        description  id powercode_de  \\\n0   de  <table>\\n<tr><td class=\\\"cell-left\\\">\\nSendele...   1        Gross   \n1   de  <table>\\n<tr><td class=\\\"cell-left\\\">\\nSendele...   2        Gross   \n2   de  <table>\\n<tr><td class=\\\"cell-left\\\">\\nSendele...   3        Gross   \n3   de  <table>\\n<tr><td class=\\\"cell-left\\\">\\nSendele...   4       Mittel   \n4   de  <table>\\n<tr><td class=\\\"cell-left\\\">\\nSendele...   5        Gross   \n\n                          geometry  \n0  POINT (2558525.000 1167925.000)  \n1  POINT (2648322.000 1246675.000)  \n2  POINT (2503428.000 1117642.000)  \n3  POINT (2601088.000 1200806.000)  \n4  POINT (2567350.000 1228990.000)  ",
      "text/html": "<div>\n<style scoped>\n    .dataframe tbody tr th:only-of-type {\n        vertical-align: middle;\n    }\n\n    .dataframe tbody tr th {\n        vertical-align: top;\n    }\n\n    .dataframe thead th {\n        text-align: right;\n    }\n</style>\n<table border=\"1\" class=\"dataframe\">\n  <thead>\n    <tr style=\"text-align: right;\">\n      <th></th>\n      <th>lang</th>\n      <th>description</th>\n      <th>id</th>\n      <th>powercode_de</th>\n      <th>geometry</th>\n    </tr>\n  </thead>\n  <tbody>\n    <tr>\n      <th>0</th>\n      <td>de</td>\n      <td>&lt;table&gt;\\n&lt;tr&gt;&lt;td class=\\\"cell-left\\\"&gt;\\nSendele...</td>\n      <td>1</td>\n      <td>Gross</td>\n      <td>POINT (2558525.000 1167925.000)</td>\n    </tr>\n    <tr>\n      <th>1</th>\n      <td>de</td>\n      <td>&lt;table&gt;\\n&lt;tr&gt;&lt;td class=\\\"cell-left\\\"&gt;\\nSendele...</td>\n      <td>2</td>\n      <td>Gross</td>\n      <td>POINT (2648322.000 1246675.000)</td>\n    </tr>\n    <tr>\n      <th>2</th>\n      <td>de</td>\n      <td>&lt;table&gt;\\n&lt;tr&gt;&lt;td class=\\\"cell-left\\\"&gt;\\nSendele...</td>\n      <td>3</td>\n      <td>Gross</td>\n      <td>POINT (2503428.000 1117642.000)</td>\n    </tr>\n    <tr>\n      <th>3</th>\n      <td>de</td>\n      <td>&lt;table&gt;\\n&lt;tr&gt;&lt;td class=\\\"cell-left\\\"&gt;\\nSendele...</td>\n      <td>4</td>\n      <td>Mittel</td>\n      <td>POINT (2601088.000 1200806.000)</td>\n    </tr>\n    <tr>\n      <th>4</th>\n      <td>de</td>\n      <td>&lt;table&gt;\\n&lt;tr&gt;&lt;td class=\\\"cell-left\\\"&gt;\\nSendele...</td>\n      <td>5</td>\n      <td>Gross</td>\n      <td>POINT (2567350.000 1228990.000)</td>\n    </tr>\n  </tbody>\n</table>\n</div>"
     },
     "execution_count": 29,
     "metadata": {},
     "output_type": "execute_result"
    }
   ],
   "source": [
    "data_path='./Daten/ch.bakom.mobil-antennenstandorte-lte_de.json'\n",
    "antennen_4g = gpd.read_file(data_path)\n",
    "antennen_4g.head()"
   ],
   "metadata": {
    "collapsed": false,
    "ExecuteTime": {
     "start_time": "2023-04-17T15:07:32.733990Z",
     "end_time": "2023-04-17T15:07:36.674487Z"
    }
   }
  },
  {
   "cell_type": "code",
   "execution_count": 30,
   "outputs": [
    {
     "data": {
      "text/plain": "  lang                                        description  id powercode_de  \\\n0   de  <table>\\n<tr><td class=\\\"cell-left\\\">\\nSendele...   1       Mittel   \n1   de  <table>\\n<tr><td class=\\\"cell-left\\\">\\nSendele...   2        Gross   \n2   de  <table>\\n<tr><td class=\\\"cell-left\\\">\\nSendele...   3       Mittel   \n3   de  <table>\\n<tr><td class=\\\"cell-left\\\">\\nSendele...   4       Mittel   \n4   de  <table>\\n<tr><td class=\\\"cell-left\\\">\\nSendele...   5        Klein   \n\n                          geometry  \n0  POINT (2601088.000 1200806.000)  \n1  POINT (2639748.000 1232218.000)  \n2  POINT (2613427.000 1262637.000)  \n3  POINT (2503428.000 1117642.000)  \n4  POINT (2570323.000 1164067.000)  ",
      "text/html": "<div>\n<style scoped>\n    .dataframe tbody tr th:only-of-type {\n        vertical-align: middle;\n    }\n\n    .dataframe tbody tr th {\n        vertical-align: top;\n    }\n\n    .dataframe thead th {\n        text-align: right;\n    }\n</style>\n<table border=\"1\" class=\"dataframe\">\n  <thead>\n    <tr style=\"text-align: right;\">\n      <th></th>\n      <th>lang</th>\n      <th>description</th>\n      <th>id</th>\n      <th>powercode_de</th>\n      <th>geometry</th>\n    </tr>\n  </thead>\n  <tbody>\n    <tr>\n      <th>0</th>\n      <td>de</td>\n      <td>&lt;table&gt;\\n&lt;tr&gt;&lt;td class=\\\"cell-left\\\"&gt;\\nSendele...</td>\n      <td>1</td>\n      <td>Mittel</td>\n      <td>POINT (2601088.000 1200806.000)</td>\n    </tr>\n    <tr>\n      <th>1</th>\n      <td>de</td>\n      <td>&lt;table&gt;\\n&lt;tr&gt;&lt;td class=\\\"cell-left\\\"&gt;\\nSendele...</td>\n      <td>2</td>\n      <td>Gross</td>\n      <td>POINT (2639748.000 1232218.000)</td>\n    </tr>\n    <tr>\n      <th>2</th>\n      <td>de</td>\n      <td>&lt;table&gt;\\n&lt;tr&gt;&lt;td class=\\\"cell-left\\\"&gt;\\nSendele...</td>\n      <td>3</td>\n      <td>Mittel</td>\n      <td>POINT (2613427.000 1262637.000)</td>\n    </tr>\n    <tr>\n      <th>3</th>\n      <td>de</td>\n      <td>&lt;table&gt;\\n&lt;tr&gt;&lt;td class=\\\"cell-left\\\"&gt;\\nSendele...</td>\n      <td>4</td>\n      <td>Mittel</td>\n      <td>POINT (2503428.000 1117642.000)</td>\n    </tr>\n    <tr>\n      <th>4</th>\n      <td>de</td>\n      <td>&lt;table&gt;\\n&lt;tr&gt;&lt;td class=\\\"cell-left\\\"&gt;\\nSendele...</td>\n      <td>5</td>\n      <td>Klein</td>\n      <td>POINT (2570323.000 1164067.000)</td>\n    </tr>\n  </tbody>\n</table>\n</div>"
     },
     "execution_count": 30,
     "metadata": {},
     "output_type": "execute_result"
    }
   ],
   "source": [
    "data_path='./Daten/ch.bakom.mobil-antennenstandorte-umts_de.json'\n",
    "antennen_3g = gpd.read_file(data_path)\n",
    "antennen_3g.head()"
   ],
   "metadata": {
    "collapsed": false,
    "ExecuteTime": {
     "start_time": "2023-04-17T15:07:36.679490Z",
     "end_time": "2023-04-17T15:07:40.655669Z"
    }
   }
  },
  {
   "cell_type": "code",
   "execution_count": 31,
   "outputs": [
    {
     "data": {
      "text/plain": "  lang                                        description  id powercode_de  \\\n0   de  <table>\\n<tr><td class=\\\"cell-left\\\">\\nSendele...   1       Mittel   \n1   de  <table>\\n<tr><td class=\\\"cell-left\\\">\\nSendele...   2       Mittel   \n2   de  <table>\\n<tr><td class=\\\"cell-left\\\">\\nSendele...   3       Mittel   \n3   de  <table>\\n<tr><td class=\\\"cell-left\\\">\\nSendele...   4       Mittel   \n4   de  <table>\\n<tr><td class=\\\"cell-left\\\">\\nSendele...   5   Sehr Klein   \n\n                          geometry  \n0  POINT (2701702.000 1265811.000)  \n1  POINT (2618398.000 1227312.000)  \n2  POINT (2609644.000 1213344.000)  \n3  POINT (2560331.000 1182192.000)  \n4  POINT (2557146.000 1210825.000)  ",
      "text/html": "<div>\n<style scoped>\n    .dataframe tbody tr th:only-of-type {\n        vertical-align: middle;\n    }\n\n    .dataframe tbody tr th {\n        vertical-align: top;\n    }\n\n    .dataframe thead th {\n        text-align: right;\n    }\n</style>\n<table border=\"1\" class=\"dataframe\">\n  <thead>\n    <tr style=\"text-align: right;\">\n      <th></th>\n      <th>lang</th>\n      <th>description</th>\n      <th>id</th>\n      <th>powercode_de</th>\n      <th>geometry</th>\n    </tr>\n  </thead>\n  <tbody>\n    <tr>\n      <th>0</th>\n      <td>de</td>\n      <td>&lt;table&gt;\\n&lt;tr&gt;&lt;td class=\\\"cell-left\\\"&gt;\\nSendele...</td>\n      <td>1</td>\n      <td>Mittel</td>\n      <td>POINT (2701702.000 1265811.000)</td>\n    </tr>\n    <tr>\n      <th>1</th>\n      <td>de</td>\n      <td>&lt;table&gt;\\n&lt;tr&gt;&lt;td class=\\\"cell-left\\\"&gt;\\nSendele...</td>\n      <td>2</td>\n      <td>Mittel</td>\n      <td>POINT (2618398.000 1227312.000)</td>\n    </tr>\n    <tr>\n      <th>2</th>\n      <td>de</td>\n      <td>&lt;table&gt;\\n&lt;tr&gt;&lt;td class=\\\"cell-left\\\"&gt;\\nSendele...</td>\n      <td>3</td>\n      <td>Mittel</td>\n      <td>POINT (2609644.000 1213344.000)</td>\n    </tr>\n    <tr>\n      <th>3</th>\n      <td>de</td>\n      <td>&lt;table&gt;\\n&lt;tr&gt;&lt;td class=\\\"cell-left\\\"&gt;\\nSendele...</td>\n      <td>4</td>\n      <td>Mittel</td>\n      <td>POINT (2560331.000 1182192.000)</td>\n    </tr>\n    <tr>\n      <th>4</th>\n      <td>de</td>\n      <td>&lt;table&gt;\\n&lt;tr&gt;&lt;td class=\\\"cell-left\\\"&gt;\\nSendele...</td>\n      <td>5</td>\n      <td>Sehr Klein</td>\n      <td>POINT (2557146.000 1210825.000)</td>\n    </tr>\n  </tbody>\n</table>\n</div>"
     },
     "execution_count": 31,
     "metadata": {},
     "output_type": "execute_result"
    }
   ],
   "source": [
    "data_path='./Daten/ch.bakom.mobil-antennenstandorte-gsm_de.json'\n",
    "antennen_2g = gpd.read_file(data_path)\n",
    "antennen_2g.head()"
   ],
   "metadata": {
    "collapsed": false,
    "ExecuteTime": {
     "start_time": "2023-04-17T15:07:40.648889Z",
     "end_time": "2023-04-17T15:07:41.092971Z"
    }
   }
  },
  {
   "cell_type": "markdown",
   "source": [
    "# Prepare Datasets\n",
    "<br> Set column names and drop usless Columns <br>"
   ],
   "metadata": {
    "collapsed": false
   }
  },
  {
   "cell_type": "code",
   "execution_count": 39,
   "outputs": [
    {
     "ename": "ValueError",
     "evalue": "Length mismatch: Expected axis has 9 elements, new values have 5 elements",
     "output_type": "error",
     "traceback": [
      "\u001B[1;31m---------------------------------------------------------------------------\u001B[0m",
      "\u001B[1;31mValueError\u001B[0m                                Traceback (most recent call last)",
      "Input \u001B[1;32mIn [39]\u001B[0m, in \u001B[0;36m<cell line: 2>\u001B[1;34m()\u001B[0m\n\u001B[0;32m      1\u001B[0m columns\u001B[38;5;241m=\u001B[39m[\u001B[38;5;124m'\u001B[39m\u001B[38;5;124mlanguage\u001B[39m\u001B[38;5;124m'\u001B[39m, \u001B[38;5;124m'\u001B[39m\u001B[38;5;124mdescription\u001B[39m\u001B[38;5;124m'\u001B[39m, \u001B[38;5;124m'\u001B[39m\u001B[38;5;124mid\u001B[39m\u001B[38;5;124m'\u001B[39m, \u001B[38;5;124m'\u001B[39m\u001B[38;5;124mpower\u001B[39m\u001B[38;5;124m'\u001B[39m, \u001B[38;5;124m'\u001B[39m\u001B[38;5;124mcordinates\u001B[39m\u001B[38;5;124m'\u001B[39m]\n\u001B[1;32m----> 2\u001B[0m antennen_6g\u001B[38;5;241m.\u001B[39mcolumns\u001B[38;5;241m=\u001B[39mcolumns\n\u001B[0;32m      3\u001B[0m antennen_5g\u001B[38;5;241m.\u001B[39mcolumns\u001B[38;5;241m=\u001B[39mcolumns\n\u001B[0;32m      4\u001B[0m antennen_4g\u001B[38;5;241m.\u001B[39mcolumns\u001B[38;5;241m=\u001B[39mcolumns\n",
      "File \u001B[1;32m~\\AppData\\Roaming\\Python\\Python39\\site-packages\\geopandas\\geodataframe.py:202\u001B[0m, in \u001B[0;36mGeoDataFrame.__setattr__\u001B[1;34m(self, attr, val)\u001B[0m\n\u001B[0;32m    200\u001B[0m     \u001B[38;5;28mobject\u001B[39m\u001B[38;5;241m.\u001B[39m\u001B[38;5;21m__setattr__\u001B[39m(\u001B[38;5;28mself\u001B[39m, attr, val)\n\u001B[0;32m    201\u001B[0m \u001B[38;5;28;01melse\u001B[39;00m:\n\u001B[1;32m--> 202\u001B[0m     \u001B[38;5;28;43msuper\u001B[39;49m\u001B[43m(\u001B[49m\u001B[43m)\u001B[49m\u001B[38;5;241;43m.\u001B[39;49m\u001B[38;5;21;43m__setattr__\u001B[39;49m\u001B[43m(\u001B[49m\u001B[43mattr\u001B[49m\u001B[43m,\u001B[49m\u001B[43m \u001B[49m\u001B[43mval\u001B[49m\u001B[43m)\u001B[49m\n",
      "File \u001B[1;32mC:\\ProgramData\\Anaconda3\\lib\\site-packages\\pandas\\core\\generic.py:5588\u001B[0m, in \u001B[0;36mNDFrame.__setattr__\u001B[1;34m(self, name, value)\u001B[0m\n\u001B[0;32m   5586\u001B[0m \u001B[38;5;28;01mtry\u001B[39;00m:\n\u001B[0;32m   5587\u001B[0m     \u001B[38;5;28mobject\u001B[39m\u001B[38;5;241m.\u001B[39m\u001B[38;5;21m__getattribute__\u001B[39m(\u001B[38;5;28mself\u001B[39m, name)\n\u001B[1;32m-> 5588\u001B[0m     \u001B[38;5;28;01mreturn\u001B[39;00m \u001B[38;5;28;43mobject\u001B[39;49m\u001B[38;5;241;43m.\u001B[39;49m\u001B[38;5;21;43m__setattr__\u001B[39;49m\u001B[43m(\u001B[49m\u001B[38;5;28;43mself\u001B[39;49m\u001B[43m,\u001B[49m\u001B[43m \u001B[49m\u001B[43mname\u001B[49m\u001B[43m,\u001B[49m\u001B[43m \u001B[49m\u001B[43mvalue\u001B[49m\u001B[43m)\u001B[49m\n\u001B[0;32m   5589\u001B[0m \u001B[38;5;28;01mexcept\u001B[39;00m \u001B[38;5;167;01mAttributeError\u001B[39;00m:\n\u001B[0;32m   5590\u001B[0m     \u001B[38;5;28;01mpass\u001B[39;00m\n",
      "File \u001B[1;32mC:\\ProgramData\\Anaconda3\\lib\\site-packages\\pandas\\_libs\\properties.pyx:70\u001B[0m, in \u001B[0;36mpandas._libs.properties.AxisProperty.__set__\u001B[1;34m()\u001B[0m\n",
      "File \u001B[1;32mC:\\ProgramData\\Anaconda3\\lib\\site-packages\\pandas\\core\\generic.py:769\u001B[0m, in \u001B[0;36mNDFrame._set_axis\u001B[1;34m(self, axis, labels)\u001B[0m\n\u001B[0;32m    767\u001B[0m \u001B[38;5;28;01mdef\u001B[39;00m \u001B[38;5;21m_set_axis\u001B[39m(\u001B[38;5;28mself\u001B[39m, axis: \u001B[38;5;28mint\u001B[39m, labels: Index) \u001B[38;5;241m-\u001B[39m\u001B[38;5;241m>\u001B[39m \u001B[38;5;28;01mNone\u001B[39;00m:\n\u001B[0;32m    768\u001B[0m     labels \u001B[38;5;241m=\u001B[39m ensure_index(labels)\n\u001B[1;32m--> 769\u001B[0m     \u001B[38;5;28;43mself\u001B[39;49m\u001B[38;5;241;43m.\u001B[39;49m\u001B[43m_mgr\u001B[49m\u001B[38;5;241;43m.\u001B[39;49m\u001B[43mset_axis\u001B[49m\u001B[43m(\u001B[49m\u001B[43maxis\u001B[49m\u001B[43m,\u001B[49m\u001B[43m \u001B[49m\u001B[43mlabels\u001B[49m\u001B[43m)\u001B[49m\n\u001B[0;32m    770\u001B[0m     \u001B[38;5;28mself\u001B[39m\u001B[38;5;241m.\u001B[39m_clear_item_cache()\n",
      "File \u001B[1;32mC:\\ProgramData\\Anaconda3\\lib\\site-packages\\pandas\\core\\internals\\managers.py:214\u001B[0m, in \u001B[0;36mBaseBlockManager.set_axis\u001B[1;34m(self, axis, new_labels)\u001B[0m\n\u001B[0;32m    212\u001B[0m \u001B[38;5;28;01mdef\u001B[39;00m \u001B[38;5;21mset_axis\u001B[39m(\u001B[38;5;28mself\u001B[39m, axis: \u001B[38;5;28mint\u001B[39m, new_labels: Index) \u001B[38;5;241m-\u001B[39m\u001B[38;5;241m>\u001B[39m \u001B[38;5;28;01mNone\u001B[39;00m:\n\u001B[0;32m    213\u001B[0m     \u001B[38;5;66;03m# Caller is responsible for ensuring we have an Index object.\u001B[39;00m\n\u001B[1;32m--> 214\u001B[0m     \u001B[38;5;28;43mself\u001B[39;49m\u001B[38;5;241;43m.\u001B[39;49m\u001B[43m_validate_set_axis\u001B[49m\u001B[43m(\u001B[49m\u001B[43maxis\u001B[49m\u001B[43m,\u001B[49m\u001B[43m \u001B[49m\u001B[43mnew_labels\u001B[49m\u001B[43m)\u001B[49m\n\u001B[0;32m    215\u001B[0m     \u001B[38;5;28mself\u001B[39m\u001B[38;5;241m.\u001B[39maxes[axis] \u001B[38;5;241m=\u001B[39m new_labels\n",
      "File \u001B[1;32mC:\\ProgramData\\Anaconda3\\lib\\site-packages\\pandas\\core\\internals\\base.py:69\u001B[0m, in \u001B[0;36mDataManager._validate_set_axis\u001B[1;34m(self, axis, new_labels)\u001B[0m\n\u001B[0;32m     66\u001B[0m     \u001B[38;5;28;01mpass\u001B[39;00m\n\u001B[0;32m     68\u001B[0m \u001B[38;5;28;01melif\u001B[39;00m new_len \u001B[38;5;241m!=\u001B[39m old_len:\n\u001B[1;32m---> 69\u001B[0m     \u001B[38;5;28;01mraise\u001B[39;00m \u001B[38;5;167;01mValueError\u001B[39;00m(\n\u001B[0;32m     70\u001B[0m         \u001B[38;5;124mf\u001B[39m\u001B[38;5;124m\"\u001B[39m\u001B[38;5;124mLength mismatch: Expected axis has \u001B[39m\u001B[38;5;132;01m{\u001B[39;00mold_len\u001B[38;5;132;01m}\u001B[39;00m\u001B[38;5;124m elements, new \u001B[39m\u001B[38;5;124m\"\u001B[39m\n\u001B[0;32m     71\u001B[0m         \u001B[38;5;124mf\u001B[39m\u001B[38;5;124m\"\u001B[39m\u001B[38;5;124mvalues have \u001B[39m\u001B[38;5;132;01m{\u001B[39;00mnew_len\u001B[38;5;132;01m}\u001B[39;00m\u001B[38;5;124m elements\u001B[39m\u001B[38;5;124m\"\u001B[39m\n\u001B[0;32m     72\u001B[0m     )\n",
      "\u001B[1;31mValueError\u001B[0m: Length mismatch: Expected axis has 9 elements, new values have 5 elements"
     ]
    }
   ],
   "source": [
    "\n",
    "columns=['language', 'description', 'id', 'power', 'cordinates']\n",
    "antennen_6g.columns=columns\n",
    "antennen_5g.columns=columns\n",
    "antennen_4g.columns=columns\n",
    "antennen_3g.columns=columns\n",
    "antennen_2g.columns=columns"
   ],
   "metadata": {
    "collapsed": false,
    "ExecuteTime": {
     "start_time": "2023-04-17T15:07:40.996428Z",
     "end_time": "2023-04-17T15:07:41.098478Z"
    }
   }
  },
  {
   "cell_type": "code",
   "execution_count": 33,
   "outputs": [
    {
     "data": {
      "text/plain": "   id   power                       cordinates\n0   1   Gross  POINT (2558525.000 1167925.000)\n1   2   Gross  POINT (2648322.000 1246675.000)\n2   3   Gross  POINT (2503428.000 1117642.000)\n3   4  Mittel  POINT (2601088.000 1200806.000)",
      "text/html": "<div>\n<style scoped>\n    .dataframe tbody tr th:only-of-type {\n        vertical-align: middle;\n    }\n\n    .dataframe tbody tr th {\n        vertical-align: top;\n    }\n\n    .dataframe thead th {\n        text-align: right;\n    }\n</style>\n<table border=\"1\" class=\"dataframe\">\n  <thead>\n    <tr style=\"text-align: right;\">\n      <th></th>\n      <th>id</th>\n      <th>power</th>\n      <th>cordinates</th>\n    </tr>\n  </thead>\n  <tbody>\n    <tr>\n      <th>0</th>\n      <td>1</td>\n      <td>Gross</td>\n      <td>POINT (2558525.000 1167925.000)</td>\n    </tr>\n    <tr>\n      <th>1</th>\n      <td>2</td>\n      <td>Gross</td>\n      <td>POINT (2648322.000 1246675.000)</td>\n    </tr>\n    <tr>\n      <th>2</th>\n      <td>3</td>\n      <td>Gross</td>\n      <td>POINT (2503428.000 1117642.000)</td>\n    </tr>\n    <tr>\n      <th>3</th>\n      <td>4</td>\n      <td>Mittel</td>\n      <td>POINT (2601088.000 1200806.000)</td>\n    </tr>\n  </tbody>\n</table>\n</div>"
     },
     "execution_count": 33,
     "metadata": {},
     "output_type": "execute_result"
    }
   ],
   "source": [
    "antennen_6g.drop(['language' , 'description'], axis=1, inplace=True)\n",
    "antennen_5g.drop(['language' , 'description'], axis=1, inplace=True)\n",
    "antennen_4g.drop(['language' , 'description'], axis=1, inplace=True)\n",
    "antennen_3g.drop(['language' , 'description'], axis=1, inplace=True)\n",
    "antennen_2g.drop(['language' , 'description'], axis=1, inplace=True)\n",
    "antennen_4g.head(4)"
   ],
   "metadata": {
    "collapsed": false,
    "ExecuteTime": {
     "start_time": "2023-04-17T15:07:41.028954Z",
     "end_time": "2023-04-17T15:07:41.136620Z"
    }
   }
  },
  {
   "cell_type": "markdown",
   "source": [
    "# get address data from openstreet map"
   ],
   "metadata": {
    "collapsed": false
   }
  },
  {
   "cell_type": "code",
   "execution_count": 36,
   "outputs": [
    {
     "name": "stdout",
     "output_type": "stream",
     "text": [
      "C:\\ProgramData\\Anaconda3\\lib\\site-packages\\certifi\\cacert.pem\n"
     ]
    }
   ],
   "source": [
    "import ssl\n",
    "import certifi\n",
    "import geopy.geocoders\n",
    "ctx = ssl.create_default_context(cafile=certifi.where())\n",
    "geopy.geocoders.options.default_ssl_context = ctx\n",
    "print(certifi.where())"
   ],
   "metadata": {
    "collapsed": false,
    "ExecuteTime": {
     "start_time": "2023-04-17T15:08:16.223976Z",
     "end_time": "2023-04-17T15:08:16.276501Z"
    }
   }
  },
  {
   "cell_type": "code",
   "execution_count": 40,
   "outputs": [
    {
     "name": "stderr",
     "output_type": "stream",
     "text": [
      "C:\\Users\\nikki\\AppData\\Local\\Temp\\ipykernel_23640\\4242243979.py:7: FutureWarning: This function is deprecated. See: https://pyproj4.github.io/pyproj/stable/gotchas.html#upgrading-to-pyproj-2-from-pyproj-1\n",
      "  x2,y2 = transform(inProj, outProj, x1,y1)\n",
      "C:\\Users\\nikki\\AppData\\Local\\Temp\\ipykernel_23640\\4242243979.py:7: FutureWarning: This function is deprecated. See: https://pyproj4.github.io/pyproj/stable/gotchas.html#upgrading-to-pyproj-2-from-pyproj-1\n",
      "  x2,y2 = transform(inProj, outProj, x1,y1)\n",
      "C:\\Users\\nikki\\AppData\\Local\\Temp\\ipykernel_23640\\4242243979.py:7: FutureWarning: This function is deprecated. See: https://pyproj4.github.io/pyproj/stable/gotchas.html#upgrading-to-pyproj-2-from-pyproj-1\n",
      "  x2,y2 = transform(inProj, outProj, x1,y1)\n",
      "C:\\Users\\nikki\\AppData\\Local\\Temp\\ipykernel_23640\\4242243979.py:7: FutureWarning: This function is deprecated. See: https://pyproj4.github.io/pyproj/stable/gotchas.html#upgrading-to-pyproj-2-from-pyproj-1\n",
      "  x2,y2 = transform(inProj, outProj, x1,y1)\n",
      "C:\\Users\\nikki\\AppData\\Local\\Temp\\ipykernel_23640\\4242243979.py:7: FutureWarning: This function is deprecated. See: https://pyproj4.github.io/pyproj/stable/gotchas.html#upgrading-to-pyproj-2-from-pyproj-1\n",
      "  x2,y2 = transform(inProj, outProj, x1,y1)\n"
     ]
    }
   ],
   "source": [
    "antennen_6g = convert_panda_lv95_wgs84(antennen_6g)\n",
    "antennen_5g = convert_panda_lv95_wgs84(antennen_5g)\n",
    "antennen_4g = convert_panda_lv95_wgs84(antennen_4g)\n",
    "antennen_3g = convert_panda_lv95_wgs84(antennen_3g)\n",
    "antennen_2g = convert_panda_lv95_wgs84(antennen_2g)\n",
    "\n",
    "\n"
   ],
   "metadata": {
    "collapsed": false,
    "ExecuteTime": {
     "start_time": "2023-04-17T15:09:43.411242Z",
     "end_time": "2023-04-17T15:09:43.584348Z"
    }
   }
  },
  {
   "cell_type": "code",
   "execution_count": 17,
   "outputs": [],
   "source": [],
   "metadata": {
    "collapsed": false,
    "ExecuteTime": {
     "start_time": "2023-04-12T19:53:34.670702Z",
     "end_time": "2023-04-12T19:53:35.025185Z"
    }
   }
  },
  {
   "cell_type": "markdown",
   "source": [],
   "metadata": {
    "collapsed": false
   }
  },
  {
   "cell_type": "code",
   "execution_count": 62,
   "outputs": [
    {
     "name": "stdout",
     "output_type": "stream",
     "text": [
      "['Frauholzstrasse', ' Oberes Halti', ' Steinen', ' Schwyz', ' 6422', ' Schweiz']\n",
      "6422\n",
      "Steinen Zustellung\n",
      "['A14', ' Milchhof', ' Ebikon', ' Luzern', ' 6030', ' Schweiz']\n",
      "6030\n",
      "Ebikon Mall Switz.\n",
      "['Muggenwinggel', ' Weinfelderstrasse', ' Feldhof', ' Märstetten', ' Bezirk Weinfelden', ' Thurgau', ' 8560', ' Schweiz']\n",
      "8560\n",
      "Märstetten\n",
      "['71', ' Rue de la Léchère', ' la Léchère', ' Bulle', ' District de la Gruyère', ' Fribourg/Freiburg', ' 1630', ' Schweiz']\n",
      "1630\n",
      "Bulle Jardins P.L.\n",
      "['27', ' Weidenstrasse', ' Münchenstein', ' Bezirk Arlesheim', ' Basel-Landschaft', ' 4142', ' Schweiz']\n",
      "4142\n",
      "Münchenstein Stöck\n",
      "['Outletpark Murgenthal', ' 79', ' Hauptstrasse', ' Moosmattdorf', ' Riken', ' Murgenthal', ' Bezirk Zofingen', ' Aargau', ' 4853', ' Schweiz']\n",
      "4853\n",
      "Riken AG\n",
      "['Krummackerweg', ' Leibstadt', ' Bezirk Zurzach', ' Aargau', ' 5325', ' Schweiz']\n",
      "5325\n",
      "Leibstadt\n",
      "['3', ' Chemin des Coquelicots', ' Châtelaine', ' Vernier', ' Genève', ' 6643', ' Schweiz']\n",
      "6643\n",
      "None\n",
      "['12', ' Bruggmatte', ' Reiden', ' Luzern', ' 6260', ' Schweiz']\n",
      "6260\n",
      "Mehlsecken\n",
      "['10c', ' Chemin de Rovéréaz', ' Chailly', ' Lausanne', ' District de Lausanne', ' Vaud', ' 1012', ' Schweiz']\n",
      "1012\n",
      "Lausanne\n",
      "['ARA Wartau', ' 1', ' Araweg', ' Weite-Wartau', ' Wartau', ' Wahlkreis Werdenberg', ' Sankt Gallen', ' 9476', ' Schweiz']\n",
      "9476\n",
      "Weite\n",
      "['Route de Roua', ' Grimentz', ' Anniviers', ' Sierre', ' Valais/Wallis', ' 3961', ' Schweiz']\n",
      "3961\n",
      "Mission\n",
      "['Caravan Bucher', ' Hauptstrasse', ' Rotfarb', ' Schlatt', ' Hauptwil', ' Hauptwil-Gottshaus', ' Bezirk Weinfelden', ' Thurgau', ' 9213', ' Schweiz']\n",
      "9213\n",
      "Hauptwil\n",
      "['AEW Energie AG', ' 40', ' Obere Vorstadt', ' Gönhard', ' Aarau', ' Bezirk Aarau', ' Aargau', ' 5000', ' Schweiz']\n",
      "5000\n",
      "Aarau Postauto AG\n",
      "['Landverband', ' Auenweg', ' Rebstein', ' Wahlkreis Rheintal', ' Sankt Gallen', ' 9445', ' Schweiz']\n",
      "9445\n",
      "Rebstein\n",
      "['276', ' Schaffhauserstrasse', ' Oerlikon', ' Kreis 11', ' Zürich', ' Bezirk Zürich', ' Zürich', ' 8057', ' Schweiz']\n",
      "8057\n",
      "Zürich\n",
      "[\"Restaurant du Barrage d'Émosson\", \" Place d'Emosson\", ' Émosson', ' Finhaut', ' Saint-Maurice', ' Valais/Wallis', ' 1925', ' Schweiz']\n",
      "1925\n",
      "Finhaut\n",
      "['2108', ' Weekendweg', ' Spiez', ' Verwaltungskreis Frutigen-Niedersimmental', ' Verwaltungsregion Oberland', ' Bern/Berne', ' 3646', ' Schweiz']\n",
      "3646\n",
      "Einigen\n",
      "['25', ' Industriestrasse', ' Alpnach', ' Obwalden', ' 6055', ' Schweiz']\n",
      "6055\n",
      "Alpnach Brünigstr\n",
      "['Route du Vully', ' Ressudens', ' Grandcour', ' District de la Broye-Vully', ' Vaud', ' 1543', ' Schweiz']\n",
      "1543\n",
      "Grandcour\n",
      "['6a', ' Route de la Sarraz', ' Cossonay', ' District de Morges', ' Vaud', ' 1304', ' Schweiz']\n",
      "1304\n",
      "Allens\n",
      "['ETH WES', ' 41', ' Weinbergstrasse', ' Unterstrass', ' Kreis 6', ' Zürich', ' Bezirk Zürich', ' Zürich', ' 8006', ' Schweiz']\n",
      "8006\n",
      "Zürich\n",
      "['Oro Sport Thalmatt', ' Mettlenwaldweg', ' Thalmatt', ' Herrenschwanden', ' Kirchlindach', ' Verwaltungskreis Bern-Mittelland', ' Verwaltungsregion Bern-Mittelland', ' Bern/Berne', ' 3037', ' Schweiz']\n",
      "3037\n",
      "Herrenschwanden\n",
      "['Route du Village', ' Puidoux', ' District de Lavaux-Oron', ' Vaud', ' 1070', ' Schweiz']\n",
      "1070\n",
      "Puidoux\n"
     ]
    }
   ],
   "source": [
    "antennen_6g = add_address(antennen_6g)\n",
    "# antennen_5g = add_address(antennen_5g)\n",
    "# antennen_4g = add_address(antennen_4g)\n",
    "# antennen_3g = add_address(antennen_3g)\n",
    "# antennen_2g = add_address(antennen_2g)"
   ],
   "metadata": {
    "collapsed": false,
    "ExecuteTime": {
     "start_time": "2023-04-17T19:01:48.689975Z",
     "end_time": "2023-04-17T19:02:00.942063Z"
    }
   }
  },
  {
   "cell_type": "code",
   "execution_count": 64,
   "outputs": [],
   "source": [
    "\n",
    "\n",
    "\n",
    "# Rename special chars\n",
    "def rename_Special(data_frame):\n",
    "    data_frame = data_frame.replace({'dictionary':{'ä':'ae','Ä':'Ae','Ü':'Ue','ü':'ue','Ö':'Oe','ö':'oe'}},regex=True)\n",
    "    return data_frame"
   ],
   "metadata": {
    "collapsed": false,
    "ExecuteTime": {
     "start_time": "2023-04-17T19:31:30.367740Z",
     "end_time": "2023-04-17T19:31:30.395324Z"
    }
   }
  },
  {
   "cell_type": "code",
   "execution_count": 65,
   "outputs": [],
   "source": [
    "antennen_6g = rename_Special(antennen_6g)\n",
    "antennen_5g = rename_Special(antennen_5g)\n",
    "antennen_4g = rename_Special(antennen_4g)\n",
    "antennen_3g = rename_Special(antennen_3g)\n",
    "antennen_2g = rename_Special(antennen_2g)"
   ],
   "metadata": {
    "collapsed": false,
    "ExecuteTime": {
     "start_time": "2023-04-17T19:31:34.205512Z",
     "end_time": "2023-04-17T19:31:34.266113Z"
    }
   }
  },
  {
   "cell_type": "code",
   "execution_count": 82,
   "outputs": [
    {
     "data": {
      "text/plain": "   id       power                       cordinates building streetNumber  \\\n0   1      Mittel  POINT (2688674.000 1211488.000)     None         None   \n1   2  Sehr Klein  POINT (2666065.000 1214355.000)     None          A14   \n2   3      Mittel  POINT (2722651.000 1271244.000)     None         None   \n3   4      Mittel  POINT (2570323.000 1164067.000)     None           71   \n4   5       Klein  POINT (2613427.000 1262637.000)     None           27   \n\n               street                town district  state  \\\n0     Frauholzstrasse  Steinen Zustellung     None   6422   \n1            Milchhof  Ebikon Mall Switz.     None   6030   \n2       Muggenwinggel          Märstetten     None   8560   \n3   Rue de la Léchère  Bulle Jardins P.L.     None   1630   \n4       Weidenstrasse  Münchenstein Stöck     None   4142   \n\n   antenna_Location_WGS84_E  antenna_Location_WGS84_N   country postal type  \n0                 47.048492                  8.605623   Schweiz   6422   6G  \n1                 47.076917                  8.308525   Schweiz   6030   6G  \n2                 47.580429                  9.069008   Schweiz   8560   6G  \n3                 46.627189                  7.051134   Schweiz   1630   6G  \n4                 47.514341                  7.616871   Schweiz   4142   6G  ",
      "text/html": "<div>\n<style scoped>\n    .dataframe tbody tr th:only-of-type {\n        vertical-align: middle;\n    }\n\n    .dataframe tbody tr th {\n        vertical-align: top;\n    }\n\n    .dataframe thead th {\n        text-align: right;\n    }\n</style>\n<table border=\"1\" class=\"dataframe\">\n  <thead>\n    <tr style=\"text-align: right;\">\n      <th></th>\n      <th>id</th>\n      <th>power</th>\n      <th>cordinates</th>\n      <th>building</th>\n      <th>streetNumber</th>\n      <th>street</th>\n      <th>town</th>\n      <th>district</th>\n      <th>state</th>\n      <th>antenna_Location_WGS84_E</th>\n      <th>antenna_Location_WGS84_N</th>\n      <th>country</th>\n      <th>postal</th>\n      <th>type</th>\n    </tr>\n  </thead>\n  <tbody>\n    <tr>\n      <th>0</th>\n      <td>1</td>\n      <td>Mittel</td>\n      <td>POINT (2688674.000 1211488.000)</td>\n      <td>None</td>\n      <td>None</td>\n      <td>Frauholzstrasse</td>\n      <td>Steinen Zustellung</td>\n      <td>None</td>\n      <td>6422</td>\n      <td>47.048492</td>\n      <td>8.605623</td>\n      <td>Schweiz</td>\n      <td>6422</td>\n      <td>6G</td>\n    </tr>\n    <tr>\n      <th>1</th>\n      <td>2</td>\n      <td>Sehr Klein</td>\n      <td>POINT (2666065.000 1214355.000)</td>\n      <td>None</td>\n      <td>A14</td>\n      <td>Milchhof</td>\n      <td>Ebikon Mall Switz.</td>\n      <td>None</td>\n      <td>6030</td>\n      <td>47.076917</td>\n      <td>8.308525</td>\n      <td>Schweiz</td>\n      <td>6030</td>\n      <td>6G</td>\n    </tr>\n    <tr>\n      <th>2</th>\n      <td>3</td>\n      <td>Mittel</td>\n      <td>POINT (2722651.000 1271244.000)</td>\n      <td>None</td>\n      <td>None</td>\n      <td>Muggenwinggel</td>\n      <td>Märstetten</td>\n      <td>None</td>\n      <td>8560</td>\n      <td>47.580429</td>\n      <td>9.069008</td>\n      <td>Schweiz</td>\n      <td>8560</td>\n      <td>6G</td>\n    </tr>\n    <tr>\n      <th>3</th>\n      <td>4</td>\n      <td>Mittel</td>\n      <td>POINT (2570323.000 1164067.000)</td>\n      <td>None</td>\n      <td>71</td>\n      <td>Rue de la Léchère</td>\n      <td>Bulle Jardins P.L.</td>\n      <td>None</td>\n      <td>1630</td>\n      <td>46.627189</td>\n      <td>7.051134</td>\n      <td>Schweiz</td>\n      <td>1630</td>\n      <td>6G</td>\n    </tr>\n    <tr>\n      <th>4</th>\n      <td>5</td>\n      <td>Klein</td>\n      <td>POINT (2613427.000 1262637.000)</td>\n      <td>None</td>\n      <td>27</td>\n      <td>Weidenstrasse</td>\n      <td>Münchenstein Stöck</td>\n      <td>None</td>\n      <td>4142</td>\n      <td>47.514341</td>\n      <td>7.616871</td>\n      <td>Schweiz</td>\n      <td>4142</td>\n      <td>6G</td>\n    </tr>\n  </tbody>\n</table>\n</div>"
     },
     "execution_count": 82,
     "metadata": {},
     "output_type": "execute_result"
    }
   ],
   "source": [
    "\n",
    "antennen_6g = antennen_6g.assign(type='6G')\n",
    "antennen_5g = antennen_6g.assign(type='5G')\n",
    "antennen_4g = antennen_6g.assign(type='4G')\n",
    "antennen_3g = antennen_6g.assign(type='3G')\n",
    "antennen_2g = antennen_6g.assign(type='2G')\n",
    "antennen_6g.head()\n"
   ],
   "metadata": {
    "collapsed": false,
    "ExecuteTime": {
     "start_time": "2023-04-17T20:21:49.975329Z",
     "end_time": "2023-04-17T20:21:50.028413Z"
    }
   }
  },
  {
   "cell_type": "code",
   "execution_count": 32,
   "outputs": [],
   "source": [
    "# antennen_5g.to_csv('./Daten/5gAntennen.csv',sep=';', index=False)\n",
    "antennen_4g.to_csv('./Daten/4gAntennen.csv',sep=';', index=False)\n",
    "antennen_3g.to_csv('./Daten/3gAntennen.csv',sep=';', index=False)\n",
    "antennen_2g.to_csv('./Daten/2gAntennen.csv',sep=';', index=False)"
   ],
   "metadata": {
    "collapsed": false,
    "ExecuteTime": {
     "start_time": "2023-04-15T21:36:33.055463Z",
     "end_time": "2023-04-15T21:36:33.898282Z"
    }
   }
  },
  {
   "cell_type": "code",
   "execution_count": 74,
   "outputs": [
    {
     "name": "stdout",
     "output_type": "stream",
     "text": [
      "C:\\ProgramData\\Anaconda3\\lib\\site-packages\\certifi\\cacert.pem\n"
     ]
    }
   ],
   "source": [
    "print(certifi.where())\n",
    "#Breiten- und Längengrad von Zürich\n",
    "address = 'Schweiz'\n",
    "\n",
    "geolocator = Nominatim(user_agent=\"antenna\")\n",
    "location = geolocator.geocode(address)\n",
    "\n",
    "latitude = location.latitude\n",
    "longitude = location.longitude"
   ],
   "metadata": {
    "collapsed": false,
    "ExecuteTime": {
     "start_time": "2023-04-17T19:58:35.229950Z",
     "end_time": "2023-04-17T19:58:36.150721Z"
    }
   }
  },
  {
   "cell_type": "markdown",
   "metadata": {},
   "source": [
    "Erster Plot zum anschauen des Netzes:"
   ]
  },
  {
   "cell_type": "code",
   "execution_count": 75,
   "metadata": {
    "tags": [],
    "ExecuteTime": {
     "start_time": "2023-04-17T19:58:46.213403Z",
     "end_time": "2023-04-17T19:58:46.269097Z"
    }
   },
   "outputs": [
    {
     "name": "stdout",
     "output_type": "stream",
     "text": [
      "C:\\ProgramData\\Anaconda3\\lib\\site-packages\\certifi\\cacert.pem\n"
     ]
    }
   ],
   "source": [
    "# workaround for SSL Error:\n",
    "import ssl\n",
    "import certifi\n",
    "import geopy.geocoders\n",
    "ctx = ssl.create_default_context(cafile=certifi.where())\n",
    "geopy.geocoders.options.default_ssl_context = ctx\n",
    "print(certifi.where())"
   ]
  },
  {
   "cell_type": "code",
   "execution_count": 84,
   "metadata": {
    "tags": [],
    "ExecuteTime": {
     "start_time": "2023-04-17T20:28:04.687937Z",
     "end_time": "2023-04-17T20:28:04.718497Z"
    }
   },
   "outputs": [],
   "source": [
    "m=folium.Map(location=[latitude,longitude],zoom_start=9)"
   ]
  },
  {
   "cell_type": "code",
   "execution_count": 86,
   "outputs": [
    {
     "name": "stdout",
     "output_type": "stream",
     "text": [
      "6G\n"
     ]
    },
    {
     "data": {
      "text/plain": "<folium.folium.Map at 0x262a9f2f100>",
      "text/html": "<div style=\"width:100%;\"><div style=\"position:relative;width:100%;height:0;padding-bottom:60%;\"><span style=\"color:#565656\">Make this Notebook Trusted to load map: File -> Trust Notebook</span><iframe srcdoc=\"&lt;!DOCTYPE html&gt;\n&lt;html&gt;\n&lt;head&gt;\n    \n    &lt;meta http-equiv=&quot;content-type&quot; content=&quot;text/html; charset=UTF-8&quot; /&gt;\n    \n        &lt;script&gt;\n            L_NO_TOUCH = false;\n            L_DISABLE_3D = false;\n        &lt;/script&gt;\n    \n    &lt;style&gt;html, body {width: 100%;height: 100%;margin: 0;padding: 0;}&lt;/style&gt;\n    &lt;style&gt;#map {position:absolute;top:0;bottom:0;right:0;left:0;}&lt;/style&gt;\n    &lt;script src=&quot;https://cdn.jsdelivr.net/npm/leaflet@1.9.3/dist/leaflet.js&quot;&gt;&lt;/script&gt;\n    &lt;script src=&quot;https://code.jquery.com/jquery-1.12.4.min.js&quot;&gt;&lt;/script&gt;\n    &lt;script src=&quot;https://cdn.jsdelivr.net/npm/bootstrap@5.2.2/dist/js/bootstrap.bundle.min.js&quot;&gt;&lt;/script&gt;\n    &lt;script src=&quot;https://cdnjs.cloudflare.com/ajax/libs/Leaflet.awesome-markers/2.0.2/leaflet.awesome-markers.js&quot;&gt;&lt;/script&gt;\n    &lt;link rel=&quot;stylesheet&quot; href=&quot;https://cdn.jsdelivr.net/npm/leaflet@1.9.3/dist/leaflet.css&quot;/&gt;\n    &lt;link rel=&quot;stylesheet&quot; href=&quot;https://cdn.jsdelivr.net/npm/bootstrap@5.2.2/dist/css/bootstrap.min.css&quot;/&gt;\n    &lt;link rel=&quot;stylesheet&quot; href=&quot;https://netdna.bootstrapcdn.com/bootstrap/3.0.0/css/bootstrap.min.css&quot;/&gt;\n    &lt;link rel=&quot;stylesheet&quot; href=&quot;https://cdn.jsdelivr.net/npm/@fortawesome/fontawesome-free@6.2.0/css/all.min.css&quot;/&gt;\n    &lt;link rel=&quot;stylesheet&quot; href=&quot;https://cdnjs.cloudflare.com/ajax/libs/Leaflet.awesome-markers/2.0.2/leaflet.awesome-markers.css&quot;/&gt;\n    &lt;link rel=&quot;stylesheet&quot; href=&quot;https://cdn.jsdelivr.net/gh/python-visualization/folium/folium/templates/leaflet.awesome.rotate.min.css&quot;/&gt;\n    \n            &lt;meta name=&quot;viewport&quot; content=&quot;width=device-width,\n                initial-scale=1.0, maximum-scale=1.0, user-scalable=no&quot; /&gt;\n            &lt;style&gt;\n                #map_850287e1ba7351573ca96ae619e06dd3 {\n                    position: relative;\n                    width: 100.0%;\n                    height: 100.0%;\n                    left: 0.0%;\n                    top: 0.0%;\n                }\n                .leaflet-container { font-size: 1rem; }\n            &lt;/style&gt;\n        \n&lt;/head&gt;\n&lt;body&gt;\n    \n    \n            &lt;div class=&quot;folium-map&quot; id=&quot;map_850287e1ba7351573ca96ae619e06dd3&quot; &gt;&lt;/div&gt;\n        \n&lt;/body&gt;\n&lt;script&gt;\n    \n    \n            var map_850287e1ba7351573ca96ae619e06dd3 = L.map(\n                &quot;map_850287e1ba7351573ca96ae619e06dd3&quot;,\n                {\n                    center: [46.7985624, 8.2319736],\n                    crs: L.CRS.EPSG3857,\n                    zoom: 9,\n                    zoomControl: true,\n                    preferCanvas: false,\n                }\n            );\n\n            \n\n        \n    \n            var tile_layer_af70539f7998392de55520cd8eddd521 = L.tileLayer(\n                &quot;https://{s}.tile.openstreetmap.org/{z}/{x}/{y}.png&quot;,\n                {&quot;attribution&quot;: &quot;Data by \\u0026copy; \\u003ca target=\\&quot;_blank\\&quot; href=\\&quot;http://openstreetmap.org\\&quot;\\u003eOpenStreetMap\\u003c/a\\u003e, under \\u003ca target=\\&quot;_blank\\&quot; href=\\&quot;http://www.openstreetmap.org/copyright\\&quot;\\u003eODbL\\u003c/a\\u003e.&quot;, &quot;detectRetina&quot;: false, &quot;maxNativeZoom&quot;: 18, &quot;maxZoom&quot;: 18, &quot;minZoom&quot;: 0, &quot;noWrap&quot;: false, &quot;opacity&quot;: 1, &quot;subdomains&quot;: &quot;abc&quot;, &quot;tms&quot;: false}\n            ).addTo(map_850287e1ba7351573ca96ae619e06dd3);\n        \n    \n            var marker_06ecd311bd4884f56c5e237872c59969 = L.marker(\n                [47.04849186405694, 8.605623335590286],\n                {}\n            ).addTo(map_850287e1ba7351573ca96ae619e06dd3);\n        \n    \n            var icon_b4226d574f17e29a086c472421b27632 = L.AwesomeMarkers.icon(\n                {&quot;extraClasses&quot;: &quot;fa-rotate-0&quot;, &quot;icon&quot;: &quot;info-sign&quot;, &quot;iconColor&quot;: &quot;white&quot;, &quot;markerColor&quot;: &quot;green&quot;, &quot;prefix&quot;: &quot;glyphicon&quot;}\n            );\n            marker_06ecd311bd4884f56c5e237872c59969.setIcon(icon_b4226d574f17e29a086c472421b27632);\n        \n    \n        var popup_7d5547f3d3d1312d85dbdd07ed003453 = L.popup({&quot;maxWidth&quot;: &quot;100%&quot;});\n\n        \n            \n                var html_a9a8136b0f303e3402323af15ab104af = $(`&lt;div id=&quot;html_a9a8136b0f303e3402323af15ab104af&quot; style=&quot;width: 100.0%; height: 100.0%;&quot;&gt;[None, None, &#x27; 6422&#x27;, &#x27;Steinen Zustellung&#x27;, None, &#x27; 6422&#x27;]&lt;/div&gt;`)[0];\n                popup_7d5547f3d3d1312d85dbdd07ed003453.setContent(html_a9a8136b0f303e3402323af15ab104af);\n            \n        \n\n        marker_06ecd311bd4884f56c5e237872c59969.bindPopup(popup_7d5547f3d3d1312d85dbdd07ed003453)\n        ;\n\n        \n    \n    \n            var marker_3553b6bfd6d90535363fb0662b5f4c27 = L.marker(\n                [47.07691745412742, 8.308524650440566],\n                {}\n            ).addTo(map_850287e1ba7351573ca96ae619e06dd3);\n        \n    \n            var icon_458cf1c068ebf11d1d20d963f34aef9a = L.AwesomeMarkers.icon(\n                {&quot;extraClasses&quot;: &quot;fa-rotate-0&quot;, &quot;icon&quot;: &quot;info-sign&quot;, &quot;iconColor&quot;: &quot;white&quot;, &quot;markerColor&quot;: &quot;green&quot;, &quot;prefix&quot;: &quot;glyphicon&quot;}\n            );\n            marker_3553b6bfd6d90535363fb0662b5f4c27.setIcon(icon_458cf1c068ebf11d1d20d963f34aef9a);\n        \n    \n        var popup_7157793e72133ab0717c27669947fac3 = L.popup({&quot;maxWidth&quot;: &quot;100%&quot;});\n\n        \n            \n                var html_81b265698704921a2a214a5e74c06e3c = $(`&lt;div id=&quot;html_81b265698704921a2a214a5e74c06e3c&quot; style=&quot;width: 100.0%; height: 100.0%;&quot;&gt;[None, &#x27;A14&#x27;, &#x27; 6030&#x27;, &#x27;Ebikon Mall Switz.&#x27;, None, &#x27; 6030&#x27;]&lt;/div&gt;`)[0];\n                popup_7157793e72133ab0717c27669947fac3.setContent(html_81b265698704921a2a214a5e74c06e3c);\n            \n        \n\n        marker_3553b6bfd6d90535363fb0662b5f4c27.bindPopup(popup_7157793e72133ab0717c27669947fac3)\n        ;\n\n        \n    \n    \n            var marker_e0277e229fb301b0f9ce32efda675d06 = L.marker(\n                [47.580429226152305, 9.06900812430776],\n                {}\n            ).addTo(map_850287e1ba7351573ca96ae619e06dd3);\n        \n    \n            var icon_fb547857b092c75c798b3d56954acc5a = L.AwesomeMarkers.icon(\n                {&quot;extraClasses&quot;: &quot;fa-rotate-0&quot;, &quot;icon&quot;: &quot;info-sign&quot;, &quot;iconColor&quot;: &quot;white&quot;, &quot;markerColor&quot;: &quot;green&quot;, &quot;prefix&quot;: &quot;glyphicon&quot;}\n            );\n            marker_e0277e229fb301b0f9ce32efda675d06.setIcon(icon_fb547857b092c75c798b3d56954acc5a);\n        \n    \n        var popup_43b37d6ecf36f29a6475776c030d0b55 = L.popup({&quot;maxWidth&quot;: &quot;100%&quot;});\n\n        \n            \n                var html_6cc69338e5ed6dde7df726abb5a99849 = $(`&lt;div id=&quot;html_6cc69338e5ed6dde7df726abb5a99849&quot; style=&quot;width: 100.0%; height: 100.0%;&quot;&gt;[None, None, &#x27; 8560&#x27;, &#x27;Märstetten&#x27;, None, &#x27; 8560&#x27;]&lt;/div&gt;`)[0];\n                popup_43b37d6ecf36f29a6475776c030d0b55.setContent(html_6cc69338e5ed6dde7df726abb5a99849);\n            \n        \n\n        marker_e0277e229fb301b0f9ce32efda675d06.bindPopup(popup_43b37d6ecf36f29a6475776c030d0b55)\n        ;\n\n        \n    \n    \n            var marker_b66d50e142c820532b3823703fedbbc4 = L.marker(\n                [46.6271888972478, 7.051133615085495],\n                {}\n            ).addTo(map_850287e1ba7351573ca96ae619e06dd3);\n        \n    \n            var icon_fa12a23f63d79c082394aa7d4441e5e1 = L.AwesomeMarkers.icon(\n                {&quot;extraClasses&quot;: &quot;fa-rotate-0&quot;, &quot;icon&quot;: &quot;info-sign&quot;, &quot;iconColor&quot;: &quot;white&quot;, &quot;markerColor&quot;: &quot;green&quot;, &quot;prefix&quot;: &quot;glyphicon&quot;}\n            );\n            marker_b66d50e142c820532b3823703fedbbc4.setIcon(icon_fa12a23f63d79c082394aa7d4441e5e1);\n        \n    \n        var popup_b73f789b535301ed568a0b81d41947df = L.popup({&quot;maxWidth&quot;: &quot;100%&quot;});\n\n        \n            \n                var html_8581f539d70bc64e45eb5c9615707fbf = $(`&lt;div id=&quot;html_8581f539d70bc64e45eb5c9615707fbf&quot; style=&quot;width: 100.0%; height: 100.0%;&quot;&gt;[None, &#x27;71&#x27;, &#x27; 1630&#x27;, &#x27;Bulle Jardins P.L.&#x27;, None, &#x27; 1630&#x27;]&lt;/div&gt;`)[0];\n                popup_b73f789b535301ed568a0b81d41947df.setContent(html_8581f539d70bc64e45eb5c9615707fbf);\n            \n        \n\n        marker_b66d50e142c820532b3823703fedbbc4.bindPopup(popup_b73f789b535301ed568a0b81d41947df)\n        ;\n\n        \n    \n    \n            var marker_13aa83053a2d7c457c2e226499fdcbb6 = L.marker(\n                [47.514340719360185, 7.616871361846929],\n                {}\n            ).addTo(map_850287e1ba7351573ca96ae619e06dd3);\n        \n    \n            var icon_4e5c7bfcc0f69654f2644df4d178644c = L.AwesomeMarkers.icon(\n                {&quot;extraClasses&quot;: &quot;fa-rotate-0&quot;, &quot;icon&quot;: &quot;info-sign&quot;, &quot;iconColor&quot;: &quot;white&quot;, &quot;markerColor&quot;: &quot;green&quot;, &quot;prefix&quot;: &quot;glyphicon&quot;}\n            );\n            marker_13aa83053a2d7c457c2e226499fdcbb6.setIcon(icon_4e5c7bfcc0f69654f2644df4d178644c);\n        \n    \n        var popup_52ceadacb2784c84e5e3a7ed261d4b5d = L.popup({&quot;maxWidth&quot;: &quot;100%&quot;});\n\n        \n            \n                var html_71b0a02ea3e5a96ecc16364bdd8b034e = $(`&lt;div id=&quot;html_71b0a02ea3e5a96ecc16364bdd8b034e&quot; style=&quot;width: 100.0%; height: 100.0%;&quot;&gt;[None, &#x27;27&#x27;, &#x27; 4142&#x27;, &#x27;Münchenstein Stöck&#x27;, None, &#x27; 4142&#x27;]&lt;/div&gt;`)[0];\n                popup_52ceadacb2784c84e5e3a7ed261d4b5d.setContent(html_71b0a02ea3e5a96ecc16364bdd8b034e);\n            \n        \n\n        marker_13aa83053a2d7c457c2e226499fdcbb6.bindPopup(popup_52ceadacb2784c84e5e3a7ed261d4b5d)\n        ;\n\n        \n    \n    \n            var marker_7ab55511b08a059a8ddd65b169fa7dcd = L.marker(\n                [47.2713022762742, 7.841036710196624],\n                {}\n            ).addTo(map_850287e1ba7351573ca96ae619e06dd3);\n        \n    \n            var icon_f1445f32a5885050b678c0940e4a1c73 = L.AwesomeMarkers.icon(\n                {&quot;extraClasses&quot;: &quot;fa-rotate-0&quot;, &quot;icon&quot;: &quot;info-sign&quot;, &quot;iconColor&quot;: &quot;white&quot;, &quot;markerColor&quot;: &quot;green&quot;, &quot;prefix&quot;: &quot;glyphicon&quot;}\n            );\n            marker_7ab55511b08a059a8ddd65b169fa7dcd.setIcon(icon_f1445f32a5885050b678c0940e4a1c73);\n        \n    \n        var popup_0172ace64181ff566a597468d5839f15 = L.popup({&quot;maxWidth&quot;: &quot;100%&quot;});\n\n        \n            \n                var html_9f6d19085a210724f3825545a09c5ed3 = $(`&lt;div id=&quot;html_9f6d19085a210724f3825545a09c5ed3&quot; style=&quot;width: 100.0%; height: 100.0%;&quot;&gt;[&#x27;Outletpark Murgenthal&#x27;, &#x27; 79&#x27;, &#x27; 4853&#x27;, &#x27;Riken AG&#x27;, None, &#x27; 4853&#x27;]&lt;/div&gt;`)[0];\n                popup_0172ace64181ff566a597468d5839f15.setContent(html_9f6d19085a210724f3825545a09c5ed3);\n            \n        \n\n        marker_7ab55511b08a059a8ddd65b169fa7dcd.bindPopup(popup_0172ace64181ff566a597468d5839f15)\n        ;\n\n        \n    \n    \n            var marker_0a0d2161fb41003a8bcba963f15bfc7f = L.marker(\n                [47.59191660026886, 8.179392965347487],\n                {}\n            ).addTo(map_850287e1ba7351573ca96ae619e06dd3);\n        \n    \n            var icon_3811e3ae3b6a0e14ba0c6ac5801208b2 = L.AwesomeMarkers.icon(\n                {&quot;extraClasses&quot;: &quot;fa-rotate-0&quot;, &quot;icon&quot;: &quot;info-sign&quot;, &quot;iconColor&quot;: &quot;white&quot;, &quot;markerColor&quot;: &quot;green&quot;, &quot;prefix&quot;: &quot;glyphicon&quot;}\n            );\n            marker_0a0d2161fb41003a8bcba963f15bfc7f.setIcon(icon_3811e3ae3b6a0e14ba0c6ac5801208b2);\n        \n    \n        var popup_7c8ccec357706f4029896586440ea671 = L.popup({&quot;maxWidth&quot;: &quot;100%&quot;});\n\n        \n            \n                var html_762cf170113ad1d59db4bdf56a642225 = $(`&lt;div id=&quot;html_762cf170113ad1d59db4bdf56a642225&quot; style=&quot;width: 100.0%; height: 100.0%;&quot;&gt;[None, None, &#x27; 5325&#x27;, &#x27;Leibstadt&#x27;, None, &#x27; 5325&#x27;]&lt;/div&gt;`)[0];\n                popup_7c8ccec357706f4029896586440ea671.setContent(html_762cf170113ad1d59db4bdf56a642225);\n            \n        \n\n        marker_0a0d2161fb41003a8bcba963f15bfc7f.bindPopup(popup_7c8ccec357706f4029896586440ea671)\n        ;\n\n        \n    \n    \n            var marker_73fb62c72cc0338039546b349164799e = L.marker(\n                [46.22072263214226, 6.0957341093531605],\n                {}\n            ).addTo(map_850287e1ba7351573ca96ae619e06dd3);\n        \n    \n            var icon_d6243a0ec3984b4796bd114c8aa07000 = L.AwesomeMarkers.icon(\n                {&quot;extraClasses&quot;: &quot;fa-rotate-0&quot;, &quot;icon&quot;: &quot;info-sign&quot;, &quot;iconColor&quot;: &quot;white&quot;, &quot;markerColor&quot;: &quot;green&quot;, &quot;prefix&quot;: &quot;glyphicon&quot;}\n            );\n            marker_73fb62c72cc0338039546b349164799e.setIcon(icon_d6243a0ec3984b4796bd114c8aa07000);\n        \n    \n        var popup_92e6eaf2ef39bbb54b54c2d1560a9d74 = L.popup({&quot;maxWidth&quot;: &quot;100%&quot;});\n\n        \n            \n                var html_e1fa58f7618dff614a524f0edd24b6bd = $(`&lt;div id=&quot;html_e1fa58f7618dff614a524f0edd24b6bd&quot; style=&quot;width: 100.0%; height: 100.0%;&quot;&gt;[None, &#x27;3&#x27;, &#x27; 6643&#x27;, None, None, &#x27; 6643&#x27;]&lt;/div&gt;`)[0];\n                popup_92e6eaf2ef39bbb54b54c2d1560a9d74.setContent(html_e1fa58f7618dff614a524f0edd24b6bd);\n            \n        \n\n        marker_73fb62c72cc0338039546b349164799e.bindPopup(popup_92e6eaf2ef39bbb54b54c2d1560a9d74)\n        ;\n\n        \n    \n    \n            var marker_6ef5d1d1634d0fbf196aaa3a090df5b4 = L.marker(\n                [47.23968808113957, 7.963587754623894],\n                {}\n            ).addTo(map_850287e1ba7351573ca96ae619e06dd3);\n        \n    \n            var icon_73afc030c33b7764b321003daf62ac70 = L.AwesomeMarkers.icon(\n                {&quot;extraClasses&quot;: &quot;fa-rotate-0&quot;, &quot;icon&quot;: &quot;info-sign&quot;, &quot;iconColor&quot;: &quot;white&quot;, &quot;markerColor&quot;: &quot;green&quot;, &quot;prefix&quot;: &quot;glyphicon&quot;}\n            );\n            marker_6ef5d1d1634d0fbf196aaa3a090df5b4.setIcon(icon_73afc030c33b7764b321003daf62ac70);\n        \n    \n        var popup_af53d197754fb071a43ad22569420c18 = L.popup({&quot;maxWidth&quot;: &quot;100%&quot;});\n\n        \n            \n                var html_a1ec43e86240cfcf30ca41472078a0e4 = $(`&lt;div id=&quot;html_a1ec43e86240cfcf30ca41472078a0e4&quot; style=&quot;width: 100.0%; height: 100.0%;&quot;&gt;[None, &#x27;12&#x27;, &#x27; 6260&#x27;, &#x27;Mehlsecken&#x27;, None, &#x27; 6260&#x27;]&lt;/div&gt;`)[0];\n                popup_af53d197754fb071a43ad22569420c18.setContent(html_a1ec43e86240cfcf30ca41472078a0e4);\n            \n        \n\n        marker_6ef5d1d1634d0fbf196aaa3a090df5b4.bindPopup(popup_af53d197754fb071a43ad22569420c18)\n        ;\n\n        \n    \n    \n            var marker_45bd54da28ef867a9aeec95ec0ab9e2a = L.marker(\n                [46.52715091030971, 6.653310632078919],\n                {}\n            ).addTo(map_850287e1ba7351573ca96ae619e06dd3);\n        \n    \n            var icon_b8b83cd86389e44eb8cdb17071aebeb3 = L.AwesomeMarkers.icon(\n                {&quot;extraClasses&quot;: &quot;fa-rotate-0&quot;, &quot;icon&quot;: &quot;info-sign&quot;, &quot;iconColor&quot;: &quot;white&quot;, &quot;markerColor&quot;: &quot;green&quot;, &quot;prefix&quot;: &quot;glyphicon&quot;}\n            );\n            marker_45bd54da28ef867a9aeec95ec0ab9e2a.setIcon(icon_b8b83cd86389e44eb8cdb17071aebeb3);\n        \n    \n        var popup_f504981ddc9765bc55cfa65210e6be3b = L.popup({&quot;maxWidth&quot;: &quot;100%&quot;});\n\n        \n            \n                var html_5bba90e0b6302a9dbcf18dce42c27aff = $(`&lt;div id=&quot;html_5bba90e0b6302a9dbcf18dce42c27aff&quot; style=&quot;width: 100.0%; height: 100.0%;&quot;&gt;[None, &#x27;10c&#x27;, &#x27; 1012&#x27;, &#x27;Lausanne&#x27;, None, &#x27; 1012&#x27;]&lt;/div&gt;`)[0];\n                popup_f504981ddc9765bc55cfa65210e6be3b.setContent(html_5bba90e0b6302a9dbcf18dce42c27aff);\n            \n        \n\n        marker_45bd54da28ef867a9aeec95ec0ab9e2a.bindPopup(popup_f504981ddc9765bc55cfa65210e6be3b)\n        ;\n\n        \n    \n    \n            var marker_4b33ea4a69e59d2993175064a936579a = L.marker(\n                [47.096464682126985, 9.505680429810832],\n                {}\n            ).addTo(map_850287e1ba7351573ca96ae619e06dd3);\n        \n    \n            var icon_a882d2be94700544e5befef22607ae9e = L.AwesomeMarkers.icon(\n                {&quot;extraClasses&quot;: &quot;fa-rotate-0&quot;, &quot;icon&quot;: &quot;info-sign&quot;, &quot;iconColor&quot;: &quot;white&quot;, &quot;markerColor&quot;: &quot;green&quot;, &quot;prefix&quot;: &quot;glyphicon&quot;}\n            );\n            marker_4b33ea4a69e59d2993175064a936579a.setIcon(icon_a882d2be94700544e5befef22607ae9e);\n        \n    \n        var popup_6406a5b8b9bb112e4546137c0a350244 = L.popup({&quot;maxWidth&quot;: &quot;100%&quot;});\n\n        \n            \n                var html_b3d8fd03881fdfffa104b39cd6a3a2ca = $(`&lt;div id=&quot;html_b3d8fd03881fdfffa104b39cd6a3a2ca&quot; style=&quot;width: 100.0%; height: 100.0%;&quot;&gt;[&#x27;ARA Wartau&#x27;, &#x27; 1&#x27;, &#x27; 9476&#x27;, &#x27;Weite&#x27;, None, &#x27; 9476&#x27;]&lt;/div&gt;`)[0];\n                popup_6406a5b8b9bb112e4546137c0a350244.setContent(html_b3d8fd03881fdfffa104b39cd6a3a2ca);\n            \n        \n\n        marker_4b33ea4a69e59d2993175064a936579a.bindPopup(popup_6406a5b8b9bb112e4546137c0a350244)\n        ;\n\n        \n    \n    \n            var marker_9f6d6e2574e3a9956517da787f25af20 = L.marker(\n                [46.18721217870401, 7.581336201424769],\n                {}\n            ).addTo(map_850287e1ba7351573ca96ae619e06dd3);\n        \n    \n            var icon_12b82f01f12066e1a7067ade25e6614e = L.AwesomeMarkers.icon(\n                {&quot;extraClasses&quot;: &quot;fa-rotate-0&quot;, &quot;icon&quot;: &quot;info-sign&quot;, &quot;iconColor&quot;: &quot;white&quot;, &quot;markerColor&quot;: &quot;green&quot;, &quot;prefix&quot;: &quot;glyphicon&quot;}\n            );\n            marker_9f6d6e2574e3a9956517da787f25af20.setIcon(icon_12b82f01f12066e1a7067ade25e6614e);\n        \n    \n        var popup_6c43c27a017181a897a31d67192c7f7f = L.popup({&quot;maxWidth&quot;: &quot;100%&quot;});\n\n        \n            \n                var html_d91a6a567144f19db3edb3544a22d644 = $(`&lt;div id=&quot;html_d91a6a567144f19db3edb3544a22d644&quot; style=&quot;width: 100.0%; height: 100.0%;&quot;&gt;[None, None, &#x27; 3961&#x27;, &#x27;Mission&#x27;, None, &#x27; 3961&#x27;]&lt;/div&gt;`)[0];\n                popup_6c43c27a017181a897a31d67192c7f7f.setContent(html_d91a6a567144f19db3edb3544a22d644);\n            \n        \n\n        marker_9f6d6e2574e3a9956517da787f25af20.bindPopup(popup_6c43c27a017181a897a31d67192c7f7f)\n        ;\n\n        \n    \n    \n            var marker_cc569841d68bbd32d379140bf537b3aa = L.marker(\n                [47.48235402873181, 9.25585008850364],\n                {}\n            ).addTo(map_850287e1ba7351573ca96ae619e06dd3);\n        \n    \n            var icon_9a418546ebc58cc08d2849dd883d821b = L.AwesomeMarkers.icon(\n                {&quot;extraClasses&quot;: &quot;fa-rotate-0&quot;, &quot;icon&quot;: &quot;info-sign&quot;, &quot;iconColor&quot;: &quot;white&quot;, &quot;markerColor&quot;: &quot;green&quot;, &quot;prefix&quot;: &quot;glyphicon&quot;}\n            );\n            marker_cc569841d68bbd32d379140bf537b3aa.setIcon(icon_9a418546ebc58cc08d2849dd883d821b);\n        \n    \n        var popup_6a8c42b928976af9947dad4327047b7e = L.popup({&quot;maxWidth&quot;: &quot;100%&quot;});\n\n        \n            \n                var html_470f20d94ce24b897e4d541a959a40d6 = $(`&lt;div id=&quot;html_470f20d94ce24b897e4d541a959a40d6&quot; style=&quot;width: 100.0%; height: 100.0%;&quot;&gt;[None, None, &#x27; 9213&#x27;, &#x27;Hauptwil&#x27;, None, &#x27; 9213&#x27;]&lt;/div&gt;`)[0];\n                popup_6a8c42b928976af9947dad4327047b7e.setContent(html_470f20d94ce24b897e4d541a959a40d6);\n            \n        \n\n        marker_cc569841d68bbd32d379140bf537b3aa.bindPopup(popup_6a8c42b928976af9947dad4327047b7e)\n        ;\n\n        \n    \n    \n            var marker_423e5c20ca3fc9850092ebd1525f9589 = L.marker(\n                [47.389118842273945, 8.047346651338406],\n                {}\n            ).addTo(map_850287e1ba7351573ca96ae619e06dd3);\n        \n    \n            var icon_db0ce40712cb86dff4dc23a4b68d7a98 = L.AwesomeMarkers.icon(\n                {&quot;extraClasses&quot;: &quot;fa-rotate-0&quot;, &quot;icon&quot;: &quot;info-sign&quot;, &quot;iconColor&quot;: &quot;white&quot;, &quot;markerColor&quot;: &quot;green&quot;, &quot;prefix&quot;: &quot;glyphicon&quot;}\n            );\n            marker_423e5c20ca3fc9850092ebd1525f9589.setIcon(icon_db0ce40712cb86dff4dc23a4b68d7a98);\n        \n    \n        var popup_51233c1aff64947d1166f43d0729b7de = L.popup({&quot;maxWidth&quot;: &quot;100%&quot;});\n\n        \n            \n                var html_a7c895beb935e434dded583873d7ed31 = $(`&lt;div id=&quot;html_a7c895beb935e434dded583873d7ed31&quot; style=&quot;width: 100.0%; height: 100.0%;&quot;&gt;[&#x27;AEW Energie AG&#x27;, &#x27; 40&#x27;, &#x27; 5000&#x27;, &#x27;Aarau Postauto AG&#x27;, None, &#x27; 5000&#x27;]&lt;/div&gt;`)[0];\n                popup_51233c1aff64947d1166f43d0729b7de.setContent(html_a7c895beb935e434dded583873d7ed31);\n            \n        \n\n        marker_423e5c20ca3fc9850092ebd1525f9589.bindPopup(popup_51233c1aff64947d1166f43d0729b7de)\n        ;\n\n        \n    \n    \n            var marker_e2d3125be7941a6081e6d7ce9f99afa6 = L.marker(\n                [47.39425448564568, 9.589809901335213],\n                {}\n            ).addTo(map_850287e1ba7351573ca96ae619e06dd3);\n        \n    \n            var icon_003db26a7a51926470bbab38629991be = L.AwesomeMarkers.icon(\n                {&quot;extraClasses&quot;: &quot;fa-rotate-0&quot;, &quot;icon&quot;: &quot;info-sign&quot;, &quot;iconColor&quot;: &quot;white&quot;, &quot;markerColor&quot;: &quot;green&quot;, &quot;prefix&quot;: &quot;glyphicon&quot;}\n            );\n            marker_e2d3125be7941a6081e6d7ce9f99afa6.setIcon(icon_003db26a7a51926470bbab38629991be);\n        \n    \n        var popup_571dc237f7a92433b5697753e411f297 = L.popup({&quot;maxWidth&quot;: &quot;100%&quot;});\n\n        \n            \n                var html_f1f0358591bd57de7d9ab7f5d871e3d4 = $(`&lt;div id=&quot;html_f1f0358591bd57de7d9ab7f5d871e3d4&quot; style=&quot;width: 100.0%; height: 100.0%;&quot;&gt;[None, None, &#x27; 9445&#x27;, &#x27;Rebstein&#x27;, None, &#x27; 9445&#x27;]&lt;/div&gt;`)[0];\n                popup_571dc237f7a92433b5697753e411f297.setContent(html_f1f0358591bd57de7d9ab7f5d871e3d4);\n            \n        \n\n        marker_e2d3125be7941a6081e6d7ce9f99afa6.bindPopup(popup_571dc237f7a92433b5697753e411f297)\n        ;\n\n        \n    \n    \n            var marker_8517e1b11848e8c3af9627daca9b47c6 = L.marker(\n                [47.40466956825127, 8.548450635835016],\n                {}\n            ).addTo(map_850287e1ba7351573ca96ae619e06dd3);\n        \n    \n            var icon_1370e5686600eff37c08733aeab46cad = L.AwesomeMarkers.icon(\n                {&quot;extraClasses&quot;: &quot;fa-rotate-0&quot;, &quot;icon&quot;: &quot;info-sign&quot;, &quot;iconColor&quot;: &quot;white&quot;, &quot;markerColor&quot;: &quot;green&quot;, &quot;prefix&quot;: &quot;glyphicon&quot;}\n            );\n            marker_8517e1b11848e8c3af9627daca9b47c6.setIcon(icon_1370e5686600eff37c08733aeab46cad);\n        \n    \n        var popup_6c9b253473091fecb485522915738717 = L.popup({&quot;maxWidth&quot;: &quot;100%&quot;});\n\n        \n            \n                var html_8410f1944ddd0890d9ccaf2879605585 = $(`&lt;div id=&quot;html_8410f1944ddd0890d9ccaf2879605585&quot; style=&quot;width: 100.0%; height: 100.0%;&quot;&gt;[None, &#x27;276&#x27;, &#x27; 8057&#x27;, &#x27;Zürich&#x27;, None, &#x27; 8057&#x27;]&lt;/div&gt;`)[0];\n                popup_6c9b253473091fecb485522915738717.setContent(html_8410f1944ddd0890d9ccaf2879605585);\n            \n        \n\n        marker_8517e1b11848e8c3af9627daca9b47c6.bindPopup(popup_6c9b253473091fecb485522915738717)\n        ;\n\n        \n    \n    \n            var marker_95b3a4cff691c1b7905ca9e124e2688f = L.marker(\n                [46.06772160244409, 6.935882043412124],\n                {}\n            ).addTo(map_850287e1ba7351573ca96ae619e06dd3);\n        \n    \n            var icon_ed4ed154a17db83fdf079fb772ee843e = L.AwesomeMarkers.icon(\n                {&quot;extraClasses&quot;: &quot;fa-rotate-0&quot;, &quot;icon&quot;: &quot;info-sign&quot;, &quot;iconColor&quot;: &quot;white&quot;, &quot;markerColor&quot;: &quot;green&quot;, &quot;prefix&quot;: &quot;glyphicon&quot;}\n            );\n            marker_95b3a4cff691c1b7905ca9e124e2688f.setIcon(icon_ed4ed154a17db83fdf079fb772ee843e);\n        \n    \n        var popup_9e025e204dbe3e85605a7355255d2ad4 = L.popup({&quot;maxWidth&quot;: &quot;100%&quot;});\n\n        \n            \n                var html_b1ae55dfef3dca48b7eb7528cf372ff8 = $(`&lt;div id=&quot;html_b1ae55dfef3dca48b7eb7528cf372ff8&quot; style=&quot;width: 100.0%; height: 100.0%;&quot;&gt;[None, None, &#x27; 1925&#x27;, &#x27;Finhaut&#x27;, None, &#x27; 1925&#x27;]&lt;/div&gt;`)[0];\n                popup_9e025e204dbe3e85605a7355255d2ad4.setContent(html_b1ae55dfef3dca48b7eb7528cf372ff8);\n            \n        \n\n        marker_95b3a4cff691c1b7905ca9e124e2688f.bindPopup(popup_9e025e204dbe3e85605a7355255d2ad4)\n        ;\n\n        \n    \n    \n            var marker_2f39c7fe4c8a57eb7ba6519343dbad47 = L.marker(\n                [46.71637744880908, 7.641621993113148],\n                {}\n            ).addTo(map_850287e1ba7351573ca96ae619e06dd3);\n        \n    \n            var icon_994af985f70a147f9b636a27c4ef7c5d = L.AwesomeMarkers.icon(\n                {&quot;extraClasses&quot;: &quot;fa-rotate-0&quot;, &quot;icon&quot;: &quot;info-sign&quot;, &quot;iconColor&quot;: &quot;white&quot;, &quot;markerColor&quot;: &quot;green&quot;, &quot;prefix&quot;: &quot;glyphicon&quot;}\n            );\n            marker_2f39c7fe4c8a57eb7ba6519343dbad47.setIcon(icon_994af985f70a147f9b636a27c4ef7c5d);\n        \n    \n        var popup_31d669b36e313f4e43afb598c89b334a = L.popup({&quot;maxWidth&quot;: &quot;100%&quot;});\n\n        \n            \n                var html_d5edbd9d5f43093337d5eedeb073f80e = $(`&lt;div id=&quot;html_d5edbd9d5f43093337d5eedeb073f80e&quot; style=&quot;width: 100.0%; height: 100.0%;&quot;&gt;[None, &#x27;2108&#x27;, &#x27; 3646&#x27;, &#x27;Einigen&#x27;, None, &#x27; 3646&#x27;]&lt;/div&gt;`)[0];\n                popup_31d669b36e313f4e43afb598c89b334a.setContent(html_d5edbd9d5f43093337d5eedeb073f80e);\n            \n        \n\n        marker_2f39c7fe4c8a57eb7ba6519343dbad47.bindPopup(popup_31d669b36e313f4e43afb598c89b334a)\n        ;\n\n        \n    \n    \n            var marker_0221de8928883fd0884318a5c3f18640 = L.marker(\n                [46.936643130301306, 8.276665355452852],\n                {}\n            ).addTo(map_850287e1ba7351573ca96ae619e06dd3);\n        \n    \n            var icon_7b72406ff75fb866a1b6fd675cfe262f = L.AwesomeMarkers.icon(\n                {&quot;extraClasses&quot;: &quot;fa-rotate-0&quot;, &quot;icon&quot;: &quot;info-sign&quot;, &quot;iconColor&quot;: &quot;white&quot;, &quot;markerColor&quot;: &quot;green&quot;, &quot;prefix&quot;: &quot;glyphicon&quot;}\n            );\n            marker_0221de8928883fd0884318a5c3f18640.setIcon(icon_7b72406ff75fb866a1b6fd675cfe262f);\n        \n    \n        var popup_9fb70ce83ceb0e8a11bf643b671d3f89 = L.popup({&quot;maxWidth&quot;: &quot;100%&quot;});\n\n        \n            \n                var html_7558d3612a6315f731c2a61a86507391 = $(`&lt;div id=&quot;html_7558d3612a6315f731c2a61a86507391&quot; style=&quot;width: 100.0%; height: 100.0%;&quot;&gt;[None, &#x27;25&#x27;, &#x27; 6055&#x27;, &#x27;Alpnach Brünigstr&#x27;, None, &#x27; 6055&#x27;]&lt;/div&gt;`)[0];\n                popup_9fb70ce83ceb0e8a11bf643b671d3f89.setContent(html_7558d3612a6315f731c2a61a86507391);\n            \n        \n\n        marker_0221de8928883fd0884318a5c3f18640.bindPopup(popup_9fb70ce83ceb0e8a11bf643b671d3f89)\n        ;\n\n        \n    \n    \n            var marker_f73bb0254ecc407352c607b2da5b8ed1 = L.marker(\n                [46.86615740298081, 6.938370807295143],\n                {}\n            ).addTo(map_850287e1ba7351573ca96ae619e06dd3);\n        \n    \n            var icon_c8e811eb6f891df45af2dd8e52ddb046 = L.AwesomeMarkers.icon(\n                {&quot;extraClasses&quot;: &quot;fa-rotate-0&quot;, &quot;icon&quot;: &quot;info-sign&quot;, &quot;iconColor&quot;: &quot;white&quot;, &quot;markerColor&quot;: &quot;green&quot;, &quot;prefix&quot;: &quot;glyphicon&quot;}\n            );\n            marker_f73bb0254ecc407352c607b2da5b8ed1.setIcon(icon_c8e811eb6f891df45af2dd8e52ddb046);\n        \n    \n        var popup_ef63a0629610de3867282fe69caa343f = L.popup({&quot;maxWidth&quot;: &quot;100%&quot;});\n\n        \n            \n                var html_0b1271e83ac48605fccbc9a3a7db704d = $(`&lt;div id=&quot;html_0b1271e83ac48605fccbc9a3a7db704d&quot; style=&quot;width: 100.0%; height: 100.0%;&quot;&gt;[None, None, &#x27; 1543&#x27;, &#x27;Grandcour&#x27;, None, &#x27; 1543&#x27;]&lt;/div&gt;`)[0];\n                popup_ef63a0629610de3867282fe69caa343f.setContent(html_0b1271e83ac48605fccbc9a3a7db704d);\n            \n        \n\n        marker_f73bb0254ecc407352c607b2da5b8ed1.bindPopup(popup_ef63a0629610de3867282fe69caa343f)\n        ;\n\n        \n    \n    \n            var marker_8ff192bdd492a07b8c7d9e332fd469d4 = L.marker(\n                [46.617884713185575, 6.50901499549102],\n                {}\n            ).addTo(map_850287e1ba7351573ca96ae619e06dd3);\n        \n    \n            var icon_9d2a6e742196d217e7f0c4d30c119274 = L.AwesomeMarkers.icon(\n                {&quot;extraClasses&quot;: &quot;fa-rotate-0&quot;, &quot;icon&quot;: &quot;info-sign&quot;, &quot;iconColor&quot;: &quot;white&quot;, &quot;markerColor&quot;: &quot;green&quot;, &quot;prefix&quot;: &quot;glyphicon&quot;}\n            );\n            marker_8ff192bdd492a07b8c7d9e332fd469d4.setIcon(icon_9d2a6e742196d217e7f0c4d30c119274);\n        \n    \n        var popup_06e269d36a7c33e33f092a3f0372d165 = L.popup({&quot;maxWidth&quot;: &quot;100%&quot;});\n\n        \n            \n                var html_62f66c9131992dfabbe52272f5068177 = $(`&lt;div id=&quot;html_62f66c9131992dfabbe52272f5068177&quot; style=&quot;width: 100.0%; height: 100.0%;&quot;&gt;[None, &#x27;6a&#x27;, &#x27; 1304&#x27;, &#x27;Allens&#x27;, None, &#x27; 1304&#x27;]&lt;/div&gt;`)[0];\n                popup_06e269d36a7c33e33f092a3f0372d165.setContent(html_62f66c9131992dfabbe52272f5068177);\n            \n        \n\n        marker_8ff192bdd492a07b8c7d9e332fd469d4.bindPopup(popup_06e269d36a7c33e33f092a3f0372d165)\n        ;\n\n        \n    \n    \n            var marker_9dbbe0d18c9039eb1f6e390d3276f880 = L.marker(\n                [47.380210762287, 8.543875619055614],\n                {}\n            ).addTo(map_850287e1ba7351573ca96ae619e06dd3);\n        \n    \n            var icon_a63604e7333b39d5052034f0444417f0 = L.AwesomeMarkers.icon(\n                {&quot;extraClasses&quot;: &quot;fa-rotate-0&quot;, &quot;icon&quot;: &quot;info-sign&quot;, &quot;iconColor&quot;: &quot;white&quot;, &quot;markerColor&quot;: &quot;green&quot;, &quot;prefix&quot;: &quot;glyphicon&quot;}\n            );\n            marker_9dbbe0d18c9039eb1f6e390d3276f880.setIcon(icon_a63604e7333b39d5052034f0444417f0);\n        \n    \n        var popup_dd5bfb11f370fba5f969a87512ce90b6 = L.popup({&quot;maxWidth&quot;: &quot;100%&quot;});\n\n        \n            \n                var html_aa49c6cc751d7b7edb6f90e4227167f9 = $(`&lt;div id=&quot;html_aa49c6cc751d7b7edb6f90e4227167f9&quot; style=&quot;width: 100.0%; height: 100.0%;&quot;&gt;[&#x27;ETH WES&#x27;, &#x27; 41&#x27;, &#x27; 8006&#x27;, &#x27;Zürich&#x27;, None, &#x27; 8006&#x27;]&lt;/div&gt;`)[0];\n                popup_dd5bfb11f370fba5f969a87512ce90b6.setContent(html_aa49c6cc751d7b7edb6f90e4227167f9);\n            \n        \n\n        marker_9dbbe0d18c9039eb1f6e390d3276f880.bindPopup(popup_dd5bfb11f370fba5f969a87512ce90b6)\n        ;\n\n        \n    \n    \n            var marker_5bd9780f607612bbe116967ab5e8616c = L.marker(\n                [46.974817216364045, 7.410206004530642],\n                {}\n            ).addTo(map_850287e1ba7351573ca96ae619e06dd3);\n        \n    \n            var icon_7c2996491c0a1396b3cfadc683b13fa4 = L.AwesomeMarkers.icon(\n                {&quot;extraClasses&quot;: &quot;fa-rotate-0&quot;, &quot;icon&quot;: &quot;info-sign&quot;, &quot;iconColor&quot;: &quot;white&quot;, &quot;markerColor&quot;: &quot;green&quot;, &quot;prefix&quot;: &quot;glyphicon&quot;}\n            );\n            marker_5bd9780f607612bbe116967ab5e8616c.setIcon(icon_7c2996491c0a1396b3cfadc683b13fa4);\n        \n    \n        var popup_7ef3e142187458223631d197eb7f0b31 = L.popup({&quot;maxWidth&quot;: &quot;100%&quot;});\n\n        \n            \n                var html_201cda34b7b8db468ec397ba4b76f736 = $(`&lt;div id=&quot;html_201cda34b7b8db468ec397ba4b76f736&quot; style=&quot;width: 100.0%; height: 100.0%;&quot;&gt;[None, None, &#x27; 3037&#x27;, &#x27;Herrenschwanden&#x27;, None, &#x27; 3037&#x27;]&lt;/div&gt;`)[0];\n                popup_7ef3e142187458223631d197eb7f0b31.setContent(html_201cda34b7b8db468ec397ba4b76f736);\n            \n        \n\n        marker_5bd9780f607612bbe116967ab5e8616c.bindPopup(popup_7ef3e142187458223631d197eb7f0b31)\n        ;\n\n        \n    \n    \n            var marker_b1d4ca067ed7711e5d0d2d43a7a8c374 = L.marker(\n                [46.50062402327223, 6.779384062123342],\n                {}\n            ).addTo(map_850287e1ba7351573ca96ae619e06dd3);\n        \n    \n            var icon_a10b6a0291b744acc5d6f5326cde9a2c = L.AwesomeMarkers.icon(\n                {&quot;extraClasses&quot;: &quot;fa-rotate-0&quot;, &quot;icon&quot;: &quot;info-sign&quot;, &quot;iconColor&quot;: &quot;white&quot;, &quot;markerColor&quot;: &quot;green&quot;, &quot;prefix&quot;: &quot;glyphicon&quot;}\n            );\n            marker_b1d4ca067ed7711e5d0d2d43a7a8c374.setIcon(icon_a10b6a0291b744acc5d6f5326cde9a2c);\n        \n    \n        var popup_c63b09dfcd1bf7b31699d5ecd36f019b = L.popup({&quot;maxWidth&quot;: &quot;100%&quot;});\n\n        \n            \n                var html_0907dbdc1ee39ed693e64f54324c8bd6 = $(`&lt;div id=&quot;html_0907dbdc1ee39ed693e64f54324c8bd6&quot; style=&quot;width: 100.0%; height: 100.0%;&quot;&gt;[None, None, &#x27; 1070&#x27;, &#x27;Puidoux&#x27;, None, &#x27; 1070&#x27;]&lt;/div&gt;`)[0];\n                popup_c63b09dfcd1bf7b31699d5ecd36f019b.setContent(html_0907dbdc1ee39ed693e64f54324c8bd6);\n            \n        \n\n        marker_b1d4ca067ed7711e5d0d2d43a7a8c374.bindPopup(popup_c63b09dfcd1bf7b31699d5ecd36f019b)\n        ;\n\n        \n    \n    \n            var marker_91b2c6f54cd9f05dc22e3bbbeedb32e4 = L.marker(\n                [47.04849186405694, 8.605623335590286],\n                {}\n            ).addTo(map_850287e1ba7351573ca96ae619e06dd3);\n        \n    \n            var icon_50d921523ce2d5812f0046cbf53674a7 = L.AwesomeMarkers.icon(\n                {&quot;extraClasses&quot;: &quot;fa-rotate-0&quot;, &quot;icon&quot;: &quot;info-sign&quot;, &quot;iconColor&quot;: &quot;white&quot;, &quot;markerColor&quot;: &quot;green&quot;, &quot;prefix&quot;: &quot;glyphicon&quot;}\n            );\n            marker_91b2c6f54cd9f05dc22e3bbbeedb32e4.setIcon(icon_50d921523ce2d5812f0046cbf53674a7);\n        \n    \n        var popup_b25839c553ed6f9aa6e807f932f97758 = L.popup({&quot;maxWidth&quot;: &quot;100%&quot;});\n\n        \n            \n                var html_0356da54f9d5dec233f7be59f1d65d77 = $(`&lt;div id=&quot;html_0356da54f9d5dec233f7be59f1d65d77&quot; style=&quot;width: 100.0%; height: 100.0%;&quot;&gt;[None, None, &#x27; 6422&#x27;, &#x27;Steinen Zustellung&#x27;, None, &#x27; 6422&#x27;]&lt;/div&gt;`)[0];\n                popup_b25839c553ed6f9aa6e807f932f97758.setContent(html_0356da54f9d5dec233f7be59f1d65d77);\n            \n        \n\n        marker_91b2c6f54cd9f05dc22e3bbbeedb32e4.bindPopup(popup_b25839c553ed6f9aa6e807f932f97758)\n        ;\n\n        \n    \n    \n            var marker_900060ff2cf6ac7e91476ae08dd48b55 = L.marker(\n                [47.07691745412742, 8.308524650440566],\n                {}\n            ).addTo(map_850287e1ba7351573ca96ae619e06dd3);\n        \n    \n            var icon_4aa4cd2c4892c457db1408f21f069ff5 = L.AwesomeMarkers.icon(\n                {&quot;extraClasses&quot;: &quot;fa-rotate-0&quot;, &quot;icon&quot;: &quot;info-sign&quot;, &quot;iconColor&quot;: &quot;white&quot;, &quot;markerColor&quot;: &quot;green&quot;, &quot;prefix&quot;: &quot;glyphicon&quot;}\n            );\n            marker_900060ff2cf6ac7e91476ae08dd48b55.setIcon(icon_4aa4cd2c4892c457db1408f21f069ff5);\n        \n    \n        var popup_fa0c8c8abeb5afdf24270bbaf998f7f5 = L.popup({&quot;maxWidth&quot;: &quot;100%&quot;});\n\n        \n            \n                var html_b7e028fa0fa0bbb1ea7093c6c397469b = $(`&lt;div id=&quot;html_b7e028fa0fa0bbb1ea7093c6c397469b&quot; style=&quot;width: 100.0%; height: 100.0%;&quot;&gt;[None, &#x27;A14&#x27;, &#x27; 6030&#x27;, &#x27;Ebikon Mall Switz.&#x27;, None, &#x27; 6030&#x27;]&lt;/div&gt;`)[0];\n                popup_fa0c8c8abeb5afdf24270bbaf998f7f5.setContent(html_b7e028fa0fa0bbb1ea7093c6c397469b);\n            \n        \n\n        marker_900060ff2cf6ac7e91476ae08dd48b55.bindPopup(popup_fa0c8c8abeb5afdf24270bbaf998f7f5)\n        ;\n\n        \n    \n    \n            var marker_b0f4514625bf010eb8811dc209447b99 = L.marker(\n                [47.580429226152305, 9.06900812430776],\n                {}\n            ).addTo(map_850287e1ba7351573ca96ae619e06dd3);\n        \n    \n            var icon_b2aeb3596077cbe875d250d88aee6cdb = L.AwesomeMarkers.icon(\n                {&quot;extraClasses&quot;: &quot;fa-rotate-0&quot;, &quot;icon&quot;: &quot;info-sign&quot;, &quot;iconColor&quot;: &quot;white&quot;, &quot;markerColor&quot;: &quot;green&quot;, &quot;prefix&quot;: &quot;glyphicon&quot;}\n            );\n            marker_b0f4514625bf010eb8811dc209447b99.setIcon(icon_b2aeb3596077cbe875d250d88aee6cdb);\n        \n    \n        var popup_586d6f6cf3e1ea4e60e7cc42f705d9e3 = L.popup({&quot;maxWidth&quot;: &quot;100%&quot;});\n\n        \n            \n                var html_7468f70c32c4ca7764a3bf7d56394280 = $(`&lt;div id=&quot;html_7468f70c32c4ca7764a3bf7d56394280&quot; style=&quot;width: 100.0%; height: 100.0%;&quot;&gt;[None, None, &#x27; 8560&#x27;, &#x27;Märstetten&#x27;, None, &#x27; 8560&#x27;]&lt;/div&gt;`)[0];\n                popup_586d6f6cf3e1ea4e60e7cc42f705d9e3.setContent(html_7468f70c32c4ca7764a3bf7d56394280);\n            \n        \n\n        marker_b0f4514625bf010eb8811dc209447b99.bindPopup(popup_586d6f6cf3e1ea4e60e7cc42f705d9e3)\n        ;\n\n        \n    \n    \n            var marker_4bd587c76a474378567bff0b946cd57d = L.marker(\n                [46.6271888972478, 7.051133615085495],\n                {}\n            ).addTo(map_850287e1ba7351573ca96ae619e06dd3);\n        \n    \n            var icon_58993c35d90d806a726ddf2139f2cafd = L.AwesomeMarkers.icon(\n                {&quot;extraClasses&quot;: &quot;fa-rotate-0&quot;, &quot;icon&quot;: &quot;info-sign&quot;, &quot;iconColor&quot;: &quot;white&quot;, &quot;markerColor&quot;: &quot;green&quot;, &quot;prefix&quot;: &quot;glyphicon&quot;}\n            );\n            marker_4bd587c76a474378567bff0b946cd57d.setIcon(icon_58993c35d90d806a726ddf2139f2cafd);\n        \n    \n        var popup_0a5456bede60d0da75a2b8ea6c5253c9 = L.popup({&quot;maxWidth&quot;: &quot;100%&quot;});\n\n        \n            \n                var html_ef15ec85cd90ea2e22b990f38b690acf = $(`&lt;div id=&quot;html_ef15ec85cd90ea2e22b990f38b690acf&quot; style=&quot;width: 100.0%; height: 100.0%;&quot;&gt;[None, &#x27;71&#x27;, &#x27; 1630&#x27;, &#x27;Bulle Jardins P.L.&#x27;, None, &#x27; 1630&#x27;]&lt;/div&gt;`)[0];\n                popup_0a5456bede60d0da75a2b8ea6c5253c9.setContent(html_ef15ec85cd90ea2e22b990f38b690acf);\n            \n        \n\n        marker_4bd587c76a474378567bff0b946cd57d.bindPopup(popup_0a5456bede60d0da75a2b8ea6c5253c9)\n        ;\n\n        \n    \n    \n            var marker_b5fcbc2d99dd9a610af0fa0bba1b0dfa = L.marker(\n                [47.514340719360185, 7.616871361846929],\n                {}\n            ).addTo(map_850287e1ba7351573ca96ae619e06dd3);\n        \n    \n            var icon_18f2a9d272d98f8a3ff95df031fa6394 = L.AwesomeMarkers.icon(\n                {&quot;extraClasses&quot;: &quot;fa-rotate-0&quot;, &quot;icon&quot;: &quot;info-sign&quot;, &quot;iconColor&quot;: &quot;white&quot;, &quot;markerColor&quot;: &quot;green&quot;, &quot;prefix&quot;: &quot;glyphicon&quot;}\n            );\n            marker_b5fcbc2d99dd9a610af0fa0bba1b0dfa.setIcon(icon_18f2a9d272d98f8a3ff95df031fa6394);\n        \n    \n        var popup_c245d94df5c7a9fa9e690656d7769eca = L.popup({&quot;maxWidth&quot;: &quot;100%&quot;});\n\n        \n            \n                var html_60b15db7928dc3f216b331aca1ba5755 = $(`&lt;div id=&quot;html_60b15db7928dc3f216b331aca1ba5755&quot; style=&quot;width: 100.0%; height: 100.0%;&quot;&gt;[None, &#x27;27&#x27;, &#x27; 4142&#x27;, &#x27;Münchenstein Stöck&#x27;, None, &#x27; 4142&#x27;]&lt;/div&gt;`)[0];\n                popup_c245d94df5c7a9fa9e690656d7769eca.setContent(html_60b15db7928dc3f216b331aca1ba5755);\n            \n        \n\n        marker_b5fcbc2d99dd9a610af0fa0bba1b0dfa.bindPopup(popup_c245d94df5c7a9fa9e690656d7769eca)\n        ;\n\n        \n    \n    \n            var marker_5f1e1eec5dc343983991212e038cd6d4 = L.marker(\n                [47.2713022762742, 7.841036710196624],\n                {}\n            ).addTo(map_850287e1ba7351573ca96ae619e06dd3);\n        \n    \n            var icon_82d1d7ae9f490755756bd535a625372d = L.AwesomeMarkers.icon(\n                {&quot;extraClasses&quot;: &quot;fa-rotate-0&quot;, &quot;icon&quot;: &quot;info-sign&quot;, &quot;iconColor&quot;: &quot;white&quot;, &quot;markerColor&quot;: &quot;green&quot;, &quot;prefix&quot;: &quot;glyphicon&quot;}\n            );\n            marker_5f1e1eec5dc343983991212e038cd6d4.setIcon(icon_82d1d7ae9f490755756bd535a625372d);\n        \n    \n        var popup_62f1d3ba8c8b240455f64ccecc86fa9d = L.popup({&quot;maxWidth&quot;: &quot;100%&quot;});\n\n        \n            \n                var html_de8422dd2f3d94529077a7cba90c8664 = $(`&lt;div id=&quot;html_de8422dd2f3d94529077a7cba90c8664&quot; style=&quot;width: 100.0%; height: 100.0%;&quot;&gt;[&#x27;Outletpark Murgenthal&#x27;, &#x27; 79&#x27;, &#x27; 4853&#x27;, &#x27;Riken AG&#x27;, None, &#x27; 4853&#x27;]&lt;/div&gt;`)[0];\n                popup_62f1d3ba8c8b240455f64ccecc86fa9d.setContent(html_de8422dd2f3d94529077a7cba90c8664);\n            \n        \n\n        marker_5f1e1eec5dc343983991212e038cd6d4.bindPopup(popup_62f1d3ba8c8b240455f64ccecc86fa9d)\n        ;\n\n        \n    \n    \n            var marker_f218c40b6d3a738f690ecee838c0cd6c = L.marker(\n                [47.59191660026886, 8.179392965347487],\n                {}\n            ).addTo(map_850287e1ba7351573ca96ae619e06dd3);\n        \n    \n            var icon_7a24bd274c500c93b164338625ee7355 = L.AwesomeMarkers.icon(\n                {&quot;extraClasses&quot;: &quot;fa-rotate-0&quot;, &quot;icon&quot;: &quot;info-sign&quot;, &quot;iconColor&quot;: &quot;white&quot;, &quot;markerColor&quot;: &quot;green&quot;, &quot;prefix&quot;: &quot;glyphicon&quot;}\n            );\n            marker_f218c40b6d3a738f690ecee838c0cd6c.setIcon(icon_7a24bd274c500c93b164338625ee7355);\n        \n    \n        var popup_7b069e71f9cb9c1485e06e9946567de8 = L.popup({&quot;maxWidth&quot;: &quot;100%&quot;});\n\n        \n            \n                var html_240e12ca610886459bd866dbd68d2e56 = $(`&lt;div id=&quot;html_240e12ca610886459bd866dbd68d2e56&quot; style=&quot;width: 100.0%; height: 100.0%;&quot;&gt;[None, None, &#x27; 5325&#x27;, &#x27;Leibstadt&#x27;, None, &#x27; 5325&#x27;]&lt;/div&gt;`)[0];\n                popup_7b069e71f9cb9c1485e06e9946567de8.setContent(html_240e12ca610886459bd866dbd68d2e56);\n            \n        \n\n        marker_f218c40b6d3a738f690ecee838c0cd6c.bindPopup(popup_7b069e71f9cb9c1485e06e9946567de8)\n        ;\n\n        \n    \n    \n            var marker_23e49d26be091448e6a6b574981996cd = L.marker(\n                [46.22072263214226, 6.0957341093531605],\n                {}\n            ).addTo(map_850287e1ba7351573ca96ae619e06dd3);\n        \n    \n            var icon_111b87d7653492b2ec55712da381ded7 = L.AwesomeMarkers.icon(\n                {&quot;extraClasses&quot;: &quot;fa-rotate-0&quot;, &quot;icon&quot;: &quot;info-sign&quot;, &quot;iconColor&quot;: &quot;white&quot;, &quot;markerColor&quot;: &quot;green&quot;, &quot;prefix&quot;: &quot;glyphicon&quot;}\n            );\n            marker_23e49d26be091448e6a6b574981996cd.setIcon(icon_111b87d7653492b2ec55712da381ded7);\n        \n    \n        var popup_5452059c0dd2371342eff083dd446d2d = L.popup({&quot;maxWidth&quot;: &quot;100%&quot;});\n\n        \n            \n                var html_7f1165fef20d238d785e92c10a39a036 = $(`&lt;div id=&quot;html_7f1165fef20d238d785e92c10a39a036&quot; style=&quot;width: 100.0%; height: 100.0%;&quot;&gt;[None, &#x27;3&#x27;, &#x27; 6643&#x27;, None, None, &#x27; 6643&#x27;]&lt;/div&gt;`)[0];\n                popup_5452059c0dd2371342eff083dd446d2d.setContent(html_7f1165fef20d238d785e92c10a39a036);\n            \n        \n\n        marker_23e49d26be091448e6a6b574981996cd.bindPopup(popup_5452059c0dd2371342eff083dd446d2d)\n        ;\n\n        \n    \n    \n            var marker_5160b6942de6c31a320ea506afb1ff52 = L.marker(\n                [47.23968808113957, 7.963587754623894],\n                {}\n            ).addTo(map_850287e1ba7351573ca96ae619e06dd3);\n        \n    \n            var icon_5c1530c6242f772912077b6ea29bb504 = L.AwesomeMarkers.icon(\n                {&quot;extraClasses&quot;: &quot;fa-rotate-0&quot;, &quot;icon&quot;: &quot;info-sign&quot;, &quot;iconColor&quot;: &quot;white&quot;, &quot;markerColor&quot;: &quot;green&quot;, &quot;prefix&quot;: &quot;glyphicon&quot;}\n            );\n            marker_5160b6942de6c31a320ea506afb1ff52.setIcon(icon_5c1530c6242f772912077b6ea29bb504);\n        \n    \n        var popup_58ce46494d67f742b34b5a329b82f6e6 = L.popup({&quot;maxWidth&quot;: &quot;100%&quot;});\n\n        \n            \n                var html_4d4c30c058048df12c502c7f4e5fabba = $(`&lt;div id=&quot;html_4d4c30c058048df12c502c7f4e5fabba&quot; style=&quot;width: 100.0%; height: 100.0%;&quot;&gt;[None, &#x27;12&#x27;, &#x27; 6260&#x27;, &#x27;Mehlsecken&#x27;, None, &#x27; 6260&#x27;]&lt;/div&gt;`)[0];\n                popup_58ce46494d67f742b34b5a329b82f6e6.setContent(html_4d4c30c058048df12c502c7f4e5fabba);\n            \n        \n\n        marker_5160b6942de6c31a320ea506afb1ff52.bindPopup(popup_58ce46494d67f742b34b5a329b82f6e6)\n        ;\n\n        \n    \n    \n            var marker_f6e6650f9d2a0ec654925121c3b155c6 = L.marker(\n                [46.52715091030971, 6.653310632078919],\n                {}\n            ).addTo(map_850287e1ba7351573ca96ae619e06dd3);\n        \n    \n            var icon_a748f2c98e3943101eb1540e1c80bf23 = L.AwesomeMarkers.icon(\n                {&quot;extraClasses&quot;: &quot;fa-rotate-0&quot;, &quot;icon&quot;: &quot;info-sign&quot;, &quot;iconColor&quot;: &quot;white&quot;, &quot;markerColor&quot;: &quot;green&quot;, &quot;prefix&quot;: &quot;glyphicon&quot;}\n            );\n            marker_f6e6650f9d2a0ec654925121c3b155c6.setIcon(icon_a748f2c98e3943101eb1540e1c80bf23);\n        \n    \n        var popup_6325ee4f97634acde7d766cce0dbf765 = L.popup({&quot;maxWidth&quot;: &quot;100%&quot;});\n\n        \n            \n                var html_3a6b3ab4b6082072cdfaae3e2f65b1c1 = $(`&lt;div id=&quot;html_3a6b3ab4b6082072cdfaae3e2f65b1c1&quot; style=&quot;width: 100.0%; height: 100.0%;&quot;&gt;[None, &#x27;10c&#x27;, &#x27; 1012&#x27;, &#x27;Lausanne&#x27;, None, &#x27; 1012&#x27;]&lt;/div&gt;`)[0];\n                popup_6325ee4f97634acde7d766cce0dbf765.setContent(html_3a6b3ab4b6082072cdfaae3e2f65b1c1);\n            \n        \n\n        marker_f6e6650f9d2a0ec654925121c3b155c6.bindPopup(popup_6325ee4f97634acde7d766cce0dbf765)\n        ;\n\n        \n    \n    \n            var marker_f27199bcd2c7c24a88c188392e51b48e = L.marker(\n                [47.096464682126985, 9.505680429810832],\n                {}\n            ).addTo(map_850287e1ba7351573ca96ae619e06dd3);\n        \n    \n            var icon_653d5fa071f7831898e9c48045900869 = L.AwesomeMarkers.icon(\n                {&quot;extraClasses&quot;: &quot;fa-rotate-0&quot;, &quot;icon&quot;: &quot;info-sign&quot;, &quot;iconColor&quot;: &quot;white&quot;, &quot;markerColor&quot;: &quot;green&quot;, &quot;prefix&quot;: &quot;glyphicon&quot;}\n            );\n            marker_f27199bcd2c7c24a88c188392e51b48e.setIcon(icon_653d5fa071f7831898e9c48045900869);\n        \n    \n        var popup_16f33dc324778efefa6b2acc50f17402 = L.popup({&quot;maxWidth&quot;: &quot;100%&quot;});\n\n        \n            \n                var html_45c16594d1806de848fb5ec32d49c872 = $(`&lt;div id=&quot;html_45c16594d1806de848fb5ec32d49c872&quot; style=&quot;width: 100.0%; height: 100.0%;&quot;&gt;[&#x27;ARA Wartau&#x27;, &#x27; 1&#x27;, &#x27; 9476&#x27;, &#x27;Weite&#x27;, None, &#x27; 9476&#x27;]&lt;/div&gt;`)[0];\n                popup_16f33dc324778efefa6b2acc50f17402.setContent(html_45c16594d1806de848fb5ec32d49c872);\n            \n        \n\n        marker_f27199bcd2c7c24a88c188392e51b48e.bindPopup(popup_16f33dc324778efefa6b2acc50f17402)\n        ;\n\n        \n    \n    \n            var marker_3329ee6ce52704e7d0efe642ef964a08 = L.marker(\n                [46.18721217870401, 7.581336201424769],\n                {}\n            ).addTo(map_850287e1ba7351573ca96ae619e06dd3);\n        \n    \n            var icon_374a0381fc035f4d1084c0b2909caf41 = L.AwesomeMarkers.icon(\n                {&quot;extraClasses&quot;: &quot;fa-rotate-0&quot;, &quot;icon&quot;: &quot;info-sign&quot;, &quot;iconColor&quot;: &quot;white&quot;, &quot;markerColor&quot;: &quot;green&quot;, &quot;prefix&quot;: &quot;glyphicon&quot;}\n            );\n            marker_3329ee6ce52704e7d0efe642ef964a08.setIcon(icon_374a0381fc035f4d1084c0b2909caf41);\n        \n    \n        var popup_04989f82a902a28f4274c680fe8efea4 = L.popup({&quot;maxWidth&quot;: &quot;100%&quot;});\n\n        \n            \n                var html_3ba196cb2fc7940f8f845b01ae049d39 = $(`&lt;div id=&quot;html_3ba196cb2fc7940f8f845b01ae049d39&quot; style=&quot;width: 100.0%; height: 100.0%;&quot;&gt;[None, None, &#x27; 3961&#x27;, &#x27;Mission&#x27;, None, &#x27; 3961&#x27;]&lt;/div&gt;`)[0];\n                popup_04989f82a902a28f4274c680fe8efea4.setContent(html_3ba196cb2fc7940f8f845b01ae049d39);\n            \n        \n\n        marker_3329ee6ce52704e7d0efe642ef964a08.bindPopup(popup_04989f82a902a28f4274c680fe8efea4)\n        ;\n\n        \n    \n    \n            var marker_3d4b22af0fd6ba32fcf00c02435667b2 = L.marker(\n                [47.48235402873181, 9.25585008850364],\n                {}\n            ).addTo(map_850287e1ba7351573ca96ae619e06dd3);\n        \n    \n            var icon_9fd50be17da4d9d40dd31dbc14f82347 = L.AwesomeMarkers.icon(\n                {&quot;extraClasses&quot;: &quot;fa-rotate-0&quot;, &quot;icon&quot;: &quot;info-sign&quot;, &quot;iconColor&quot;: &quot;white&quot;, &quot;markerColor&quot;: &quot;green&quot;, &quot;prefix&quot;: &quot;glyphicon&quot;}\n            );\n            marker_3d4b22af0fd6ba32fcf00c02435667b2.setIcon(icon_9fd50be17da4d9d40dd31dbc14f82347);\n        \n    \n        var popup_20aa394ec3e69063a85643bf6ea88b7a = L.popup({&quot;maxWidth&quot;: &quot;100%&quot;});\n\n        \n            \n                var html_7855b8267cb444498580d53dc6d7f6bf = $(`&lt;div id=&quot;html_7855b8267cb444498580d53dc6d7f6bf&quot; style=&quot;width: 100.0%; height: 100.0%;&quot;&gt;[None, None, &#x27; 9213&#x27;, &#x27;Hauptwil&#x27;, None, &#x27; 9213&#x27;]&lt;/div&gt;`)[0];\n                popup_20aa394ec3e69063a85643bf6ea88b7a.setContent(html_7855b8267cb444498580d53dc6d7f6bf);\n            \n        \n\n        marker_3d4b22af0fd6ba32fcf00c02435667b2.bindPopup(popup_20aa394ec3e69063a85643bf6ea88b7a)\n        ;\n\n        \n    \n    \n            var marker_f43c46f0895ba9ff1621e626a708fca4 = L.marker(\n                [47.389118842273945, 8.047346651338406],\n                {}\n            ).addTo(map_850287e1ba7351573ca96ae619e06dd3);\n        \n    \n            var icon_898cebdf1aace3ca603c40408ba40fb7 = L.AwesomeMarkers.icon(\n                {&quot;extraClasses&quot;: &quot;fa-rotate-0&quot;, &quot;icon&quot;: &quot;info-sign&quot;, &quot;iconColor&quot;: &quot;white&quot;, &quot;markerColor&quot;: &quot;green&quot;, &quot;prefix&quot;: &quot;glyphicon&quot;}\n            );\n            marker_f43c46f0895ba9ff1621e626a708fca4.setIcon(icon_898cebdf1aace3ca603c40408ba40fb7);\n        \n    \n        var popup_3d908fa432b2336c3ef3e8e67c0d6a98 = L.popup({&quot;maxWidth&quot;: &quot;100%&quot;});\n\n        \n            \n                var html_0c8ca0733b884ceadb4ed1ee0bb095d1 = $(`&lt;div id=&quot;html_0c8ca0733b884ceadb4ed1ee0bb095d1&quot; style=&quot;width: 100.0%; height: 100.0%;&quot;&gt;[&#x27;AEW Energie AG&#x27;, &#x27; 40&#x27;, &#x27; 5000&#x27;, &#x27;Aarau Postauto AG&#x27;, None, &#x27; 5000&#x27;]&lt;/div&gt;`)[0];\n                popup_3d908fa432b2336c3ef3e8e67c0d6a98.setContent(html_0c8ca0733b884ceadb4ed1ee0bb095d1);\n            \n        \n\n        marker_f43c46f0895ba9ff1621e626a708fca4.bindPopup(popup_3d908fa432b2336c3ef3e8e67c0d6a98)\n        ;\n\n        \n    \n    \n            var marker_c586ec59af6cc254562ca1068e2afde9 = L.marker(\n                [47.39425448564568, 9.589809901335213],\n                {}\n            ).addTo(map_850287e1ba7351573ca96ae619e06dd3);\n        \n    \n            var icon_129bdfbc8716d909a74a606185e50db9 = L.AwesomeMarkers.icon(\n                {&quot;extraClasses&quot;: &quot;fa-rotate-0&quot;, &quot;icon&quot;: &quot;info-sign&quot;, &quot;iconColor&quot;: &quot;white&quot;, &quot;markerColor&quot;: &quot;green&quot;, &quot;prefix&quot;: &quot;glyphicon&quot;}\n            );\n            marker_c586ec59af6cc254562ca1068e2afde9.setIcon(icon_129bdfbc8716d909a74a606185e50db9);\n        \n    \n        var popup_9c3506087411c9f8d6442c7f9f5d1e93 = L.popup({&quot;maxWidth&quot;: &quot;100%&quot;});\n\n        \n            \n                var html_ce4195caaf4e874b477e5edbc036d2f7 = $(`&lt;div id=&quot;html_ce4195caaf4e874b477e5edbc036d2f7&quot; style=&quot;width: 100.0%; height: 100.0%;&quot;&gt;[None, None, &#x27; 9445&#x27;, &#x27;Rebstein&#x27;, None, &#x27; 9445&#x27;]&lt;/div&gt;`)[0];\n                popup_9c3506087411c9f8d6442c7f9f5d1e93.setContent(html_ce4195caaf4e874b477e5edbc036d2f7);\n            \n        \n\n        marker_c586ec59af6cc254562ca1068e2afde9.bindPopup(popup_9c3506087411c9f8d6442c7f9f5d1e93)\n        ;\n\n        \n    \n    \n            var marker_4d02430b8738e8f83e9e7553665da18d = L.marker(\n                [47.40466956825127, 8.548450635835016],\n                {}\n            ).addTo(map_850287e1ba7351573ca96ae619e06dd3);\n        \n    \n            var icon_3dc4cfe675e4d24403b3762a6bfaee13 = L.AwesomeMarkers.icon(\n                {&quot;extraClasses&quot;: &quot;fa-rotate-0&quot;, &quot;icon&quot;: &quot;info-sign&quot;, &quot;iconColor&quot;: &quot;white&quot;, &quot;markerColor&quot;: &quot;green&quot;, &quot;prefix&quot;: &quot;glyphicon&quot;}\n            );\n            marker_4d02430b8738e8f83e9e7553665da18d.setIcon(icon_3dc4cfe675e4d24403b3762a6bfaee13);\n        \n    \n        var popup_761df227155eeecda1d9162018ae3a68 = L.popup({&quot;maxWidth&quot;: &quot;100%&quot;});\n\n        \n            \n                var html_da7426d1fb1d8919d5873f263bd95c02 = $(`&lt;div id=&quot;html_da7426d1fb1d8919d5873f263bd95c02&quot; style=&quot;width: 100.0%; height: 100.0%;&quot;&gt;[None, &#x27;276&#x27;, &#x27; 8057&#x27;, &#x27;Zürich&#x27;, None, &#x27; 8057&#x27;]&lt;/div&gt;`)[0];\n                popup_761df227155eeecda1d9162018ae3a68.setContent(html_da7426d1fb1d8919d5873f263bd95c02);\n            \n        \n\n        marker_4d02430b8738e8f83e9e7553665da18d.bindPopup(popup_761df227155eeecda1d9162018ae3a68)\n        ;\n\n        \n    \n    \n            var marker_46e3f1fc99ce02381e036c008323116b = L.marker(\n                [46.06772160244409, 6.935882043412124],\n                {}\n            ).addTo(map_850287e1ba7351573ca96ae619e06dd3);\n        \n    \n            var icon_4611f12972b78f9663e00c68c91a5255 = L.AwesomeMarkers.icon(\n                {&quot;extraClasses&quot;: &quot;fa-rotate-0&quot;, &quot;icon&quot;: &quot;info-sign&quot;, &quot;iconColor&quot;: &quot;white&quot;, &quot;markerColor&quot;: &quot;green&quot;, &quot;prefix&quot;: &quot;glyphicon&quot;}\n            );\n            marker_46e3f1fc99ce02381e036c008323116b.setIcon(icon_4611f12972b78f9663e00c68c91a5255);\n        \n    \n        var popup_7447ffc96e8c8f657ad7967cb3ea01fd = L.popup({&quot;maxWidth&quot;: &quot;100%&quot;});\n\n        \n            \n                var html_54735d1f5affc07aed789666e6beeff3 = $(`&lt;div id=&quot;html_54735d1f5affc07aed789666e6beeff3&quot; style=&quot;width: 100.0%; height: 100.0%;&quot;&gt;[None, None, &#x27; 1925&#x27;, &#x27;Finhaut&#x27;, None, &#x27; 1925&#x27;]&lt;/div&gt;`)[0];\n                popup_7447ffc96e8c8f657ad7967cb3ea01fd.setContent(html_54735d1f5affc07aed789666e6beeff3);\n            \n        \n\n        marker_46e3f1fc99ce02381e036c008323116b.bindPopup(popup_7447ffc96e8c8f657ad7967cb3ea01fd)\n        ;\n\n        \n    \n    \n            var marker_ce096676c77504830e68176e627e03b3 = L.marker(\n                [46.71637744880908, 7.641621993113148],\n                {}\n            ).addTo(map_850287e1ba7351573ca96ae619e06dd3);\n        \n    \n            var icon_fffd033eaa83535927847c67b2bd4e09 = L.AwesomeMarkers.icon(\n                {&quot;extraClasses&quot;: &quot;fa-rotate-0&quot;, &quot;icon&quot;: &quot;info-sign&quot;, &quot;iconColor&quot;: &quot;white&quot;, &quot;markerColor&quot;: &quot;green&quot;, &quot;prefix&quot;: &quot;glyphicon&quot;}\n            );\n            marker_ce096676c77504830e68176e627e03b3.setIcon(icon_fffd033eaa83535927847c67b2bd4e09);\n        \n    \n        var popup_92c120fc34b9a46aa3dc7ac483da2cca = L.popup({&quot;maxWidth&quot;: &quot;100%&quot;});\n\n        \n            \n                var html_b7db4bd3234e9012d143f0835e2c935f = $(`&lt;div id=&quot;html_b7db4bd3234e9012d143f0835e2c935f&quot; style=&quot;width: 100.0%; height: 100.0%;&quot;&gt;[None, &#x27;2108&#x27;, &#x27; 3646&#x27;, &#x27;Einigen&#x27;, None, &#x27; 3646&#x27;]&lt;/div&gt;`)[0];\n                popup_92c120fc34b9a46aa3dc7ac483da2cca.setContent(html_b7db4bd3234e9012d143f0835e2c935f);\n            \n        \n\n        marker_ce096676c77504830e68176e627e03b3.bindPopup(popup_92c120fc34b9a46aa3dc7ac483da2cca)\n        ;\n\n        \n    \n    \n            var marker_9e565504895cb325e8157f8da28a28e6 = L.marker(\n                [46.936643130301306, 8.276665355452852],\n                {}\n            ).addTo(map_850287e1ba7351573ca96ae619e06dd3);\n        \n    \n            var icon_8a60936482d98d42435a02e6395fa51e = L.AwesomeMarkers.icon(\n                {&quot;extraClasses&quot;: &quot;fa-rotate-0&quot;, &quot;icon&quot;: &quot;info-sign&quot;, &quot;iconColor&quot;: &quot;white&quot;, &quot;markerColor&quot;: &quot;green&quot;, &quot;prefix&quot;: &quot;glyphicon&quot;}\n            );\n            marker_9e565504895cb325e8157f8da28a28e6.setIcon(icon_8a60936482d98d42435a02e6395fa51e);\n        \n    \n        var popup_0daa078030571a2f3b7b4636eb2b6217 = L.popup({&quot;maxWidth&quot;: &quot;100%&quot;});\n\n        \n            \n                var html_6bc45520d6028f761085dabdb2b9b588 = $(`&lt;div id=&quot;html_6bc45520d6028f761085dabdb2b9b588&quot; style=&quot;width: 100.0%; height: 100.0%;&quot;&gt;[None, &#x27;25&#x27;, &#x27; 6055&#x27;, &#x27;Alpnach Brünigstr&#x27;, None, &#x27; 6055&#x27;]&lt;/div&gt;`)[0];\n                popup_0daa078030571a2f3b7b4636eb2b6217.setContent(html_6bc45520d6028f761085dabdb2b9b588);\n            \n        \n\n        marker_9e565504895cb325e8157f8da28a28e6.bindPopup(popup_0daa078030571a2f3b7b4636eb2b6217)\n        ;\n\n        \n    \n    \n            var marker_baaac869b86fed2f42ca3ed9ca7657c9 = L.marker(\n                [46.86615740298081, 6.938370807295143],\n                {}\n            ).addTo(map_850287e1ba7351573ca96ae619e06dd3);\n        \n    \n            var icon_1fe1085ace5d281fa81e326ddf4ebdfd = L.AwesomeMarkers.icon(\n                {&quot;extraClasses&quot;: &quot;fa-rotate-0&quot;, &quot;icon&quot;: &quot;info-sign&quot;, &quot;iconColor&quot;: &quot;white&quot;, &quot;markerColor&quot;: &quot;green&quot;, &quot;prefix&quot;: &quot;glyphicon&quot;}\n            );\n            marker_baaac869b86fed2f42ca3ed9ca7657c9.setIcon(icon_1fe1085ace5d281fa81e326ddf4ebdfd);\n        \n    \n        var popup_f5eef64da73307436f46047d4a809279 = L.popup({&quot;maxWidth&quot;: &quot;100%&quot;});\n\n        \n            \n                var html_6eaa81fe6a4511512128ffd3bb189fe8 = $(`&lt;div id=&quot;html_6eaa81fe6a4511512128ffd3bb189fe8&quot; style=&quot;width: 100.0%; height: 100.0%;&quot;&gt;[None, None, &#x27; 1543&#x27;, &#x27;Grandcour&#x27;, None, &#x27; 1543&#x27;]&lt;/div&gt;`)[0];\n                popup_f5eef64da73307436f46047d4a809279.setContent(html_6eaa81fe6a4511512128ffd3bb189fe8);\n            \n        \n\n        marker_baaac869b86fed2f42ca3ed9ca7657c9.bindPopup(popup_f5eef64da73307436f46047d4a809279)\n        ;\n\n        \n    \n    \n            var marker_c87655019c3d057c5c19370d6ac412e7 = L.marker(\n                [46.617884713185575, 6.50901499549102],\n                {}\n            ).addTo(map_850287e1ba7351573ca96ae619e06dd3);\n        \n    \n            var icon_939cc563e8ba885bba480f25cc1ae166 = L.AwesomeMarkers.icon(\n                {&quot;extraClasses&quot;: &quot;fa-rotate-0&quot;, &quot;icon&quot;: &quot;info-sign&quot;, &quot;iconColor&quot;: &quot;white&quot;, &quot;markerColor&quot;: &quot;green&quot;, &quot;prefix&quot;: &quot;glyphicon&quot;}\n            );\n            marker_c87655019c3d057c5c19370d6ac412e7.setIcon(icon_939cc563e8ba885bba480f25cc1ae166);\n        \n    \n        var popup_691a0719519fde502bc938c9a39496dc = L.popup({&quot;maxWidth&quot;: &quot;100%&quot;});\n\n        \n            \n                var html_aedbbddd96af32026793419cd29412ac = $(`&lt;div id=&quot;html_aedbbddd96af32026793419cd29412ac&quot; style=&quot;width: 100.0%; height: 100.0%;&quot;&gt;[None, &#x27;6a&#x27;, &#x27; 1304&#x27;, &#x27;Allens&#x27;, None, &#x27; 1304&#x27;]&lt;/div&gt;`)[0];\n                popup_691a0719519fde502bc938c9a39496dc.setContent(html_aedbbddd96af32026793419cd29412ac);\n            \n        \n\n        marker_c87655019c3d057c5c19370d6ac412e7.bindPopup(popup_691a0719519fde502bc938c9a39496dc)\n        ;\n\n        \n    \n    \n            var marker_38e4d5a5a46f65e03086c150c1f8f429 = L.marker(\n                [47.380210762287, 8.543875619055614],\n                {}\n            ).addTo(map_850287e1ba7351573ca96ae619e06dd3);\n        \n    \n            var icon_413fde2dc4c2ee5f6e3afc0de43a2496 = L.AwesomeMarkers.icon(\n                {&quot;extraClasses&quot;: &quot;fa-rotate-0&quot;, &quot;icon&quot;: &quot;info-sign&quot;, &quot;iconColor&quot;: &quot;white&quot;, &quot;markerColor&quot;: &quot;green&quot;, &quot;prefix&quot;: &quot;glyphicon&quot;}\n            );\n            marker_38e4d5a5a46f65e03086c150c1f8f429.setIcon(icon_413fde2dc4c2ee5f6e3afc0de43a2496);\n        \n    \n        var popup_1abd3bac50d84d4f9cac58c1dc4bffed = L.popup({&quot;maxWidth&quot;: &quot;100%&quot;});\n\n        \n            \n                var html_809f3d57971bf1dd352256d38dfbf6cf = $(`&lt;div id=&quot;html_809f3d57971bf1dd352256d38dfbf6cf&quot; style=&quot;width: 100.0%; height: 100.0%;&quot;&gt;[&#x27;ETH WES&#x27;, &#x27; 41&#x27;, &#x27; 8006&#x27;, &#x27;Zürich&#x27;, None, &#x27; 8006&#x27;]&lt;/div&gt;`)[0];\n                popup_1abd3bac50d84d4f9cac58c1dc4bffed.setContent(html_809f3d57971bf1dd352256d38dfbf6cf);\n            \n        \n\n        marker_38e4d5a5a46f65e03086c150c1f8f429.bindPopup(popup_1abd3bac50d84d4f9cac58c1dc4bffed)\n        ;\n\n        \n    \n    \n            var marker_926c2e080ec171c74661692b1073f82a = L.marker(\n                [46.974817216364045, 7.410206004530642],\n                {}\n            ).addTo(map_850287e1ba7351573ca96ae619e06dd3);\n        \n    \n            var icon_c5b25560c147af003cc0b9797c9ad753 = L.AwesomeMarkers.icon(\n                {&quot;extraClasses&quot;: &quot;fa-rotate-0&quot;, &quot;icon&quot;: &quot;info-sign&quot;, &quot;iconColor&quot;: &quot;white&quot;, &quot;markerColor&quot;: &quot;green&quot;, &quot;prefix&quot;: &quot;glyphicon&quot;}\n            );\n            marker_926c2e080ec171c74661692b1073f82a.setIcon(icon_c5b25560c147af003cc0b9797c9ad753);\n        \n    \n        var popup_bb84e3bc0d20406c92e51cd3891bdf1e = L.popup({&quot;maxWidth&quot;: &quot;100%&quot;});\n\n        \n            \n                var html_a4f7c751e23301f0596147098666aaf4 = $(`&lt;div id=&quot;html_a4f7c751e23301f0596147098666aaf4&quot; style=&quot;width: 100.0%; height: 100.0%;&quot;&gt;[None, None, &#x27; 3037&#x27;, &#x27;Herrenschwanden&#x27;, None, &#x27; 3037&#x27;]&lt;/div&gt;`)[0];\n                popup_bb84e3bc0d20406c92e51cd3891bdf1e.setContent(html_a4f7c751e23301f0596147098666aaf4);\n            \n        \n\n        marker_926c2e080ec171c74661692b1073f82a.bindPopup(popup_bb84e3bc0d20406c92e51cd3891bdf1e)\n        ;\n\n        \n    \n    \n            var marker_2eb9bf1631816b5754e40849a9367124 = L.marker(\n                [46.50062402327223, 6.779384062123342],\n                {}\n            ).addTo(map_850287e1ba7351573ca96ae619e06dd3);\n        \n    \n            var icon_ab3e6b4524f5105049be81150c897e0c = L.AwesomeMarkers.icon(\n                {&quot;extraClasses&quot;: &quot;fa-rotate-0&quot;, &quot;icon&quot;: &quot;info-sign&quot;, &quot;iconColor&quot;: &quot;white&quot;, &quot;markerColor&quot;: &quot;green&quot;, &quot;prefix&quot;: &quot;glyphicon&quot;}\n            );\n            marker_2eb9bf1631816b5754e40849a9367124.setIcon(icon_ab3e6b4524f5105049be81150c897e0c);\n        \n    \n        var popup_11eb2cb8cb00d72ed35da5fdbbce89fb = L.popup({&quot;maxWidth&quot;: &quot;100%&quot;});\n\n        \n            \n                var html_f40b65dc277cbdd0cec97ada6d4fae69 = $(`&lt;div id=&quot;html_f40b65dc277cbdd0cec97ada6d4fae69&quot; style=&quot;width: 100.0%; height: 100.0%;&quot;&gt;[None, None, &#x27; 1070&#x27;, &#x27;Puidoux&#x27;, None, &#x27; 1070&#x27;]&lt;/div&gt;`)[0];\n                popup_11eb2cb8cb00d72ed35da5fdbbce89fb.setContent(html_f40b65dc277cbdd0cec97ada6d4fae69);\n            \n        \n\n        marker_2eb9bf1631816b5754e40849a9367124.bindPopup(popup_11eb2cb8cb00d72ed35da5fdbbce89fb)\n        ;\n\n        \n    \n&lt;/script&gt;\n&lt;/html&gt;\" style=\"position:absolute;width:100%;height:100%;left:0;top:0;border:none !important;\" allowfullscreen webkitallowfullscreen mozallowfullscreen></iframe></div></div>"
     },
     "execution_count": 86,
     "metadata": {},
     "output_type": "execute_result"
    }
   ],
   "source": [
    "\n",
    "\n",
    "color = 'white'\n",
    "\n",
    "if antennen_6g['type'][0] == '2G':\n",
    "    color = 'blue'\n",
    "if antennen_6g['type'][0] == '3G':\n",
    "print(antennen_6g['type'][0])\n",
    "\n",
    "#You Markler the point in Map\n",
    "for indice, row in antennen_6g.iterrows():\n",
    "    folium.Marker(\n",
    "        location=[row['antenna_Location_WGS84_E'], row['antenna_Location_WGS84_N']],\n",
    "        # popup=row,\n",
    "        popup=[row['building'] , row[\"streetNumber\"] ,row['postal'],  row['town'] , row['district'] , row['state'] ],\n",
    "        icon=folium.map.Icon(color='green')\n",
    "    ).add_to(m)\n",
    "m"
   ],
   "metadata": {
    "collapsed": false,
    "ExecuteTime": {
     "start_time": "2023-04-17T20:30:37.345261Z",
     "end_time": "2023-04-17T20:30:37.456787Z"
    }
   }
  },
  {
   "cell_type": "code",
   "execution_count": 69,
   "metadata": {
    "tags": []
   },
   "outputs": [
    {
     "ename": "ValueError",
     "evalue": "Location should consist of two numerical values, but 0     47.048492\n1     47.076917\n2     47.580429\n3     46.627189\n4     47.514341\n5     47.271302\n6     47.591917\n7     46.220723\n8     47.239688\n9     46.527151\n10    47.096465\n11    46.187212\n12    47.482354\n13    47.389119\n14    47.394254\n15    47.404670\n16    46.067722\n17    46.716377\n18    46.936643\n19    46.866157\n20    46.617885\n21    47.380211\n22    46.974817\n23    46.500624\nName: antenna_Location_WGS84_E, dtype: float64 of type <class 'pandas.core.series.Series'> is not convertible to float.",
     "output_type": "error",
     "traceback": [
      "\u001B[1;31m---------------------------------------------------------------------------\u001B[0m",
      "\u001B[1;31mTypeError\u001B[0m                                 Traceback (most recent call last)",
      "File \u001B[1;32m~\\AppData\\Roaming\\Python\\Python39\\site-packages\\folium\\utilities.py:69\u001B[0m, in \u001B[0;36mvalidate_location\u001B[1;34m(location)\u001B[0m\n\u001B[0;32m     68\u001B[0m \u001B[38;5;28;01mtry\u001B[39;00m:\n\u001B[1;32m---> 69\u001B[0m     \u001B[38;5;28;43mfloat\u001B[39;49m\u001B[43m(\u001B[49m\u001B[43mcoord\u001B[49m\u001B[43m)\u001B[49m\n\u001B[0;32m     70\u001B[0m \u001B[38;5;28;01mexcept\u001B[39;00m (\u001B[38;5;167;01mTypeError\u001B[39;00m, \u001B[38;5;167;01mValueError\u001B[39;00m):\n",
      "File \u001B[1;32mC:\\ProgramData\\Anaconda3\\lib\\site-packages\\pandas\\core\\series.py:191\u001B[0m, in \u001B[0;36m_coerce_method.<locals>.wrapper\u001B[1;34m(self)\u001B[0m\n\u001B[0;32m    190\u001B[0m     \u001B[38;5;28;01mreturn\u001B[39;00m converter(\u001B[38;5;28mself\u001B[39m\u001B[38;5;241m.\u001B[39miloc[\u001B[38;5;241m0\u001B[39m])\n\u001B[1;32m--> 191\u001B[0m \u001B[38;5;28;01mraise\u001B[39;00m \u001B[38;5;167;01mTypeError\u001B[39;00m(\u001B[38;5;124mf\u001B[39m\u001B[38;5;124m\"\u001B[39m\u001B[38;5;124mcannot convert the series to \u001B[39m\u001B[38;5;132;01m{\u001B[39;00mconverter\u001B[38;5;132;01m}\u001B[39;00m\u001B[38;5;124m\"\u001B[39m)\n",
      "\u001B[1;31mTypeError\u001B[0m: cannot convert the series to <class 'float'>",
      "\nDuring handling of the above exception, another exception occurred:\n",
      "\u001B[1;31mValueError\u001B[0m                                Traceback (most recent call last)",
      "Input \u001B[1;32mIn [69]\u001B[0m, in \u001B[0;36m<cell line: 1>\u001B[1;34m()\u001B[0m\n\u001B[1;32m----> 1\u001B[0m \u001B[43mfolium\u001B[49m\u001B[38;5;241;43m.\u001B[39;49m\u001B[43mMap\u001B[49m\u001B[43m(\u001B[49m\u001B[43mlocation\u001B[49m\u001B[38;5;241;43m=\u001B[39;49m\u001B[43m \u001B[49m\u001B[43m[\u001B[49m\u001B[43m \u001B[49m\u001B[43mantennen_6g\u001B[49m\u001B[43m[\u001B[49m\u001B[38;5;124;43m'\u001B[39;49m\u001B[38;5;124;43mantenna_Location_WGS84_E\u001B[39;49m\u001B[38;5;124;43m'\u001B[39;49m\u001B[43m]\u001B[49m\u001B[43m \u001B[49m\u001B[43m,\u001B[49m\u001B[43m \u001B[49m\u001B[43mantennen_6g\u001B[49m\u001B[43m[\u001B[49m\u001B[38;5;124;43m'\u001B[39;49m\u001B[38;5;124;43mantenna_Location_WGS84_N\u001B[39;49m\u001B[38;5;124;43m'\u001B[39;49m\u001B[43m]\u001B[49m\u001B[43m]\u001B[49m\u001B[43m)\u001B[49m\n",
      "File \u001B[1;32m~\\AppData\\Roaming\\Python\\Python39\\site-packages\\folium\\folium.py:274\u001B[0m, in \u001B[0;36mMap.__init__\u001B[1;34m(self, location, width, height, left, top, position, tiles, attr, min_zoom, max_zoom, zoom_start, min_lat, max_lat, min_lon, max_lon, max_bounds, crs, control_scale, prefer_canvas, no_touch, disable_3d, png_enabled, zoom_control, **kwargs)\u001B[0m\n\u001B[0;32m    272\u001B[0m     zoom_start \u001B[38;5;241m=\u001B[39m \u001B[38;5;241m1\u001B[39m\n\u001B[0;32m    273\u001B[0m \u001B[38;5;28;01melse\u001B[39;00m:\n\u001B[1;32m--> 274\u001B[0m     \u001B[38;5;28mself\u001B[39m\u001B[38;5;241m.\u001B[39mlocation \u001B[38;5;241m=\u001B[39m \u001B[43mvalidate_location\u001B[49m\u001B[43m(\u001B[49m\u001B[43mlocation\u001B[49m\u001B[43m)\u001B[49m\n\u001B[0;32m    276\u001B[0m Figure()\u001B[38;5;241m.\u001B[39madd_child(\u001B[38;5;28mself\u001B[39m)\n\u001B[0;32m    278\u001B[0m \u001B[38;5;66;03m# Map Size Parameters.\u001B[39;00m\n",
      "File \u001B[1;32m~\\AppData\\Roaming\\Python\\Python39\\site-packages\\folium\\utilities.py:71\u001B[0m, in \u001B[0;36mvalidate_location\u001B[1;34m(location)\u001B[0m\n\u001B[0;32m     69\u001B[0m     \u001B[38;5;28mfloat\u001B[39m(coord)\n\u001B[0;32m     70\u001B[0m \u001B[38;5;28;01mexcept\u001B[39;00m (\u001B[38;5;167;01mTypeError\u001B[39;00m, \u001B[38;5;167;01mValueError\u001B[39;00m):\n\u001B[1;32m---> 71\u001B[0m     \u001B[38;5;28;01mraise\u001B[39;00m \u001B[38;5;167;01mValueError\u001B[39;00m(\n\u001B[0;32m     72\u001B[0m         \u001B[38;5;124m\"\u001B[39m\u001B[38;5;124mLocation should consist of two numerical values, \u001B[39m\u001B[38;5;124m\"\u001B[39m\n\u001B[0;32m     73\u001B[0m         \u001B[38;5;124m\"\u001B[39m\u001B[38;5;124mbut \u001B[39m\u001B[38;5;132;01m{!r}\u001B[39;00m\u001B[38;5;124m of type \u001B[39m\u001B[38;5;132;01m{}\u001B[39;00m\u001B[38;5;124m is not convertible to float.\u001B[39m\u001B[38;5;124m\"\u001B[39m\u001B[38;5;241m.\u001B[39mformat(\n\u001B[0;32m     74\u001B[0m             coord, \u001B[38;5;28mtype\u001B[39m(coord)\n\u001B[0;32m     75\u001B[0m         )\n\u001B[0;32m     76\u001B[0m     )\n\u001B[0;32m     77\u001B[0m \u001B[38;5;28;01mif\u001B[39;00m math\u001B[38;5;241m.\u001B[39misnan(\u001B[38;5;28mfloat\u001B[39m(coord)):\n\u001B[0;32m     78\u001B[0m     \u001B[38;5;28;01mraise\u001B[39;00m \u001B[38;5;167;01mValueError\u001B[39;00m(\u001B[38;5;124m\"\u001B[39m\u001B[38;5;124mLocation values cannot contain NaNs.\u001B[39m\u001B[38;5;124m\"\u001B[39m)\n",
      "\u001B[1;31mValueError\u001B[0m: Location should consist of two numerical values, but 0     47.048492\n1     47.076917\n2     47.580429\n3     46.627189\n4     47.514341\n5     47.271302\n6     47.591917\n7     46.220723\n8     47.239688\n9     46.527151\n10    47.096465\n11    46.187212\n12    47.482354\n13    47.389119\n14    47.394254\n15    47.404670\n16    46.067722\n17    46.716377\n18    46.936643\n19    46.866157\n20    46.617885\n21    47.380211\n22    46.974817\n23    46.500624\nName: antenna_Location_WGS84_E, dtype: float64 of type <class 'pandas.core.series.Series'> is not convertible to float."
     ]
    }
   ],
   "source": [
    "folium.Map(location= [ antennen_6g['antenna_Location_WGS84_E'] , antennen_6g['antenna_Location_WGS84_N']])\n",
    "# folium.Choropleth(gdf_routennetz[gdf_routennetz.velostreifen!='0'],line_color='blue',line_weight=5,line_opacity=0.3,columns=['name'],legend_name='hehe').add_to(m)\n",
    "# folium.Choropleth(gdf_routennetz[gdf_routennetz.veloweg!=0].geometry,line_color='red',line_weight=5,line_opacity=0.3).add_to(m)"
   ]
  },
  {
   "cell_type": "code",
   "execution_count": 2,
   "metadata": {
    "tags": [],
    "ExecuteTime": {
     "start_time": "2023-04-16T17:18:45.700676Z",
     "end_time": "2023-04-16T17:18:45.747538Z"
    }
   },
   "outputs": [
    {
     "ename": "NameError",
     "evalue": "name 'm' is not defined",
     "output_type": "error",
     "traceback": [
      "\u001B[1;31m---------------------------------------------------------------------------\u001B[0m",
      "\u001B[1;31mNameError\u001B[0m                                 Traceback (most recent call last)",
      "Input \u001B[1;32mIn [2]\u001B[0m, in \u001B[0;36m<cell line: 1>\u001B[1;34m()\u001B[0m\n\u001B[1;32m----> 1\u001B[0m display(\u001B[43mm\u001B[49m)\n",
      "\u001B[1;31mNameError\u001B[0m: name 'm' is not defined"
     ]
    }
   ],
   "source": [
    "\n",
    "display(m)"
   ]
  },
  {
   "cell_type": "markdown",
   "metadata": {},
   "source": [
    "***"
   ]
  },
  {
   "cell_type": "markdown",
   "metadata": {},
   "source": [
    "# 4) Abbiegeverbote Stadt Zürich\n",
    "<br>Die Abbiegeverbote geben an, wo man als Velofahrerin nicht abbiegen darf.<br/>\n",
    "<br>Zugriff: 01:11:2021/20:05 https://data.stadt-zuerich.ch/dataset/geo_fuss__und_velowegnetz<br/>"
   ]
  },
  {
   "cell_type": "code",
   "execution_count": 75,
   "metadata": {
    "tags": []
   },
   "outputs": [
    {
     "data": {
      "text/html": [
       "<div>\n",
       "<style scoped>\n",
       "    .dataframe tbody tr th:only-of-type {\n",
       "        vertical-align: middle;\n",
       "    }\n",
       "\n",
       "    .dataframe tbody tr th {\n",
       "        vertical-align: top;\n",
       "    }\n",
       "\n",
       "    .dataframe thead th {\n",
       "        text-align: right;\n",
       "    }\n",
       "</style>\n",
       "<table border=\"1\" class=\"dataframe\">\n",
       "  <thead>\n",
       "    <tr style=\"text-align: right;\">\n",
       "      <th></th>\n",
       "      <th>id1</th>\n",
       "      <th>se_anno_cad_data</th>\n",
       "      <th>objectid</th>\n",
       "      <th>geometry</th>\n",
       "    </tr>\n",
       "  </thead>\n",
       "  <tbody>\n",
       "    <tr>\n",
       "      <th>0</th>\n",
       "      <td>108</td>\n",
       "      <td>NaN</td>\n",
       "      <td>1</td>\n",
       "      <td>LINESTRING (8.54526 47.36752, 8.54522 47.36750...</td>\n",
       "    </tr>\n",
       "    <tr>\n",
       "      <th>1</th>\n",
       "      <td>109</td>\n",
       "      <td>NaN</td>\n",
       "      <td>2</td>\n",
       "      <td>LINESTRING (8.54259 47.37874, 8.54255 47.37867)</td>\n",
       "    </tr>\n",
       "    <tr>\n",
       "      <th>2</th>\n",
       "      <td>110</td>\n",
       "      <td>NaN</td>\n",
       "      <td>3</td>\n",
       "      <td>LINESTRING (8.55336 47.40247, 8.55345 47.40251...</td>\n",
       "    </tr>\n",
       "    <tr>\n",
       "      <th>3</th>\n",
       "      <td>111</td>\n",
       "      <td>NaN</td>\n",
       "      <td>4</td>\n",
       "      <td>LINESTRING (8.50459 47.40565, 8.50460 47.40563...</td>\n",
       "    </tr>\n",
       "    <tr>\n",
       "      <th>4</th>\n",
       "      <td>112</td>\n",
       "      <td>NaN</td>\n",
       "      <td>5</td>\n",
       "      <td>LINESTRING (8.53681 47.38516, 8.53679 47.38521...</td>\n",
       "    </tr>\n",
       "  </tbody>\n",
       "</table>\n",
       "</div>"
      ],
      "text/plain": [
       "   id1  se_anno_cad_data objectid  \\\n",
       "0  108               NaN        1   \n",
       "1  109               NaN        2   \n",
       "2  110               NaN        3   \n",
       "3  111               NaN        4   \n",
       "4  112               NaN        5   \n",
       "\n",
       "                                            geometry  \n",
       "0  LINESTRING (8.54526 47.36752, 8.54522 47.36750...  \n",
       "1    LINESTRING (8.54259 47.37874, 8.54255 47.37867)  \n",
       "2  LINESTRING (8.55336 47.40247, 8.55345 47.40251...  \n",
       "3  LINESTRING (8.50459 47.40565, 8.50460 47.40563...  \n",
       "4  LINESTRING (8.53681 47.38516, 8.53679 47.38521...  "
      ]
     },
     "execution_count": 75,
     "metadata": {},
     "output_type": "execute_result"
    }
   ],
   "source": [
    "gdf_abbiegeverbot = gpd.read_file('./Daten/Fuss_Velo_Wegnetz/data/taz_mm.tbl_routennetz_abbiegeverbote.json')\n",
    "gdf_abbiegeverbot.head()"
   ]
  },
  {
   "cell_type": "code",
   "execution_count": 76,
   "metadata": {
    "tags": []
   },
   "outputs": [],
   "source": [
    "gdf_abbiegeverbot.drop(['se_anno_cad_data','id1','objectid'], axis=1, inplace=True)"
   ]
  },
  {
   "cell_type": "code",
   "execution_count": 77,
   "metadata": {
    "tags": []
   },
   "outputs": [
    {
     "data": {
      "text/html": [
       "<div>\n",
       "<style scoped>\n",
       "    .dataframe tbody tr th:only-of-type {\n",
       "        vertical-align: middle;\n",
       "    }\n",
       "\n",
       "    .dataframe tbody tr th {\n",
       "        vertical-align: top;\n",
       "    }\n",
       "\n",
       "    .dataframe thead th {\n",
       "        text-align: right;\n",
       "    }\n",
       "</style>\n",
       "<table border=\"1\" class=\"dataframe\">\n",
       "  <thead>\n",
       "    <tr style=\"text-align: right;\">\n",
       "      <th></th>\n",
       "      <th>geometry</th>\n",
       "    </tr>\n",
       "  </thead>\n",
       "  <tbody>\n",
       "    <tr>\n",
       "      <th>0</th>\n",
       "      <td>LINESTRING (8.54526 47.36752, 8.54522 47.36750...</td>\n",
       "    </tr>\n",
       "    <tr>\n",
       "      <th>1</th>\n",
       "      <td>LINESTRING (8.54259 47.37874, 8.54255 47.37867)</td>\n",
       "    </tr>\n",
       "    <tr>\n",
       "      <th>2</th>\n",
       "      <td>LINESTRING (8.55336 47.40247, 8.55345 47.40251...</td>\n",
       "    </tr>\n",
       "    <tr>\n",
       "      <th>3</th>\n",
       "      <td>LINESTRING (8.50459 47.40565, 8.50460 47.40563...</td>\n",
       "    </tr>\n",
       "    <tr>\n",
       "      <th>4</th>\n",
       "      <td>LINESTRING (8.53681 47.38516, 8.53679 47.38521...</td>\n",
       "    </tr>\n",
       "  </tbody>\n",
       "</table>\n",
       "</div>"
      ],
      "text/plain": [
       "                                            geometry\n",
       "0  LINESTRING (8.54526 47.36752, 8.54522 47.36750...\n",
       "1    LINESTRING (8.54259 47.37874, 8.54255 47.37867)\n",
       "2  LINESTRING (8.55336 47.40247, 8.55345 47.40251...\n",
       "3  LINESTRING (8.50459 47.40565, 8.50460 47.40563...\n",
       "4  LINESTRING (8.53681 47.38516, 8.53679 47.38521..."
      ]
     },
     "execution_count": 77,
     "metadata": {},
     "output_type": "execute_result"
    }
   ],
   "source": [
    "gdf_abbiegeverbot.head()"
   ]
  },
  {
   "cell_type": "code",
   "execution_count": 78,
   "metadata": {
    "tags": []
   },
   "outputs": [],
   "source": [
    "gdf_abbiegeverbot.to_csv('./Daten/abbiegeverbote_ZH.csv', index=False)"
   ]
  },
  {
   "cell_type": "code",
   "execution_count": null,
   "metadata": {},
   "outputs": [],
   "source": []
  },
  {
   "cell_type": "code",
   "execution_count": null,
   "metadata": {},
   "outputs": [],
   "source": []
  },
  {
   "cell_type": "code",
   "execution_count": null,
   "metadata": {},
   "outputs": [],
   "source": []
  },
  {
   "cell_type": "code",
   "execution_count": null,
   "metadata": {},
   "outputs": [],
   "source": []
  }
 ],
 "metadata": {
  "interpreter": {
   "hash": "aee8b7b246df8f9039afb4144a1f6fd8d2ca17a180786b69acc140d282b71a49"
  },
  "kernelspec": {
   "display_name": "Python 3 (ipykernel)",
   "language": "python",
   "name": "python3"
  },
  "language_info": {
   "codemirror_mode": {
    "name": "ipython",
    "version": 3
   },
   "file_extension": ".py",
   "mimetype": "text/x-python",
   "name": "python",
   "nbconvert_exporter": "python",
   "pygments_lexer": "ipython3",
   "version": "3.9.13"
  }
 },
 "nbformat": 4,
 "nbformat_minor": 4
}
