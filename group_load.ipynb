{
 "cells": [
  {
   "cell_type": "markdown",
   "metadata": {},
   "source": [
    "# Laden der Daten\n",
    "In diesem Notebook werden die Standorte der schweizer Handyantennen aus der Datenquelle data.geo.admin.ch eingelesen. Überflüssige spalten werden entfernt, koordinaten werden ins WSG84 format umgewandelt. Und die Adressdaten werden per Nominatim abgerufen, verarbeitet und im Dataframe erweitert"
   ]
  },
  {
   "cell_type": "markdown",
   "metadata": {},
   "source": [
    "## Verwendete Links/Quellen"
   ]
  },
  {
   "cell_type": "markdown",
   "metadata": {},
   "source": [
    "Letzter Zugriff: 01.12.2021"
   ]
  },
  {
   "cell_type": "code",
   "execution_count": 1,
   "metadata": {
    "tags": [],
    "ExecuteTime": {
     "start_time": "2023-04-12T19:52:04.166000Z",
     "end_time": "2023-04-12T19:52:07.622767Z"
    }
   },
   "outputs": [],
   "source": [
    "url_5g=\"http://data.geo.admin.ch/ch.bakom.mobil-antennenstandorte-5g/data/ch.bakom.mobil-antennenstandorte-5g_de.json\"\n",
    "url_lte='http://data.geo.admin.ch/ch.bakom.mobil-antennenstandorte-lte/data/ch.bakom.mobil-antennenstandorte-lte_de.json'\n",
    "url_umts='http://data.geo.admin.ch/ch.bakom.mobil-antennenstandorte-umts/data/ch.bakom.mobil-antennenstandorte-umts_de.json'\n",
    "url_gsm='http://data.geo.admin.ch/ch.bakom.mobil-antennenstandorte-gsm/data/ch.bakom.mobil-antennenstandorte-gsm_de.json'\n",
    "url_plz = 'https://swisspost.opendatasoft.com/explore/dataset/plz_verzeichnis_v2/table/?disjunctive.postleitzahl&geofilter.distance='\n"
   ]
  },
  {
   "cell_type": "markdown",
   "metadata": {},
   "source": [
    "***"
   ]
  },
  {
   "cell_type": "markdown",
   "metadata": {},
   "source": [
    "# Installation notwendiger Bibliotheken"
   ]
  },
  {
   "cell_type": "code",
   "execution_count": 1,
   "metadata": {
    "tags": [],
    "ExecuteTime": {
     "start_time": "2023-04-17T15:01:19.572002Z",
     "end_time": "2023-04-17T15:02:05.663365Z"
    }
   },
   "outputs": [
    {
     "name": "stdout",
     "output_type": "stream",
     "text": [
      "Defaulting to user installation because normal site-packages is not writeable\n",
      "Requirement already satisfied: pip in c:\\users\\nikki\\appdata\\roaming\\python\\python39\\site-packages (23.0.1)\n",
      "Collecting pip\n",
      "  Downloading pip-23.1-py3-none-any.whl (2.1 MB)\n",
      "     ---------------------------------------- 2.1/2.1 MB 6.9 MB/s eta 0:00:00\n"
     ]
    },
    {
     "name": "stderr",
     "output_type": "stream",
     "text": [
      "ERROR: To modify pip, please run the following command:\n",
      "C:\\ProgramData\\Anaconda3\\python.exe -m pip install --upgrade pip\n",
      "\n",
      "[notice] A new release of pip is available: 23.0.1 -> 23.1\n",
      "[notice] To update, run: python.exe -m pip install --upgrade pip\n"
     ]
    },
    {
     "name": "stdout",
     "output_type": "stream",
     "text": [
      "Defaulting to user installation because normal site-packages is not writeable\n",
      "Requirement already satisfied: folium in c:\\users\\nikki\\appdata\\roaming\\python\\python39\\site-packages (0.14.0)\n",
      "Requirement already satisfied: requests in c:\\programdata\\anaconda3\\lib\\site-packages (from folium) (2.27.1)\n",
      "Requirement already satisfied: branca>=0.6.0 in c:\\users\\nikki\\appdata\\roaming\\python\\python39\\site-packages (from folium) (0.6.0)\n",
      "Requirement already satisfied: jinja2>=2.9 in c:\\programdata\\anaconda3\\lib\\site-packages (from folium) (2.11.3)\n",
      "Requirement already satisfied: numpy in c:\\programdata\\anaconda3\\lib\\site-packages (from folium) (1.21.5)\n",
      "Requirement already satisfied: MarkupSafe>=0.23 in c:\\programdata\\anaconda3\\lib\\site-packages (from jinja2>=2.9->folium) (2.0.1)\n",
      "Requirement already satisfied: idna<4,>=2.5 in c:\\programdata\\anaconda3\\lib\\site-packages (from requests->folium) (3.3)\n",
      "Requirement already satisfied: certifi>=2017.4.17 in c:\\programdata\\anaconda3\\lib\\site-packages (from requests->folium) (2021.10.8)\n"
     ]
    },
    {
     "name": "stderr",
     "output_type": "stream",
     "text": [
      "\n",
      "[notice] A new release of pip is available: 23.0.1 -> 23.1\n",
      "[notice] To update, run: python.exe -m pip install --upgrade pip\n"
     ]
    },
    {
     "name": "stdout",
     "output_type": "stream",
     "text": [
      "Requirement already satisfied: charset-normalizer~=2.0.0 in c:\\programdata\\anaconda3\\lib\\site-packages (from requests->folium) (2.0.4)\n",
      "Requirement already satisfied: urllib3<1.27,>=1.21.1 in c:\\programdata\\anaconda3\\lib\\site-packages (from requests->folium) (1.26.9)\n",
      "Defaulting to user installation because normal site-packages is not writeable\n",
      "Requirement already satisfied: matplotlib in c:\\programdata\\anaconda3\\lib\\site-packages (3.5.1)\n",
      "Requirement already satisfied: numpy>=1.17 in c:\\programdata\\anaconda3\\lib\\site-packages (from matplotlib) (1.21.5)\n",
      "Requirement already satisfied: packaging>=20.0 in c:\\programdata\\anaconda3\\lib\\site-packages (from matplotlib) (21.3)\n",
      "Requirement already satisfied: cycler>=0.10 in c:\\programdata\\anaconda3\\lib\\site-packages (from matplotlib) (0.11.0)\n",
      "Requirement already satisfied: python-dateutil>=2.7 in c:\\programdata\\anaconda3\\lib\\site-packages (from matplotlib) (2.8.2)\n",
      "Requirement already satisfied: fonttools>=4.22.0 in c:\\programdata\\anaconda3\\lib\\site-packages (from matplotlib) (4.25.0)\n",
      "Requirement already satisfied: pyparsing>=2.2.1 in c:\\programdata\\anaconda3\\lib\\site-packages (from matplotlib) (3.0.4)\n",
      "Requirement already satisfied: kiwisolver>=1.0.1 in c:\\programdata\\anaconda3\\lib\\site-packages (from matplotlib) (1.3.2)\n",
      "Requirement already satisfied: pillow>=6.2.0 in c:\\programdata\\anaconda3\\lib\\site-packages (from matplotlib) (9.0.1)\n",
      "Requirement already satisfied: six>=1.5 in c:\\users\\nikki\\appdata\\roaming\\python\\python39\\site-packages (from python-dateutil>=2.7->matplotlib) (1.16.0)\n"
     ]
    },
    {
     "name": "stderr",
     "output_type": "stream",
     "text": [
      "\n",
      "[notice] A new release of pip is available: 23.0.1 -> 23.1\n",
      "[notice] To update, run: python.exe -m pip install --upgrade pip\n"
     ]
    },
    {
     "name": "stdout",
     "output_type": "stream",
     "text": [
      "Defaulting to user installation because normal site-packages is not writeable\n",
      "Requirement already satisfied: geopandas in c:\\users\\nikki\\appdata\\roaming\\python\\python39\\site-packages (0.12.2)\n",
      "Requirement already satisfied: pandas>=1.0.0 in c:\\programdata\\anaconda3\\lib\\site-packages (from geopandas) (1.4.2)\n",
      "Requirement already satisfied: fiona>=1.8 in c:\\users\\nikki\\appdata\\roaming\\python\\python39\\site-packages (from geopandas) (1.9.2)\n",
      "Requirement already satisfied: pyproj>=2.6.1.post1 in c:\\users\\nikki\\appdata\\roaming\\python\\python39\\site-packages (from geopandas) (3.5.0)\n",
      "Requirement already satisfied: shapely>=1.7 in c:\\users\\nikki\\appdata\\roaming\\python\\python39\\site-packages (from geopandas) (2.0.1)\n",
      "Requirement already satisfied: packaging in c:\\programdata\\anaconda3\\lib\\site-packages (from geopandas) (21.3)\n",
      "Requirement already satisfied: click-plugins>=1.0 in c:\\users\\nikki\\appdata\\roaming\\python\\python39\\site-packages (from fiona>=1.8->geopandas) (1.1.1)\n",
      "Requirement already satisfied: click~=8.0 in c:\\programdata\\anaconda3\\lib\\site-packages (from fiona>=1.8->geopandas) (8.0.4)\n",
      "Requirement already satisfied: munch>=2.3.2 in c:\\users\\nikki\\appdata\\roaming\\python\\python39\\site-packages (from fiona>=1.8->geopandas) (2.5.0)\n",
      "Requirement already satisfied: importlib-metadata in c:\\programdata\\anaconda3\\lib\\site-packages (from fiona>=1.8->geopandas) (4.11.3)\n",
      "Requirement already satisfied: cligj>=0.5 in c:\\users\\nikki\\appdata\\roaming\\python\\python39\\site-packages (from fiona>=1.8->geopandas) (0.7.2)\n",
      "Requirement already satisfied: attrs>=19.2.0 in c:\\programdata\\anaconda3\\lib\\site-packages (from fiona>=1.8->geopandas) (21.4.0)\n",
      "Requirement already satisfied: certifi in c:\\programdata\\anaconda3\\lib\\site-packages (from fiona>=1.8->geopandas) (2021.10.8)\n",
      "Requirement already satisfied: pytz>=2020.1 in c:\\programdata\\anaconda3\\lib\\site-packages (from pandas>=1.0.0->geopandas) (2021.3)\n",
      "Requirement already satisfied: numpy>=1.18.5 in c:\\programdata\\anaconda3\\lib\\site-packages (from pandas>=1.0.0->geopandas) (1.21.5)\n",
      "Requirement already satisfied: python-dateutil>=2.8.1 in c:\\programdata\\anaconda3\\lib\\site-packages (from pandas>=1.0.0->geopandas) (2.8.2)\n",
      "Requirement already satisfied: pyparsing!=3.0.5,>=2.0.2 in c:\\programdata\\anaconda3\\lib\\site-packages (from packaging->geopandas) (3.0.4)\n",
      "Requirement already satisfied: colorama in c:\\programdata\\anaconda3\\lib\\site-packages (from click~=8.0->fiona>=1.8->geopandas) (0.4.4)\n",
      "Requirement already satisfied: six in c:\\users\\nikki\\appdata\\roaming\\python\\python39\\site-packages (from munch>=2.3.2->fiona>=1.8->geopandas) (1.16.0)\n",
      "Requirement already satisfied: zipp>=0.5 in c:\\programdata\\anaconda3\\lib\\site-packages (from importlib-metadata->fiona>=1.8->geopandas) (3.7.0)\n"
     ]
    },
    {
     "name": "stderr",
     "output_type": "stream",
     "text": [
      "\n",
      "[notice] A new release of pip is available: 23.0.1 -> 23.1\n",
      "[notice] To update, run: python.exe -m pip install --upgrade pip\n"
     ]
    },
    {
     "name": "stdout",
     "output_type": "stream",
     "text": [
      "Defaulting to user installation because normal site-packages is not writeable\n",
      "Requirement already satisfied: geopy in c:\\users\\nikki\\appdata\\roaming\\python\\python39\\site-packages (2.3.0)\n",
      "Requirement already satisfied: geographiclib<3,>=1.52 in c:\\users\\nikki\\appdata\\roaming\\python\\python39\\site-packages (from geopy) (2.0)\n"
     ]
    },
    {
     "name": "stderr",
     "output_type": "stream",
     "text": [
      "\n",
      "[notice] A new release of pip is available: 23.0.1 -> 23.1\n",
      "[notice] To update, run: python.exe -m pip install --upgrade pip\n"
     ]
    },
    {
     "name": "stdout",
     "output_type": "stream",
     "text": [
      "Defaulting to user installation because normal site-packages is not writeable\n",
      "Requirement already satisfied: pyproj in c:\\users\\nikki\\appdata\\roaming\\python\\python39\\site-packages (3.5.0)\n",
      "Requirement already satisfied: certifi in c:\\programdata\\anaconda3\\lib\\site-packages (from pyproj) (2021.10.8)\n"
     ]
    },
    {
     "name": "stderr",
     "output_type": "stream",
     "text": [
      "\n",
      "[notice] A new release of pip is available: 23.0.1 -> 23.1\n",
      "[notice] To update, run: python.exe -m pip install --upgrade pip\n"
     ]
    },
    {
     "name": "stdout",
     "output_type": "stream",
     "text": [
      "Defaulting to user installation because normal site-packages is not writeable\n",
      "Requirement already satisfied: certifi in c:\\programdata\\anaconda3\\lib\\site-packages (2021.10.8)\n"
     ]
    },
    {
     "name": "stderr",
     "output_type": "stream",
     "text": [
      "\n",
      "[notice] A new release of pip is available: 23.0.1 -> 23.1\n",
      "[notice] To update, run: python.exe -m pip install --upgrade pip\n"
     ]
    },
    {
     "name": "stdout",
     "output_type": "stream",
     "text": [
      "Defaulting to user installation because normal site-packages is not writeable\n",
      "Collecting ssl\n",
      "  Using cached ssl-1.16.tar.gz (33 kB)\n",
      "  Preparing metadata (setup.py): started\n",
      "  Preparing metadata (setup.py): finished with status 'error'\n"
     ]
    },
    {
     "name": "stderr",
     "output_type": "stream",
     "text": [
      "  error: subprocess-exited-with-error\n",
      "  \n",
      "  python setup.py egg_info did not run successfully.\n",
      "  exit code: 1\n",
      "  \n",
      "  [25 lines of output]\n",
      "  Traceback (most recent call last):\n",
      "    File \"<string>\", line 2, in <module>\n",
      "    File \"<pip-setuptools-caller>\", line 14, in <module>\n",
      "    File \"C:\\ProgramData\\Anaconda3\\lib\\site-packages\\setuptools\\__init__.py\", line 189, in <module>\n",
      "      monkey.patch_all()\n",
      "    File \"C:\\ProgramData\\Anaconda3\\lib\\site-packages\\setuptools\\monkey.py\", line 99, in patch_all\n",
      "      patch_for_msvc_specialized_compiler()\n",
      "    File \"C:\\ProgramData\\Anaconda3\\lib\\site-packages\\setuptools\\monkey.py\", line 169, in patch_for_msvc_specialized_compiler\n",
      "      patch_func(*msvc14('_get_vc_env'))\n",
      "    File \"C:\\ProgramData\\Anaconda3\\lib\\site-packages\\setuptools\\monkey.py\", line 149, in patch_params\n",
      "      mod = import_module(mod_name)\n",
      "    File \"C:\\ProgramData\\Anaconda3\\lib\\importlib\\__init__.py\", line 127, in import_module\n",
      "      return _bootstrap._gcd_import(name[level:], package, level)\n",
      "    File \"C:\\ProgramData\\Anaconda3\\lib\\site-packages\\setuptools\\_distutils\\_msvccompiler.py\", line 20, in <module>\n",
      "      import unittest.mock\n",
      "    File \"C:\\ProgramData\\Anaconda3\\lib\\unittest\\mock.py\", line 26, in <module>\n",
      "      import asyncio\n",
      "    File \"C:\\ProgramData\\Anaconda3\\lib\\asyncio\\__init__.py\", line 8, in <module>\n",
      "      from .base_events import *\n",
      "    File \"C:\\ProgramData\\Anaconda3\\lib\\asyncio\\base_events.py\", line 34, in <module>\n",
      "      import ssl\n",
      "    File \"C:\\Users\\nikki\\AppData\\Local\\Temp\\pip-install-e4bt9hky\\ssl_d531561dfa1540c0a505449ba76a14fd\\ssl\\__init__.py\", line 140\n",
      "      except SSLError, x:\n",
      "                     ^\n",
      "  SyntaxError: invalid syntax\n",
      "  [end of output]\n",
      "  \n",
      "  note: This error originates from a subprocess, and is likely not a problem with pip.\n",
      "error: metadata-generation-failed\n",
      "\n",
      "Encountered error while generating package metadata.\n",
      "\n",
      "See above for output.\n",
      "\n",
      "note: This is an issue with the package mentioned above, not pip.\n",
      "hint: See above for details.\n",
      "\n",
      "[notice] A new release of pip is available: 23.0.1 -> 23.1\n",
      "[notice] To update, run: python.exe -m pip install --upgrade pip\n"
     ]
    }
   ],
   "source": [
    "!pip install --upgrade pip\n",
    "!pip install folium\n",
    "!pip install matplotlib\n",
    "!pip install geopandas\n",
    "!pip install geopy\n",
    "!pip install pyproj\n",
    "!pip install certifi\n",
    "!pip install ssl\n"
   ]
  },
  {
   "cell_type": "markdown",
   "metadata": {},
   "source": [
    "***"
   ]
  },
  {
   "cell_type": "markdown",
   "metadata": {},
   "source": [
    "# Module importieren"
   ]
  },
  {
   "cell_type": "code",
   "execution_count": 2,
   "metadata": {
    "tags": [],
    "ExecuteTime": {
     "start_time": "2023-04-17T15:02:05.627809Z",
     "end_time": "2023-04-17T15:02:09.676859Z"
    }
   },
   "outputs": [
    {
     "name": "stdout",
     "output_type": "stream",
     "text": [
      "Libraries imported.\n"
     ]
    }
   ],
   "source": [
    "import csv\n",
    "\n",
    "# library to handle data in a vectorized manner \n",
    "import numpy as np \n",
    "\n",
    "# library for data analsysis\n",
    "import pandas as pd\n",
    "\n",
    "import geopandas as gpd\n",
    "\n",
    "# library to handle JSON files\n",
    "import json\n",
    "\n",
    "# tranform JSON file into a pandas dataframe\n",
    "from pandas.io.json import json_normalize\n",
    "\n",
    "import folium\n",
    "from folium import plugins\n",
    "\n",
    "# library to handle requests\n",
    "import requests\n",
    "\n",
    "import zipfile\n",
    "\n",
    "# convert an address into latitude and longitude values\n",
    "from geopy.geocoders import Nominatim\n",
    "\n",
    "# necessary for loading url data\n",
    "import io\n",
    "\n",
    "from geopy.geocoders import Nominatim\n",
    "\n",
    "import ssl\n",
    "import certifi\n",
    "\n",
    "import geopy.geocoders\n",
    "\n",
    "import time\n",
    "\n",
    "\n",
    "from pyproj import Proj, transform\n",
    "\n",
    "print('Libraries imported.')\n",
    "\n",
    "\n",
    "\n",
    "from geopy.exc import GeocoderTimedOut\n",
    "\n",
    "from shapely.geometry import Point, LineString"
   ]
  },
  {
   "cell_type": "markdown",
   "metadata": {},
   "source": [
    "***"
   ]
  },
  {
   "cell_type": "markdown",
   "metadata": {},
   "source": [
    "# Functions"
   ]
  },
  {
   "cell_type": "code",
   "execution_count": 3,
   "metadata": {
    "tags": [],
    "ExecuteTime": {
     "start_time": "2023-04-17T15:02:09.681865Z",
     "end_time": "2023-04-17T15:02:09.691862Z"
    }
   },
   "outputs": [],
   "source": [
    "# https://www.swisstopo.admin.ch/content/swisstopo-internet/de/online/calculation-services/_jcr_content/contentPar/tabs/items/dokumente_und_publik/tabPar/downloadlist/downloadItems/8_1467103085694.download/refsys_d.pdf)\n",
    "# Zugriff: 08.04.2023\n",
    "def convert_lv95_wgs84(e,n): #Funktion Umrechnung lv95 zu wgs84\n",
    "    \n",
    "    y = (e - 2600000)/1000000\n",
    "    x = (n - 1200000)/1000000\n",
    "    \n",
    "    l = 2.6779094 + 4.728982 * y + 0.791484 * y * x + 0.1306 * y * x**2 - 0.0436 * y**3\n",
    "    b = 16.9023892 + 3.238272 * x - 0.270978 * y**2 - 0.002528 * x**2 - 0.0447 * y**2 * x - 0.0140 * x**3\n",
    "    \n",
    "    laenge_wgs84 = l * 100 / 36\n",
    "    breite_wgs84 = b * 100 / 36\n",
    "    \n",
    "    return breite_wgs84, laenge_wgs84"
   ]
  },
  {
   "cell_type": "markdown",
   "metadata": {},
   "source": [
    "Die Klasse load_data wurde implementiert, um alle Daten mit einem Befehl einlesen zu können. <br>\n"
   ]
  },
  {
   "cell_type": "code",
   "execution_count": 4,
   "metadata": {
    "tags": [],
    "ExecuteTime": {
     "start_time": "2023-04-17T15:02:09.699861Z",
     "end_time": "2023-04-17T15:02:09.892978Z"
    }
   },
   "outputs": [],
   "source": [
    "class load_data:\n",
    "    def __init__(self,path):\n",
    "        self.path=path\n",
    "\n",
    "    @staticmethod\n",
    "    def load_from_url(url):\n",
    "        s=requests.get(url).content\n",
    "        df=pd.read_csv(io.StringIO(s.decode('utf-8')))\n",
    "        return df\n",
    "\n",
    "        \n",
    "    @staticmethod\n",
    "    def load_pkl(path_to_pkl):\n",
    "        with open(path_to_pkl,'rb') as f:\n",
    "            data=pickle.load(f)\n",
    "        return data\n",
    "        \n",
    "    @staticmethod\n",
    "    def load_csv(path_to_csv):\n",
    "        df=pd.read_csv(path_to_csv,sep=',')\n",
    "        return df"
   ]
  },
  {
   "cell_type": "markdown",
   "metadata": {},
   "source": [
    "***"
   ]
  },
  {
   "cell_type": "markdown",
   "source": [
    "# convert coordinates of a dataframe from LV95 to WGS84\n"
   ],
   "metadata": {
    "collapsed": false
   }
  },
  {
   "cell_type": "code",
   "execution_count": 38,
   "outputs": [],
   "source": [
    "# LV95 zu WGS84\n",
    "def convert_panda_lv95_wgs84(dataFrame ): #Funktion Umrechnung lv95 zu wgs84\n",
    "    inProj = Proj('epsg:2056')\n",
    "    outProj = Proj('epsg:4326')\n",
    "    t = dataFrame['cordinates'].x\n",
    "    x1,y1 = dataFrame['cordinates'].x, dataFrame['cordinates'].y\n",
    "    x2,y2 = transform(inProj, outProj, x1,y1)\n",
    "    dataFrame['antenna_Location_WGS84_E'] = x2\n",
    "    dataFrame['antenna_Location_WGS84_N'] = y2\n",
    "    return dataFrame"
   ],
   "metadata": {
    "collapsed": false,
    "ExecuteTime": {
     "start_time": "2023-04-17T15:09:08.268763Z",
     "end_time": "2023-04-17T15:09:08.288152Z"
    }
   }
  },
  {
   "cell_type": "code",
   "execution_count": 24,
   "outputs": [],
   "source": [
    "def get_adress(coordinates, attempt=1, max_attempts=7):\n",
    "    try:\n",
    "        locator = Nominatim(user_agent=\"add_location_adress\")\n",
    "        location = locator.reverse(coordinates)\n",
    "        address = location.address.split(\",\")\n",
    "        countries = address[len(address)-1].split(\"/\")\n",
    "        address[len(address)-1] = countries[0]\n",
    "        return address\n",
    "    except GeocoderTimedOut:\n",
    "        if attempt <= max_attempts:\n",
    "            return get_kreis(coordinates, attempt=attempt+1)\n",
    "        raise"
   ],
   "metadata": {
    "collapsed": false,
    "ExecuteTime": {
     "start_time": "2023-04-17T15:07:15.515911Z",
     "end_time": "2023-04-17T15:07:15.562135Z"
    }
   }
  },
  {
   "cell_type": "code",
   "execution_count": 61,
   "outputs": [],
   "source": [
    "def add_address(data_frame ):\n",
    "\n",
    "    data_frame['building'] = None\n",
    "    data_frame['streetNumber'] = None\n",
    "    data_frame['street'] = None\n",
    "    data_frame['town'] = None\n",
    "    data_frame['district'] = None\n",
    "    data_frame['state'] = None\n",
    "\n",
    "\n",
    "    street_number = []\n",
    "    street = []\n",
    "    town = []\n",
    "    postal = []\n",
    "    district = []\n",
    "    state = []\n",
    "    country = []\n",
    "\n",
    "    counter = 0\n",
    "    for index, row in data_frame.iterrows():\n",
    "        coordinates = [row['antenna_Location_WGS84_E'],row[\"antenna_Location_WGS84_N\"]]\n",
    "        forward = 0\n",
    "\n",
    "        adresse = get_adress(coordinates)\n",
    "\n",
    "        print(adresse)\n",
    "        if adresse[forward][0].isdigit() or len(adresse[forward]) >1 and adresse[forward][1].isdigit():\n",
    "            data_frame.loc[index , \"streetNumber\"] = adresse[0]\n",
    "            street_number.append(adresse[0])\n",
    "            forward += 1\n",
    "        elif adresse[forward+1][0].isdigit() or len(adresse[forward+1]) >1 and adresse[forward+1][1].isdigit():\n",
    "            data_frame.loc[index , \"streetNumber\"] = adresse[forward+1]\n",
    "            data_frame.loc[index , \"building\"] = adresse[forward]\n",
    "            forward += 2\n",
    "\n",
    "        else:\n",
    "            street_number.append(None)\n",
    "\n",
    "\n",
    "        street.append(adresse[forward])\n",
    "        data_frame.loc[index , \"street\"] = adresse[forward]\n",
    "\n",
    "\n",
    "        backward = len(adresse)-1\n",
    "\n",
    "        country.append(adresse[backward])\n",
    "        data_frame.loc[index , \"country\"] = adresse[backward]\n",
    "\n",
    "        backward -= 1\n",
    "\n",
    "\n",
    "\n",
    "\n",
    "\n",
    "        if len(adresse[backward]) == 5 and adresse[backward][1].isdigit():\n",
    "            data_frame.loc[index , \"postal\"] = adresse[backward]\n",
    "            data_frame.loc[index , \"town\"] = plz.get(int(adresse[backward]))\n",
    "        elif len(adresse[backward+1]) == 5 and adresse[backward+1][1].isdigit():\n",
    "            data_frame.loc[index , \"postal\"] = adresse[backward+1]\n",
    "            data_frame.loc[index , \"town\"] = plz.get(int(adresse[backward+1]))\n",
    "            backward = backward + 1\n",
    "        elif len(adresse[backward-1]) == 5 and adresse[backward-1][1].isdigit():\n",
    "            data_frame.loc[index , \"postal\"] = adresse[backward-1]\n",
    "            data_frame.loc[index , \"town\"] = plz.get(int(adresse[backward-1]))\n",
    "            backward = backward - 1\n",
    "\n",
    "\n",
    "        backward += 1\n",
    "\n",
    "\n",
    "        postal.append(adresse[backward])\n",
    "\n",
    "\n",
    "\n",
    "\n",
    "\n",
    "\n",
    "\n",
    "        backward -= 1\n",
    "\n",
    "\n",
    "        state.append(adresse[backward])\n",
    "        data_frame.loc[index , \"state\"] = adresse[backward]\n",
    "        backward -= 1\n",
    "\n",
    "\n",
    "        if adresse[backward].__contains__(\"ezirk\") or adresse[backward].__contains__(\"istrict\") or adresse[backward].__contains__(\"istretto\") or adresse[backward].__contains__(\"erwaltungsregion\") or adresse[backward].__contains__(\"égion administrative\") or adresse[backward].__contains__(\"ahlkreis\") or adresse[backward].__contains__(\"Region\"):\n",
    "            district.append(adresse[backward])\n",
    "            data_frame.loc[index , \"district\"] = adresse[backward]\n",
    "            backward -= 1\n",
    "        else:\n",
    "            district.append(None)\n",
    "\n",
    "        town.append(adresse[backward])\n",
    "\n",
    "        backward -= 1\n",
    "\n",
    "\n",
    "\n",
    "\n",
    "\n",
    "\n",
    "        counter += 1\n",
    "        if counter % 150 == 0:\n",
    "            time.sleep(30)\n",
    "\n",
    "        if counter % 9000 == 0:\n",
    "            time.sleep(1800)\n",
    "\n",
    "\n",
    "    return data_frame\n",
    "\n",
    "\n",
    "\n",
    "\n"
   ],
   "metadata": {
    "collapsed": false,
    "ExecuteTime": {
     "start_time": "2023-04-17T19:00:40.520345Z",
     "end_time": "2023-04-17T19:00:40.564925Z"
    }
   }
  },
  {
   "cell_type": "markdown",
   "source": [
    "# 1) Import mapping dictionary for postal codes\n",
    "<br>Dieser Datensatz liefert dieschweizer Postleitzahlen mit den dazugehöhrigen Ortsnamen dazaus wird ein dictionary erstellt, um später alle Ortsnamen nachzuschlagen <br/>"
   ],
   "metadata": {
    "collapsed": false
   }
  },
  {
   "cell_type": "code",
   "execution_count": 26,
   "outputs": [],
   "source": [
    "plz=pd.read_csv('./Daten/plz_verzeichnis_v2.csv',sep=';')\n",
    "plz = plz[['POSTLEITZAHL', 'ORTBEZ18']]\n",
    "plz = plz.rename({'POSTLEITZAHL': 'PLZ', 'ORTBEZ18': 'ORT'}, axis=1)  # new method\n",
    "plz = plz.set_index('PLZ').to_dict()['ORT']\n"
   ],
   "metadata": {
    "collapsed": false,
    "ExecuteTime": {
     "start_time": "2023-04-17T15:07:28.478264Z",
     "end_time": "2023-04-17T15:07:30.256301Z"
    }
   }
  },
  {
   "cell_type": "code",
   "execution_count": 27,
   "outputs": [
    {
     "data": {
      "text/plain": "  lang                                        description  id powercode_de  \\\n0   de  <table>\\n<tr><td class=\\\"cell-left\\\">\\nSendele...   1       Mittel   \n1   de  <table>\\n<tr><td class=\\\"cell-left\\\">\\nSendele...   2   Sehr Klein   \n2   de  <table>\\n<tr><td class=\\\"cell-left\\\">\\nSendele...   3       Mittel   \n3   de  <table>\\n<tr><td class=\\\"cell-left\\\">\\nSendele...   4       Mittel   \n4   de  <table>\\n<tr><td class=\\\"cell-left\\\">\\nSendele...   5        Klein   \n\n                          geometry  \n0  POINT (2688674.000 1211488.000)  \n1  POINT (2666065.000 1214355.000)  \n2  POINT (2722651.000 1271244.000)  \n3  POINT (2570323.000 1164067.000)  \n4  POINT (2613427.000 1262637.000)  ",
      "text/html": "<div>\n<style scoped>\n    .dataframe tbody tr th:only-of-type {\n        vertical-align: middle;\n    }\n\n    .dataframe tbody tr th {\n        vertical-align: top;\n    }\n\n    .dataframe thead th {\n        text-align: right;\n    }\n</style>\n<table border=\"1\" class=\"dataframe\">\n  <thead>\n    <tr style=\"text-align: right;\">\n      <th></th>\n      <th>lang</th>\n      <th>description</th>\n      <th>id</th>\n      <th>powercode_de</th>\n      <th>geometry</th>\n    </tr>\n  </thead>\n  <tbody>\n    <tr>\n      <th>0</th>\n      <td>de</td>\n      <td>&lt;table&gt;\\n&lt;tr&gt;&lt;td class=\\\"cell-left\\\"&gt;\\nSendele...</td>\n      <td>1</td>\n      <td>Mittel</td>\n      <td>POINT (2688674.000 1211488.000)</td>\n    </tr>\n    <tr>\n      <th>1</th>\n      <td>de</td>\n      <td>&lt;table&gt;\\n&lt;tr&gt;&lt;td class=\\\"cell-left\\\"&gt;\\nSendele...</td>\n      <td>2</td>\n      <td>Sehr Klein</td>\n      <td>POINT (2666065.000 1214355.000)</td>\n    </tr>\n    <tr>\n      <th>2</th>\n      <td>de</td>\n      <td>&lt;table&gt;\\n&lt;tr&gt;&lt;td class=\\\"cell-left\\\"&gt;\\nSendele...</td>\n      <td>3</td>\n      <td>Mittel</td>\n      <td>POINT (2722651.000 1271244.000)</td>\n    </tr>\n    <tr>\n      <th>3</th>\n      <td>de</td>\n      <td>&lt;table&gt;\\n&lt;tr&gt;&lt;td class=\\\"cell-left\\\"&gt;\\nSendele...</td>\n      <td>4</td>\n      <td>Mittel</td>\n      <td>POINT (2570323.000 1164067.000)</td>\n    </tr>\n    <tr>\n      <th>4</th>\n      <td>de</td>\n      <td>&lt;table&gt;\\n&lt;tr&gt;&lt;td class=\\\"cell-left\\\"&gt;\\nSendele...</td>\n      <td>5</td>\n      <td>Klein</td>\n      <td>POINT (2613427.000 1262637.000)</td>\n    </tr>\n  </tbody>\n</table>\n</div>"
     },
     "execution_count": 27,
     "metadata": {},
     "output_type": "execute_result"
    }
   ],
   "source": [
    "data_path='./Daten/ch.bakom.mobil-antennenstandorte-6g_de.json'\n",
    "antennen_6g = gpd.read_file(data_path)\n",
    "antennen_6g.head()"
   ],
   "metadata": {
    "collapsed": false,
    "ExecuteTime": {
     "start_time": "2023-04-17T15:07:30.251301Z",
     "end_time": "2023-04-17T15:07:30.343495Z"
    }
   }
  },
  {
   "cell_type": "markdown",
   "source": [
    "# Import locations of antena\n",
    "<br> JSON from antenna to Pandas <br>"
   ],
   "metadata": {
    "collapsed": false
   }
  },
  {
   "cell_type": "code",
   "execution_count": 28,
   "outputs": [
    {
     "data": {
      "text/plain": "  lang                                        description  id powercode_de  \\\n0   de  <table>\\n<tr><td class=\\\"cell-left\\\">\\nSendele...   1       Mittel   \n1   de  <table>\\n<tr><td class=\\\"cell-left\\\">\\nSendele...   2   Sehr Klein   \n2   de  <table>\\n<tr><td class=\\\"cell-left\\\">\\nSendele...   3       Mittel   \n3   de  <table>\\n<tr><td class=\\\"cell-left\\\">\\nSendele...   4       Mittel   \n4   de  <table>\\n<tr><td class=\\\"cell-left\\\">\\nSendele...   5        Klein   \n\n                          geometry  \n0  POINT (2688674.000 1211488.000)  \n1  POINT (2666065.000 1214355.000)  \n2  POINT (2722651.000 1271244.000)  \n3  POINT (2570323.000 1164067.000)  \n4  POINT (2613427.000 1262637.000)  ",
      "text/html": "<div>\n<style scoped>\n    .dataframe tbody tr th:only-of-type {\n        vertical-align: middle;\n    }\n\n    .dataframe tbody tr th {\n        vertical-align: top;\n    }\n\n    .dataframe thead th {\n        text-align: right;\n    }\n</style>\n<table border=\"1\" class=\"dataframe\">\n  <thead>\n    <tr style=\"text-align: right;\">\n      <th></th>\n      <th>lang</th>\n      <th>description</th>\n      <th>id</th>\n      <th>powercode_de</th>\n      <th>geometry</th>\n    </tr>\n  </thead>\n  <tbody>\n    <tr>\n      <th>0</th>\n      <td>de</td>\n      <td>&lt;table&gt;\\n&lt;tr&gt;&lt;td class=\\\"cell-left\\\"&gt;\\nSendele...</td>\n      <td>1</td>\n      <td>Mittel</td>\n      <td>POINT (2688674.000 1211488.000)</td>\n    </tr>\n    <tr>\n      <th>1</th>\n      <td>de</td>\n      <td>&lt;table&gt;\\n&lt;tr&gt;&lt;td class=\\\"cell-left\\\"&gt;\\nSendele...</td>\n      <td>2</td>\n      <td>Sehr Klein</td>\n      <td>POINT (2666065.000 1214355.000)</td>\n    </tr>\n    <tr>\n      <th>2</th>\n      <td>de</td>\n      <td>&lt;table&gt;\\n&lt;tr&gt;&lt;td class=\\\"cell-left\\\"&gt;\\nSendele...</td>\n      <td>3</td>\n      <td>Mittel</td>\n      <td>POINT (2722651.000 1271244.000)</td>\n    </tr>\n    <tr>\n      <th>3</th>\n      <td>de</td>\n      <td>&lt;table&gt;\\n&lt;tr&gt;&lt;td class=\\\"cell-left\\\"&gt;\\nSendele...</td>\n      <td>4</td>\n      <td>Mittel</td>\n      <td>POINT (2570323.000 1164067.000)</td>\n    </tr>\n    <tr>\n      <th>4</th>\n      <td>de</td>\n      <td>&lt;table&gt;\\n&lt;tr&gt;&lt;td class=\\\"cell-left\\\"&gt;\\nSendele...</td>\n      <td>5</td>\n      <td>Klein</td>\n      <td>POINT (2613427.000 1262637.000)</td>\n    </tr>\n  </tbody>\n</table>\n</div>"
     },
     "execution_count": 28,
     "metadata": {},
     "output_type": "execute_result"
    }
   ],
   "source": [
    "data_path='./Daten/ch.bakom.mobil-antennenstandorte-5g_de.json'\n",
    "antennen_5g = gpd.read_file(data_path)\n",
    "antennen_5g.head()"
   ],
   "metadata": {
    "collapsed": false,
    "ExecuteTime": {
     "start_time": "2023-04-17T15:07:30.403027Z",
     "end_time": "2023-04-17T15:07:32.737528Z"
    }
   }
  },
  {
   "cell_type": "code",
   "execution_count": 29,
   "outputs": [
    {
     "data": {
      "text/plain": "  lang                                        description  id powercode_de  \\\n0   de  <table>\\n<tr><td class=\\\"cell-left\\\">\\nSendele...   1        Gross   \n1   de  <table>\\n<tr><td class=\\\"cell-left\\\">\\nSendele...   2        Gross   \n2   de  <table>\\n<tr><td class=\\\"cell-left\\\">\\nSendele...   3        Gross   \n3   de  <table>\\n<tr><td class=\\\"cell-left\\\">\\nSendele...   4       Mittel   \n4   de  <table>\\n<tr><td class=\\\"cell-left\\\">\\nSendele...   5        Gross   \n\n                          geometry  \n0  POINT (2558525.000 1167925.000)  \n1  POINT (2648322.000 1246675.000)  \n2  POINT (2503428.000 1117642.000)  \n3  POINT (2601088.000 1200806.000)  \n4  POINT (2567350.000 1228990.000)  ",
      "text/html": "<div>\n<style scoped>\n    .dataframe tbody tr th:only-of-type {\n        vertical-align: middle;\n    }\n\n    .dataframe tbody tr th {\n        vertical-align: top;\n    }\n\n    .dataframe thead th {\n        text-align: right;\n    }\n</style>\n<table border=\"1\" class=\"dataframe\">\n  <thead>\n    <tr style=\"text-align: right;\">\n      <th></th>\n      <th>lang</th>\n      <th>description</th>\n      <th>id</th>\n      <th>powercode_de</th>\n      <th>geometry</th>\n    </tr>\n  </thead>\n  <tbody>\n    <tr>\n      <th>0</th>\n      <td>de</td>\n      <td>&lt;table&gt;\\n&lt;tr&gt;&lt;td class=\\\"cell-left\\\"&gt;\\nSendele...</td>\n      <td>1</td>\n      <td>Gross</td>\n      <td>POINT (2558525.000 1167925.000)</td>\n    </tr>\n    <tr>\n      <th>1</th>\n      <td>de</td>\n      <td>&lt;table&gt;\\n&lt;tr&gt;&lt;td class=\\\"cell-left\\\"&gt;\\nSendele...</td>\n      <td>2</td>\n      <td>Gross</td>\n      <td>POINT (2648322.000 1246675.000)</td>\n    </tr>\n    <tr>\n      <th>2</th>\n      <td>de</td>\n      <td>&lt;table&gt;\\n&lt;tr&gt;&lt;td class=\\\"cell-left\\\"&gt;\\nSendele...</td>\n      <td>3</td>\n      <td>Gross</td>\n      <td>POINT (2503428.000 1117642.000)</td>\n    </tr>\n    <tr>\n      <th>3</th>\n      <td>de</td>\n      <td>&lt;table&gt;\\n&lt;tr&gt;&lt;td class=\\\"cell-left\\\"&gt;\\nSendele...</td>\n      <td>4</td>\n      <td>Mittel</td>\n      <td>POINT (2601088.000 1200806.000)</td>\n    </tr>\n    <tr>\n      <th>4</th>\n      <td>de</td>\n      <td>&lt;table&gt;\\n&lt;tr&gt;&lt;td class=\\\"cell-left\\\"&gt;\\nSendele...</td>\n      <td>5</td>\n      <td>Gross</td>\n      <td>POINT (2567350.000 1228990.000)</td>\n    </tr>\n  </tbody>\n</table>\n</div>"
     },
     "execution_count": 29,
     "metadata": {},
     "output_type": "execute_result"
    }
   ],
   "source": [
    "data_path='./Daten/ch.bakom.mobil-antennenstandorte-lte_de.json'\n",
    "antennen_4g = gpd.read_file(data_path)\n",
    "antennen_4g.head()"
   ],
   "metadata": {
    "collapsed": false,
    "ExecuteTime": {
     "start_time": "2023-04-17T15:07:32.733990Z",
     "end_time": "2023-04-17T15:07:36.674487Z"
    }
   }
  },
  {
   "cell_type": "code",
   "execution_count": 30,
   "outputs": [
    {
     "data": {
      "text/plain": "  lang                                        description  id powercode_de  \\\n0   de  <table>\\n<tr><td class=\\\"cell-left\\\">\\nSendele...   1       Mittel   \n1   de  <table>\\n<tr><td class=\\\"cell-left\\\">\\nSendele...   2        Gross   \n2   de  <table>\\n<tr><td class=\\\"cell-left\\\">\\nSendele...   3       Mittel   \n3   de  <table>\\n<tr><td class=\\\"cell-left\\\">\\nSendele...   4       Mittel   \n4   de  <table>\\n<tr><td class=\\\"cell-left\\\">\\nSendele...   5        Klein   \n\n                          geometry  \n0  POINT (2601088.000 1200806.000)  \n1  POINT (2639748.000 1232218.000)  \n2  POINT (2613427.000 1262637.000)  \n3  POINT (2503428.000 1117642.000)  \n4  POINT (2570323.000 1164067.000)  ",
      "text/html": "<div>\n<style scoped>\n    .dataframe tbody tr th:only-of-type {\n        vertical-align: middle;\n    }\n\n    .dataframe tbody tr th {\n        vertical-align: top;\n    }\n\n    .dataframe thead th {\n        text-align: right;\n    }\n</style>\n<table border=\"1\" class=\"dataframe\">\n  <thead>\n    <tr style=\"text-align: right;\">\n      <th></th>\n      <th>lang</th>\n      <th>description</th>\n      <th>id</th>\n      <th>powercode_de</th>\n      <th>geometry</th>\n    </tr>\n  </thead>\n  <tbody>\n    <tr>\n      <th>0</th>\n      <td>de</td>\n      <td>&lt;table&gt;\\n&lt;tr&gt;&lt;td class=\\\"cell-left\\\"&gt;\\nSendele...</td>\n      <td>1</td>\n      <td>Mittel</td>\n      <td>POINT (2601088.000 1200806.000)</td>\n    </tr>\n    <tr>\n      <th>1</th>\n      <td>de</td>\n      <td>&lt;table&gt;\\n&lt;tr&gt;&lt;td class=\\\"cell-left\\\"&gt;\\nSendele...</td>\n      <td>2</td>\n      <td>Gross</td>\n      <td>POINT (2639748.000 1232218.000)</td>\n    </tr>\n    <tr>\n      <th>2</th>\n      <td>de</td>\n      <td>&lt;table&gt;\\n&lt;tr&gt;&lt;td class=\\\"cell-left\\\"&gt;\\nSendele...</td>\n      <td>3</td>\n      <td>Mittel</td>\n      <td>POINT (2613427.000 1262637.000)</td>\n    </tr>\n    <tr>\n      <th>3</th>\n      <td>de</td>\n      <td>&lt;table&gt;\\n&lt;tr&gt;&lt;td class=\\\"cell-left\\\"&gt;\\nSendele...</td>\n      <td>4</td>\n      <td>Mittel</td>\n      <td>POINT (2503428.000 1117642.000)</td>\n    </tr>\n    <tr>\n      <th>4</th>\n      <td>de</td>\n      <td>&lt;table&gt;\\n&lt;tr&gt;&lt;td class=\\\"cell-left\\\"&gt;\\nSendele...</td>\n      <td>5</td>\n      <td>Klein</td>\n      <td>POINT (2570323.000 1164067.000)</td>\n    </tr>\n  </tbody>\n</table>\n</div>"
     },
     "execution_count": 30,
     "metadata": {},
     "output_type": "execute_result"
    }
   ],
   "source": [
    "data_path='./Daten/ch.bakom.mobil-antennenstandorte-umts_de.json'\n",
    "antennen_3g = gpd.read_file(data_path)\n",
    "antennen_3g.head()"
   ],
   "metadata": {
    "collapsed": false,
    "ExecuteTime": {
     "start_time": "2023-04-17T15:07:36.679490Z",
     "end_time": "2023-04-17T15:07:40.655669Z"
    }
   }
  },
  {
   "cell_type": "code",
   "execution_count": 31,
   "outputs": [
    {
     "data": {
      "text/plain": "  lang                                        description  id powercode_de  \\\n0   de  <table>\\n<tr><td class=\\\"cell-left\\\">\\nSendele...   1       Mittel   \n1   de  <table>\\n<tr><td class=\\\"cell-left\\\">\\nSendele...   2       Mittel   \n2   de  <table>\\n<tr><td class=\\\"cell-left\\\">\\nSendele...   3       Mittel   \n3   de  <table>\\n<tr><td class=\\\"cell-left\\\">\\nSendele...   4       Mittel   \n4   de  <table>\\n<tr><td class=\\\"cell-left\\\">\\nSendele...   5   Sehr Klein   \n\n                          geometry  \n0  POINT (2701702.000 1265811.000)  \n1  POINT (2618398.000 1227312.000)  \n2  POINT (2609644.000 1213344.000)  \n3  POINT (2560331.000 1182192.000)  \n4  POINT (2557146.000 1210825.000)  ",
      "text/html": "<div>\n<style scoped>\n    .dataframe tbody tr th:only-of-type {\n        vertical-align: middle;\n    }\n\n    .dataframe tbody tr th {\n        vertical-align: top;\n    }\n\n    .dataframe thead th {\n        text-align: right;\n    }\n</style>\n<table border=\"1\" class=\"dataframe\">\n  <thead>\n    <tr style=\"text-align: right;\">\n      <th></th>\n      <th>lang</th>\n      <th>description</th>\n      <th>id</th>\n      <th>powercode_de</th>\n      <th>geometry</th>\n    </tr>\n  </thead>\n  <tbody>\n    <tr>\n      <th>0</th>\n      <td>de</td>\n      <td>&lt;table&gt;\\n&lt;tr&gt;&lt;td class=\\\"cell-left\\\"&gt;\\nSendele...</td>\n      <td>1</td>\n      <td>Mittel</td>\n      <td>POINT (2701702.000 1265811.000)</td>\n    </tr>\n    <tr>\n      <th>1</th>\n      <td>de</td>\n      <td>&lt;table&gt;\\n&lt;tr&gt;&lt;td class=\\\"cell-left\\\"&gt;\\nSendele...</td>\n      <td>2</td>\n      <td>Mittel</td>\n      <td>POINT (2618398.000 1227312.000)</td>\n    </tr>\n    <tr>\n      <th>2</th>\n      <td>de</td>\n      <td>&lt;table&gt;\\n&lt;tr&gt;&lt;td class=\\\"cell-left\\\"&gt;\\nSendele...</td>\n      <td>3</td>\n      <td>Mittel</td>\n      <td>POINT (2609644.000 1213344.000)</td>\n    </tr>\n    <tr>\n      <th>3</th>\n      <td>de</td>\n      <td>&lt;table&gt;\\n&lt;tr&gt;&lt;td class=\\\"cell-left\\\"&gt;\\nSendele...</td>\n      <td>4</td>\n      <td>Mittel</td>\n      <td>POINT (2560331.000 1182192.000)</td>\n    </tr>\n    <tr>\n      <th>4</th>\n      <td>de</td>\n      <td>&lt;table&gt;\\n&lt;tr&gt;&lt;td class=\\\"cell-left\\\"&gt;\\nSendele...</td>\n      <td>5</td>\n      <td>Sehr Klein</td>\n      <td>POINT (2557146.000 1210825.000)</td>\n    </tr>\n  </tbody>\n</table>\n</div>"
     },
     "execution_count": 31,
     "metadata": {},
     "output_type": "execute_result"
    }
   ],
   "source": [
    "data_path='./Daten/ch.bakom.mobil-antennenstandorte-gsm_de.json'\n",
    "antennen_2g = gpd.read_file(data_path)\n",
    "antennen_2g.head()"
   ],
   "metadata": {
    "collapsed": false,
    "ExecuteTime": {
     "start_time": "2023-04-17T15:07:40.648889Z",
     "end_time": "2023-04-17T15:07:41.092971Z"
    }
   }
  },
  {
   "cell_type": "markdown",
   "source": [
    "# Prepare Datasets\n",
    "<br> Set column names and drop usless Columns <br>"
   ],
   "metadata": {
    "collapsed": false
   }
  },
  {
   "cell_type": "code",
   "execution_count": 39,
   "outputs": [
    {
     "ename": "ValueError",
     "evalue": "Length mismatch: Expected axis has 9 elements, new values have 5 elements",
     "output_type": "error",
     "traceback": [
      "\u001B[1;31m---------------------------------------------------------------------------\u001B[0m",
      "\u001B[1;31mValueError\u001B[0m                                Traceback (most recent call last)",
      "Input \u001B[1;32mIn [39]\u001B[0m, in \u001B[0;36m<cell line: 2>\u001B[1;34m()\u001B[0m\n\u001B[0;32m      1\u001B[0m columns\u001B[38;5;241m=\u001B[39m[\u001B[38;5;124m'\u001B[39m\u001B[38;5;124mlanguage\u001B[39m\u001B[38;5;124m'\u001B[39m, \u001B[38;5;124m'\u001B[39m\u001B[38;5;124mdescription\u001B[39m\u001B[38;5;124m'\u001B[39m, \u001B[38;5;124m'\u001B[39m\u001B[38;5;124mid\u001B[39m\u001B[38;5;124m'\u001B[39m, \u001B[38;5;124m'\u001B[39m\u001B[38;5;124mpower\u001B[39m\u001B[38;5;124m'\u001B[39m, \u001B[38;5;124m'\u001B[39m\u001B[38;5;124mcordinates\u001B[39m\u001B[38;5;124m'\u001B[39m]\n\u001B[1;32m----> 2\u001B[0m antennen_6g\u001B[38;5;241m.\u001B[39mcolumns\u001B[38;5;241m=\u001B[39mcolumns\n\u001B[0;32m      3\u001B[0m antennen_5g\u001B[38;5;241m.\u001B[39mcolumns\u001B[38;5;241m=\u001B[39mcolumns\n\u001B[0;32m      4\u001B[0m antennen_4g\u001B[38;5;241m.\u001B[39mcolumns\u001B[38;5;241m=\u001B[39mcolumns\n",
      "File \u001B[1;32m~\\AppData\\Roaming\\Python\\Python39\\site-packages\\geopandas\\geodataframe.py:202\u001B[0m, in \u001B[0;36mGeoDataFrame.__setattr__\u001B[1;34m(self, attr, val)\u001B[0m\n\u001B[0;32m    200\u001B[0m     \u001B[38;5;28mobject\u001B[39m\u001B[38;5;241m.\u001B[39m\u001B[38;5;21m__setattr__\u001B[39m(\u001B[38;5;28mself\u001B[39m, attr, val)\n\u001B[0;32m    201\u001B[0m \u001B[38;5;28;01melse\u001B[39;00m:\n\u001B[1;32m--> 202\u001B[0m     \u001B[38;5;28;43msuper\u001B[39;49m\u001B[43m(\u001B[49m\u001B[43m)\u001B[49m\u001B[38;5;241;43m.\u001B[39;49m\u001B[38;5;21;43m__setattr__\u001B[39;49m\u001B[43m(\u001B[49m\u001B[43mattr\u001B[49m\u001B[43m,\u001B[49m\u001B[43m \u001B[49m\u001B[43mval\u001B[49m\u001B[43m)\u001B[49m\n",
      "File \u001B[1;32mC:\\ProgramData\\Anaconda3\\lib\\site-packages\\pandas\\core\\generic.py:5588\u001B[0m, in \u001B[0;36mNDFrame.__setattr__\u001B[1;34m(self, name, value)\u001B[0m\n\u001B[0;32m   5586\u001B[0m \u001B[38;5;28;01mtry\u001B[39;00m:\n\u001B[0;32m   5587\u001B[0m     \u001B[38;5;28mobject\u001B[39m\u001B[38;5;241m.\u001B[39m\u001B[38;5;21m__getattribute__\u001B[39m(\u001B[38;5;28mself\u001B[39m, name)\n\u001B[1;32m-> 5588\u001B[0m     \u001B[38;5;28;01mreturn\u001B[39;00m \u001B[38;5;28;43mobject\u001B[39;49m\u001B[38;5;241;43m.\u001B[39;49m\u001B[38;5;21;43m__setattr__\u001B[39;49m\u001B[43m(\u001B[49m\u001B[38;5;28;43mself\u001B[39;49m\u001B[43m,\u001B[49m\u001B[43m \u001B[49m\u001B[43mname\u001B[49m\u001B[43m,\u001B[49m\u001B[43m \u001B[49m\u001B[43mvalue\u001B[49m\u001B[43m)\u001B[49m\n\u001B[0;32m   5589\u001B[0m \u001B[38;5;28;01mexcept\u001B[39;00m \u001B[38;5;167;01mAttributeError\u001B[39;00m:\n\u001B[0;32m   5590\u001B[0m     \u001B[38;5;28;01mpass\u001B[39;00m\n",
      "File \u001B[1;32mC:\\ProgramData\\Anaconda3\\lib\\site-packages\\pandas\\_libs\\properties.pyx:70\u001B[0m, in \u001B[0;36mpandas._libs.properties.AxisProperty.__set__\u001B[1;34m()\u001B[0m\n",
      "File \u001B[1;32mC:\\ProgramData\\Anaconda3\\lib\\site-packages\\pandas\\core\\generic.py:769\u001B[0m, in \u001B[0;36mNDFrame._set_axis\u001B[1;34m(self, axis, labels)\u001B[0m\n\u001B[0;32m    767\u001B[0m \u001B[38;5;28;01mdef\u001B[39;00m \u001B[38;5;21m_set_axis\u001B[39m(\u001B[38;5;28mself\u001B[39m, axis: \u001B[38;5;28mint\u001B[39m, labels: Index) \u001B[38;5;241m-\u001B[39m\u001B[38;5;241m>\u001B[39m \u001B[38;5;28;01mNone\u001B[39;00m:\n\u001B[0;32m    768\u001B[0m     labels \u001B[38;5;241m=\u001B[39m ensure_index(labels)\n\u001B[1;32m--> 769\u001B[0m     \u001B[38;5;28;43mself\u001B[39;49m\u001B[38;5;241;43m.\u001B[39;49m\u001B[43m_mgr\u001B[49m\u001B[38;5;241;43m.\u001B[39;49m\u001B[43mset_axis\u001B[49m\u001B[43m(\u001B[49m\u001B[43maxis\u001B[49m\u001B[43m,\u001B[49m\u001B[43m \u001B[49m\u001B[43mlabels\u001B[49m\u001B[43m)\u001B[49m\n\u001B[0;32m    770\u001B[0m     \u001B[38;5;28mself\u001B[39m\u001B[38;5;241m.\u001B[39m_clear_item_cache()\n",
      "File \u001B[1;32mC:\\ProgramData\\Anaconda3\\lib\\site-packages\\pandas\\core\\internals\\managers.py:214\u001B[0m, in \u001B[0;36mBaseBlockManager.set_axis\u001B[1;34m(self, axis, new_labels)\u001B[0m\n\u001B[0;32m    212\u001B[0m \u001B[38;5;28;01mdef\u001B[39;00m \u001B[38;5;21mset_axis\u001B[39m(\u001B[38;5;28mself\u001B[39m, axis: \u001B[38;5;28mint\u001B[39m, new_labels: Index) \u001B[38;5;241m-\u001B[39m\u001B[38;5;241m>\u001B[39m \u001B[38;5;28;01mNone\u001B[39;00m:\n\u001B[0;32m    213\u001B[0m     \u001B[38;5;66;03m# Caller is responsible for ensuring we have an Index object.\u001B[39;00m\n\u001B[1;32m--> 214\u001B[0m     \u001B[38;5;28;43mself\u001B[39;49m\u001B[38;5;241;43m.\u001B[39;49m\u001B[43m_validate_set_axis\u001B[49m\u001B[43m(\u001B[49m\u001B[43maxis\u001B[49m\u001B[43m,\u001B[49m\u001B[43m \u001B[49m\u001B[43mnew_labels\u001B[49m\u001B[43m)\u001B[49m\n\u001B[0;32m    215\u001B[0m     \u001B[38;5;28mself\u001B[39m\u001B[38;5;241m.\u001B[39maxes[axis] \u001B[38;5;241m=\u001B[39m new_labels\n",
      "File \u001B[1;32mC:\\ProgramData\\Anaconda3\\lib\\site-packages\\pandas\\core\\internals\\base.py:69\u001B[0m, in \u001B[0;36mDataManager._validate_set_axis\u001B[1;34m(self, axis, new_labels)\u001B[0m\n\u001B[0;32m     66\u001B[0m     \u001B[38;5;28;01mpass\u001B[39;00m\n\u001B[0;32m     68\u001B[0m \u001B[38;5;28;01melif\u001B[39;00m new_len \u001B[38;5;241m!=\u001B[39m old_len:\n\u001B[1;32m---> 69\u001B[0m     \u001B[38;5;28;01mraise\u001B[39;00m \u001B[38;5;167;01mValueError\u001B[39;00m(\n\u001B[0;32m     70\u001B[0m         \u001B[38;5;124mf\u001B[39m\u001B[38;5;124m\"\u001B[39m\u001B[38;5;124mLength mismatch: Expected axis has \u001B[39m\u001B[38;5;132;01m{\u001B[39;00mold_len\u001B[38;5;132;01m}\u001B[39;00m\u001B[38;5;124m elements, new \u001B[39m\u001B[38;5;124m\"\u001B[39m\n\u001B[0;32m     71\u001B[0m         \u001B[38;5;124mf\u001B[39m\u001B[38;5;124m\"\u001B[39m\u001B[38;5;124mvalues have \u001B[39m\u001B[38;5;132;01m{\u001B[39;00mnew_len\u001B[38;5;132;01m}\u001B[39;00m\u001B[38;5;124m elements\u001B[39m\u001B[38;5;124m\"\u001B[39m\n\u001B[0;32m     72\u001B[0m     )\n",
      "\u001B[1;31mValueError\u001B[0m: Length mismatch: Expected axis has 9 elements, new values have 5 elements"
     ]
    }
   ],
   "source": [
    "\n",
    "columns=['language', 'description', 'id', 'power', 'cordinates']\n",
    "antennen_6g.columns=columns\n",
    "antennen_5g.columns=columns\n",
    "antennen_4g.columns=columns\n",
    "antennen_3g.columns=columns\n",
    "antennen_2g.columns=columns"
   ],
   "metadata": {
    "collapsed": false,
    "ExecuteTime": {
     "start_time": "2023-04-17T15:07:40.996428Z",
     "end_time": "2023-04-17T15:07:41.098478Z"
    }
   }
  },
  {
   "cell_type": "code",
   "execution_count": 33,
   "outputs": [
    {
     "data": {
      "text/plain": "   id   power                       cordinates\n0   1   Gross  POINT (2558525.000 1167925.000)\n1   2   Gross  POINT (2648322.000 1246675.000)\n2   3   Gross  POINT (2503428.000 1117642.000)\n3   4  Mittel  POINT (2601088.000 1200806.000)",
      "text/html": "<div>\n<style scoped>\n    .dataframe tbody tr th:only-of-type {\n        vertical-align: middle;\n    }\n\n    .dataframe tbody tr th {\n        vertical-align: top;\n    }\n\n    .dataframe thead th {\n        text-align: right;\n    }\n</style>\n<table border=\"1\" class=\"dataframe\">\n  <thead>\n    <tr style=\"text-align: right;\">\n      <th></th>\n      <th>id</th>\n      <th>power</th>\n      <th>cordinates</th>\n    </tr>\n  </thead>\n  <tbody>\n    <tr>\n      <th>0</th>\n      <td>1</td>\n      <td>Gross</td>\n      <td>POINT (2558525.000 1167925.000)</td>\n    </tr>\n    <tr>\n      <th>1</th>\n      <td>2</td>\n      <td>Gross</td>\n      <td>POINT (2648322.000 1246675.000)</td>\n    </tr>\n    <tr>\n      <th>2</th>\n      <td>3</td>\n      <td>Gross</td>\n      <td>POINT (2503428.000 1117642.000)</td>\n    </tr>\n    <tr>\n      <th>3</th>\n      <td>4</td>\n      <td>Mittel</td>\n      <td>POINT (2601088.000 1200806.000)</td>\n    </tr>\n  </tbody>\n</table>\n</div>"
     },
     "execution_count": 33,
     "metadata": {},
     "output_type": "execute_result"
    }
   ],
   "source": [
    "antennen_6g.drop(['language' , 'description'], axis=1, inplace=True)\n",
    "antennen_5g.drop(['language' , 'description'], axis=1, inplace=True)\n",
    "antennen_4g.drop(['language' , 'description'], axis=1, inplace=True)\n",
    "antennen_3g.drop(['language' , 'description'], axis=1, inplace=True)\n",
    "antennen_2g.drop(['language' , 'description'], axis=1, inplace=True)\n",
    "antennen_4g.head(4)"
   ],
   "metadata": {
    "collapsed": false,
    "ExecuteTime": {
     "start_time": "2023-04-17T15:07:41.028954Z",
     "end_time": "2023-04-17T15:07:41.136620Z"
    }
   }
  },
  {
   "cell_type": "markdown",
   "source": [
    "# get address data from openstreet map"
   ],
   "metadata": {
    "collapsed": false
   }
  },
  {
   "cell_type": "code",
   "execution_count": 36,
   "outputs": [
    {
     "name": "stdout",
     "output_type": "stream",
     "text": [
      "C:\\ProgramData\\Anaconda3\\lib\\site-packages\\certifi\\cacert.pem\n"
     ]
    }
   ],
   "source": [
    "import ssl\n",
    "import certifi\n",
    "import geopy.geocoders\n",
    "ctx = ssl.create_default_context(cafile=certifi.where())\n",
    "geopy.geocoders.options.default_ssl_context = ctx\n",
    "print(certifi.where())"
   ],
   "metadata": {
    "collapsed": false,
    "ExecuteTime": {
     "start_time": "2023-04-17T15:08:16.223976Z",
     "end_time": "2023-04-17T15:08:16.276501Z"
    }
   }
  },
  {
   "cell_type": "code",
   "execution_count": 40,
   "outputs": [
    {
     "name": "stderr",
     "output_type": "stream",
     "text": [
      "C:\\Users\\nikki\\AppData\\Local\\Temp\\ipykernel_23640\\4242243979.py:7: FutureWarning: This function is deprecated. See: https://pyproj4.github.io/pyproj/stable/gotchas.html#upgrading-to-pyproj-2-from-pyproj-1\n",
      "  x2,y2 = transform(inProj, outProj, x1,y1)\n",
      "C:\\Users\\nikki\\AppData\\Local\\Temp\\ipykernel_23640\\4242243979.py:7: FutureWarning: This function is deprecated. See: https://pyproj4.github.io/pyproj/stable/gotchas.html#upgrading-to-pyproj-2-from-pyproj-1\n",
      "  x2,y2 = transform(inProj, outProj, x1,y1)\n",
      "C:\\Users\\nikki\\AppData\\Local\\Temp\\ipykernel_23640\\4242243979.py:7: FutureWarning: This function is deprecated. See: https://pyproj4.github.io/pyproj/stable/gotchas.html#upgrading-to-pyproj-2-from-pyproj-1\n",
      "  x2,y2 = transform(inProj, outProj, x1,y1)\n",
      "C:\\Users\\nikki\\AppData\\Local\\Temp\\ipykernel_23640\\4242243979.py:7: FutureWarning: This function is deprecated. See: https://pyproj4.github.io/pyproj/stable/gotchas.html#upgrading-to-pyproj-2-from-pyproj-1\n",
      "  x2,y2 = transform(inProj, outProj, x1,y1)\n",
      "C:\\Users\\nikki\\AppData\\Local\\Temp\\ipykernel_23640\\4242243979.py:7: FutureWarning: This function is deprecated. See: https://pyproj4.github.io/pyproj/stable/gotchas.html#upgrading-to-pyproj-2-from-pyproj-1\n",
      "  x2,y2 = transform(inProj, outProj, x1,y1)\n"
     ]
    }
   ],
   "source": [
    "antennen_6g = convert_panda_lv95_wgs84(antennen_6g)\n",
    "antennen_5g = convert_panda_lv95_wgs84(antennen_5g)\n",
    "antennen_4g = convert_panda_lv95_wgs84(antennen_4g)\n",
    "antennen_3g = convert_panda_lv95_wgs84(antennen_3g)\n",
    "antennen_2g = convert_panda_lv95_wgs84(antennen_2g)\n",
    "\n",
    "\n"
   ],
   "metadata": {
    "collapsed": false,
    "ExecuteTime": {
     "start_time": "2023-04-17T15:09:43.411242Z",
     "end_time": "2023-04-17T15:09:43.584348Z"
    }
   }
  },
  {
   "cell_type": "code",
   "execution_count": 17,
   "outputs": [],
   "source": [],
   "metadata": {
    "collapsed": false,
    "ExecuteTime": {
     "start_time": "2023-04-12T19:53:34.670702Z",
     "end_time": "2023-04-12T19:53:35.025185Z"
    }
   }
  },
  {
   "cell_type": "markdown",
   "source": [],
   "metadata": {
    "collapsed": false
   }
  },
  {
   "cell_type": "code",
   "execution_count": 62,
   "outputs": [
    {
     "name": "stdout",
     "output_type": "stream",
     "text": [
      "['Frauholzstrasse', ' Oberes Halti', ' Steinen', ' Schwyz', ' 6422', ' Schweiz']\n",
      "6422\n",
      "Steinen Zustellung\n",
      "['A14', ' Milchhof', ' Ebikon', ' Luzern', ' 6030', ' Schweiz']\n",
      "6030\n",
      "Ebikon Mall Switz.\n",
      "['Muggenwinggel', ' Weinfelderstrasse', ' Feldhof', ' Märstetten', ' Bezirk Weinfelden', ' Thurgau', ' 8560', ' Schweiz']\n",
      "8560\n",
      "Märstetten\n",
      "['71', ' Rue de la Léchère', ' la Léchère', ' Bulle', ' District de la Gruyère', ' Fribourg/Freiburg', ' 1630', ' Schweiz']\n",
      "1630\n",
      "Bulle Jardins P.L.\n",
      "['27', ' Weidenstrasse', ' Münchenstein', ' Bezirk Arlesheim', ' Basel-Landschaft', ' 4142', ' Schweiz']\n",
      "4142\n",
      "Münchenstein Stöck\n",
      "['Outletpark Murgenthal', ' 79', ' Hauptstrasse', ' Moosmattdorf', ' Riken', ' Murgenthal', ' Bezirk Zofingen', ' Aargau', ' 4853', ' Schweiz']\n",
      "4853\n",
      "Riken AG\n",
      "['Krummackerweg', ' Leibstadt', ' Bezirk Zurzach', ' Aargau', ' 5325', ' Schweiz']\n",
      "5325\n",
      "Leibstadt\n",
      "['3', ' Chemin des Coquelicots', ' Châtelaine', ' Vernier', ' Genève', ' 6643', ' Schweiz']\n",
      "6643\n",
      "None\n",
      "['12', ' Bruggmatte', ' Reiden', ' Luzern', ' 6260', ' Schweiz']\n",
      "6260\n",
      "Mehlsecken\n",
      "['10c', ' Chemin de Rovéréaz', ' Chailly', ' Lausanne', ' District de Lausanne', ' Vaud', ' 1012', ' Schweiz']\n",
      "1012\n",
      "Lausanne\n",
      "['ARA Wartau', ' 1', ' Araweg', ' Weite-Wartau', ' Wartau', ' Wahlkreis Werdenberg', ' Sankt Gallen', ' 9476', ' Schweiz']\n",
      "9476\n",
      "Weite\n",
      "['Route de Roua', ' Grimentz', ' Anniviers', ' Sierre', ' Valais/Wallis', ' 3961', ' Schweiz']\n",
      "3961\n",
      "Mission\n",
      "['Caravan Bucher', ' Hauptstrasse', ' Rotfarb', ' Schlatt', ' Hauptwil', ' Hauptwil-Gottshaus', ' Bezirk Weinfelden', ' Thurgau', ' 9213', ' Schweiz']\n",
      "9213\n",
      "Hauptwil\n",
      "['AEW Energie AG', ' 40', ' Obere Vorstadt', ' Gönhard', ' Aarau', ' Bezirk Aarau', ' Aargau', ' 5000', ' Schweiz']\n",
      "5000\n",
      "Aarau Postauto AG\n",
      "['Landverband', ' Auenweg', ' Rebstein', ' Wahlkreis Rheintal', ' Sankt Gallen', ' 9445', ' Schweiz']\n",
      "9445\n",
      "Rebstein\n",
      "['276', ' Schaffhauserstrasse', ' Oerlikon', ' Kreis 11', ' Zürich', ' Bezirk Zürich', ' Zürich', ' 8057', ' Schweiz']\n",
      "8057\n",
      "Zürich\n",
      "[\"Restaurant du Barrage d'Émosson\", \" Place d'Emosson\", ' Émosson', ' Finhaut', ' Saint-Maurice', ' Valais/Wallis', ' 1925', ' Schweiz']\n",
      "1925\n",
      "Finhaut\n",
      "['2108', ' Weekendweg', ' Spiez', ' Verwaltungskreis Frutigen-Niedersimmental', ' Verwaltungsregion Oberland', ' Bern/Berne', ' 3646', ' Schweiz']\n",
      "3646\n",
      "Einigen\n",
      "['25', ' Industriestrasse', ' Alpnach', ' Obwalden', ' 6055', ' Schweiz']\n",
      "6055\n",
      "Alpnach Brünigstr\n",
      "['Route du Vully', ' Ressudens', ' Grandcour', ' District de la Broye-Vully', ' Vaud', ' 1543', ' Schweiz']\n",
      "1543\n",
      "Grandcour\n",
      "['6a', ' Route de la Sarraz', ' Cossonay', ' District de Morges', ' Vaud', ' 1304', ' Schweiz']\n",
      "1304\n",
      "Allens\n",
      "['ETH WES', ' 41', ' Weinbergstrasse', ' Unterstrass', ' Kreis 6', ' Zürich', ' Bezirk Zürich', ' Zürich', ' 8006', ' Schweiz']\n",
      "8006\n",
      "Zürich\n",
      "['Oro Sport Thalmatt', ' Mettlenwaldweg', ' Thalmatt', ' Herrenschwanden', ' Kirchlindach', ' Verwaltungskreis Bern-Mittelland', ' Verwaltungsregion Bern-Mittelland', ' Bern/Berne', ' 3037', ' Schweiz']\n",
      "3037\n",
      "Herrenschwanden\n",
      "['Route du Village', ' Puidoux', ' District de Lavaux-Oron', ' Vaud', ' 1070', ' Schweiz']\n",
      "1070\n",
      "Puidoux\n"
     ]
    }
   ],
   "source": [
    "antennen_6g = add_address(antennen_6g)\n",
    "# antennen_5g = add_address(antennen_5g)\n",
    "# antennen_4g = add_address(antennen_4g)\n",
    "# antennen_3g = add_address(antennen_3g)\n",
    "# antennen_2g = add_address(antennen_2g)"
   ],
   "metadata": {
    "collapsed": false,
    "ExecuteTime": {
     "start_time": "2023-04-17T19:01:48.689975Z",
     "end_time": "2023-04-17T19:02:00.942063Z"
    }
   }
  },
  {
   "cell_type": "code",
   "execution_count": 28,
   "outputs": [],
   "source": [
    "\n",
    "\n",
    "\n",
    "# Rename special chars\n",
    "def rename_Special(data_frame):\n",
    "    data_frame = data_frame.replace({'dictionary':{'ä':'ae','Ä':'Ae','Ü':'Ue','ü':'ue','Ö':'Oe','ö':'oe'}},regex=True)\n",
    "    return data_frame"
   ],
   "metadata": {
    "collapsed": false,
    "ExecuteTime": {
     "start_time": "2023-04-15T21:35:44.233121Z",
     "end_time": "2023-04-15T21:35:44.304506Z"
    }
   }
  },
  {
   "cell_type": "code",
   "execution_count": 29,
   "outputs": [],
   "source": [
    "antennen_4g = rename_Special(antennen_4g)\n",
    "antennen_3g = rename_Special(antennen_3g)\n",
    "antennen_2g = rename_Special(antennen_2g)"
   ],
   "metadata": {
    "collapsed": false,
    "ExecuteTime": {
     "start_time": "2023-04-15T21:35:45.662336Z",
     "end_time": "2023-04-15T21:35:45.720841Z"
    }
   }
  },
  {
   "cell_type": "code",
   "execution_count": 32,
   "outputs": [],
   "source": [
    "# antennen_5g.to_csv('./Daten/5gAntennen.csv',sep=';', index=False)\n",
    "antennen_4g.to_csv('./Daten/4gAntennen.csv',sep=';', index=False)\n",
    "antennen_3g.to_csv('./Daten/3gAntennen.csv',sep=';', index=False)\n",
    "antennen_2g.to_csv('./Daten/2gAntennen.csv',sep=';', index=False)"
   ],
   "metadata": {
    "collapsed": false,
    "ExecuteTime": {
     "start_time": "2023-04-15T21:36:33.055463Z",
     "end_time": "2023-04-15T21:36:33.898282Z"
    }
   }
  },
  {
   "cell_type": "code",
   "execution_count": 1,
   "outputs": [
    {
     "ename": "NameError",
     "evalue": "name 'certifi' is not defined",
     "output_type": "error",
     "traceback": [
      "\u001B[1;31m---------------------------------------------------------------------------\u001B[0m",
      "\u001B[1;31mNameError\u001B[0m                                 Traceback (most recent call last)",
      "Input \u001B[1;32mIn [1]\u001B[0m, in \u001B[0;36m<cell line: 1>\u001B[1;34m()\u001B[0m\n\u001B[1;32m----> 1\u001B[0m \u001B[38;5;28mprint\u001B[39m(\u001B[43mcertifi\u001B[49m\u001B[38;5;241m.\u001B[39mwhere())\n\u001B[0;32m      2\u001B[0m \u001B[38;5;66;03m#Breiten- und Längengrad von Zürich\u001B[39;00m\n\u001B[0;32m      3\u001B[0m address \u001B[38;5;241m=\u001B[39m \u001B[38;5;124m'\u001B[39m\u001B[38;5;124mSchweiz\u001B[39m\u001B[38;5;124m'\u001B[39m\n",
      "\u001B[1;31mNameError\u001B[0m: name 'certifi' is not defined"
     ]
    }
   ],
   "source": [
    "print(certifi.where())\n",
    "#Breiten- und Längengrad von Zürich\n",
    "address = 'Schweiz'\n",
    "\n",
    "geolocator = Nominatim(user_agent=\"antenna\")\n",
    "location = geolocator.geocode(address)\n",
    "\n",
    "latitude = location.latitude\n",
    "longitude = location.longitude"
   ],
   "metadata": {
    "collapsed": false
   }
  },
  {
   "cell_type": "markdown",
   "metadata": {},
   "source": [
    "Erster Plot zum anschauen des Netzes:"
   ]
  },
  {
   "cell_type": "code",
   "execution_count": null,
   "metadata": {
    "tags": []
   },
   "outputs": [],
   "source": [
    "# workaround for SSL Error:\n",
    "import ssl\n",
    "import certifi\n",
    "import geopy.geocoders\n",
    "ctx = ssl.create_default_context(cafile=certifi.where())\n",
    "geopy.geocoders.options.default_ssl_context = ctx\n",
    "print(certifi.where())"
   ]
  },
  {
   "cell_type": "code",
   "execution_count": null,
   "metadata": {
    "tags": [],
    "ExecuteTime": {
     "start_time": "2023-04-16T17:18:43.759618Z",
     "end_time": "2023-04-16T17:18:43.853405Z"
    }
   },
   "outputs": [],
   "source": [
    "m=folium.Map(location=[latitude,longitude],zoom_start=9)"
   ]
  },
  {
   "cell_type": "code",
   "execution_count": 8,
   "metadata": {
    "tags": []
   },
   "outputs": [
    {
     "ename": "NameError",
     "evalue": "name 'gdf_routennetz' is not defined",
     "output_type": "error",
     "traceback": [
      "\u001B[1;31m---------------------------------------------------------------------------\u001B[0m",
      "\u001B[1;31mNameError\u001B[0m                                 Traceback (most recent call last)",
      "Input \u001B[1;32mIn [8]\u001B[0m, in \u001B[0;36m<cell line: 1>\u001B[1;34m()\u001B[0m\n\u001B[1;32m----> 1\u001B[0m folium\u001B[38;5;241m.\u001B[39mChoropleth(\u001B[43mgdf_routennetz\u001B[49m[gdf_routennetz\u001B[38;5;241m.\u001B[39mvelostreifen\u001B[38;5;241m!=\u001B[39m\u001B[38;5;124m'\u001B[39m\u001B[38;5;124m0\u001B[39m\u001B[38;5;124m'\u001B[39m],line_color\u001B[38;5;241m=\u001B[39m\u001B[38;5;124m'\u001B[39m\u001B[38;5;124mblue\u001B[39m\u001B[38;5;124m'\u001B[39m,line_weight\u001B[38;5;241m=\u001B[39m\u001B[38;5;241m5\u001B[39m,line_opacity\u001B[38;5;241m=\u001B[39m\u001B[38;5;241m0.3\u001B[39m,columns\u001B[38;5;241m=\u001B[39m[\u001B[38;5;124m'\u001B[39m\u001B[38;5;124mname\u001B[39m\u001B[38;5;124m'\u001B[39m],legend_name\u001B[38;5;241m=\u001B[39m\u001B[38;5;124m'\u001B[39m\u001B[38;5;124mhehe\u001B[39m\u001B[38;5;124m'\u001B[39m)\u001B[38;5;241m.\u001B[39madd_to(m)\n\u001B[0;32m      2\u001B[0m folium\u001B[38;5;241m.\u001B[39mChoropleth(gdf_routennetz[gdf_routennetz\u001B[38;5;241m.\u001B[39mveloweg\u001B[38;5;241m!=\u001B[39m\u001B[38;5;241m0\u001B[39m]\u001B[38;5;241m.\u001B[39mgeometry,line_color\u001B[38;5;241m=\u001B[39m\u001B[38;5;124m'\u001B[39m\u001B[38;5;124mred\u001B[39m\u001B[38;5;124m'\u001B[39m,line_weight\u001B[38;5;241m=\u001B[39m\u001B[38;5;241m5\u001B[39m,line_opacity\u001B[38;5;241m=\u001B[39m\u001B[38;5;241m0.3\u001B[39m)\u001B[38;5;241m.\u001B[39madd_to(m)\n",
      "\u001B[1;31mNameError\u001B[0m: name 'gdf_routennetz' is not defined"
     ]
    }
   ],
   "source": [
    "folium.Choropleth(gdf_routennetz[gdf_routennetz.velostreifen!='0'],line_color='blue',line_weight=5,line_opacity=0.3,columns=['name'],legend_name='hehe').add_to(m)\n",
    "folium.Choropleth(gdf_routennetz[gdf_routennetz.veloweg!=0].geometry,line_color='red',line_weight=5,line_opacity=0.3).add_to(m)"
   ]
  },
  {
   "cell_type": "code",
   "execution_count": 2,
   "metadata": {
    "tags": [],
    "ExecuteTime": {
     "start_time": "2023-04-16T17:18:45.700676Z",
     "end_time": "2023-04-16T17:18:45.747538Z"
    }
   },
   "outputs": [
    {
     "ename": "NameError",
     "evalue": "name 'm' is not defined",
     "output_type": "error",
     "traceback": [
      "\u001B[1;31m---------------------------------------------------------------------------\u001B[0m",
      "\u001B[1;31mNameError\u001B[0m                                 Traceback (most recent call last)",
      "Input \u001B[1;32mIn [2]\u001B[0m, in \u001B[0;36m<cell line: 1>\u001B[1;34m()\u001B[0m\n\u001B[1;32m----> 1\u001B[0m display(\u001B[43mm\u001B[49m)\n",
      "\u001B[1;31mNameError\u001B[0m: name 'm' is not defined"
     ]
    }
   ],
   "source": [
    "display(m)"
   ]
  },
  {
   "cell_type": "markdown",
   "metadata": {},
   "source": [
    "***"
   ]
  },
  {
   "cell_type": "markdown",
   "metadata": {},
   "source": [
    "# 4) Abbiegeverbote Stadt Zürich\n",
    "<br>Die Abbiegeverbote geben an, wo man als Velofahrerin nicht abbiegen darf.<br/>\n",
    "<br>Zugriff: 01:11:2021/20:05 https://data.stadt-zuerich.ch/dataset/geo_fuss__und_velowegnetz<br/>"
   ]
  },
  {
   "cell_type": "code",
   "execution_count": 75,
   "metadata": {
    "tags": []
   },
   "outputs": [
    {
     "data": {
      "text/html": [
       "<div>\n",
       "<style scoped>\n",
       "    .dataframe tbody tr th:only-of-type {\n",
       "        vertical-align: middle;\n",
       "    }\n",
       "\n",
       "    .dataframe tbody tr th {\n",
       "        vertical-align: top;\n",
       "    }\n",
       "\n",
       "    .dataframe thead th {\n",
       "        text-align: right;\n",
       "    }\n",
       "</style>\n",
       "<table border=\"1\" class=\"dataframe\">\n",
       "  <thead>\n",
       "    <tr style=\"text-align: right;\">\n",
       "      <th></th>\n",
       "      <th>id1</th>\n",
       "      <th>se_anno_cad_data</th>\n",
       "      <th>objectid</th>\n",
       "      <th>geometry</th>\n",
       "    </tr>\n",
       "  </thead>\n",
       "  <tbody>\n",
       "    <tr>\n",
       "      <th>0</th>\n",
       "      <td>108</td>\n",
       "      <td>NaN</td>\n",
       "      <td>1</td>\n",
       "      <td>LINESTRING (8.54526 47.36752, 8.54522 47.36750...</td>\n",
       "    </tr>\n",
       "    <tr>\n",
       "      <th>1</th>\n",
       "      <td>109</td>\n",
       "      <td>NaN</td>\n",
       "      <td>2</td>\n",
       "      <td>LINESTRING (8.54259 47.37874, 8.54255 47.37867)</td>\n",
       "    </tr>\n",
       "    <tr>\n",
       "      <th>2</th>\n",
       "      <td>110</td>\n",
       "      <td>NaN</td>\n",
       "      <td>3</td>\n",
       "      <td>LINESTRING (8.55336 47.40247, 8.55345 47.40251...</td>\n",
       "    </tr>\n",
       "    <tr>\n",
       "      <th>3</th>\n",
       "      <td>111</td>\n",
       "      <td>NaN</td>\n",
       "      <td>4</td>\n",
       "      <td>LINESTRING (8.50459 47.40565, 8.50460 47.40563...</td>\n",
       "    </tr>\n",
       "    <tr>\n",
       "      <th>4</th>\n",
       "      <td>112</td>\n",
       "      <td>NaN</td>\n",
       "      <td>5</td>\n",
       "      <td>LINESTRING (8.53681 47.38516, 8.53679 47.38521...</td>\n",
       "    </tr>\n",
       "  </tbody>\n",
       "</table>\n",
       "</div>"
      ],
      "text/plain": [
       "   id1  se_anno_cad_data objectid  \\\n",
       "0  108               NaN        1   \n",
       "1  109               NaN        2   \n",
       "2  110               NaN        3   \n",
       "3  111               NaN        4   \n",
       "4  112               NaN        5   \n",
       "\n",
       "                                            geometry  \n",
       "0  LINESTRING (8.54526 47.36752, 8.54522 47.36750...  \n",
       "1    LINESTRING (8.54259 47.37874, 8.54255 47.37867)  \n",
       "2  LINESTRING (8.55336 47.40247, 8.55345 47.40251...  \n",
       "3  LINESTRING (8.50459 47.40565, 8.50460 47.40563...  \n",
       "4  LINESTRING (8.53681 47.38516, 8.53679 47.38521...  "
      ]
     },
     "execution_count": 75,
     "metadata": {},
     "output_type": "execute_result"
    }
   ],
   "source": [
    "gdf_abbiegeverbot = gpd.read_file('./Daten/Fuss_Velo_Wegnetz/data/taz_mm.tbl_routennetz_abbiegeverbote.json')\n",
    "gdf_abbiegeverbot.head()"
   ]
  },
  {
   "cell_type": "code",
   "execution_count": 76,
   "metadata": {
    "tags": []
   },
   "outputs": [],
   "source": [
    "gdf_abbiegeverbot.drop(['se_anno_cad_data','id1','objectid'], axis=1, inplace=True)"
   ]
  },
  {
   "cell_type": "code",
   "execution_count": 77,
   "metadata": {
    "tags": []
   },
   "outputs": [
    {
     "data": {
      "text/html": [
       "<div>\n",
       "<style scoped>\n",
       "    .dataframe tbody tr th:only-of-type {\n",
       "        vertical-align: middle;\n",
       "    }\n",
       "\n",
       "    .dataframe tbody tr th {\n",
       "        vertical-align: top;\n",
       "    }\n",
       "\n",
       "    .dataframe thead th {\n",
       "        text-align: right;\n",
       "    }\n",
       "</style>\n",
       "<table border=\"1\" class=\"dataframe\">\n",
       "  <thead>\n",
       "    <tr style=\"text-align: right;\">\n",
       "      <th></th>\n",
       "      <th>geometry</th>\n",
       "    </tr>\n",
       "  </thead>\n",
       "  <tbody>\n",
       "    <tr>\n",
       "      <th>0</th>\n",
       "      <td>LINESTRING (8.54526 47.36752, 8.54522 47.36750...</td>\n",
       "    </tr>\n",
       "    <tr>\n",
       "      <th>1</th>\n",
       "      <td>LINESTRING (8.54259 47.37874, 8.54255 47.37867)</td>\n",
       "    </tr>\n",
       "    <tr>\n",
       "      <th>2</th>\n",
       "      <td>LINESTRING (8.55336 47.40247, 8.55345 47.40251...</td>\n",
       "    </tr>\n",
       "    <tr>\n",
       "      <th>3</th>\n",
       "      <td>LINESTRING (8.50459 47.40565, 8.50460 47.40563...</td>\n",
       "    </tr>\n",
       "    <tr>\n",
       "      <th>4</th>\n",
       "      <td>LINESTRING (8.53681 47.38516, 8.53679 47.38521...</td>\n",
       "    </tr>\n",
       "  </tbody>\n",
       "</table>\n",
       "</div>"
      ],
      "text/plain": [
       "                                            geometry\n",
       "0  LINESTRING (8.54526 47.36752, 8.54522 47.36750...\n",
       "1    LINESTRING (8.54259 47.37874, 8.54255 47.37867)\n",
       "2  LINESTRING (8.55336 47.40247, 8.55345 47.40251...\n",
       "3  LINESTRING (8.50459 47.40565, 8.50460 47.40563...\n",
       "4  LINESTRING (8.53681 47.38516, 8.53679 47.38521..."
      ]
     },
     "execution_count": 77,
     "metadata": {},
     "output_type": "execute_result"
    }
   ],
   "source": [
    "gdf_abbiegeverbot.head()"
   ]
  },
  {
   "cell_type": "code",
   "execution_count": 78,
   "metadata": {
    "tags": []
   },
   "outputs": [],
   "source": [
    "gdf_abbiegeverbot.to_csv('./Daten/abbiegeverbote_ZH.csv', index=False)"
   ]
  },
  {
   "cell_type": "code",
   "execution_count": null,
   "metadata": {},
   "outputs": [],
   "source": []
  },
  {
   "cell_type": "code",
   "execution_count": null,
   "metadata": {},
   "outputs": [],
   "source": []
  },
  {
   "cell_type": "code",
   "execution_count": null,
   "metadata": {},
   "outputs": [],
   "source": []
  },
  {
   "cell_type": "code",
   "execution_count": null,
   "metadata": {},
   "outputs": [],
   "source": []
  }
 ],
 "metadata": {
  "interpreter": {
   "hash": "aee8b7b246df8f9039afb4144a1f6fd8d2ca17a180786b69acc140d282b71a49"
  },
  "kernelspec": {
   "display_name": "Python 3 (ipykernel)",
   "language": "python",
   "name": "python3"
  },
  "language_info": {
   "codemirror_mode": {
    "name": "ipython",
    "version": 3
   },
   "file_extension": ".py",
   "mimetype": "text/x-python",
   "name": "python",
   "nbconvert_exporter": "python",
   "pygments_lexer": "ipython3",
   "version": "3.9.13"
  }
 },
 "nbformat": 4,
 "nbformat_minor": 4
}
