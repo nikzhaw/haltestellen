{
 "cells": [
  {
   "cell_type": "markdown",
   "metadata": {},
   "source": [
    "# Laden der Daten\n",
    "In diesem Notebook werden die Standorte der schweizer Handyantennen aus der Datenquelle data.geo.admin.ch eingelesen. Überflüssige spalten werden entfernt, koordinaten werden ins WSG84 format umgewandelt. Und die Adressdaten werden per Nominatim abgerufen, verarbeitet und im Dataframe erweitert\n",
    "\n",
    "Autor: Niklaus Haenggi\n",
    "E-Mail: haengnik@students.zhaw.ch\n",
    "Created: 28.4.2023\n"
   ]
  },
  {
   "cell_type": "markdown",
   "metadata": {},
   "source": [
    "## Verwendete Links/Quellen"
   ]
  },
  {
   "cell_type": "markdown",
   "metadata": {},
   "source": [
    "Letzter Zugriff: 01.12.2021"
   ]
  },
  {
   "cell_type": "code",
   "execution_count": 1,
   "metadata": {
    "ExecuteTime": {
     "start_time": "2023-05-11T14:40:24.278554Z",
     "end_time": "2023-05-11T14:40:24.445554Z"
    },
    "tags": []
   },
   "outputs": [],
   "source": [
    "url_5g=\"http://data.geo.admin.ch/ch.bakom.mobil-antennenstandorte-5g/data/ch.bakom.mobil-antennenstandorte-5g_de.json\"\n",
    "url_lte='http://data.geo.admin.ch/ch.bakom.mobil-antennenstandorte-lte/data/ch.bakom.mobil-antennenstandorte-lte_de.json'\n",
    "url_umts='http://data.geo.admin.ch/ch.bakom.mobil-antennenstandorte-umts/data/ch.bakom.mobil-antennenstandorte-umts_de.json'\n",
    "url_gsm='http://data.geo.admin.ch/ch.bakom.mobil-antennenstandorte-gsm/data/ch.bakom.mobil-antennenstandorte-gsm_de.json'\n",
    "url_plz = 'https://swisspost.opendatasoft.com/explore/dataset/plz_verzeichnis_v2/table/?disjunctive.postleitzahl&geofilter.distance='\n",
    "url_stops = 'https://data.geo.admin.ch/ch.bav.haltestellen-oev/haltestellen-oev/haltestellen-oev_2056_de.csv.zip'\n"
   ]
  },
  {
   "cell_type": "code",
   "execution_count": 1,
   "metadata": {
    "ExecuteTime": {
     "start_time": "2023-05-11T14:40:24.288552Z",
     "end_time": "2023-05-11T14:40:24.447552Z"
    },
    "jupyter": {
     "outputs_hidden": false
    }
   },
   "outputs": [],
   "source": []
  },
  {
   "cell_type": "markdown",
   "metadata": {},
   "source": [
    "***"
   ]
  },
  {
   "cell_type": "markdown",
   "metadata": {},
   "source": [
    "## Installation notwendiger Bibliotheken"
   ]
  },
  {
   "cell_type": "code",
   "execution_count": 2,
   "metadata": {
    "ExecuteTime": {
     "start_time": "2023-05-11T14:40:24.309553Z",
     "end_time": "2023-05-11T14:40:54.148361Z"
    },
    "tags": []
   },
   "outputs": [
    {
     "name": "stdout",
     "output_type": "stream",
     "text": [
      "Defaulting to user installation because normal site-packages is not writeable\n",
      "Looking in indexes: https://artifacts.endress.com/artifactory/api/pypi/pypi-mirror/simple\n",
      "Requirement already satisfied: pip in c:\\anaconda3\\lib\\site-packages (22.2.2)\n",
      "Collecting pip\n",
      "  Downloading https://artifacts.endress.com/artifactory/api/pypi/pypi-mirror/packages/packages/08/e3/57d4c24a050aa0bcca46b2920bff40847db79535dc78141eb83581a52eb8/pip-23.1.2-py3-none-any.whl (2.1 MB)\n",
      "     ---------------------------------------- 2.1/2.1 MB 13.1 MB/s eta 0:00:00\n"
     ]
    },
    {
     "name": "stderr",
     "output_type": "stream",
     "text": [
      "ERROR: To modify pip, please run the following command:\n",
      "C:\\Anaconda3\\python.exe -m pip install --upgrade pip\n"
     ]
    },
    {
     "name": "stdout",
     "output_type": "stream",
     "text": [
      "Defaulting to user installation because normal site-packages is not writeable\n",
      "Looking in indexes: https://artifacts.endress.com/artifactory/api/pypi/pypi-mirror/simple\n",
      "Requirement already satisfied: folium in c:\\users\\i00202914\\appdata\\roaming\\python\\python39\\site-packages (0.14.0)\n",
      "Requirement already satisfied: requests in c:\\anaconda3\\lib\\site-packages (from folium) (2.28.1)\n",
      "Requirement already satisfied: jinja2>=2.9 in c:\\anaconda3\\lib\\site-packages (from folium) (2.11.3)\n",
      "Requirement already satisfied: branca>=0.6.0 in c:\\users\\i00202914\\appdata\\roaming\\python\\python39\\site-packages (from folium) (0.6.0)\n",
      "Requirement already satisfied: numpy in c:\\anaconda3\\lib\\site-packages (from folium) (1.21.5)\n",
      "Requirement already satisfied: MarkupSafe>=0.23 in c:\\anaconda3\\lib\\site-packages (from jinja2>=2.9->folium) (2.0.1)\n",
      "Requirement already satisfied: urllib3<1.27,>=1.21.1 in c:\\anaconda3\\lib\\site-packages (from requests->folium) (1.26.11)\n",
      "Requirement already satisfied: idna<4,>=2.5 in c:\\anaconda3\\lib\\site-packages (from requests->folium) (3.3)\n",
      "Requirement already satisfied: charset-normalizer<3,>=2 in c:\\anaconda3\\lib\\site-packages (from requests->folium) (2.0.4)\n",
      "Requirement already satisfied: certifi>=2017.4.17 in c:\\anaconda3\\lib\\site-packages (from requests->folium) (2022.9.14)\n",
      "Defaulting to user installation because normal site-packages is not writeable\n",
      "Looking in indexes: https://artifacts.endress.com/artifactory/api/pypi/pypi-mirror/simple\n",
      "Requirement already satisfied: matplotlib in c:\\anaconda3\\lib\\site-packages (3.5.2)\n",
      "Requirement already satisfied: cycler>=0.10 in c:\\anaconda3\\lib\\site-packages (from matplotlib) (0.11.0)\n",
      "Requirement already satisfied: fonttools>=4.22.0 in c:\\anaconda3\\lib\\site-packages (from matplotlib) (4.25.0)\n",
      "Requirement already satisfied: pillow>=6.2.0 in c:\\anaconda3\\lib\\site-packages (from matplotlib) (9.2.0)\n",
      "Requirement already satisfied: kiwisolver>=1.0.1 in c:\\anaconda3\\lib\\site-packages (from matplotlib) (1.4.2)\n",
      "Requirement already satisfied: python-dateutil>=2.7 in c:\\anaconda3\\lib\\site-packages (from matplotlib) (2.8.2)\n",
      "Requirement already satisfied: numpy>=1.17 in c:\\anaconda3\\lib\\site-packages (from matplotlib) (1.21.5)\n",
      "Requirement already satisfied: packaging>=20.0 in c:\\anaconda3\\lib\\site-packages (from matplotlib) (21.3)\n",
      "Requirement already satisfied: pyparsing>=2.2.1 in c:\\anaconda3\\lib\\site-packages (from matplotlib) (3.0.9)\n",
      "Requirement already satisfied: six>=1.5 in c:\\anaconda3\\lib\\site-packages (from python-dateutil>=2.7->matplotlib) (1.16.0)\n",
      "Defaulting to user installation because normal site-packages is not writeable\n",
      "Looking in indexes: https://artifacts.endress.com/artifactory/api/pypi/pypi-mirror/simple\n",
      "Requirement already satisfied: geopandas in c:\\users\\i00202914\\appdata\\roaming\\python\\python39\\site-packages (0.12.2)\n",
      "Requirement already satisfied: packaging in c:\\anaconda3\\lib\\site-packages (from geopandas) (21.3)\n",
      "Requirement already satisfied: pyproj>=2.6.1.post1 in c:\\users\\i00202914\\appdata\\roaming\\python\\python39\\site-packages (from geopandas) (3.5.0)\n",
      "Requirement already satisfied: shapely>=1.7 in c:\\users\\i00202914\\appdata\\roaming\\python\\python39\\site-packages (from geopandas) (2.0.1)\n",
      "Requirement already satisfied: fiona>=1.8 in c:\\users\\i00202914\\appdata\\roaming\\python\\python39\\site-packages (from geopandas) (1.9.2)\n",
      "Requirement already satisfied: pandas>=1.0.0 in c:\\anaconda3\\lib\\site-packages (from geopandas) (1.4.4)\n",
      "Requirement already satisfied: click-plugins>=1.0 in c:\\users\\i00202914\\appdata\\roaming\\python\\python39\\site-packages (from fiona>=1.8->geopandas) (1.1.1)\n",
      "Requirement already satisfied: munch>=2.3.2 in c:\\users\\i00202914\\appdata\\roaming\\python\\python39\\site-packages (from fiona>=1.8->geopandas) (2.5.0)\n",
      "Requirement already satisfied: click~=8.0 in c:\\anaconda3\\lib\\site-packages (from fiona>=1.8->geopandas) (8.0.4)\n",
      "Requirement already satisfied: certifi in c:\\anaconda3\\lib\\site-packages (from fiona>=1.8->geopandas) (2022.9.14)\n",
      "Requirement already satisfied: attrs>=19.2.0 in c:\\anaconda3\\lib\\site-packages (from fiona>=1.8->geopandas) (21.4.0)\n",
      "Requirement already satisfied: cligj>=0.5 in c:\\users\\i00202914\\appdata\\roaming\\python\\python39\\site-packages (from fiona>=1.8->geopandas) (0.7.2)\n",
      "Requirement already satisfied: importlib-metadata in c:\\anaconda3\\lib\\site-packages (from fiona>=1.8->geopandas) (4.11.3)\n",
      "Requirement already satisfied: python-dateutil>=2.8.1 in c:\\anaconda3\\lib\\site-packages (from pandas>=1.0.0->geopandas) (2.8.2)\n",
      "Requirement already satisfied: numpy>=1.18.5 in c:\\anaconda3\\lib\\site-packages (from pandas>=1.0.0->geopandas) (1.21.5)\n",
      "Requirement already satisfied: pytz>=2020.1 in c:\\anaconda3\\lib\\site-packages (from pandas>=1.0.0->geopandas) (2022.1)\n",
      "Requirement already satisfied: pyparsing!=3.0.5,>=2.0.2 in c:\\anaconda3\\lib\\site-packages (from packaging->geopandas) (3.0.9)\n",
      "Requirement already satisfied: colorama in c:\\anaconda3\\lib\\site-packages (from click~=8.0->fiona>=1.8->geopandas) (0.4.5)\n",
      "Requirement already satisfied: six in c:\\anaconda3\\lib\\site-packages (from munch>=2.3.2->fiona>=1.8->geopandas) (1.16.0)\n",
      "Requirement already satisfied: zipp>=0.5 in c:\\anaconda3\\lib\\site-packages (from importlib-metadata->fiona>=1.8->geopandas) (3.8.0)\n",
      "Defaulting to user installation because normal site-packages is not writeable\n",
      "Looking in indexes: https://artifacts.endress.com/artifactory/api/pypi/pypi-mirror/simple\n",
      "Requirement already satisfied: geopy in c:\\users\\i00202914\\appdata\\roaming\\python\\python39\\site-packages (2.3.0)\n",
      "Requirement already satisfied: geographiclib<3,>=1.52 in c:\\users\\i00202914\\appdata\\roaming\\python\\python39\\site-packages (from geopy) (2.0)\n",
      "Defaulting to user installation because normal site-packages is not writeable\n",
      "Looking in indexes: https://artifacts.endress.com/artifactory/api/pypi/pypi-mirror/simple\n",
      "Requirement already satisfied: pyproj in c:\\users\\i00202914\\appdata\\roaming\\python\\python39\\site-packages (3.5.0)\n",
      "Requirement already satisfied: certifi in c:\\anaconda3\\lib\\site-packages (from pyproj) (2022.9.14)\n",
      "Defaulting to user installation because normal site-packages is not writeable\n",
      "Looking in indexes: https://artifacts.endress.com/artifactory/api/pypi/pypi-mirror/simple\n",
      "Requirement already satisfied: certifi in c:\\anaconda3\\lib\\site-packages (2022.9.14)\n",
      "Defaulting to user installation because normal site-packages is not writeable\n",
      "Looking in indexes: https://artifacts.endress.com/artifactory/api/pypi/pypi-mirror/simple\n",
      "Collecting ssl\n",
      "  Downloading https://artifacts.endress.com/artifactory/api/pypi/pypi-mirror/packages/packages/83/21/f469c9923235f8c36d5fd5334ed11e2681abad7e0032c5aba964dcaf9bbb/ssl-1.16.tar.gz (33 kB)\n",
      "  Preparing metadata (setup.py): started\n",
      "  Preparing metadata (setup.py): finished with status 'error'\n"
     ]
    },
    {
     "name": "stderr",
     "output_type": "stream",
     "text": [
      "  error: subprocess-exited-with-error\n",
      "  \n",
      "  python setup.py egg_info did not run successfully.\n",
      "  exit code: 1\n",
      "  \n",
      "  [25 lines of output]\n",
      "  Traceback (most recent call last):\n",
      "    File \"<string>\", line 2, in <module>\n",
      "    File \"<pip-setuptools-caller>\", line 14, in <module>\n",
      "    File \"C:\\Anaconda3\\lib\\site-packages\\setuptools\\__init__.py\", line 189, in <module>\n",
      "      monkey.patch_all()\n",
      "    File \"C:\\Anaconda3\\lib\\site-packages\\setuptools\\monkey.py\", line 99, in patch_all\n",
      "      patch_for_msvc_specialized_compiler()\n",
      "    File \"C:\\Anaconda3\\lib\\site-packages\\setuptools\\monkey.py\", line 169, in patch_for_msvc_specialized_compiler\n",
      "      patch_func(*msvc14('_get_vc_env'))\n",
      "    File \"C:\\Anaconda3\\lib\\site-packages\\setuptools\\monkey.py\", line 149, in patch_params\n",
      "      mod = import_module(mod_name)\n",
      "    File \"C:\\Anaconda3\\lib\\importlib\\__init__.py\", line 127, in import_module\n",
      "      return _bootstrap._gcd_import(name[level:], package, level)\n",
      "    File \"C:\\Anaconda3\\lib\\site-packages\\setuptools\\_distutils\\_msvccompiler.py\", line 20, in <module>\n",
      "      import unittest.mock\n",
      "    File \"C:\\Anaconda3\\lib\\unittest\\mock.py\", line 26, in <module>\n",
      "      import asyncio\n",
      "    File \"C:\\Anaconda3\\lib\\asyncio\\__init__.py\", line 8, in <module>\n",
      "      from .base_events import *\n",
      "    File \"C:\\Anaconda3\\lib\\asyncio\\base_events.py\", line 34, in <module>\n",
      "      import ssl\n",
      "    File \"C:\\Users\\i00202914\\AppData\\Local\\Temp\\pip-install-c476rsuy\\ssl_5cd8d1a54f3c4aff9a4c2048db4e628f\\ssl\\__init__.py\", line 140\n",
      "      except SSLError, x:\n",
      "                     ^\n",
      "  SyntaxError: invalid syntax\n",
      "  [end of output]\n",
      "  \n",
      "  note: This error originates from a subprocess, and is likely not a problem with pip.\n",
      "error: metadata-generation-failed\n",
      "\n",
      "Encountered error while generating package metadata.\n",
      "\n",
      "See above for output.\n",
      "\n",
      "note: This is an issue with the package mentioned above, not pip.\n",
      "hint: See above for details.\n"
     ]
    }
   ],
   "source": [
    "!pip install --upgrade pip\n",
    "!pip install folium\n",
    "!pip install matplotlib\n",
    "!pip install geopandas\n",
    "!pip install geopy\n",
    "!pip install pyproj\n",
    "!pip install certifi\n",
    "!pip install ssl\n"
   ]
  },
  {
   "cell_type": "markdown",
   "metadata": {},
   "source": [
    "***"
   ]
  },
  {
   "cell_type": "markdown",
   "metadata": {},
   "source": [
    "## Module importieren"
   ]
  },
  {
   "cell_type": "code",
   "execution_count": 3,
   "metadata": {
    "ExecuteTime": {
     "start_time": "2023-05-11T14:40:54.149358Z",
     "end_time": "2023-05-11T14:40:55.525446Z"
    },
    "tags": []
   },
   "outputs": [
    {
     "name": "stdout",
     "output_type": "stream",
     "text": [
      "Libraries imported.\n"
     ]
    }
   ],
   "source": [
    "import csv\n",
    "\n",
    "# library to handle data in a vectorized manner \n",
    "import numpy as np \n",
    "\n",
    "# library for data analysis\n",
    "import pandas as pd\n",
    "\n",
    "import geopandas as gpd\n",
    "\n",
    "# library to handle JSON files\n",
    "import json\n",
    "\n",
    "# transform JSON file into a pandas dataframe\n",
    "from pandas.io.json import json_normalize\n",
    "\n",
    "# library to show coordinates on a map\n",
    "import folium\n",
    "from folium import plugins\n",
    "\n",
    "# library to handle requests\n",
    "import requests\n",
    "\n",
    "# to extract csv from haltestellen-oev_2056_de.csv.zip\n",
    "import zipfile\n",
    "\n",
    "# convert an address into latitude and longitude values\n",
    "from geopy.geocoders import Nominatim\n",
    "\n",
    "# necessary for loading url data\n",
    "import io\n",
    "\n",
    "from geopy.geocoders import Nominatim\n",
    "\n",
    "import ssl\n",
    "import certifi\n",
    "\n",
    "import geopy.geocoders\n",
    "\n",
    "import time\n",
    "\n",
    "\n",
    "from pyproj import Proj, transform\n",
    "\n",
    "print('Libraries imported.')\n",
    "\n",
    "\n",
    "\n",
    "from geopy.exc import GeocoderTimedOut\n",
    "\n"
   ]
  },
  {
   "cell_type": "markdown",
   "metadata": {},
   "source": [
    "***"
   ]
  },
  {
   "cell_type": "markdown",
   "metadata": {},
   "source": [
    "# Functions"
   ]
  },
  {
   "cell_type": "markdown",
   "metadata": {},
   "source": [
    "### function convert_lv95_wgs8\n",
    "this function is here to recalculate coordinates from the global lv95 format to the swiss wgs84 format"
   ]
  },
  {
   "cell_type": "code",
   "execution_count": 4,
   "metadata": {
    "ExecuteTime": {
     "start_time": "2023-05-11T14:40:55.523447Z",
     "end_time": "2023-05-11T14:40:55.539444Z"
    },
    "tags": []
   },
   "outputs": [],
   "source": [
    "# https://www.swisstopo.admin.ch/content/swisstopo-internet/de/online/calculation-services/_jcr_content/contentPar/tabs/items/dokumente_und_publik/tabPar/downloadlist/downloadItems/8_1467103085694.download/refsys_d.pdf)\n",
    "# Zugriff: 08.04.2023\n",
    "def convert_lv95_wgs84(e,n): #Funktion Umrechnung lv95 zu wgs84\n",
    "    \n",
    "    y = (e - 2600000)/1000000\n",
    "    x = (n - 1200000)/1000000\n",
    "    \n",
    "    l = 2.6779094 + 4.728982 * y + 0.791484 * y * x + 0.1306 * y * x**2 - 0.0436 * y**3\n",
    "    b = 16.9023892 + 3.238272 * x - 0.270978 * y**2 - 0.002528 * x**2 - 0.0447 * y**2 * x - 0.0140 * x**3\n",
    "    \n",
    "    laenge_wgs84 = l * 100 / 36\n",
    "    breite_wgs84 = b * 100 / 36\n",
    "    \n",
    "    return breite_wgs84, laenge_wgs84"
   ]
  },
  {
   "cell_type": "markdown",
   "metadata": {},
   "source": [
    "\n",
    "\n",
    "### function load_data\n",
    "\n",
    "This class load_data was implemented to be able to read anttennen - zip code data with one command.\n",
    "This does not work for stops, because they are not formatted according to UTF-8.\n",
    "\n",
    "Die Klasse load_data wurde implementiert, um  Anttennen - Postleitzahlendaten mit einem Befehl einlesen zu können. <br>\n",
    "Diese funktioniert nicht für Haltestellen, da diese nicht nach UTF-8 formatiert sind\n"
   ]
  },
  {
   "cell_type": "code",
   "execution_count": 5,
   "metadata": {
    "ExecuteTime": {
     "start_time": "2023-05-11T14:40:55.537443Z",
     "end_time": "2023-05-11T14:40:55.590802Z"
    },
    "tags": []
   },
   "outputs": [],
   "source": [
    "class load_data:\n",
    "    def __init__(self,path):\n",
    "        self.path=path\n",
    "\n",
    "    @staticmethod\n",
    "    def load_from_url(url):\n",
    "        s=requests.get(url).content\n",
    "        df=pd.read_csv(io.StringIO(s.decode('utf-8')))\n",
    "        return df\n",
    "\n",
    "        \n",
    "    @staticmethod\n",
    "    def load_pkl(path_to_pkl):\n",
    "        with open(path_to_pkl,'rb') as f:\n",
    "            data=pickle.load(f)\n",
    "        return data\n",
    "        \n",
    "    @staticmethod\n",
    "    def load_csv(path_to_csv):\n",
    "        df=pd.read_csv(path_to_csv,sep=',')\n",
    "        return df"
   ]
  },
  {
   "cell_type": "markdown",
   "metadata": {},
   "source": [
    "***"
   ]
  },
  {
   "cell_type": "markdown",
   "metadata": {},
   "source": [
    "### function convert_panda_lv95_wgs84\n",
    "\n",
    "this function converts a pandas dataframe which contains coordinates from the global lv95 format to the swiss wgs84 format.\n"
   ]
  },
  {
   "cell_type": "code",
   "execution_count": 6,
   "metadata": {
    "ExecuteTime": {
     "start_time": "2023-05-11T14:40:55.551469Z",
     "end_time": "2023-05-11T14:40:55.606801Z"
    },
    "jupyter": {
     "outputs_hidden": false
    }
   },
   "outputs": [],
   "source": [
    "# LV95 zu WGS84\n",
    "def convert_panda_lv95_wgs84(dataFrame ): #Funktion Umrechnung lv95 zu wgs84\n",
    "    inProj = Proj('epsg:2056')\n",
    "    outProj = Proj('epsg:4326')\n",
    "    t = dataFrame['cordinates'].x\n",
    "    x1,y1 = dataFrame['cordinates'].x, dataFrame['cordinates'].y\n",
    "    x2,y2 = transform(inProj, outProj, x1,y1)\n",
    "    dataFrame['antenna_Location_WGS84_E'] = x2\n",
    "    dataFrame['antenna_Location_WGS84_N'] = y2\n",
    "    return dataFrame"
   ]
  },
  {
   "cell_type": "markdown",
   "metadata": {},
   "source": [
    "### function get_address\n",
    "this function is here to catch the address with coordinates on openstreetmap by using nominatim\n",
    "it converts the address string to a list"
   ]
  },
  {
   "cell_type": "code",
   "execution_count": 7,
   "metadata": {
    "ExecuteTime": {
     "start_time": "2023-05-11T14:40:55.567869Z",
     "end_time": "2023-05-11T14:40:55.607804Z"
    },
    "jupyter": {
     "outputs_hidden": false
    }
   },
   "outputs": [],
   "source": [
    "def get_address(coordinates, attempt=1, max_attempts=7):\n",
    "    try:\n",
    "        locator = Nominatim(user_agent=\"add_location_adress\")\n",
    "        location = locator.reverse(coordinates)\n",
    "        address = location.address.split(\",\")\n",
    "        countries = address[len(address)-1].split(\"/\")\n",
    "        address[len(address)-1] = countries[0]\n",
    "        return address\n",
    "    except GeocoderTimedOut:\n",
    "        if attempt <= max_attempts:\n",
    "            return get_kreis(coordinates, attempt=attempt+1)\n",
    "        raise"
   ]
  },
  {
   "cell_type": "markdown",
   "metadata": {},
   "source": [
    "### function add_address\n",
    "because nominatim returns the address not always in the same format, we can use this function to get tha address in correct order\n",
    "\n",
    "for example the return of nominatim can be:\n",
    "['building', 'streetNumber' , 'street' , 'town' , 'district' , 'plz' , 'state']\n",
    "or\n",
    "['street' , 'town' , 'district' , 'plz' , 'state']\n",
    "so the street is not always on the 3rd place\n",
    "\n",
    "this function will sort that in the correct order and put 'None' values if something is missing"
   ]
  },
  {
   "cell_type": "code",
   "execution_count": 8,
   "metadata": {
    "ExecuteTime": {
     "start_time": "2023-05-11T14:40:55.587801Z",
     "end_time": "2023-05-11T14:40:55.607804Z"
    },
    "jupyter": {
     "outputs_hidden": false
    }
   },
   "outputs": [],
   "source": [
    "def add_address(data_frame ):\n",
    "\n",
    "# set all address fields to None initial    \n",
    "    data_frame['building'] = None\n",
    "    data_frame['streetNumber'] = None\n",
    "    data_frame['street'] = None\n",
    "    data_frame['town'] = None\n",
    "    data_frame['district'] = None\n",
    "    data_frame['state'] = None\n",
    "\n",
    "# set a counter to stop nominatim requests after a speficic number of requests\n",
    "    counter = 0\n",
    "    \n",
    "    \n",
    "    for index, row in data_frame.iterrows():\n",
    "        \n",
    "        \n",
    "# set counters for adress length forward an backward          \n",
    "        forward = 0\n",
    "        backward = len(adresse)-1\n",
    "        \n",
    "        \n",
    "        \n",
    "# read coordinates of antenna        \n",
    "        coordinates = [row['antenna_Location_WGS84_E'],row[\"antenna_Location_WGS84_N\"]]\n",
    "\n",
    "# get address of antenna by nominatim\n",
    "        adresse = get_address(coordinates)\n",
    "\n",
    "# set counters for address length forward and backward        \n",
    "        forward = 0\n",
    "        backward = len(adresse)-1\n",
    "    \n",
    "# check if first or second entry is street number and update address data of building and streetnumber\n",
    "        if adresse[forward][0].isdigit() or len(adresse[forward]) >1 and adresse[forward][1].isdigit():\n",
    "            data_frame.loc[index , \"streetNumber\"] = adresse[0]\n",
    "            street_number.append(adresse[0])\n",
    "            forward += 1\n",
    "        elif adresse[forward+1][0].isdigit() or len(adresse[forward+1]) >1 and adresse[forward+1][1].isdigit():\n",
    "            data_frame.loc[index , \"streetNumber\"] = adresse[forward+1]\n",
    "            data_frame.loc[index , \"building\"] = adresse[forward]\n",
    "            forward += 2\n",
    "\n",
    "        else:\n",
    "            street_number.append(None)\n",
    "\n",
    "\n",
    "# update street with next field of address list\n",
    "        street.append(adresse[forward])\n",
    "        data_frame.loc[index , \"street\"] = adresse[forward]\n",
    "\n",
    "\n",
    "\n",
    "# add country from the end of the address list\n",
    "        country.append(adresse[backward])\n",
    "        data_frame.loc[index , \"country\"] = adresse[backward]\n",
    "\n",
    "        backward -= 1\n",
    "\n",
    "\n",
    "\n",
    "\n",
    "# check in which position of the address list is the postal code and update postal code in dataframe\n",
    "        if len(adresse[backward]) == 5 and adresse[backward][1].isdigit():\n",
    "            data_frame.loc[index , \"postal\"] = adresse[backward]\n",
    "            data_frame.loc[index , \"town\"] = plz.get(int(adresse[backward]))\n",
    "        elif len(adresse[backward+1]) == 5 and adresse[backward+1][1].isdigit():\n",
    "            data_frame.loc[index , \"postal\"] = adresse[backward+1]\n",
    "            data_frame.loc[index , \"town\"] = plz.get(int(adresse[backward+1]))\n",
    "            backward = backward + 1\n",
    "        elif len(adresse[backward-1]) == 5 and adresse[backward-1][1].isdigit():\n",
    "            data_frame.loc[index , \"postal\"] = adresse[backward-1]\n",
    "            data_frame.loc[index , \"town\"] = plz.get(int(adresse[backward-1]))\n",
    "            backward = backward - 1\n",
    "\n",
    "\n",
    "\n",
    "\n",
    "\n",
    "        print(str(backward) + \"   \" + adresse[backward])\n",
    "\n",
    "\n",
    "\n",
    "\n",
    "\n",
    "\n",
    "# go 3 steps frim town in the address list\n",
    "        backward -= 3\n",
    "    \n",
    "    \n",
    "        print(str(backward) + \"    \" + adresse[backward])\n",
    "\n",
    "\n",
    "# add state to dataframe\n",
    "        data_frame.loc[index , \"state\"] = adresse[backward]\n",
    "        backward -= 1\n",
    "\n",
    "# check if district is in the address\n",
    "        if adresse[backward].__contains__(\"ezirk\") or adresse[backward].__contains__(\"istrict\") or adresse[backward].__contains__(\"istretto\") or adresse[backward].__contains__(\"erwaltungsregion\") or adresse[backward].__contains__(\"égion administrative\") or adresse[backward].__contains__(\"ahlkreis\") or adresse[backward].__contains__(\"Region\"):\n",
    "            district.append(adresse[backward])\n",
    "            data_frame.loc[index , \"district\"] = adresse[backward]\n",
    "            backward -= 1\n",
    "        else:\n",
    "            district.append(None)\n",
    "\n",
    "        town.append(adresse[backward])\n",
    "        backward -= 1\n",
    "\n",
    "\n",
    "\n",
    "\n",
    "# set pause after specific number of requests to not get blocked by OpenStreetMap because of too many requests\n",
    "\n",
    "        counter += 1\n",
    "        if counter % 150 == 0:\n",
    "            time.sleep(20)\n",
    "\n",
    "        if counter % 9000 == 0:\n",
    "            time.sleep(1800)\n",
    "\n",
    "\n",
    "    return data_frame\n",
    "\n",
    "\n",
    "\n",
    "\n"
   ]
  },
  {
   "cell_type": "markdown",
   "metadata": {},
   "source": [
    "## 1) Import mapping dictionary for postal codes\n",
    "\n",
    "<br>This dataset provides thisSwiss postal codes with the associated place names from which a dictionary is created to look up all place names later <br/>.\n",
    "\n",
    "<br>Dieser Datensatz liefert dieschweizer Postleitzahlen mit den dazugehöhrigen Ortsnamen dazaus wird ein dictionary erstellt, um später alle Ortsnamen nachzuschlagen <br/>"
   ]
  },
  {
   "cell_type": "code",
   "execution_count": 9,
   "metadata": {
    "ExecuteTime": {
     "start_time": "2023-05-11T14:40:55.596801Z",
     "end_time": "2023-05-11T14:40:56.597698Z"
    },
    "jupyter": {
     "outputs_hidden": false
    }
   },
   "outputs": [],
   "source": [
    "plz=pd.read_csv('./Daten/plz_verzeichnis_v2.csv',sep=';')\n",
    "\n",
    "# just keep plz and village of plz dataframe\n",
    "plz = plz[['POSTLEITZAHL', 'ORTBEZ18']]\n",
    "\n",
    "# rename columns\n",
    "plz = plz.rename({'POSTLEITZAHL': 'PLZ', 'ORTBEZ18': 'ORT'}, axis=1)  # new method\n",
    "\n",
    "#create dictionary\n",
    "plz = plz.set_index('PLZ').to_dict()['ORT']\n",
    "\n"
   ]
  },
  {
   "cell_type": "code",
   "execution_count": 10,
   "metadata": {
    "ExecuteTime": {
     "start_time": "2023-05-11T14:40:56.601695Z",
     "end_time": "2023-05-11T14:40:56.616697Z"
    },
    "jupyter": {
     "outputs_hidden": false
    }
   },
   "outputs": [],
   "source": [
    "## short unreal dataset of antennas for testing reasons"
   ]
  },
  {
   "cell_type": "code",
   "execution_count": 11,
   "metadata": {
    "ExecuteTime": {
     "start_time": "2023-05-11T14:40:56.619696Z",
     "end_time": "2023-05-11T14:40:57.045282Z"
    },
    "jupyter": {
     "outputs_hidden": false
    }
   },
   "outputs": [
    {
     "data": {
      "text/plain": "  lang                                        description  id powercode_de  \\\n0   de  <table>\\n<tr><td class=\\\"cell-left\\\">\\nSendele...   1       Mittel   \n1   de  <table>\\n<tr><td class=\\\"cell-left\\\">\\nSendele...   2   Sehr Klein   \n2   de  <table>\\n<tr><td class=\\\"cell-left\\\">\\nSendele...   3       Mittel   \n3   de  <table>\\n<tr><td class=\\\"cell-left\\\">\\nSendele...   4       Mittel   \n4   de  <table>\\n<tr><td class=\\\"cell-left\\\">\\nSendele...   5        Klein   \n\n                          geometry  \n0  POINT (2688674.000 1211488.000)  \n1  POINT (2666065.000 1214355.000)  \n2  POINT (2722651.000 1271244.000)  \n3  POINT (2570323.000 1164067.000)  \n4  POINT (2613427.000 1262637.000)  ",
      "text/html": "<div>\n<style scoped>\n    .dataframe tbody tr th:only-of-type {\n        vertical-align: middle;\n    }\n\n    .dataframe tbody tr th {\n        vertical-align: top;\n    }\n\n    .dataframe thead th {\n        text-align: right;\n    }\n</style>\n<table border=\"1\" class=\"dataframe\">\n  <thead>\n    <tr style=\"text-align: right;\">\n      <th></th>\n      <th>lang</th>\n      <th>description</th>\n      <th>id</th>\n      <th>powercode_de</th>\n      <th>geometry</th>\n    </tr>\n  </thead>\n  <tbody>\n    <tr>\n      <th>0</th>\n      <td>de</td>\n      <td>&lt;table&gt;\\n&lt;tr&gt;&lt;td class=\\\"cell-left\\\"&gt;\\nSendele...</td>\n      <td>1</td>\n      <td>Mittel</td>\n      <td>POINT (2688674.000 1211488.000)</td>\n    </tr>\n    <tr>\n      <th>1</th>\n      <td>de</td>\n      <td>&lt;table&gt;\\n&lt;tr&gt;&lt;td class=\\\"cell-left\\\"&gt;\\nSendele...</td>\n      <td>2</td>\n      <td>Sehr Klein</td>\n      <td>POINT (2666065.000 1214355.000)</td>\n    </tr>\n    <tr>\n      <th>2</th>\n      <td>de</td>\n      <td>&lt;table&gt;\\n&lt;tr&gt;&lt;td class=\\\"cell-left\\\"&gt;\\nSendele...</td>\n      <td>3</td>\n      <td>Mittel</td>\n      <td>POINT (2722651.000 1271244.000)</td>\n    </tr>\n    <tr>\n      <th>3</th>\n      <td>de</td>\n      <td>&lt;table&gt;\\n&lt;tr&gt;&lt;td class=\\\"cell-left\\\"&gt;\\nSendele...</td>\n      <td>4</td>\n      <td>Mittel</td>\n      <td>POINT (2570323.000 1164067.000)</td>\n    </tr>\n    <tr>\n      <th>4</th>\n      <td>de</td>\n      <td>&lt;table&gt;\\n&lt;tr&gt;&lt;td class=\\\"cell-left\\\"&gt;\\nSendele...</td>\n      <td>5</td>\n      <td>Klein</td>\n      <td>POINT (2613427.000 1262637.000)</td>\n    </tr>\n  </tbody>\n</table>\n</div>"
     },
     "execution_count": 11,
     "metadata": {},
     "output_type": "execute_result"
    }
   ],
   "source": [
    "data_path='./Daten/ch.bakom.mobil-antennenstandorte-6g_de.json'\n",
    "antennen_6g = gpd.read_file(data_path)\n",
    "antennen_6g.head()"
   ]
  },
  {
   "cell_type": "markdown",
   "metadata": {},
   "source": [
    "## 2) Import locations of antena\n",
    "<br> JSON from antenna to Pandas <br>"
   ]
  },
  {
   "cell_type": "code",
   "execution_count": 12,
   "metadata": {
    "ExecuteTime": {
     "start_time": "2023-05-11T14:40:57.046286Z",
     "end_time": "2023-05-11T14:40:57.973283Z"
    },
    "jupyter": {
     "outputs_hidden": false
    }
   },
   "outputs": [
    {
     "data": {
      "text/plain": "  lang                                        description  id powercode_de  \\\n0   de  <table>\\n<tr><td class=\\\"cell-left\\\">\\nSendele...   1       Mittel   \n1   de  <table>\\n<tr><td class=\\\"cell-left\\\">\\nSendele...   2   Sehr Klein   \n2   de  <table>\\n<tr><td class=\\\"cell-left\\\">\\nSendele...   3       Mittel   \n3   de  <table>\\n<tr><td class=\\\"cell-left\\\">\\nSendele...   4       Mittel   \n4   de  <table>\\n<tr><td class=\\\"cell-left\\\">\\nSendele...   5        Klein   \n\n                          geometry  \n0  POINT (2688674.000 1211488.000)  \n1  POINT (2666065.000 1214355.000)  \n2  POINT (2722651.000 1271244.000)  \n3  POINT (2570323.000 1164067.000)  \n4  POINT (2613427.000 1262637.000)  ",
      "text/html": "<div>\n<style scoped>\n    .dataframe tbody tr th:only-of-type {\n        vertical-align: middle;\n    }\n\n    .dataframe tbody tr th {\n        vertical-align: top;\n    }\n\n    .dataframe thead th {\n        text-align: right;\n    }\n</style>\n<table border=\"1\" class=\"dataframe\">\n  <thead>\n    <tr style=\"text-align: right;\">\n      <th></th>\n      <th>lang</th>\n      <th>description</th>\n      <th>id</th>\n      <th>powercode_de</th>\n      <th>geometry</th>\n    </tr>\n  </thead>\n  <tbody>\n    <tr>\n      <th>0</th>\n      <td>de</td>\n      <td>&lt;table&gt;\\n&lt;tr&gt;&lt;td class=\\\"cell-left\\\"&gt;\\nSendele...</td>\n      <td>1</td>\n      <td>Mittel</td>\n      <td>POINT (2688674.000 1211488.000)</td>\n    </tr>\n    <tr>\n      <th>1</th>\n      <td>de</td>\n      <td>&lt;table&gt;\\n&lt;tr&gt;&lt;td class=\\\"cell-left\\\"&gt;\\nSendele...</td>\n      <td>2</td>\n      <td>Sehr Klein</td>\n      <td>POINT (2666065.000 1214355.000)</td>\n    </tr>\n    <tr>\n      <th>2</th>\n      <td>de</td>\n      <td>&lt;table&gt;\\n&lt;tr&gt;&lt;td class=\\\"cell-left\\\"&gt;\\nSendele...</td>\n      <td>3</td>\n      <td>Mittel</td>\n      <td>POINT (2722651.000 1271244.000)</td>\n    </tr>\n    <tr>\n      <th>3</th>\n      <td>de</td>\n      <td>&lt;table&gt;\\n&lt;tr&gt;&lt;td class=\\\"cell-left\\\"&gt;\\nSendele...</td>\n      <td>4</td>\n      <td>Mittel</td>\n      <td>POINT (2570323.000 1164067.000)</td>\n    </tr>\n    <tr>\n      <th>4</th>\n      <td>de</td>\n      <td>&lt;table&gt;\\n&lt;tr&gt;&lt;td class=\\\"cell-left\\\"&gt;\\nSendele...</td>\n      <td>5</td>\n      <td>Klein</td>\n      <td>POINT (2613427.000 1262637.000)</td>\n    </tr>\n  </tbody>\n</table>\n</div>"
     },
     "execution_count": 12,
     "metadata": {},
     "output_type": "execute_result"
    }
   ],
   "source": [
    "data_path='./Daten/ch.bakom.mobil-antennenstandorte-5g_de.json'\n",
    "antennen_5g = gpd.read_file(data_path)\n",
    "antennen_5g.head()"
   ]
  },
  {
   "cell_type": "code",
   "execution_count": 13,
   "metadata": {
    "ExecuteTime": {
     "start_time": "2023-05-11T14:40:57.981284Z",
     "end_time": "2023-05-11T14:40:59.422006Z"
    },
    "jupyter": {
     "outputs_hidden": false
    }
   },
   "outputs": [
    {
     "data": {
      "text/plain": "  lang                                        description  id powercode_de  \\\n0   de  <table>\\n<tr><td class=\\\"cell-left\\\">\\nSendele...   1        Gross   \n1   de  <table>\\n<tr><td class=\\\"cell-left\\\">\\nSendele...   2        Gross   \n2   de  <table>\\n<tr><td class=\\\"cell-left\\\">\\nSendele...   3        Gross   \n3   de  <table>\\n<tr><td class=\\\"cell-left\\\">\\nSendele...   4       Mittel   \n4   de  <table>\\n<tr><td class=\\\"cell-left\\\">\\nSendele...   5        Gross   \n\n                          geometry  \n0  POINT (2558525.000 1167925.000)  \n1  POINT (2648322.000 1246675.000)  \n2  POINT (2503428.000 1117642.000)  \n3  POINT (2601088.000 1200806.000)  \n4  POINT (2567350.000 1228990.000)  ",
      "text/html": "<div>\n<style scoped>\n    .dataframe tbody tr th:only-of-type {\n        vertical-align: middle;\n    }\n\n    .dataframe tbody tr th {\n        vertical-align: top;\n    }\n\n    .dataframe thead th {\n        text-align: right;\n    }\n</style>\n<table border=\"1\" class=\"dataframe\">\n  <thead>\n    <tr style=\"text-align: right;\">\n      <th></th>\n      <th>lang</th>\n      <th>description</th>\n      <th>id</th>\n      <th>powercode_de</th>\n      <th>geometry</th>\n    </tr>\n  </thead>\n  <tbody>\n    <tr>\n      <th>0</th>\n      <td>de</td>\n      <td>&lt;table&gt;\\n&lt;tr&gt;&lt;td class=\\\"cell-left\\\"&gt;\\nSendele...</td>\n      <td>1</td>\n      <td>Gross</td>\n      <td>POINT (2558525.000 1167925.000)</td>\n    </tr>\n    <tr>\n      <th>1</th>\n      <td>de</td>\n      <td>&lt;table&gt;\\n&lt;tr&gt;&lt;td class=\\\"cell-left\\\"&gt;\\nSendele...</td>\n      <td>2</td>\n      <td>Gross</td>\n      <td>POINT (2648322.000 1246675.000)</td>\n    </tr>\n    <tr>\n      <th>2</th>\n      <td>de</td>\n      <td>&lt;table&gt;\\n&lt;tr&gt;&lt;td class=\\\"cell-left\\\"&gt;\\nSendele...</td>\n      <td>3</td>\n      <td>Gross</td>\n      <td>POINT (2503428.000 1117642.000)</td>\n    </tr>\n    <tr>\n      <th>3</th>\n      <td>de</td>\n      <td>&lt;table&gt;\\n&lt;tr&gt;&lt;td class=\\\"cell-left\\\"&gt;\\nSendele...</td>\n      <td>4</td>\n      <td>Mittel</td>\n      <td>POINT (2601088.000 1200806.000)</td>\n    </tr>\n    <tr>\n      <th>4</th>\n      <td>de</td>\n      <td>&lt;table&gt;\\n&lt;tr&gt;&lt;td class=\\\"cell-left\\\"&gt;\\nSendele...</td>\n      <td>5</td>\n      <td>Gross</td>\n      <td>POINT (2567350.000 1228990.000)</td>\n    </tr>\n  </tbody>\n</table>\n</div>"
     },
     "execution_count": 13,
     "metadata": {},
     "output_type": "execute_result"
    }
   ],
   "source": [
    "data_path='./Daten/ch.bakom.mobil-antennenstandorte-lte_de.json'\n",
    "antennen_4g = gpd.read_file(data_path)\n",
    "antennen_4g.head()"
   ]
  },
  {
   "cell_type": "code",
   "execution_count": 14,
   "metadata": {
    "ExecuteTime": {
     "start_time": "2023-05-11T14:40:59.425004Z",
     "end_time": "2023-05-11T14:41:00.878131Z"
    },
    "jupyter": {
     "outputs_hidden": false
    }
   },
   "outputs": [
    {
     "data": {
      "text/plain": "  lang                                        description  id powercode_de  \\\n0   de  <table>\\n<tr><td class=\\\"cell-left\\\">\\nSendele...   1       Mittel   \n1   de  <table>\\n<tr><td class=\\\"cell-left\\\">\\nSendele...   2        Gross   \n2   de  <table>\\n<tr><td class=\\\"cell-left\\\">\\nSendele...   3       Mittel   \n3   de  <table>\\n<tr><td class=\\\"cell-left\\\">\\nSendele...   4       Mittel   \n4   de  <table>\\n<tr><td class=\\\"cell-left\\\">\\nSendele...   5        Klein   \n\n                          geometry  \n0  POINT (2601088.000 1200806.000)  \n1  POINT (2639748.000 1232218.000)  \n2  POINT (2613427.000 1262637.000)  \n3  POINT (2503428.000 1117642.000)  \n4  POINT (2570323.000 1164067.000)  ",
      "text/html": "<div>\n<style scoped>\n    .dataframe tbody tr th:only-of-type {\n        vertical-align: middle;\n    }\n\n    .dataframe tbody tr th {\n        vertical-align: top;\n    }\n\n    .dataframe thead th {\n        text-align: right;\n    }\n</style>\n<table border=\"1\" class=\"dataframe\">\n  <thead>\n    <tr style=\"text-align: right;\">\n      <th></th>\n      <th>lang</th>\n      <th>description</th>\n      <th>id</th>\n      <th>powercode_de</th>\n      <th>geometry</th>\n    </tr>\n  </thead>\n  <tbody>\n    <tr>\n      <th>0</th>\n      <td>de</td>\n      <td>&lt;table&gt;\\n&lt;tr&gt;&lt;td class=\\\"cell-left\\\"&gt;\\nSendele...</td>\n      <td>1</td>\n      <td>Mittel</td>\n      <td>POINT (2601088.000 1200806.000)</td>\n    </tr>\n    <tr>\n      <th>1</th>\n      <td>de</td>\n      <td>&lt;table&gt;\\n&lt;tr&gt;&lt;td class=\\\"cell-left\\\"&gt;\\nSendele...</td>\n      <td>2</td>\n      <td>Gross</td>\n      <td>POINT (2639748.000 1232218.000)</td>\n    </tr>\n    <tr>\n      <th>2</th>\n      <td>de</td>\n      <td>&lt;table&gt;\\n&lt;tr&gt;&lt;td class=\\\"cell-left\\\"&gt;\\nSendele...</td>\n      <td>3</td>\n      <td>Mittel</td>\n      <td>POINT (2613427.000 1262637.000)</td>\n    </tr>\n    <tr>\n      <th>3</th>\n      <td>de</td>\n      <td>&lt;table&gt;\\n&lt;tr&gt;&lt;td class=\\\"cell-left\\\"&gt;\\nSendele...</td>\n      <td>4</td>\n      <td>Mittel</td>\n      <td>POINT (2503428.000 1117642.000)</td>\n    </tr>\n    <tr>\n      <th>4</th>\n      <td>de</td>\n      <td>&lt;table&gt;\\n&lt;tr&gt;&lt;td class=\\\"cell-left\\\"&gt;\\nSendele...</td>\n      <td>5</td>\n      <td>Klein</td>\n      <td>POINT (2570323.000 1164067.000)</td>\n    </tr>\n  </tbody>\n</table>\n</div>"
     },
     "execution_count": 14,
     "metadata": {},
     "output_type": "execute_result"
    }
   ],
   "source": [
    "data_path='./Daten/ch.bakom.mobil-antennenstandorte-umts_de.json'\n",
    "antennen_3g = gpd.read_file(data_path)\n",
    "antennen_3g.head()"
   ]
  },
  {
   "cell_type": "code",
   "execution_count": 15,
   "metadata": {
    "ExecuteTime": {
     "start_time": "2023-05-11T14:41:00.879130Z",
     "end_time": "2023-05-11T14:41:01.067129Z"
    },
    "jupyter": {
     "outputs_hidden": false
    }
   },
   "outputs": [
    {
     "data": {
      "text/plain": "  lang                                        description  id powercode_de  \\\n0   de  <table>\\n<tr><td class=\\\"cell-left\\\">\\nSendele...   1       Mittel   \n1   de  <table>\\n<tr><td class=\\\"cell-left\\\">\\nSendele...   2       Mittel   \n2   de  <table>\\n<tr><td class=\\\"cell-left\\\">\\nSendele...   3       Mittel   \n3   de  <table>\\n<tr><td class=\\\"cell-left\\\">\\nSendele...   4       Mittel   \n4   de  <table>\\n<tr><td class=\\\"cell-left\\\">\\nSendele...   5   Sehr Klein   \n\n                          geometry  \n0  POINT (2701702.000 1265811.000)  \n1  POINT (2618398.000 1227312.000)  \n2  POINT (2609644.000 1213344.000)  \n3  POINT (2560331.000 1182192.000)  \n4  POINT (2557146.000 1210825.000)  ",
      "text/html": "<div>\n<style scoped>\n    .dataframe tbody tr th:only-of-type {\n        vertical-align: middle;\n    }\n\n    .dataframe tbody tr th {\n        vertical-align: top;\n    }\n\n    .dataframe thead th {\n        text-align: right;\n    }\n</style>\n<table border=\"1\" class=\"dataframe\">\n  <thead>\n    <tr style=\"text-align: right;\">\n      <th></th>\n      <th>lang</th>\n      <th>description</th>\n      <th>id</th>\n      <th>powercode_de</th>\n      <th>geometry</th>\n    </tr>\n  </thead>\n  <tbody>\n    <tr>\n      <th>0</th>\n      <td>de</td>\n      <td>&lt;table&gt;\\n&lt;tr&gt;&lt;td class=\\\"cell-left\\\"&gt;\\nSendele...</td>\n      <td>1</td>\n      <td>Mittel</td>\n      <td>POINT (2701702.000 1265811.000)</td>\n    </tr>\n    <tr>\n      <th>1</th>\n      <td>de</td>\n      <td>&lt;table&gt;\\n&lt;tr&gt;&lt;td class=\\\"cell-left\\\"&gt;\\nSendele...</td>\n      <td>2</td>\n      <td>Mittel</td>\n      <td>POINT (2618398.000 1227312.000)</td>\n    </tr>\n    <tr>\n      <th>2</th>\n      <td>de</td>\n      <td>&lt;table&gt;\\n&lt;tr&gt;&lt;td class=\\\"cell-left\\\"&gt;\\nSendele...</td>\n      <td>3</td>\n      <td>Mittel</td>\n      <td>POINT (2609644.000 1213344.000)</td>\n    </tr>\n    <tr>\n      <th>3</th>\n      <td>de</td>\n      <td>&lt;table&gt;\\n&lt;tr&gt;&lt;td class=\\\"cell-left\\\"&gt;\\nSendele...</td>\n      <td>4</td>\n      <td>Mittel</td>\n      <td>POINT (2560331.000 1182192.000)</td>\n    </tr>\n    <tr>\n      <th>4</th>\n      <td>de</td>\n      <td>&lt;table&gt;\\n&lt;tr&gt;&lt;td class=\\\"cell-left\\\"&gt;\\nSendele...</td>\n      <td>5</td>\n      <td>Sehr Klein</td>\n      <td>POINT (2557146.000 1210825.000)</td>\n    </tr>\n  </tbody>\n</table>\n</div>"
     },
     "execution_count": 15,
     "metadata": {},
     "output_type": "execute_result"
    }
   ],
   "source": [
    "data_path='./Daten/ch.bakom.mobil-antennenstandorte-gsm_de.json'\n",
    "antennen_2g = gpd.read_file(data_path)\n",
    "antennen_2g.head()"
   ]
  },
  {
   "cell_type": "markdown",
   "metadata": {},
   "source": [
    "## 3) Import locations of public transportation stops\n",
    "<br> CSV of stops to Pandas <br>"
   ]
  },
  {
   "cell_type": "code",
   "execution_count": 16,
   "metadata": {
    "ExecuteTime": {
     "start_time": "2023-05-11T14:41:01.051133Z",
     "end_time": "2023-05-11T14:41:01.213188Z"
    },
    "jupyter": {
     "outputs_hidden": false
    }
   },
   "outputs": [
    {
     "data": {
      "text/plain": "               xtf_id                     Nummer Bezeichnung  \\\n0    ch14uvag00259759   ch:1:sloid:79981:0:97116         NaN   \n1    ch14uvag00264480   ch:1:sloid:70927:0:28883         NaN   \n2    ch14uvag00239449  ch:1:sloid:30581:0:739922         NaN   \n3    ch14uvag00237611  ch:1:sloid:31297:0:898605         NaN   \n4    ch14uvag00247605       ch:1:sloid:77603:0:2         NaN   \n..                ...                        ...         ...   \n195  ch14uvag00247067       ch:1:sloid:77132:0:1         NaN   \n196  ch14uvag00234554       ch:1:sloid:78954:0:2         NaN   \n197  ch14uvag00241425      ch:1:sloid:87898:0:01         NaN   \n198  ch14uvag00247685       ch:1:sloid:93393:0:2         NaN   \n199  ch14uvag00241806      ch:1:sloid:88178:0:02         NaN   \n\n    BetrieblicheBezeichnung  Laenge  Kantenhoehe  \\\n0                  WABERÜT2     NaN          NaN   \n1                   ERBIOZ2     NaN          NaN   \n2                         1     NaN          NaN   \n3                         1     NaN          NaN   \n4                         2    15.0          0.0   \n..                      ...     ...          ...   \n195                       1     NaN          NaN   \n196                       2     NaN          NaN   \n197                       1     NaN          NaN   \n198                       2     NaN          NaN   \n199                       2     NaN          NaN   \n\n     Gueltigkeit_BeginnGueltigkeit  Gueltigkeit_EndeGueltigkeit  \\\n0                         20211212                          NaN   \n1                         20211212                          NaN   \n2                         20210211                          NaN   \n3                         20210211                          NaN   \n4                         20220301                          NaN   \n..                             ...                          ...   \n195                       20220301                          NaN   \n196                       20200703                          NaN   \n197                       20210401                          NaN   \n198                       20220301                          NaN   \n199                       20210504                          NaN   \n\n     Gueltigkeit_Stand      rHaltestelle            E            N       H  \n0             20230327  ch14uvag00063208  2741304.000  1260064.000   602.0  \n1             20230327  ch14uvag00054412  2598366.000  1118588.000   823.0  \n2             20230327  ch14uvag00038841  2758941.000  1183440.001  1725.1  \n3             20230327  ch14uvag00220548  2820554.000  1206750.000  2745.9  \n4             20230327  ch14uvag00058363  2690364.000  1215382.000   784.0  \n..                 ...               ...          ...          ...     ...  \n195           20230327  ch14uvag00055010  2669768.000  1228001.000   528.0  \n196           20230327  ch14uvag00054315  2608794.417  1192083.631   526.6  \n197           20230327  ch14uvag00041045  2589014.000  1223463.000   437.0  \n198           20230327  ch14uvag00048737  2663673.000  1223911.000   475.0  \n199           20230327  ch14uvag00041937  2659043.000  1252382.000   411.1  \n\n[200 rows x 13 columns]",
      "text/html": "<div>\n<style scoped>\n    .dataframe tbody tr th:only-of-type {\n        vertical-align: middle;\n    }\n\n    .dataframe tbody tr th {\n        vertical-align: top;\n    }\n\n    .dataframe thead th {\n        text-align: right;\n    }\n</style>\n<table border=\"1\" class=\"dataframe\">\n  <thead>\n    <tr style=\"text-align: right;\">\n      <th></th>\n      <th>xtf_id</th>\n      <th>Nummer</th>\n      <th>Bezeichnung</th>\n      <th>BetrieblicheBezeichnung</th>\n      <th>Laenge</th>\n      <th>Kantenhoehe</th>\n      <th>Gueltigkeit_BeginnGueltigkeit</th>\n      <th>Gueltigkeit_EndeGueltigkeit</th>\n      <th>Gueltigkeit_Stand</th>\n      <th>rHaltestelle</th>\n      <th>E</th>\n      <th>N</th>\n      <th>H</th>\n    </tr>\n  </thead>\n  <tbody>\n    <tr>\n      <th>0</th>\n      <td>ch14uvag00259759</td>\n      <td>ch:1:sloid:79981:0:97116</td>\n      <td>NaN</td>\n      <td>WABERÜT2</td>\n      <td>NaN</td>\n      <td>NaN</td>\n      <td>20211212</td>\n      <td>NaN</td>\n      <td>20230327</td>\n      <td>ch14uvag00063208</td>\n      <td>2741304.000</td>\n      <td>1260064.000</td>\n      <td>602.0</td>\n    </tr>\n    <tr>\n      <th>1</th>\n      <td>ch14uvag00264480</td>\n      <td>ch:1:sloid:70927:0:28883</td>\n      <td>NaN</td>\n      <td>ERBIOZ2</td>\n      <td>NaN</td>\n      <td>NaN</td>\n      <td>20211212</td>\n      <td>NaN</td>\n      <td>20230327</td>\n      <td>ch14uvag00054412</td>\n      <td>2598366.000</td>\n      <td>1118588.000</td>\n      <td>823.0</td>\n    </tr>\n    <tr>\n      <th>2</th>\n      <td>ch14uvag00239449</td>\n      <td>ch:1:sloid:30581:0:739922</td>\n      <td>NaN</td>\n      <td>1</td>\n      <td>NaN</td>\n      <td>NaN</td>\n      <td>20210211</td>\n      <td>NaN</td>\n      <td>20230327</td>\n      <td>ch14uvag00038841</td>\n      <td>2758941.000</td>\n      <td>1183440.001</td>\n      <td>1725.1</td>\n    </tr>\n    <tr>\n      <th>3</th>\n      <td>ch14uvag00237611</td>\n      <td>ch:1:sloid:31297:0:898605</td>\n      <td>NaN</td>\n      <td>1</td>\n      <td>NaN</td>\n      <td>NaN</td>\n      <td>20210211</td>\n      <td>NaN</td>\n      <td>20230327</td>\n      <td>ch14uvag00220548</td>\n      <td>2820554.000</td>\n      <td>1206750.000</td>\n      <td>2745.9</td>\n    </tr>\n    <tr>\n      <th>4</th>\n      <td>ch14uvag00247605</td>\n      <td>ch:1:sloid:77603:0:2</td>\n      <td>NaN</td>\n      <td>2</td>\n      <td>15.0</td>\n      <td>0.0</td>\n      <td>20220301</td>\n      <td>NaN</td>\n      <td>20230327</td>\n      <td>ch14uvag00058363</td>\n      <td>2690364.000</td>\n      <td>1215382.000</td>\n      <td>784.0</td>\n    </tr>\n    <tr>\n      <th>...</th>\n      <td>...</td>\n      <td>...</td>\n      <td>...</td>\n      <td>...</td>\n      <td>...</td>\n      <td>...</td>\n      <td>...</td>\n      <td>...</td>\n      <td>...</td>\n      <td>...</td>\n      <td>...</td>\n      <td>...</td>\n      <td>...</td>\n    </tr>\n    <tr>\n      <th>195</th>\n      <td>ch14uvag00247067</td>\n      <td>ch:1:sloid:77132:0:1</td>\n      <td>NaN</td>\n      <td>1</td>\n      <td>NaN</td>\n      <td>NaN</td>\n      <td>20220301</td>\n      <td>NaN</td>\n      <td>20230327</td>\n      <td>ch14uvag00055010</td>\n      <td>2669768.000</td>\n      <td>1228001.000</td>\n      <td>528.0</td>\n    </tr>\n    <tr>\n      <th>196</th>\n      <td>ch14uvag00234554</td>\n      <td>ch:1:sloid:78954:0:2</td>\n      <td>NaN</td>\n      <td>2</td>\n      <td>NaN</td>\n      <td>NaN</td>\n      <td>20200703</td>\n      <td>NaN</td>\n      <td>20230327</td>\n      <td>ch14uvag00054315</td>\n      <td>2608794.417</td>\n      <td>1192083.631</td>\n      <td>526.6</td>\n    </tr>\n    <tr>\n      <th>197</th>\n      <td>ch14uvag00241425</td>\n      <td>ch:1:sloid:87898:0:01</td>\n      <td>NaN</td>\n      <td>1</td>\n      <td>NaN</td>\n      <td>NaN</td>\n      <td>20210401</td>\n      <td>NaN</td>\n      <td>20230327</td>\n      <td>ch14uvag00041045</td>\n      <td>2589014.000</td>\n      <td>1223463.000</td>\n      <td>437.0</td>\n    </tr>\n    <tr>\n      <th>198</th>\n      <td>ch14uvag00247685</td>\n      <td>ch:1:sloid:93393:0:2</td>\n      <td>NaN</td>\n      <td>2</td>\n      <td>NaN</td>\n      <td>NaN</td>\n      <td>20220301</td>\n      <td>NaN</td>\n      <td>20230327</td>\n      <td>ch14uvag00048737</td>\n      <td>2663673.000</td>\n      <td>1223911.000</td>\n      <td>475.0</td>\n    </tr>\n    <tr>\n      <th>199</th>\n      <td>ch14uvag00241806</td>\n      <td>ch:1:sloid:88178:0:02</td>\n      <td>NaN</td>\n      <td>2</td>\n      <td>NaN</td>\n      <td>NaN</td>\n      <td>20210504</td>\n      <td>NaN</td>\n      <td>20230327</td>\n      <td>ch14uvag00041937</td>\n      <td>2659043.000</td>\n      <td>1252382.000</td>\n      <td>411.1</td>\n    </tr>\n  </tbody>\n</table>\n<p>200 rows × 13 columns</p>\n</div>"
     },
     "execution_count": 16,
     "metadata": {},
     "output_type": "execute_result"
    }
   ],
   "source": [
    "\n",
    "stops = pd.read_csv('./Daten/Haltekante.csv', sep=',', encoding='ISO-8859-1')\n",
    "stops.head(200)\n"
   ]
  },
  {
   "cell_type": "code",
   "execution_count": 17,
   "metadata": {
    "ExecuteTime": {
     "start_time": "2023-05-11T14:41:01.211137Z",
     "end_time": "2023-05-11T14:41:01.376839Z"
    }
   },
   "outputs": [
    {
     "data": {
      "text/plain": "               xtf_id                           Name   Nummer Abkuerzung  \\\n0    ch14uvag00047721               Griesenberg, Hub  8506971        NaN   \n1    ch14uvag00051854  Leukerbad, Therme/Rehazentrum  8594512        NaN   \n2    ch14uvag00052870       Martigny, Fond. Gianadda  8570961        NaN   \n3    ch14uvag00056951                        Rhäzüns  8509185       RHAE   \n5    ch14uvag00044446            Dietwil, Wannenmatt  8577141        NaN   \n..                ...                            ...      ...        ...   \n205  ch14uvag00044616          Dörflingen, Unterberg  8573746        NaN   \n206  ch14uvag00039335                  Arosio, Bassa  8575363        NaN   \n207  ch14uvag00049126              Igis, Castaletweg  8581040        NaN   \n208  ch14uvag00279580                  Cadro, Scuole  8510742        NaN   \n209  ch14uvag00058399            Savièse, Pradoumaye  8570740        NaN   \n\n     Transportunternehmen_Nummer Transportunternehmen_Abkuerzung  \\\n0                              7                             PAG   \n1                            141                             LLB   \n2                            325                             BUM   \n3                            154                       RhB FR VR   \n5                            185                             ZVB   \n..                           ...                             ...   \n205                          539                            VBSH   \n206                            7                             PAG   \n207                            7                             PAG   \n208                          145                             ARL   \n209                            7                             PAG   \n\n    Betriebspunkttyp_Code Betriebspunkttyp_Bezeichnung Verkehrsmittel_Code  \\\n0                      VP                  Haltestelle                   A   \n1                      VP                  Haltestelle                   A   \n2                      VP                  Haltestelle                   A   \n3                     VPG  Haltestelle und Bedienpunkt                   B   \n5                      VP                  Haltestelle                   A   \n..                    ...                          ...                 ...   \n205                    VP                  Haltestelle                   A   \n206                    VP                  Haltestelle                   A   \n207                    VP                  Haltestelle                   A   \n208                    VP                  Haltestelle                   A   \n209                    VP                  Haltestelle                   A   \n\n    Verkehrsmittel_Bezeichnung  Gemeinde_Nummer    Gemeinde_Name  \\\n0                          Bus             4881  Amlikon-Bissegg   \n1                          Bus             6111        Leukerbad   \n2                          Bus             6136         Martigny   \n3                          Zug             3723          Rhäzüns   \n5                          Bus             4231          Dietwil   \n..                         ...              ...              ...   \n205                        Bus             2915       Dörflingen   \n206                        Bus             5237  Alto Malcantone   \n207                        Bus             3955        Landquart   \n208                        Bus             5192           Lugano   \n209                        Bus             6265          Savièse   \n\n     Gueltigkeit_BeginnGueltigkeit  Gueltigkeit_EndeGueltigkeit  \\\n0                         19930201                          NaN   \n1                         20110321                          NaN   \n2                         19930201                          NaN   \n3                         19871231                          NaN   \n5                         19930201                          NaN   \n..                             ...                          ...   \n205                       19930201                          NaN   \n206                       19930201                          NaN   \n207                       19960602                          NaN   \n208                       20221211                          NaN   \n209                       19930201                          NaN   \n\n     Gueltigkeit_Stand  rUebergeordneteHaltestelle        E        N     H  \n0             20230424                         NaN  2719715  1268770   559  \n1             20230424                         NaN  2614423  1136296  1374  \n2             20230424                         NaN  2571423  1105128   470  \n3             20230424                         NaN  2749660  1185038   654  \n5             20230424                         NaN  2672576  1221568   408  \n..                 ...                         ...      ...      ...   ...  \n205           20230424                         NaN  2695765  1284695   446  \n206           20230424                         NaN  2713247  1100507   829  \n207           20230424                         NaN  2762110  1201899   533  \n208           20230424                         NaN  2719522  1100340   440  \n209           20230424                         NaN  2593777  1122424   815  \n\n[200 rows x 19 columns]",
      "text/html": "<div>\n<style scoped>\n    .dataframe tbody tr th:only-of-type {\n        vertical-align: middle;\n    }\n\n    .dataframe tbody tr th {\n        vertical-align: top;\n    }\n\n    .dataframe thead th {\n        text-align: right;\n    }\n</style>\n<table border=\"1\" class=\"dataframe\">\n  <thead>\n    <tr style=\"text-align: right;\">\n      <th></th>\n      <th>xtf_id</th>\n      <th>Name</th>\n      <th>Nummer</th>\n      <th>Abkuerzung</th>\n      <th>Transportunternehmen_Nummer</th>\n      <th>Transportunternehmen_Abkuerzung</th>\n      <th>Betriebspunkttyp_Code</th>\n      <th>Betriebspunkttyp_Bezeichnung</th>\n      <th>Verkehrsmittel_Code</th>\n      <th>Verkehrsmittel_Bezeichnung</th>\n      <th>Gemeinde_Nummer</th>\n      <th>Gemeinde_Name</th>\n      <th>Gueltigkeit_BeginnGueltigkeit</th>\n      <th>Gueltigkeit_EndeGueltigkeit</th>\n      <th>Gueltigkeit_Stand</th>\n      <th>rUebergeordneteHaltestelle</th>\n      <th>E</th>\n      <th>N</th>\n      <th>H</th>\n    </tr>\n  </thead>\n  <tbody>\n    <tr>\n      <th>0</th>\n      <td>ch14uvag00047721</td>\n      <td>Griesenberg, Hub</td>\n      <td>8506971</td>\n      <td>NaN</td>\n      <td>7</td>\n      <td>PAG</td>\n      <td>VP</td>\n      <td>Haltestelle</td>\n      <td>A</td>\n      <td>Bus</td>\n      <td>4881</td>\n      <td>Amlikon-Bissegg</td>\n      <td>19930201</td>\n      <td>NaN</td>\n      <td>20230424</td>\n      <td>NaN</td>\n      <td>2719715</td>\n      <td>1268770</td>\n      <td>559</td>\n    </tr>\n    <tr>\n      <th>1</th>\n      <td>ch14uvag00051854</td>\n      <td>Leukerbad, Therme/Rehazentrum</td>\n      <td>8594512</td>\n      <td>NaN</td>\n      <td>141</td>\n      <td>LLB</td>\n      <td>VP</td>\n      <td>Haltestelle</td>\n      <td>A</td>\n      <td>Bus</td>\n      <td>6111</td>\n      <td>Leukerbad</td>\n      <td>20110321</td>\n      <td>NaN</td>\n      <td>20230424</td>\n      <td>NaN</td>\n      <td>2614423</td>\n      <td>1136296</td>\n      <td>1374</td>\n    </tr>\n    <tr>\n      <th>2</th>\n      <td>ch14uvag00052870</td>\n      <td>Martigny, Fond. Gianadda</td>\n      <td>8570961</td>\n      <td>NaN</td>\n      <td>325</td>\n      <td>BUM</td>\n      <td>VP</td>\n      <td>Haltestelle</td>\n      <td>A</td>\n      <td>Bus</td>\n      <td>6136</td>\n      <td>Martigny</td>\n      <td>19930201</td>\n      <td>NaN</td>\n      <td>20230424</td>\n      <td>NaN</td>\n      <td>2571423</td>\n      <td>1105128</td>\n      <td>470</td>\n    </tr>\n    <tr>\n      <th>3</th>\n      <td>ch14uvag00056951</td>\n      <td>Rhäzüns</td>\n      <td>8509185</td>\n      <td>RHAE</td>\n      <td>154</td>\n      <td>RhB FR VR</td>\n      <td>VPG</td>\n      <td>Haltestelle und Bedienpunkt</td>\n      <td>B</td>\n      <td>Zug</td>\n      <td>3723</td>\n      <td>Rhäzüns</td>\n      <td>19871231</td>\n      <td>NaN</td>\n      <td>20230424</td>\n      <td>NaN</td>\n      <td>2749660</td>\n      <td>1185038</td>\n      <td>654</td>\n    </tr>\n    <tr>\n      <th>5</th>\n      <td>ch14uvag00044446</td>\n      <td>Dietwil, Wannenmatt</td>\n      <td>8577141</td>\n      <td>NaN</td>\n      <td>185</td>\n      <td>ZVB</td>\n      <td>VP</td>\n      <td>Haltestelle</td>\n      <td>A</td>\n      <td>Bus</td>\n      <td>4231</td>\n      <td>Dietwil</td>\n      <td>19930201</td>\n      <td>NaN</td>\n      <td>20230424</td>\n      <td>NaN</td>\n      <td>2672576</td>\n      <td>1221568</td>\n      <td>408</td>\n    </tr>\n    <tr>\n      <th>...</th>\n      <td>...</td>\n      <td>...</td>\n      <td>...</td>\n      <td>...</td>\n      <td>...</td>\n      <td>...</td>\n      <td>...</td>\n      <td>...</td>\n      <td>...</td>\n      <td>...</td>\n      <td>...</td>\n      <td>...</td>\n      <td>...</td>\n      <td>...</td>\n      <td>...</td>\n      <td>...</td>\n      <td>...</td>\n      <td>...</td>\n      <td>...</td>\n    </tr>\n    <tr>\n      <th>205</th>\n      <td>ch14uvag00044616</td>\n      <td>Dörflingen, Unterberg</td>\n      <td>8573746</td>\n      <td>NaN</td>\n      <td>539</td>\n      <td>VBSH</td>\n      <td>VP</td>\n      <td>Haltestelle</td>\n      <td>A</td>\n      <td>Bus</td>\n      <td>2915</td>\n      <td>Dörflingen</td>\n      <td>19930201</td>\n      <td>NaN</td>\n      <td>20230424</td>\n      <td>NaN</td>\n      <td>2695765</td>\n      <td>1284695</td>\n      <td>446</td>\n    </tr>\n    <tr>\n      <th>206</th>\n      <td>ch14uvag00039335</td>\n      <td>Arosio, Bassa</td>\n      <td>8575363</td>\n      <td>NaN</td>\n      <td>7</td>\n      <td>PAG</td>\n      <td>VP</td>\n      <td>Haltestelle</td>\n      <td>A</td>\n      <td>Bus</td>\n      <td>5237</td>\n      <td>Alto Malcantone</td>\n      <td>19930201</td>\n      <td>NaN</td>\n      <td>20230424</td>\n      <td>NaN</td>\n      <td>2713247</td>\n      <td>1100507</td>\n      <td>829</td>\n    </tr>\n    <tr>\n      <th>207</th>\n      <td>ch14uvag00049126</td>\n      <td>Igis, Castaletweg</td>\n      <td>8581040</td>\n      <td>NaN</td>\n      <td>7</td>\n      <td>PAG</td>\n      <td>VP</td>\n      <td>Haltestelle</td>\n      <td>A</td>\n      <td>Bus</td>\n      <td>3955</td>\n      <td>Landquart</td>\n      <td>19960602</td>\n      <td>NaN</td>\n      <td>20230424</td>\n      <td>NaN</td>\n      <td>2762110</td>\n      <td>1201899</td>\n      <td>533</td>\n    </tr>\n    <tr>\n      <th>208</th>\n      <td>ch14uvag00279580</td>\n      <td>Cadro, Scuole</td>\n      <td>8510742</td>\n      <td>NaN</td>\n      <td>145</td>\n      <td>ARL</td>\n      <td>VP</td>\n      <td>Haltestelle</td>\n      <td>A</td>\n      <td>Bus</td>\n      <td>5192</td>\n      <td>Lugano</td>\n      <td>20221211</td>\n      <td>NaN</td>\n      <td>20230424</td>\n      <td>NaN</td>\n      <td>2719522</td>\n      <td>1100340</td>\n      <td>440</td>\n    </tr>\n    <tr>\n      <th>209</th>\n      <td>ch14uvag00058399</td>\n      <td>Savièse, Pradoumaye</td>\n      <td>8570740</td>\n      <td>NaN</td>\n      <td>7</td>\n      <td>PAG</td>\n      <td>VP</td>\n      <td>Haltestelle</td>\n      <td>A</td>\n      <td>Bus</td>\n      <td>6265</td>\n      <td>Savièse</td>\n      <td>19930201</td>\n      <td>NaN</td>\n      <td>20230424</td>\n      <td>NaN</td>\n      <td>2593777</td>\n      <td>1122424</td>\n      <td>815</td>\n    </tr>\n  </tbody>\n</table>\n<p>200 rows × 19 columns</p>\n</div>"
     },
     "execution_count": 17,
     "metadata": {},
     "output_type": "execute_result"
    }
   ],
   "source": [
    "stops=pd.read_csv('./Daten/Betriebspunkt.csv',sep=',' , encoding = 'ISO-8859-1')\n",
    "\n",
    "stops = stops[(stops['Betriebspunkttyp_Bezeichnung'] == 'Haltestelle') | (stops['Betriebspunkttyp_Bezeichnung'] == 'Haltestelle und Bedienpunkt')]\n",
    "\n",
    "stops.head(200)"
   ]
  },
  {
   "cell_type": "markdown",
   "metadata": {},
   "source": [
    "# Prepare Datasets"
   ]
  },
  {
   "cell_type": "markdown",
   "metadata": {},
   "source": [
    "## 1) public transporation stops"
   ]
  },
  {
   "cell_type": "code",
   "execution_count": 18,
   "metadata": {
    "ExecuteTime": {
     "start_time": "2023-05-11T14:41:01.362838Z",
     "end_time": "2023-05-11T14:41:01.377837Z"
    }
   },
   "outputs": [],
   "source": [
    "### remove unnecessary information"
   ]
  },
  {
   "cell_type": "code",
   "execution_count": 19,
   "metadata": {
    "ExecuteTime": {
     "start_time": "2023-05-11T14:41:01.384837Z",
     "end_time": "2023-05-11T14:41:01.433837Z"
    }
   },
   "outputs": [
    {
     "data": {
      "text/plain": "                              Name Transportunternehmen_Abkuerzung  \\\n0                 Griesenberg, Hub                             PAG   \n1    Leukerbad, Therme/Rehazentrum                             LLB   \n2         Martigny, Fond. Gianadda                             BUM   \n3                          Rhäzüns                       RhB FR VR   \n5              Dietwil, Wannenmatt                             ZVB   \n..                             ...                             ...   \n205          Dörflingen, Unterberg                            VBSH   \n206                  Arosio, Bassa                             PAG   \n207              Igis, Castaletweg                             PAG   \n208                  Cadro, Scuole                             ARL   \n209            Savièse, Pradoumaye                             PAG   \n\n    Betriebspunkttyp_Bezeichnung Verkehrsmittel_Bezeichnung    Gemeinde_Name  \\\n0                    Haltestelle                        Bus  Amlikon-Bissegg   \n1                    Haltestelle                        Bus        Leukerbad   \n2                    Haltestelle                        Bus         Martigny   \n3    Haltestelle und Bedienpunkt                        Zug          Rhäzüns   \n5                    Haltestelle                        Bus          Dietwil   \n..                           ...                        ...              ...   \n205                  Haltestelle                        Bus       Dörflingen   \n206                  Haltestelle                        Bus  Alto Malcantone   \n207                  Haltestelle                        Bus        Landquart   \n208                  Haltestelle                        Bus           Lugano   \n209                  Haltestelle                        Bus          Savièse   \n\n           E        N     H  \n0    2719715  1268770   559  \n1    2614423  1136296  1374  \n2    2571423  1105128   470  \n3    2749660  1185038   654  \n5    2672576  1221568   408  \n..       ...      ...   ...  \n205  2695765  1284695   446  \n206  2713247  1100507   829  \n207  2762110  1201899   533  \n208  2719522  1100340   440  \n209  2593777  1122424   815  \n\n[200 rows x 8 columns]",
      "text/html": "<div>\n<style scoped>\n    .dataframe tbody tr th:only-of-type {\n        vertical-align: middle;\n    }\n\n    .dataframe tbody tr th {\n        vertical-align: top;\n    }\n\n    .dataframe thead th {\n        text-align: right;\n    }\n</style>\n<table border=\"1\" class=\"dataframe\">\n  <thead>\n    <tr style=\"text-align: right;\">\n      <th></th>\n      <th>Name</th>\n      <th>Transportunternehmen_Abkuerzung</th>\n      <th>Betriebspunkttyp_Bezeichnung</th>\n      <th>Verkehrsmittel_Bezeichnung</th>\n      <th>Gemeinde_Name</th>\n      <th>E</th>\n      <th>N</th>\n      <th>H</th>\n    </tr>\n  </thead>\n  <tbody>\n    <tr>\n      <th>0</th>\n      <td>Griesenberg, Hub</td>\n      <td>PAG</td>\n      <td>Haltestelle</td>\n      <td>Bus</td>\n      <td>Amlikon-Bissegg</td>\n      <td>2719715</td>\n      <td>1268770</td>\n      <td>559</td>\n    </tr>\n    <tr>\n      <th>1</th>\n      <td>Leukerbad, Therme/Rehazentrum</td>\n      <td>LLB</td>\n      <td>Haltestelle</td>\n      <td>Bus</td>\n      <td>Leukerbad</td>\n      <td>2614423</td>\n      <td>1136296</td>\n      <td>1374</td>\n    </tr>\n    <tr>\n      <th>2</th>\n      <td>Martigny, Fond. Gianadda</td>\n      <td>BUM</td>\n      <td>Haltestelle</td>\n      <td>Bus</td>\n      <td>Martigny</td>\n      <td>2571423</td>\n      <td>1105128</td>\n      <td>470</td>\n    </tr>\n    <tr>\n      <th>3</th>\n      <td>Rhäzüns</td>\n      <td>RhB FR VR</td>\n      <td>Haltestelle und Bedienpunkt</td>\n      <td>Zug</td>\n      <td>Rhäzüns</td>\n      <td>2749660</td>\n      <td>1185038</td>\n      <td>654</td>\n    </tr>\n    <tr>\n      <th>5</th>\n      <td>Dietwil, Wannenmatt</td>\n      <td>ZVB</td>\n      <td>Haltestelle</td>\n      <td>Bus</td>\n      <td>Dietwil</td>\n      <td>2672576</td>\n      <td>1221568</td>\n      <td>408</td>\n    </tr>\n    <tr>\n      <th>...</th>\n      <td>...</td>\n      <td>...</td>\n      <td>...</td>\n      <td>...</td>\n      <td>...</td>\n      <td>...</td>\n      <td>...</td>\n      <td>...</td>\n    </tr>\n    <tr>\n      <th>205</th>\n      <td>Dörflingen, Unterberg</td>\n      <td>VBSH</td>\n      <td>Haltestelle</td>\n      <td>Bus</td>\n      <td>Dörflingen</td>\n      <td>2695765</td>\n      <td>1284695</td>\n      <td>446</td>\n    </tr>\n    <tr>\n      <th>206</th>\n      <td>Arosio, Bassa</td>\n      <td>PAG</td>\n      <td>Haltestelle</td>\n      <td>Bus</td>\n      <td>Alto Malcantone</td>\n      <td>2713247</td>\n      <td>1100507</td>\n      <td>829</td>\n    </tr>\n    <tr>\n      <th>207</th>\n      <td>Igis, Castaletweg</td>\n      <td>PAG</td>\n      <td>Haltestelle</td>\n      <td>Bus</td>\n      <td>Landquart</td>\n      <td>2762110</td>\n      <td>1201899</td>\n      <td>533</td>\n    </tr>\n    <tr>\n      <th>208</th>\n      <td>Cadro, Scuole</td>\n      <td>ARL</td>\n      <td>Haltestelle</td>\n      <td>Bus</td>\n      <td>Lugano</td>\n      <td>2719522</td>\n      <td>1100340</td>\n      <td>440</td>\n    </tr>\n    <tr>\n      <th>209</th>\n      <td>Savièse, Pradoumaye</td>\n      <td>PAG</td>\n      <td>Haltestelle</td>\n      <td>Bus</td>\n      <td>Savièse</td>\n      <td>2593777</td>\n      <td>1122424</td>\n      <td>815</td>\n    </tr>\n  </tbody>\n</table>\n<p>200 rows × 8 columns</p>\n</div>"
     },
     "execution_count": 19,
     "metadata": {},
     "output_type": "execute_result"
    }
   ],
   "source": [
    "stops.drop([\"xtf_id\",\"Nummer\",\"Abkuerzung\", \"Transportunternehmen_Nummer\",\"Betriebspunkttyp_Code\",\"Verkehrsmittel_Code\",\"Gemeinde_Nummer\",\"Gueltigkeit_BeginnGueltigkeit\",\"Gueltigkeit_EndeGueltigkeit\",\"Gueltigkeit_Stand\",\"rUebergeordneteHaltestelle\"], axis=1, inplace=True)\n",
    "\n",
    "stops.head(200)"
   ]
  },
  {
   "cell_type": "markdown",
   "metadata": {},
   "source": [
    "### transform cordinates of stops to WSG84"
   ]
  },
  {
   "cell_type": "code",
   "execution_count": 20,
   "metadata": {
    "ExecuteTime": {
     "end_time": "2023-05-11T11:10:18.461744Z",
     "start_time": "2023-05-11T11:10:18.385740Z"
    }
   },
   "outputs": [
    {
     "name": "stderr",
     "output_type": "stream",
     "text": [
      "C:\\Users\\i00202914\\AppData\\Local\\Temp\\ipykernel_21120\\3278909290.py:9: FutureWarning: This function is deprecated. See: https://pyproj4.github.io/pyproj/stable/gotchas.html#upgrading-to-pyproj-2-from-pyproj-1\n",
      "  x2,y2 = transform(inProj, outProj, x1,y1)\n"
     ]
    },
    {
     "ename": "KeyError",
     "evalue": "\"['E', 'N'] not found in axis\"",
     "output_type": "error",
     "traceback": [
      "\u001B[1;31m---------------------------------------------------------------------------\u001B[0m",
      "\u001B[1;31mKeyError\u001B[0m                                  Traceback (most recent call last)",
      "\u001B[1;32m~\\AppData\\Local\\Temp\\ipykernel_21120\\3278909290.py\u001B[0m in \u001B[0;36m<module>\u001B[1;34m\u001B[0m\n\u001B[0;32m     12\u001B[0m \u001B[1;33m\u001B[0m\u001B[0m\n\u001B[0;32m     13\u001B[0m \u001B[1;33m\u001B[0m\u001B[0m\n\u001B[1;32m---> 14\u001B[1;33m \u001B[0mstops\u001B[0m\u001B[1;33m.\u001B[0m\u001B[0mdrop\u001B[0m\u001B[1;33m(\u001B[0m\u001B[1;33m[\u001B[0m\u001B[1;34m\"E\"\u001B[0m\u001B[1;33m,\u001B[0m\u001B[1;34m\"N\"\u001B[0m\u001B[1;33m]\u001B[0m\u001B[1;33m)\u001B[0m\u001B[1;33m\u001B[0m\u001B[1;33m\u001B[0m\u001B[0m\n\u001B[0m\u001B[0;32m     15\u001B[0m \u001B[1;31m# after we have 'WGS84' - coordinates, we don't need them anymore\u001B[0m\u001B[1;33m\u001B[0m\u001B[1;33m\u001B[0m\u001B[0m\n\u001B[0;32m     16\u001B[0m \u001B[1;33m\u001B[0m\u001B[0m\n",
      "\u001B[1;32mC:\\Anaconda3\\lib\\site-packages\\pandas\\util\\_decorators.py\u001B[0m in \u001B[0;36mwrapper\u001B[1;34m(*args, **kwargs)\u001B[0m\n\u001B[0;32m    309\u001B[0m                     \u001B[0mstacklevel\u001B[0m\u001B[1;33m=\u001B[0m\u001B[0mstacklevel\u001B[0m\u001B[1;33m,\u001B[0m\u001B[1;33m\u001B[0m\u001B[1;33m\u001B[0m\u001B[0m\n\u001B[0;32m    310\u001B[0m                 )\n\u001B[1;32m--> 311\u001B[1;33m             \u001B[1;32mreturn\u001B[0m \u001B[0mfunc\u001B[0m\u001B[1;33m(\u001B[0m\u001B[1;33m*\u001B[0m\u001B[0margs\u001B[0m\u001B[1;33m,\u001B[0m \u001B[1;33m**\u001B[0m\u001B[0mkwargs\u001B[0m\u001B[1;33m)\u001B[0m\u001B[1;33m\u001B[0m\u001B[1;33m\u001B[0m\u001B[0m\n\u001B[0m\u001B[0;32m    312\u001B[0m \u001B[1;33m\u001B[0m\u001B[0m\n\u001B[0;32m    313\u001B[0m         \u001B[1;32mreturn\u001B[0m \u001B[0mwrapper\u001B[0m\u001B[1;33m\u001B[0m\u001B[1;33m\u001B[0m\u001B[0m\n",
      "\u001B[1;32mC:\\Anaconda3\\lib\\site-packages\\pandas\\core\\frame.py\u001B[0m in \u001B[0;36mdrop\u001B[1;34m(self, labels, axis, index, columns, level, inplace, errors)\u001B[0m\n\u001B[0;32m   4955\u001B[0m                 \u001B[0mweight\u001B[0m  \u001B[1;36m1.0\u001B[0m     \u001B[1;36m0.8\u001B[0m\u001B[1;33m\u001B[0m\u001B[1;33m\u001B[0m\u001B[0m\n\u001B[0;32m   4956\u001B[0m         \"\"\"\n\u001B[1;32m-> 4957\u001B[1;33m         return super().drop(\n\u001B[0m\u001B[0;32m   4958\u001B[0m             \u001B[0mlabels\u001B[0m\u001B[1;33m=\u001B[0m\u001B[0mlabels\u001B[0m\u001B[1;33m,\u001B[0m\u001B[1;33m\u001B[0m\u001B[1;33m\u001B[0m\u001B[0m\n\u001B[0;32m   4959\u001B[0m             \u001B[0maxis\u001B[0m\u001B[1;33m=\u001B[0m\u001B[0maxis\u001B[0m\u001B[1;33m,\u001B[0m\u001B[1;33m\u001B[0m\u001B[1;33m\u001B[0m\u001B[0m\n",
      "\u001B[1;32mC:\\Anaconda3\\lib\\site-packages\\pandas\\core\\generic.py\u001B[0m in \u001B[0;36mdrop\u001B[1;34m(self, labels, axis, index, columns, level, inplace, errors)\u001B[0m\n\u001B[0;32m   4265\u001B[0m         \u001B[1;32mfor\u001B[0m \u001B[0maxis\u001B[0m\u001B[1;33m,\u001B[0m \u001B[0mlabels\u001B[0m \u001B[1;32min\u001B[0m \u001B[0maxes\u001B[0m\u001B[1;33m.\u001B[0m\u001B[0mitems\u001B[0m\u001B[1;33m(\u001B[0m\u001B[1;33m)\u001B[0m\u001B[1;33m:\u001B[0m\u001B[1;33m\u001B[0m\u001B[1;33m\u001B[0m\u001B[0m\n\u001B[0;32m   4266\u001B[0m             \u001B[1;32mif\u001B[0m \u001B[0mlabels\u001B[0m \u001B[1;32mis\u001B[0m \u001B[1;32mnot\u001B[0m \u001B[1;32mNone\u001B[0m\u001B[1;33m:\u001B[0m\u001B[1;33m\u001B[0m\u001B[1;33m\u001B[0m\u001B[0m\n\u001B[1;32m-> 4267\u001B[1;33m                 \u001B[0mobj\u001B[0m \u001B[1;33m=\u001B[0m \u001B[0mobj\u001B[0m\u001B[1;33m.\u001B[0m\u001B[0m_drop_axis\u001B[0m\u001B[1;33m(\u001B[0m\u001B[0mlabels\u001B[0m\u001B[1;33m,\u001B[0m \u001B[0maxis\u001B[0m\u001B[1;33m,\u001B[0m \u001B[0mlevel\u001B[0m\u001B[1;33m=\u001B[0m\u001B[0mlevel\u001B[0m\u001B[1;33m,\u001B[0m \u001B[0merrors\u001B[0m\u001B[1;33m=\u001B[0m\u001B[0merrors\u001B[0m\u001B[1;33m)\u001B[0m\u001B[1;33m\u001B[0m\u001B[1;33m\u001B[0m\u001B[0m\n\u001B[0m\u001B[0;32m   4268\u001B[0m \u001B[1;33m\u001B[0m\u001B[0m\n\u001B[0;32m   4269\u001B[0m         \u001B[1;32mif\u001B[0m \u001B[0minplace\u001B[0m\u001B[1;33m:\u001B[0m\u001B[1;33m\u001B[0m\u001B[1;33m\u001B[0m\u001B[0m\n",
      "\u001B[1;32mC:\\Anaconda3\\lib\\site-packages\\pandas\\core\\generic.py\u001B[0m in \u001B[0;36m_drop_axis\u001B[1;34m(self, labels, axis, level, errors, consolidate, only_slice)\u001B[0m\n\u001B[0;32m   4309\u001B[0m                 \u001B[0mnew_axis\u001B[0m \u001B[1;33m=\u001B[0m \u001B[0maxis\u001B[0m\u001B[1;33m.\u001B[0m\u001B[0mdrop\u001B[0m\u001B[1;33m(\u001B[0m\u001B[0mlabels\u001B[0m\u001B[1;33m,\u001B[0m \u001B[0mlevel\u001B[0m\u001B[1;33m=\u001B[0m\u001B[0mlevel\u001B[0m\u001B[1;33m,\u001B[0m \u001B[0merrors\u001B[0m\u001B[1;33m=\u001B[0m\u001B[0merrors\u001B[0m\u001B[1;33m)\u001B[0m\u001B[1;33m\u001B[0m\u001B[1;33m\u001B[0m\u001B[0m\n\u001B[0;32m   4310\u001B[0m             \u001B[1;32melse\u001B[0m\u001B[1;33m:\u001B[0m\u001B[1;33m\u001B[0m\u001B[1;33m\u001B[0m\u001B[0m\n\u001B[1;32m-> 4311\u001B[1;33m                 \u001B[0mnew_axis\u001B[0m \u001B[1;33m=\u001B[0m \u001B[0maxis\u001B[0m\u001B[1;33m.\u001B[0m\u001B[0mdrop\u001B[0m\u001B[1;33m(\u001B[0m\u001B[0mlabels\u001B[0m\u001B[1;33m,\u001B[0m \u001B[0merrors\u001B[0m\u001B[1;33m=\u001B[0m\u001B[0merrors\u001B[0m\u001B[1;33m)\u001B[0m\u001B[1;33m\u001B[0m\u001B[1;33m\u001B[0m\u001B[0m\n\u001B[0m\u001B[0;32m   4312\u001B[0m             \u001B[0mindexer\u001B[0m \u001B[1;33m=\u001B[0m \u001B[0maxis\u001B[0m\u001B[1;33m.\u001B[0m\u001B[0mget_indexer\u001B[0m\u001B[1;33m(\u001B[0m\u001B[0mnew_axis\u001B[0m\u001B[1;33m)\u001B[0m\u001B[1;33m\u001B[0m\u001B[1;33m\u001B[0m\u001B[0m\n\u001B[0;32m   4313\u001B[0m \u001B[1;33m\u001B[0m\u001B[0m\n",
      "\u001B[1;32mC:\\Anaconda3\\lib\\site-packages\\pandas\\core\\indexes\\base.py\u001B[0m in \u001B[0;36mdrop\u001B[1;34m(self, labels, errors)\u001B[0m\n\u001B[0;32m   6659\u001B[0m         \u001B[1;32mif\u001B[0m \u001B[0mmask\u001B[0m\u001B[1;33m.\u001B[0m\u001B[0many\u001B[0m\u001B[1;33m(\u001B[0m\u001B[1;33m)\u001B[0m\u001B[1;33m:\u001B[0m\u001B[1;33m\u001B[0m\u001B[1;33m\u001B[0m\u001B[0m\n\u001B[0;32m   6660\u001B[0m             \u001B[1;32mif\u001B[0m \u001B[0merrors\u001B[0m \u001B[1;33m!=\u001B[0m \u001B[1;34m\"ignore\"\u001B[0m\u001B[1;33m:\u001B[0m\u001B[1;33m\u001B[0m\u001B[1;33m\u001B[0m\u001B[0m\n\u001B[1;32m-> 6661\u001B[1;33m                 \u001B[1;32mraise\u001B[0m \u001B[0mKeyError\u001B[0m\u001B[1;33m(\u001B[0m\u001B[1;34mf\"{list(labels[mask])} not found in axis\"\u001B[0m\u001B[1;33m)\u001B[0m\u001B[1;33m\u001B[0m\u001B[1;33m\u001B[0m\u001B[0m\n\u001B[0m\u001B[0;32m   6662\u001B[0m             \u001B[0mindexer\u001B[0m \u001B[1;33m=\u001B[0m \u001B[0mindexer\u001B[0m\u001B[1;33m[\u001B[0m\u001B[1;33m~\u001B[0m\u001B[0mmask\u001B[0m\u001B[1;33m]\u001B[0m\u001B[1;33m\u001B[0m\u001B[1;33m\u001B[0m\u001B[0m\n\u001B[0;32m   6663\u001B[0m         \u001B[1;32mreturn\u001B[0m \u001B[0mself\u001B[0m\u001B[1;33m.\u001B[0m\u001B[0mdelete\u001B[0m\u001B[1;33m(\u001B[0m\u001B[0mindexer\u001B[0m\u001B[1;33m)\u001B[0m\u001B[1;33m\u001B[0m\u001B[1;33m\u001B[0m\u001B[0m\n",
      "\u001B[1;31mKeyError\u001B[0m: \"['E', 'N'] not found in axis\""
     ]
    }
   ],
   "source": [
    "# switch key and value in plz dictionary and save it to a town dictionary\n",
    "# this will be switched because search for a key in a dictionary is much more efficient than search for the value\n",
    "towns = {y: x for x, y in plz.items()}\n",
    "\n",
    "inProj = Proj('epsg:2056')\n",
    "outProj = Proj('epsg:4326')\n",
    "\n",
    "x1,y1 = stops['E'], stops['N']\n",
    "x2,y2 = transform(inProj, outProj, x1,y1)\n",
    "stops['stop_location_WGS84_E'] = x2\n",
    "stops['stop_location_WGS84_N'] = y2\n",
    "\n",
    "\n",
    "stops.drop([\"E\",\"N\"])\n",
    "# after we have 'WGS84' - coordinates, we don't need them anymore\n",
    "\n"
   ]
  },
  {
   "cell_type": "markdown",
   "metadata": {},
   "source": [
    "### add Postal code to stops\n",
    "try to find out the postal according the village name in the town dictionary\n"
   ]
  },
  {
   "cell_type": "code",
   "execution_count": null,
   "metadata": {
    "ExecuteTime": {
     "end_time": "2023-05-11T11:10:25.854606Z",
     "start_time": "2023-05-11T11:10:23.271078Z"
    }
   },
   "outputs": [],
   "source": [
    "# try to find postal code according village name\n",
    "for index, row in stops.iterrows():\n",
    "    stops.loc[index , \"postal\"] = str(towns.get(row[\"Gemeinde_Name\"]))\n",
    "\n",
    "stops.head(200)"
   ]
  },
  {
   "cell_type": "code",
   "execution_count": null,
   "metadata": {
    "ExecuteTime": {
     "end_time": "2023-05-08T13:56:43.535829Z",
     "start_time": "2023-05-08T13:56:43.407929Z"
    },
    "jupyter": {
     "outputs_hidden": false
    }
   },
   "outputs": [],
   "source": [
    "# remove unused columns from stops dataframe"
   ]
  },
  {
   "cell_type": "code",
   "execution_count": null,
   "metadata": {
    "ExecuteTime": {
     "end_time": "2023-04-28T14:19:50.153643Z",
     "start_time": "2023-04-28T14:19:49.912423Z"
    },
    "jupyter": {
     "outputs_hidden": false
    },
    "scrolled": true
   },
   "outputs": [],
   "source": [
    "stops.drop([\"xtf_id\",\"Bezeichnung\",\"BetrieblicheBezeichnung\",\"Laenge\",\"Kantenhoehe\",\"Gueltigkeit_BeginnGueltigkeit\",\"Gueltigkeit_EndeGueltigkeit\",\"Gueltigkeit_Stand\",\"rHaltestelle\"], axis=1, inplace=True)\n",
    "columns=['number', 'cordinate_e', 'cordinate_n', 'high']\n",
    "columns=['number', 'antenna_Location_WGS84_E', 'antenna_Location_WGS84_N', 'high']\n",
    "\n",
    "# stops.columns = columns\n",
    "# stops.head()\n",
    "\n",
    "\n",
    "\n",
    "# stops = add_address(stops)\n",
    "stops.head()\n"
   ]
  },
  {
   "cell_type": "markdown",
   "metadata": {},
   "source": [
    "\n",
    "## 2) Antennas\n",
    "\n"
   ]
  },
  {
   "cell_type": "markdown",
   "metadata": {
    "tags": []
   },
   "source": [
    "### clean columns\n",
    "<br> Set column names and drop usless Columns <br>"
   ]
  },
  {
   "cell_type": "code",
   "execution_count": null,
   "metadata": {
    "ExecuteTime": {
     "end_time": "2023-05-04T12:47:05.540977Z",
     "start_time": "2023-05-04T12:47:05.490716Z"
    },
    "jupyter": {
     "outputs_hidden": false
    }
   },
   "outputs": [],
   "source": [
    "\n",
    "columns=['language', 'description', 'id', 'power', 'cordinates']\n",
    "antennen_6g.columns=columns\n",
    "antennen_5g.columns=columns\n",
    "antennen_4g.columns=columns\n",
    "antennen_3g.columns=columns\n",
    "antennen_2g.columns=columns"
   ]
  },
  {
   "cell_type": "code",
   "execution_count": null,
   "metadata": {
    "ExecuteTime": {
     "end_time": "2023-05-04T12:47:32.922333Z",
     "start_time": "2023-05-04T12:47:32.800891Z"
    },
    "jupyter": {
     "outputs_hidden": false
    }
   },
   "outputs": [],
   "source": [
    "antennen_6g.drop(['language' , 'description'], axis=1, inplace=True)\n",
    "antennen_5g.drop(['language' , 'description'], axis=1, inplace=True)\n",
    "antennen_4g.drop(['language' , 'description'], axis=1, inplace=True)\n",
    "antennen_3g.drop(['language' , 'description'], axis=1, inplace=True)\n",
    "antennen_2g.drop(['language' , 'description'], axis=1, inplace=True)\n",
    "antennen_4g.head(4)"
   ]
  },
  {
   "cell_type": "markdown",
   "metadata": {},
   "source": [
    "### get address data from openstreet map"
   ]
  },
  {
   "cell_type": "code",
   "execution_count": null,
   "metadata": {
    "ExecuteTime": {
     "end_time": "2023-05-04T12:28:05.598711Z",
     "start_time": "2023-05-04T12:28:05.511687Z"
    },
    "jupyter": {
     "outputs_hidden": false
    }
   },
   "outputs": [],
   "source": [
    "### create self-signed certificate for doing requests with nominatim"
   ]
  },
  {
   "cell_type": "code",
   "execution_count": null,
   "metadata": {
    "ExecuteTime": {
     "end_time": "2023-05-04T12:28:09.319142Z",
     "start_time": "2023-05-04T12:28:09.152309Z"
    },
    "jupyter": {
     "outputs_hidden": false
    }
   },
   "outputs": [],
   "source": [
    "ctx = ssl.create_default_context(cafile=certifi.where())\n",
    "geopy.geocoders.options.default_ssl_context = ctx\n",
    "print(certifi.where())"
   ]
  },
  {
   "cell_type": "markdown",
   "metadata": {},
   "source": [
    "### convert antenna coordinates of a dataframe from LV95 to WGS84\n",
    "\n",
    "convert coordinates of antennas from lv95 to wgs84 with previous defined function"
   ]
  },
  {
   "cell_type": "code",
   "execution_count": null,
   "metadata": {
    "ExecuteTime": {
     "end_time": "2023-05-04T12:47:54.342033Z",
     "start_time": "2023-05-04T12:47:54.151360Z"
    },
    "jupyter": {
     "outputs_hidden": false
    }
   },
   "outputs": [],
   "source": [
    "antennen_6g = convert_panda_lv95_wgs84(antennen_6g)\n",
    "antennen_5g = convert_panda_lv95_wgs84(antennen_5g)\n",
    "antennen_4g = convert_panda_lv95_wgs84(antennen_4g)\n",
    "antennen_3g = convert_panda_lv95_wgs84(antennen_3g)\n",
    "antennen_2g = convert_panda_lv95_wgs84(antennen_2g)\n",
    "\n"
   ]
  },
  {
   "cell_type": "markdown",
   "metadata": {},
   "source": [
    "### add address data to data frames for display them later on the map\n",
    "this task adds the address data to the data frame with the previous defined function using nominatim\n",
    "it will take a lot of time"
   ]
  },
  {
   "cell_type": "code",
   "execution_count": null,
   "metadata": {
    "ExecuteTime": {
     "end_time": "2023-05-04T12:55:33.518364Z",
     "start_time": "2023-05-04T12:55:21.354815Z"
    },
    "jupyter": {
     "outputs_hidden": false
    }
   },
   "outputs": [],
   "source": [
    "antennen_6g = add_address(antennen_6g)\n",
    "# antennen_5g = add_address(antennen_5g)\n",
    "# antennen_4g = add_address(antennen_4g)\n",
    "\n",
    "# antennen_3g = add_address(antennen_3g)\n",
    "# antennen_2g = add_address(antennen_2g)\n"
   ]
  },
  {
   "cell_type": "markdown",
   "metadata": {},
   "source": [
    "### add type of antenna to antenna data frames "
   ]
  },
  {
   "cell_type": "code",
   "execution_count": null,
   "metadata": {
    "ExecuteTime": {
     "end_time": "2023-04-23T20:07:57.196552Z",
     "start_time": "2023-04-23T20:07:57.114028Z"
    },
    "jupyter": {
     "outputs_hidden": false
    }
   },
   "outputs": [],
   "source": [
    "antennen_6g = antennen_6g.assign(type='6G')\n",
    "antennen_5g = antennen_5g.assign(type='5G')\n",
    "antennen_4g = antennen_4g.assign(type='4G')\n",
    "antennen_3g = antennen_3g.assign(type='3G')\n",
    "antennen_2g = antennen_2g.assign(type='2G')\n",
    "\n",
    "antennen_6g.head()\n"
   ]
  },
  {
   "cell_type": "markdown",
   "metadata": {
    "jupyter": {
     "outputs_hidden": false
    }
   },
   "source": [
    "##  remove special chars for antenna and stop dataframes\n",
    "not all systems are supporting special chars, so they should be better replaced"
   ]
  },
  {
   "cell_type": "code",
   "execution_count": null,
   "metadata": {
    "ExecuteTime": {
     "end_time": "2023-05-08T11:55:14.084894Z",
     "start_time": "2023-05-08T11:55:14.039682Z"
    },
    "jupyter": {
     "outputs_hidden": false
    }
   },
   "outputs": [],
   "source": [
    "\n",
    "# Rename special chars\n",
    "def rename_Special(data_frame):\n",
    "    data_frame = data_frame.replace({'dictionary':{'ä':'ae','Ä':'Ae','Ü':'Ue','ü':'ue','Ö':'Oe','ö':'oe'}},regex=True)\n",
    "    return data_frame\n",
    "\n"
   ]
  },
  {
   "cell_type": "code",
   "execution_count": null,
   "metadata": {
    "ExecuteTime": {
     "end_time": "2023-05-08T11:55:15.604717Z",
     "start_time": "2023-05-08T11:55:15.548551Z"
    },
    "jupyter": {
     "outputs_hidden": false
    }
   },
   "outputs": [],
   "source": [
    "antennen_6g = rename_Special(antennen_6g)\n",
    "antennen_5g = rename_Special(antennen_5g)\n",
    "antennen_4g = rename_Special(antennen_4g)\n",
    "antennen_3g = rename_Special(antennen_3g)\n",
    "antennen_2g = rename_Special(antennen_2g)\n",
    "stops = rename_Special(stops)\n"
   ]
  },
  {
   "cell_type": "markdown",
   "metadata": {},
   "source": [
    "# Save dataframes in CSV\n",
    "after all dataframes are ready to use, they will be saved in a CSV file.\n",
    "Nominatim takes a long time to get all information of all datasets, so it is important to save the frames after the adress is added."
   ]
  },
  {
   "cell_type": "code",
   "execution_count": null,
   "metadata": {
    "ExecuteTime": {
     "end_time": "2023-05-04T12:00:28.033692Z",
     "start_time": "2023-05-04T12:00:27.346936Z"
    },
    "jupyter": {
     "outputs_hidden": false
    }
   },
   "outputs": [],
   "source": [
    "antennen_6g.to_csv('./Daten/6gAntennen.csv',sep=';', index=False)\n",
    "antennen_5g.to_csv('./Daten/5gAntennen.csv',sep=';', index=False)\n",
    "antennen_4g.to_csv('./Daten/4gAntennen.csv',sep=';', index=False)\n",
    "antennen_3g.to_csv('./Daten/3gAntennen.csv',sep=';', index=False)\n",
    "antennen_2g.to_csv('./Daten/2gAntennen.csv',sep=';', index=False)\n",
    "stops.to_csv('./Daten/stops.csv',sep=';', index=False)"
   ]
  },
  {
   "cell_type": "markdown",
   "metadata": {},
   "source": [
    "# Load saved dataframes from CSV\n",
    "to skip previous steps, we can continue with the prevous saved dataframes, wich conatains already the adresses"
   ]
  },
  {
   "cell_type": "code",
   "execution_count": null,
   "metadata": {
    "ExecuteTime": {
     "end_time": "2023-05-04T12:01:27.083258Z",
     "start_time": "2023-05-04T12:01:26.633732Z"
    },
    "jupyter": {
     "outputs_hidden": false
    }
   },
   "outputs": [],
   "source": [
    "antennen_5g=pd.read_csv('./Daten/5gAntennen.csv',sep=';')\n",
    "antennen_4g=pd.read_csv('./Daten/4gAntennen.csv',sep=';')\n",
    "antennen_3g=pd.read_csv('./Daten/3gAntennen.csv',sep=';')\n",
    "antennen_2g=pd.read_csv('./Daten/2gAntennen.csv',sep=';')\n",
    "stops=pd.read_csv('./Daten/stops.csv',sep=';')\n",
    "\n",
    "\n",
    "\n",
    "\n",
    "antennen_5g.head()"
   ]
  },
  {
   "cell_type": "code",
   "execution_count": null,
   "metadata": {},
   "outputs": [],
   "source": [
    "# Prepare map\n",
    "preparing a folium maps which is showing switzerland"
   ]
  },
  {
   "cell_type": "code",
   "execution_count": null,
   "metadata": {
    "ExecuteTime": {
     "end_time": "2023-05-08T16:10:29.709626Z",
     "start_time": "2023-05-08T16:10:29.316079Z"
    },
    "jupyter": {
     "outputs_hidden": false
    }
   },
   "outputs": [],
   "source": [
    "print(certifi.where())\n",
    "address = 'Schweiz'\n",
    "\n",
    "geolocator = Nominatim(user_agent=\"antenna\")\n",
    "location = geolocator.geocode(address)\n",
    "\n",
    "latitude = location.latitude\n",
    "longitude = location.longitude"
   ]
  },
  {
   "cell_type": "code",
   "execution_count": null,
   "metadata": {
    "ExecuteTime": {
     "end_time": "2023-05-11T11:08:20.352680Z",
     "start_time": "2023-05-11T11:08:20.316680Z"
    }
   },
   "outputs": [],
   "source": [
    "latitude = 46.9990\n",
    "longitude =8.0008"
   ]
  },
  {
   "cell_type": "markdown",
   "metadata": {},
   "source": [
    "Erster Plot zum anschauen des Netzes:"
   ]
  },
  {
   "cell_type": "code",
   "execution_count": null,
   "metadata": {
    "ExecuteTime": {
     "end_time": "2023-05-08T16:09:58.229848Z",
     "start_time": "2023-05-08T16:09:58.075846Z"
    }
   },
   "outputs": [],
   "source": [
    "# workaround for SSL Error:\n",
    "import ssl\n",
    "import certifi\n",
    "import geopy.geocoders\n",
    "ctx = ssl.create_default_context(cafile=certifi.where())\n",
    "geopy.geocoders.options.default_ssl_context = ctx\n",
    "print(certifi.where())"
   ]
  },
  {
   "cell_type": "code",
   "execution_count": null,
   "metadata": {},
   "outputs": [],
   "source": [
    "### Add antenas to the map"
   ]
  },
  {
   "cell_type": "code",
   "execution_count": null,
   "metadata": {
    "ExecuteTime": {
     "end_time": "2023-05-11T11:08:26.140741Z",
     "start_time": "2023-05-11T11:08:26.117741Z"
    }
   },
   "outputs": [],
   "source": [
    "m=folium.Map(location=[latitude,longitude],zoom_start=9)"
   ]
  },
  {
   "cell_type": "markdown",
   "metadata": {},
   "source": [
    "# function add_to_map\n",
    "this function is setting the marks on the map for each antenna\n",
    "the mark conatains the adress and type of the antenna is set by the color\n",
    "GSM = blue\n",
    "UMTS = green\n",
    "LTE = Orange\n",
    "5G = RED\n"
   ]
  },
  {
   "cell_type": "code",
   "execution_count": null,
   "metadata": {
    "ExecuteTime": {
     "end_time": "2023-05-08T16:10:54.789830Z",
     "start_time": "2023-05-08T16:10:54.647044Z"
    }
   },
   "outputs": [],
   "source": [
    "map_stops=folium.Map(location=[latitude,longitude],zoom_start=9)\n",
    "stops.head()"
   ]
  },
  {
   "cell_type": "code",
   "execution_count": null,
   "metadata": {
    "ExecuteTime": {
     "end_time": "2023-05-11T12:02:26.956608Z",
     "start_time": "2023-05-11T12:02:26.856607Z"
    }
   },
   "outputs": [],
   "source": [
    "\n",
    "\n",
    "def add_antenna_to_map(dataframe):\n",
    "    color = 'white'\n",
    "\n",
    "    if dataframe['type'][0] == '2G':\n",
    "        color = 'blue'\n",
    "    if dataframe['type'][0] == '3G':\n",
    "        color = 'green'\n",
    "    if dataframe['type'][0] == '4G':\n",
    "        color = 'orange'\n",
    "    if dataframe['type'][0] == '5G':\n",
    "        color = 'red'\n",
    "\n",
    "\n",
    "    print(dataframe['type'][0])\n",
    "\n",
    "    #You Markler the point in Map\n",
    "    for indice, row in dataframe.iterrows():\n",
    "\n",
    "        color = 'white'\n",
    "\n",
    "        if row['type'][0] == '2G':\n",
    "            color = 'blue'\n",
    "        if row['type'][0] == '3G':\n",
    "            color = 'green'\n",
    "        if row['type'][0] == '4G':\n",
    "            color = 'orange'\n",
    "        if row['type'][0] == '5G':\n",
    "            color = 'red'\n",
    "\n",
    "     #   print(row['building'])\n",
    "        folium.Marker(\n",
    "            location=[row['antenna_Location_WGS84_E'], row['antenna_Location_WGS84_N']],\n",
    "            # popup=row,\n",
    "\n",
    "            popup=[row['building'] , row[\"streetNumber\"] ,row['postal'],  row['town'] , row['district'] , row['state'] ],\n",
    "            icon=folium.map.Icon(color=color)\n",
    "        ).add_to(m)\n",
    "\n"
   ]
  },
  {
   "cell_type": "markdown",
   "metadata": {},
   "source": [
    "# function add_antenna_to_map\n",
    "this function is setting the marks on the map for each stop\n",
    "    the mark conatains the adress and type of the stop is set by the color\n",
    "T\n",
    "rain = darkblue\n",
    "Ship = green\n",
    "Bus = orange\n",
    "Tram = brown\n",
    "Metro = red\n",
    "Gear train = grey\n",
    "Cabin =  brown\n",
    "Elevator ="
   ]
  },
  {
   "cell_type": "code",
   "execution_count": null,
   "metadata": {
    "ExecuteTime": {
     "end_time": "2023-05-11T11:10:44.652903Z",
     "start_time": "2023-05-11T11:10:44.601907Z"
    }
   },
   "outputs": [],
   "source": [
    "\n",
    "def add_stops_to_map(dataframe):\n",
    "    color = 'white'\n",
    "\n",
    "\n",
    "\n",
    "    if dataframe['Verkehrsmittel_Bezeichnung'].__contains__('Zug'):\n",
    "        color = 'darkblue'\n",
    "    elif dataframe['Verkehrsmittel_Bezeichnung'].__contains__('Schiff'):\n",
    "        color = 'green'\n",
    "    elif dataframe['Verkehrsmittel_Bezeichnung'].__contains__('Bus'):\n",
    "        color = 'orange'\n",
    "    elif dataframe['Verkehrsmittel_Bezeichnung'].__contains__('Tram'):\n",
    "        color = 'brown'\n",
    "    elif dataframe['Verkehrsmittel_Bezeichnung'].__contains__('Metro'):\n",
    "            color = 'red'\n",
    "    elif dataframe['Verkehrsmittel_Bezeichnung'].__contains__('Zahnradbahn'):\n",
    "        color = 'grey'\n",
    "    elif dataframe['Verkehrsmittel_Bezeichnung'].__contains__('Kabinenbahn'):\n",
    "        color = 'brown'\n",
    "    elif dataframe['Verkehrsmittel_Bezeichnung'].__contains__('Aufzug'):\n",
    "        color = 'blue'\n",
    "    print(dataframe['Verkehrsmittel_Bezeichnung'][0])\n",
    "\n",
    "\n",
    "   # UserWarning: color argument of Icon should be one of: {'white', 'gray', 'lightgray', 'lightgreen', 'blue', 'green', 'beige', 'darkblue', 'black', 'lightred', 'pink', 'darkpurple', 'darkred', 'lightblue', 'cadetblue', 'darkgreen', 'purple', 'orange', 'red'}.\n",
    "\n",
    "    #You Markler the point in Map\n",
    "    for indice, row in dataframe.iterrows():\n",
    "        if row['Verkehrsmittel_Bezeichnung'].__contains__('Zug'):\n",
    "            color = 'cadetblue'\n",
    "        elif row['Verkehrsmittel_Bezeichnung'].__contains__('Schiff'):\n",
    "                color = 'lightgreen'\n",
    "        elif row['Verkehrsmittel_Bezeichnung'].__contains__('Bus'):\n",
    "                color = 'darkpurple'\n",
    "        elif row['Verkehrsmittel_Bezeichnung'].__contains__('Tram'):\n",
    "                color = 'darkgreen'\n",
    "        elif row['Verkehrsmittel_Bezeichnung'].__contains__('Metro'):\n",
    "                color = 'darkred'\n",
    "        elif row['Verkehrsmittel_Bezeichnung'].__contains__('Zahnradbahn'):\n",
    "                color = 'gray'\n",
    "        elif row['Verkehrsmittel_Bezeichnung'].__contains__('Kabinenbahn'):\n",
    "                color = 'lightgray'\n",
    "        elif row['Verkehrsmittel_Bezeichnung'].__contains__('Aufzug'):\n",
    "                color = 'darkblue'\n",
    "\n",
    "\n",
    "        #   print(row['building'])\n",
    "        folium.Marker(\n",
    "            location=[row['stop_location_WGS84_E'], row['stop_location_WGS84_N']],\n",
    "            # popup=row,\n",
    "\n",
    "            popup=[row['Name'] , row[\"Verkehrsmittel_Bezeichnung\"] , row[\"Transportunternehmen_Abkuerzung\"] , row['postal'],  row['Gemeinde_Name']  ],\n",
    "            icon=folium.map.Icon(color=color)\n",
    "        ).add_to(map_stops)\n",
    "\n"
   ]
  },
  {
   "cell_type": "code",
   "execution_count": null,
   "metadata": {
    "ExecuteTime": {
     "end_time": "2023-05-11T11:11:20.785882Z",
     "start_time": "2023-05-11T11:10:47.266858Z"
    }
   },
   "outputs": [],
   "source": [
    "add_stops_to_map(stops)\n",
    "map_stops"
   ]
  },
  {
   "cell_type": "code",
   "execution_count": null,
   "metadata": {
    "ExecuteTime": {
     "end_time": "2023-05-08T16:23:43.597901Z",
     "start_time": "2023-05-08T16:22:48.446334Z"
    },
    "pycharm": {
     "is_executing": true
    }
   },
   "outputs": [],
   "source": [
    "display(map_stops)"
   ]
  },
  {
   "cell_type": "code",
   "execution_count": null,
   "metadata": {
    "ExecuteTime": {
     "end_time": "2023-05-08T16:22:47.269889Z",
     "start_time": "2023-05-08T16:21:58.172981Z"
    },
    "pycharm": {
     "is_executing": true
    }
   },
   "outputs": [],
   "source": [
    "map_stops"
   ]
  },
  {
   "cell_type": "code",
   "execution_count": null,
   "metadata": {
    "ExecuteTime": {
     "end_time": "2023-05-11T12:04:51.511533Z",
     "start_time": "2023-05-11T12:04:02.819639Z"
    },
    "jupyter": {
     "outputs_hidden": false
    }
   },
   "outputs": [],
   "source": [
    "m=folium.Map(location=[latitude,longitude],zoom_start=9)\n",
    "add_antenna_to_map(antennen_2g)\n",
    "add_antenna_to_map(antennen_3g)\n",
    "add_antenna_to_map(antennen_4g)\n",
    "add_antenna_to_map(antennen_5g)\n",
    "\n",
    "m"
   ]
  },
  {
   "cell_type": "code",
   "execution_count": null,
   "metadata": {
    "tags": []
   },
   "outputs": [],
   "source": [
    "folium.Map(location= [ antennen_6g['antenna_Location_WGS84_E'] , antennen_6g['antenna_Location_WGS84_N']])\n",
    "# folium.Choropleth(gdf_routennetz[gdf_routennetz.velostreifen!='0'],line_color='blue',line_weight=5,line_opacity=0.3,columns=['name'],legend_name='hehe').add_to(m)\n",
    "# folium.Choropleth(gdf_routennetz[gdf_routennetz.veloweg!=0].geometry,line_color='red',line_weight=5,line_opacity=0.3).add_to(m)"
   ]
  },
  {
   "cell_type": "code",
   "execution_count": null,
   "metadata": {
    "ExecuteTime": {
     "end_time": "2023-05-11T12:05:34.005383Z",
     "start_time": "2023-05-11T12:04:51.491535Z"
    },
    "tags": []
   },
   "outputs": [],
   "source": [
    "\n",
    "display(m)"
   ]
  },
  {
   "cell_type": "markdown",
   "metadata": {},
   "source": [
    "***"
   ]
  }
 ],
 "metadata": {
  "interpreter": {
   "hash": "aee8b7b246df8f9039afb4144a1f6fd8d2ca17a180786b69acc140d282b71a49"
  },
  "kernelspec": {
   "display_name": "Python 3 (ipykernel)",
   "language": "python",
   "name": "python3"
  },
  "language_info": {
   "codemirror_mode": {
    "name": "ipython",
    "version": 3
   },
   "file_extension": ".py",
   "mimetype": "text/x-python",
   "name": "python",
   "nbconvert_exporter": "python",
   "pygments_lexer": "ipython3",
   "version": "3.9.13"
  }
 },
 "nbformat": 4,
 "nbformat_minor": 4
}
